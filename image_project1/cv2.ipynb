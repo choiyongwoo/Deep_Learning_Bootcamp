{
 "cells": [
  {
   "cell_type": "code",
   "execution_count": 32,
   "metadata": {},
   "outputs": [],
   "source": [
    "import cv2\n",
    "import numpy as np\n",
    "\n",
    "def resize_image(image, width=None, height=None):\n",
    "    (h, w) = image.shape[:2]\n",
    "    if width is None and height is None:\n",
    "        return image\n",
    "    if width is None:\n",
    "        r = height / float(h)\n",
    "        dim = (int(w * r), height)\n",
    "    else:\n",
    "        r = width / float(w)\n",
    "        dim = (width, int(h * r))\n",
    "    return cv2.resize(image, dim, interpolation=cv2.INTER_AREA)\n",
    "# 이미지 로드\n",
    "image = cv2.imread(\"aa.jpg\")\n",
    "\n",
    "hsv_image = cv2.cvtColor(image, cv2.COLOR_BGR2HSV)"
   ]
  },
  {
   "cell_type": "code",
   "execution_count": 33,
   "metadata": {},
   "outputs": [],
   "source": [
    "# 피부색 HSV 범위 설정 (이 값은 필요에 따라 조정)\n",
    "lower_skin = np.array([0, 20, 70], dtype=np.uint8)\n",
    "upper_skin = np.array([20, 255, 255], dtype=np.uint8)"
   ]
  },
  {
   "cell_type": "code",
   "execution_count": 34,
   "metadata": {},
   "outputs": [],
   "source": [
    "# 피부색 영역 마스크 생성\n",
    "skin_mask = cv2.inRange(hsv_image, lower_skin, upper_skin)\n",
    "\n",
    "# 원본 이미지와 마스크를 사용하여 피부색 영역 추출\n",
    "skin = cv2.bitwise_and(image, image, mask=skin_mask)"
   ]
  },
  {
   "cell_type": "code",
   "execution_count": 37,
   "metadata": {},
   "outputs": [],
   "source": [
    "import cv2\n",
    "import numpy as np\n",
    "\n",
    "# 이미지 로드 및 HSV 변환\n",
    "image = cv2.imread(\"bb.jpg\")\n",
    "hsv_image = cv2.cvtColor(image, cv2.COLOR_BGR2HSV)\n",
    "\n",
    "# 스킨 색상 범위 설정\n",
    "lower_skin = np.array([0, 20, 70], dtype=np.uint8)\n",
    "upper_skin = np.array([20, 255, 255], dtype=np.uint8)\n",
    "\n",
    "# 스킨 색상 마스크 생성\n",
    "skin_mask = cv2.inRange(hsv_image, lower_skin, upper_skin)\n",
    "\n",
    "# 마스크를 사용하여 스킨 색상 영역 추출\n",
    "skin = cv2.bitwise_and(image, image, mask=skin_mask)\n",
    "\n",
    "# 결과 이미지 크기 조정\n",
    "resized_image = resize_image(image, width=800)\n",
    "resized_skin = resize_image(skin, width=800)\n",
    "resized_mask = resize_image(skin_mask, width=800)\n",
    "\n",
    "# 원본 이미지와 결과 이미지 표시\n",
    "cv2.imshow('Original Image', resized_image)\n",
    "cv2.imshow('Skin Mask', resized_mask)\n",
    "cv2.imshow('Skin Detection', resized_skin)\n",
    "cv2.waitKey(0)\n",
    "cv2.destroyAllWindows()"
   ]
  },
  {
   "cell_type": "code",
   "execution_count": 36,
   "metadata": {},
   "outputs": [],
   "source": [
    "import cv2\n",
    "import numpy as np\n",
    "\n",
    "# 이미지 불러오기\n",
    "image = cv2.imread('aa.jpg')\n",
    "\n",
    "# 그레이스케일로 변환\n",
    "gray = cv2.cvtColor(image, cv2.COLOR_BGR2GRAY)\n",
    "\n",
    "# 이진화\n",
    "_, binary = cv2.threshold(gray, 127, 255, cv2.THRESH_BINARY)\n",
    "\n",
    "# 모폴로지 커널 정의\n",
    "kernel = np.ones((5,5), np.uint8)\n",
    "\n",
    "# 팽창\n",
    "dilation = cv2.dilate(binary, kernel, iterations=1)\n",
    "\n",
    "# 침식\n",
    "erosion = cv2.erode(binary, kernel, iterations=1)\n",
    "\n",
    "resized_image = resize_image(image, width=800)\n",
    "resized_dilation = resize_image(dilation, width=800)\n",
    "resized_erosion = resize_image(erosion, width=800)\n",
    "\n",
    "\n",
    "# 결과 보여주기\n",
    "cv2.imshow('Original', resized_image)\n",
    "cv2.imshow('Dilation', resized_dilation)\n",
    "cv2.imshow('Erosion', resized_erosion)\n",
    "cv2.waitKey(0)\n",
    "cv2.destroyAllWindows()"
   ]
  },
  {
   "cell_type": "code",
   "execution_count": 30,
   "metadata": {},
   "outputs": [],
   "source": [
    "import cv2\n",
    "import numpy as np\n",
    "\n",
    "# 이미지 불러오기\n",
    "image = cv2.imread('aa.jpg')\n",
    "\n",
    "# 그레이스케일로 변환\n",
    "gray = cv2.cvtColor(image, cv2.COLOR_BGR2GRAY)\n",
    "\n",
    "# Canny 에지 감지 적용\n",
    "edges = cv2.Canny(gray, 100, 200)\n",
    "\n",
    "resized_image = resize_image(image, width=800)\n",
    "reszied_edge = resize_image(edges, width=800)\n",
    "\n",
    "# 결과 보여주기\n",
    "cv2.imshow('Original', resized_image)\n",
    "cv2.imshow('Edges', reszied_edge)\n",
    "cv2.waitKey(0)\n",
    "cv2.destroyAllWindows()"
   ]
  },
  {
   "cell_type": "code",
   "execution_count": 5,
   "metadata": {},
   "outputs": [
    {
     "name": "stdout",
     "output_type": "stream",
     "text": [
      "C:\\Users\\chldy\\Downloads\n"
     ]
    }
   ],
   "source": [
    "cd C:/Users/chldy/Downloads"
   ]
  },
  {
   "cell_type": "code",
   "execution_count": 6,
   "metadata": {},
   "outputs": [
    {
     "data": {
      "text/plain": [
       "'C:\\\\Users\\\\chldy\\\\Downloads'"
      ]
     },
     "execution_count": 6,
     "metadata": {},
     "output_type": "execute_result"
    }
   ],
   "source": [
    "pwd"
   ]
  }
 ],
 "metadata": {
  "kernelspec": {
   "display_name": "ocr",
   "language": "python",
   "name": "python3"
  },
  "language_info": {
   "codemirror_mode": {
    "name": "ipython",
    "version": 3
   },
   "file_extension": ".py",
   "mimetype": "text/x-python",
   "name": "python",
   "nbconvert_exporter": "python",
   "pygments_lexer": "ipython3",
   "version": "3.10.14"
  }
 },
 "nbformat": 4,
 "nbformat_minor": 2
}
