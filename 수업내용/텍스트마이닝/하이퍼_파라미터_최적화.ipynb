{
  "cells": [
    {
      "cell_type": "markdown",
      "metadata": {
        "id": "-XgDYosabhoJ"
      },
      "source": [
        "# iris_data를 xgboost로 적용을 해보자."
      ]
    },
    {
      "cell_type": "code",
      "execution_count": 1,
      "metadata": {
        "id": "APzk3M3Hbklu"
      },
      "outputs": [],
      "source": [
        "#import packages\n",
        "import pandas as pd\n",
        "import numpy as np\n",
        "from sklearn.datasets import load_iris\n",
        "\n",
        "#Loading iris dataset from sklearn\n",
        "iris = load_iris()\n",
        "\n",
        "#independent feautres\n",
        "X = iris.data\n",
        "\n",
        "# target features\n",
        "y = iris.target"
      ]
    },
    {
      "cell_type": "code",
      "execution_count": 2,
      "metadata": {
        "id": "YH_KPRdnbklw"
      },
      "outputs": [],
      "source": [
        "#import XGboost\n",
        "from xgboost import XGBClassifier\n",
        "\n",
        "#Defining XGB Classification model\n",
        "clf = XGBClassifier()"
      ]
    },
    {
      "cell_type": "markdown",
      "metadata": {
        "id": "v7wfVSY2bro4"
      },
      "source": [
        "- xgboost의 단점은 복잡한 하이퍼 파라미터가 있다."
      ]
    },
    {
      "cell_type": "markdown",
      "metadata": {
        "id": "bjRTeDOlburH"
      },
      "source": [
        "# 1.Grid SearchCV\n",
        "- 사용자가 하이퍼 파라미터마다 몇가지 값을 가진 리스트를 입력하면, 가능한 하이퍼 파라미터의 경우의 수마다 예측 성능을 측정하여 사용자가 일일이 하이퍼 파라미터를 설정하고, 예측 성능을 비교하여 최적의 파라미터를 찾는 수고를 줄이고 이 과정을 한꺼번에 진행한다."
      ]
    },
    {
      "cell_type": "code",
      "execution_count": 3,
      "metadata": {
        "id": "TsJr9ua1bwty"
      },
      "outputs": [
        {
          "name": "stdout",
          "output_type": "stream",
          "text": [
            "Fitting 5 folds for each of 48 candidates, totalling 240 fits\n",
            "[CV 1/5; 1/48] START max_depth=1, n_estimators=100, reg_lambda=0.01.............\n",
            "[CV 1/5; 1/48] END max_depth=1, n_estimators=100, reg_lambda=0.01;, score=0.967 total time=   1.3s\n",
            "[CV 2/5; 1/48] START max_depth=1, n_estimators=100, reg_lambda=0.01.............\n",
            "[CV 2/5; 1/48] END max_depth=1, n_estimators=100, reg_lambda=0.01;, score=0.967 total time=   0.0s\n",
            "[CV 3/5; 1/48] START max_depth=1, n_estimators=100, reg_lambda=0.01.............\n",
            "[CV 3/5; 1/48] END max_depth=1, n_estimators=100, reg_lambda=0.01;, score=0.900 total time=   0.0s\n",
            "[CV 4/5; 1/48] START max_depth=1, n_estimators=100, reg_lambda=0.01.............\n",
            "[CV 4/5; 1/48] END max_depth=1, n_estimators=100, reg_lambda=0.01;, score=0.933 total time=   0.0s\n",
            "[CV 5/5; 1/48] START max_depth=1, n_estimators=100, reg_lambda=0.01.............\n",
            "[CV 5/5; 1/48] END max_depth=1, n_estimators=100, reg_lambda=0.01;, score=0.967 total time=   0.0s\n",
            "[CV 1/5; 2/48] START max_depth=1, n_estimators=100, reg_lambda=0.1..............\n",
            "[CV 1/5; 2/48] END max_depth=1, n_estimators=100, reg_lambda=0.1;, score=0.967 total time=   0.0s\n",
            "[CV 2/5; 2/48] START max_depth=1, n_estimators=100, reg_lambda=0.1..............\n",
            "[CV 2/5; 2/48] END max_depth=1, n_estimators=100, reg_lambda=0.1;, score=0.967 total time=   0.0s\n",
            "[CV 3/5; 2/48] START max_depth=1, n_estimators=100, reg_lambda=0.1..............\n",
            "[CV 3/5; 2/48] END max_depth=1, n_estimators=100, reg_lambda=0.1;, score=0.900 total time=   0.0s\n",
            "[CV 4/5; 2/48] START max_depth=1, n_estimators=100, reg_lambda=0.1..............\n",
            "[CV 4/5; 2/48] END max_depth=1, n_estimators=100, reg_lambda=0.1;, score=0.933 total time=   0.0s\n",
            "[CV 5/5; 2/48] START max_depth=1, n_estimators=100, reg_lambda=0.1..............\n",
            "[CV 5/5; 2/48] END max_depth=1, n_estimators=100, reg_lambda=0.1;, score=0.967 total time=   0.0s\n",
            "[CV 1/5; 3/48] START max_depth=1, n_estimators=100, reg_lambda=0.5..............\n",
            "[CV 1/5; 3/48] END max_depth=1, n_estimators=100, reg_lambda=0.5;, score=0.967 total time=   0.0s\n",
            "[CV 2/5; 3/48] START max_depth=1, n_estimators=100, reg_lambda=0.5..............\n",
            "[CV 2/5; 3/48] END max_depth=1, n_estimators=100, reg_lambda=0.5;, score=0.967 total time=   0.0s\n",
            "[CV 3/5; 3/48] START max_depth=1, n_estimators=100, reg_lambda=0.5..............\n",
            "[CV 3/5; 3/48] END max_depth=1, n_estimators=100, reg_lambda=0.5;, score=0.933 total time=   0.0s\n",
            "[CV 4/5; 3/48] START max_depth=1, n_estimators=100, reg_lambda=0.5..............\n",
            "[CV 4/5; 3/48] END max_depth=1, n_estimators=100, reg_lambda=0.5;, score=0.933 total time=   0.0s\n",
            "[CV 5/5; 3/48] START max_depth=1, n_estimators=100, reg_lambda=0.5..............\n",
            "[CV 5/5; 3/48] END max_depth=1, n_estimators=100, reg_lambda=0.5;, score=0.967 total time=   0.0s\n",
            "[CV 1/5; 4/48] START max_depth=1, n_estimators=200, reg_lambda=0.01.............\n",
            "[CV 1/5; 4/48] END max_depth=1, n_estimators=200, reg_lambda=0.01;, score=0.967 total time=   0.0s\n",
            "[CV 2/5; 4/48] START max_depth=1, n_estimators=200, reg_lambda=0.01.............\n",
            "[CV 2/5; 4/48] END max_depth=1, n_estimators=200, reg_lambda=0.01;, score=0.967 total time=   0.0s\n",
            "[CV 3/5; 4/48] START max_depth=1, n_estimators=200, reg_lambda=0.01.............\n",
            "[CV 3/5; 4/48] END max_depth=1, n_estimators=200, reg_lambda=0.01;, score=0.900 total time=   0.0s\n",
            "[CV 4/5; 4/48] START max_depth=1, n_estimators=200, reg_lambda=0.01.............\n",
            "[CV 4/5; 4/48] END max_depth=1, n_estimators=200, reg_lambda=0.01;, score=0.933 total time=   0.0s\n",
            "[CV 5/5; 4/48] START max_depth=1, n_estimators=200, reg_lambda=0.01.............\n",
            "[CV 5/5; 4/48] END max_depth=1, n_estimators=200, reg_lambda=0.01;, score=0.967 total time=   0.0s\n",
            "[CV 1/5; 5/48] START max_depth=1, n_estimators=200, reg_lambda=0.1..............\n",
            "[CV 1/5; 5/48] END max_depth=1, n_estimators=200, reg_lambda=0.1;, score=0.967 total time=   0.0s\n",
            "[CV 2/5; 5/48] START max_depth=1, n_estimators=200, reg_lambda=0.1..............\n",
            "[CV 2/5; 5/48] END max_depth=1, n_estimators=200, reg_lambda=0.1;, score=0.967 total time=   0.0s\n",
            "[CV 3/5; 5/48] START max_depth=1, n_estimators=200, reg_lambda=0.1..............\n",
            "[CV 3/5; 5/48] END max_depth=1, n_estimators=200, reg_lambda=0.1;, score=0.900 total time=   0.0s\n",
            "[CV 4/5; 5/48] START max_depth=1, n_estimators=200, reg_lambda=0.1..............\n",
            "[CV 4/5; 5/48] END max_depth=1, n_estimators=200, reg_lambda=0.1;, score=0.933 total time=   0.0s\n",
            "[CV 5/5; 5/48] START max_depth=1, n_estimators=200, reg_lambda=0.1..............\n",
            "[CV 5/5; 5/48] END max_depth=1, n_estimators=200, reg_lambda=0.1;, score=0.967 total time=   0.0s\n",
            "[CV 1/5; 6/48] START max_depth=1, n_estimators=200, reg_lambda=0.5..............\n",
            "[CV 1/5; 6/48] END max_depth=1, n_estimators=200, reg_lambda=0.5;, score=0.967 total time=   0.0s\n",
            "[CV 2/5; 6/48] START max_depth=1, n_estimators=200, reg_lambda=0.5..............\n",
            "[CV 2/5; 6/48] END max_depth=1, n_estimators=200, reg_lambda=0.5;, score=0.967 total time=   0.0s\n",
            "[CV 3/5; 6/48] START max_depth=1, n_estimators=200, reg_lambda=0.5..............\n",
            "[CV 3/5; 6/48] END max_depth=1, n_estimators=200, reg_lambda=0.5;, score=0.900 total time=   0.0s\n",
            "[CV 4/5; 6/48] START max_depth=1, n_estimators=200, reg_lambda=0.5..............\n",
            "[CV 4/5; 6/48] END max_depth=1, n_estimators=200, reg_lambda=0.5;, score=0.933 total time=   0.0s\n",
            "[CV 5/5; 6/48] START max_depth=1, n_estimators=200, reg_lambda=0.5..............\n",
            "[CV 5/5; 6/48] END max_depth=1, n_estimators=200, reg_lambda=0.5;, score=0.967 total time=   0.0s\n",
            "[CV 1/5; 7/48] START max_depth=1, n_estimators=300, reg_lambda=0.01.............\n",
            "[CV 1/5; 7/48] END max_depth=1, n_estimators=300, reg_lambda=0.01;, score=0.967 total time=   0.0s\n",
            "[CV 2/5; 7/48] START max_depth=1, n_estimators=300, reg_lambda=0.01.............\n",
            "[CV 2/5; 7/48] END max_depth=1, n_estimators=300, reg_lambda=0.01;, score=0.967 total time=   0.1s\n",
            "[CV 3/5; 7/48] START max_depth=1, n_estimators=300, reg_lambda=0.01.............\n",
            "[CV 3/5; 7/48] END max_depth=1, n_estimators=300, reg_lambda=0.01;, score=0.900 total time=   0.0s\n",
            "[CV 4/5; 7/48] START max_depth=1, n_estimators=300, reg_lambda=0.01.............\n",
            "[CV 4/5; 7/48] END max_depth=1, n_estimators=300, reg_lambda=0.01;, score=0.933 total time=   0.0s\n",
            "[CV 5/5; 7/48] START max_depth=1, n_estimators=300, reg_lambda=0.01.............\n",
            "[CV 5/5; 7/48] END max_depth=1, n_estimators=300, reg_lambda=0.01;, score=0.967 total time=   0.1s\n",
            "[CV 1/5; 8/48] START max_depth=1, n_estimators=300, reg_lambda=0.1..............\n",
            "[CV 1/5; 8/48] END max_depth=1, n_estimators=300, reg_lambda=0.1;, score=0.967 total time=   0.1s\n",
            "[CV 2/5; 8/48] START max_depth=1, n_estimators=300, reg_lambda=0.1..............\n",
            "[CV 2/5; 8/48] END max_depth=1, n_estimators=300, reg_lambda=0.1;, score=0.967 total time=   0.0s\n",
            "[CV 3/5; 8/48] START max_depth=1, n_estimators=300, reg_lambda=0.1..............\n",
            "[CV 3/5; 8/48] END max_depth=1, n_estimators=300, reg_lambda=0.1;, score=0.900 total time=   0.0s\n",
            "[CV 4/5; 8/48] START max_depth=1, n_estimators=300, reg_lambda=0.1..............\n",
            "[CV 4/5; 8/48] END max_depth=1, n_estimators=300, reg_lambda=0.1;, score=0.933 total time=   0.0s\n",
            "[CV 5/5; 8/48] START max_depth=1, n_estimators=300, reg_lambda=0.1..............\n",
            "[CV 5/5; 8/48] END max_depth=1, n_estimators=300, reg_lambda=0.1;, score=0.967 total time=   0.0s\n",
            "[CV 1/5; 9/48] START max_depth=1, n_estimators=300, reg_lambda=0.5..............\n",
            "[CV 1/5; 9/48] END max_depth=1, n_estimators=300, reg_lambda=0.5;, score=0.967 total time=   0.0s\n",
            "[CV 2/5; 9/48] START max_depth=1, n_estimators=300, reg_lambda=0.5..............\n",
            "[CV 2/5; 9/48] END max_depth=1, n_estimators=300, reg_lambda=0.5;, score=0.967 total time=   0.0s\n",
            "[CV 3/5; 9/48] START max_depth=1, n_estimators=300, reg_lambda=0.5..............\n",
            "[CV 3/5; 9/48] END max_depth=1, n_estimators=300, reg_lambda=0.5;, score=0.900 total time=   0.0s\n",
            "[CV 4/5; 9/48] START max_depth=1, n_estimators=300, reg_lambda=0.5..............\n",
            "[CV 4/5; 9/48] END max_depth=1, n_estimators=300, reg_lambda=0.5;, score=0.933 total time=   0.0s\n",
            "[CV 5/5; 9/48] START max_depth=1, n_estimators=300, reg_lambda=0.5..............\n",
            "[CV 5/5; 9/48] END max_depth=1, n_estimators=300, reg_lambda=0.5;, score=0.967 total time=   0.0s\n",
            "[CV 1/5; 10/48] START max_depth=1, n_estimators=400, reg_lambda=0.01............\n",
            "[CV 1/5; 10/48] END max_depth=1, n_estimators=400, reg_lambda=0.01;, score=0.967 total time=   0.0s\n",
            "[CV 2/5; 10/48] START max_depth=1, n_estimators=400, reg_lambda=0.01............\n",
            "[CV 2/5; 10/48] END max_depth=1, n_estimators=400, reg_lambda=0.01;, score=0.967 total time=   0.0s\n",
            "[CV 3/5; 10/48] START max_depth=1, n_estimators=400, reg_lambda=0.01............\n",
            "[CV 3/5; 10/48] END max_depth=1, n_estimators=400, reg_lambda=0.01;, score=0.900 total time=   0.1s\n",
            "[CV 4/5; 10/48] START max_depth=1, n_estimators=400, reg_lambda=0.01............\n",
            "[CV 4/5; 10/48] END max_depth=1, n_estimators=400, reg_lambda=0.01;, score=0.933 total time=   0.0s\n",
            "[CV 5/5; 10/48] START max_depth=1, n_estimators=400, reg_lambda=0.01............\n",
            "[CV 5/5; 10/48] END max_depth=1, n_estimators=400, reg_lambda=0.01;, score=0.967 total time=   0.0s\n",
            "[CV 1/5; 11/48] START max_depth=1, n_estimators=400, reg_lambda=0.1.............\n",
            "[CV 1/5; 11/48] END max_depth=1, n_estimators=400, reg_lambda=0.1;, score=0.967 total time=   0.1s\n",
            "[CV 2/5; 11/48] START max_depth=1, n_estimators=400, reg_lambda=0.1.............\n",
            "[CV 2/5; 11/48] END max_depth=1, n_estimators=400, reg_lambda=0.1;, score=0.967 total time=   0.0s\n",
            "[CV 3/5; 11/48] START max_depth=1, n_estimators=400, reg_lambda=0.1.............\n",
            "[CV 3/5; 11/48] END max_depth=1, n_estimators=400, reg_lambda=0.1;, score=0.900 total time=   0.0s\n",
            "[CV 4/5; 11/48] START max_depth=1, n_estimators=400, reg_lambda=0.1.............\n",
            "[CV 4/5; 11/48] END max_depth=1, n_estimators=400, reg_lambda=0.1;, score=0.933 total time=   0.0s\n",
            "[CV 5/5; 11/48] START max_depth=1, n_estimators=400, reg_lambda=0.1.............\n",
            "[CV 5/5; 11/48] END max_depth=1, n_estimators=400, reg_lambda=0.1;, score=0.967 total time=   0.1s\n",
            "[CV 1/5; 12/48] START max_depth=1, n_estimators=400, reg_lambda=0.5.............\n",
            "[CV 1/5; 12/48] END max_depth=1, n_estimators=400, reg_lambda=0.5;, score=0.967 total time=   0.0s\n",
            "[CV 2/5; 12/48] START max_depth=1, n_estimators=400, reg_lambda=0.5.............\n",
            "[CV 2/5; 12/48] END max_depth=1, n_estimators=400, reg_lambda=0.5;, score=0.967 total time=   0.0s\n",
            "[CV 3/5; 12/48] START max_depth=1, n_estimators=400, reg_lambda=0.5.............\n",
            "[CV 3/5; 12/48] END max_depth=1, n_estimators=400, reg_lambda=0.5;, score=0.900 total time=   0.0s\n",
            "[CV 4/5; 12/48] START max_depth=1, n_estimators=400, reg_lambda=0.5.............\n",
            "[CV 4/5; 12/48] END max_depth=1, n_estimators=400, reg_lambda=0.5;, score=0.933 total time=   0.0s\n",
            "[CV 5/5; 12/48] START max_depth=1, n_estimators=400, reg_lambda=0.5.............\n",
            "[CV 5/5; 12/48] END max_depth=1, n_estimators=400, reg_lambda=0.5;, score=0.967 total time=   0.0s\n",
            "[CV 1/5; 13/48] START max_depth=3, n_estimators=100, reg_lambda=0.01............\n",
            "[CV 1/5; 13/48] END max_depth=3, n_estimators=100, reg_lambda=0.01;, score=0.967 total time=   0.0s\n",
            "[CV 2/5; 13/48] START max_depth=3, n_estimators=100, reg_lambda=0.01............\n",
            "[CV 2/5; 13/48] END max_depth=3, n_estimators=100, reg_lambda=0.01;, score=0.967 total time=   0.0s\n",
            "[CV 3/5; 13/48] START max_depth=3, n_estimators=100, reg_lambda=0.01............\n",
            "[CV 3/5; 13/48] END max_depth=3, n_estimators=100, reg_lambda=0.01;, score=0.933 total time=   0.0s\n",
            "[CV 4/5; 13/48] START max_depth=3, n_estimators=100, reg_lambda=0.01............\n",
            "[CV 4/5; 13/48] END max_depth=3, n_estimators=100, reg_lambda=0.01;, score=0.933 total time=   0.0s\n",
            "[CV 5/5; 13/48] START max_depth=3, n_estimators=100, reg_lambda=0.01............\n",
            "[CV 5/5; 13/48] END max_depth=3, n_estimators=100, reg_lambda=0.01;, score=0.967 total time=   0.0s\n",
            "[CV 1/5; 14/48] START max_depth=3, n_estimators=100, reg_lambda=0.1.............\n",
            "[CV 1/5; 14/48] END max_depth=3, n_estimators=100, reg_lambda=0.1;, score=0.967 total time=   0.0s\n",
            "[CV 2/5; 14/48] START max_depth=3, n_estimators=100, reg_lambda=0.1.............\n",
            "[CV 2/5; 14/48] END max_depth=3, n_estimators=100, reg_lambda=0.1;, score=0.967 total time=   0.0s\n",
            "[CV 3/5; 14/48] START max_depth=3, n_estimators=100, reg_lambda=0.1.............\n",
            "[CV 3/5; 14/48] END max_depth=3, n_estimators=100, reg_lambda=0.1;, score=0.933 total time=   0.0s\n",
            "[CV 4/5; 14/48] START max_depth=3, n_estimators=100, reg_lambda=0.1.............\n",
            "[CV 4/5; 14/48] END max_depth=3, n_estimators=100, reg_lambda=0.1;, score=0.933 total time=   0.0s\n",
            "[CV 5/5; 14/48] START max_depth=3, n_estimators=100, reg_lambda=0.1.............\n",
            "[CV 5/5; 14/48] END max_depth=3, n_estimators=100, reg_lambda=0.1;, score=0.967 total time=   0.0s\n",
            "[CV 1/5; 15/48] START max_depth=3, n_estimators=100, reg_lambda=0.5.............\n",
            "[CV 1/5; 15/48] END max_depth=3, n_estimators=100, reg_lambda=0.5;, score=0.967 total time=   0.0s\n",
            "[CV 2/5; 15/48] START max_depth=3, n_estimators=100, reg_lambda=0.5.............\n",
            "[CV 2/5; 15/48] END max_depth=3, n_estimators=100, reg_lambda=0.5;, score=0.967 total time=   0.0s\n",
            "[CV 3/5; 15/48] START max_depth=3, n_estimators=100, reg_lambda=0.5.............\n",
            "[CV 3/5; 15/48] END max_depth=3, n_estimators=100, reg_lambda=0.5;, score=0.933 total time=   0.0s\n",
            "[CV 4/5; 15/48] START max_depth=3, n_estimators=100, reg_lambda=0.5.............\n",
            "[CV 4/5; 15/48] END max_depth=3, n_estimators=100, reg_lambda=0.5;, score=0.933 total time=   0.0s\n",
            "[CV 5/5; 15/48] START max_depth=3, n_estimators=100, reg_lambda=0.5.............\n",
            "[CV 5/5; 15/48] END max_depth=3, n_estimators=100, reg_lambda=0.5;, score=0.967 total time=   0.0s\n",
            "[CV 1/5; 16/48] START max_depth=3, n_estimators=200, reg_lambda=0.01............\n",
            "[CV 1/5; 16/48] END max_depth=3, n_estimators=200, reg_lambda=0.01;, score=0.967 total time=   0.0s\n",
            "[CV 2/5; 16/48] START max_depth=3, n_estimators=200, reg_lambda=0.01............\n",
            "[CV 2/5; 16/48] END max_depth=3, n_estimators=200, reg_lambda=0.01;, score=0.967 total time=   0.0s\n",
            "[CV 3/5; 16/48] START max_depth=3, n_estimators=200, reg_lambda=0.01............\n",
            "[CV 3/5; 16/48] END max_depth=3, n_estimators=200, reg_lambda=0.01;, score=0.933 total time=   0.0s\n",
            "[CV 4/5; 16/48] START max_depth=3, n_estimators=200, reg_lambda=0.01............\n",
            "[CV 4/5; 16/48] END max_depth=3, n_estimators=200, reg_lambda=0.01;, score=0.933 total time=   0.0s\n",
            "[CV 5/5; 16/48] START max_depth=3, n_estimators=200, reg_lambda=0.01............\n",
            "[CV 5/5; 16/48] END max_depth=3, n_estimators=200, reg_lambda=0.01;, score=0.967 total time=   0.0s\n",
            "[CV 1/5; 17/48] START max_depth=3, n_estimators=200, reg_lambda=0.1.............\n",
            "[CV 1/5; 17/48] END max_depth=3, n_estimators=200, reg_lambda=0.1;, score=0.967 total time=   0.0s\n",
            "[CV 2/5; 17/48] START max_depth=3, n_estimators=200, reg_lambda=0.1.............\n",
            "[CV 2/5; 17/48] END max_depth=3, n_estimators=200, reg_lambda=0.1;, score=0.967 total time=   0.0s\n",
            "[CV 3/5; 17/48] START max_depth=3, n_estimators=200, reg_lambda=0.1.............\n",
            "[CV 3/5; 17/48] END max_depth=3, n_estimators=200, reg_lambda=0.1;, score=0.933 total time=   0.0s\n",
            "[CV 4/5; 17/48] START max_depth=3, n_estimators=200, reg_lambda=0.1.............\n",
            "[CV 4/5; 17/48] END max_depth=3, n_estimators=200, reg_lambda=0.1;, score=0.933 total time=   0.0s\n",
            "[CV 5/5; 17/48] START max_depth=3, n_estimators=200, reg_lambda=0.1.............\n",
            "[CV 5/5; 17/48] END max_depth=3, n_estimators=200, reg_lambda=0.1;, score=0.967 total time=   0.0s\n",
            "[CV 1/5; 18/48] START max_depth=3, n_estimators=200, reg_lambda=0.5.............\n",
            "[CV 1/5; 18/48] END max_depth=3, n_estimators=200, reg_lambda=0.5;, score=0.967 total time=   0.0s\n",
            "[CV 2/5; 18/48] START max_depth=3, n_estimators=200, reg_lambda=0.5.............\n",
            "[CV 2/5; 18/48] END max_depth=3, n_estimators=200, reg_lambda=0.5;, score=0.967 total time=   0.0s\n",
            "[CV 3/5; 18/48] START max_depth=3, n_estimators=200, reg_lambda=0.5.............\n",
            "[CV 3/5; 18/48] END max_depth=3, n_estimators=200, reg_lambda=0.5;, score=0.933 total time=   0.0s\n",
            "[CV 4/5; 18/48] START max_depth=3, n_estimators=200, reg_lambda=0.5.............\n",
            "[CV 4/5; 18/48] END max_depth=3, n_estimators=200, reg_lambda=0.5;, score=0.933 total time=   0.0s\n",
            "[CV 5/5; 18/48] START max_depth=3, n_estimators=200, reg_lambda=0.5.............\n",
            "[CV 5/5; 18/48] END max_depth=3, n_estimators=200, reg_lambda=0.5;, score=0.967 total time=   0.0s\n",
            "[CV 1/5; 19/48] START max_depth=3, n_estimators=300, reg_lambda=0.01............\n",
            "[CV 1/5; 19/48] END max_depth=3, n_estimators=300, reg_lambda=0.01;, score=0.967 total time=   0.0s\n",
            "[CV 2/5; 19/48] START max_depth=3, n_estimators=300, reg_lambda=0.01............\n",
            "[CV 2/5; 19/48] END max_depth=3, n_estimators=300, reg_lambda=0.01;, score=0.967 total time=   0.0s\n",
            "[CV 3/5; 19/48] START max_depth=3, n_estimators=300, reg_lambda=0.01............\n",
            "[CV 3/5; 19/48] END max_depth=3, n_estimators=300, reg_lambda=0.01;, score=0.933 total time=   0.0s\n",
            "[CV 4/5; 19/48] START max_depth=3, n_estimators=300, reg_lambda=0.01............\n",
            "[CV 4/5; 19/48] END max_depth=3, n_estimators=300, reg_lambda=0.01;, score=0.933 total time=   0.0s\n",
            "[CV 5/5; 19/48] START max_depth=3, n_estimators=300, reg_lambda=0.01............\n",
            "[CV 5/5; 19/48] END max_depth=3, n_estimators=300, reg_lambda=0.01;, score=0.967 total time=   0.0s\n",
            "[CV 1/5; 20/48] START max_depth=3, n_estimators=300, reg_lambda=0.1.............\n",
            "[CV 1/5; 20/48] END max_depth=3, n_estimators=300, reg_lambda=0.1;, score=0.967 total time=   0.0s\n",
            "[CV 2/5; 20/48] START max_depth=3, n_estimators=300, reg_lambda=0.1.............\n",
            "[CV 2/5; 20/48] END max_depth=3, n_estimators=300, reg_lambda=0.1;, score=0.967 total time=   0.0s\n",
            "[CV 3/5; 20/48] START max_depth=3, n_estimators=300, reg_lambda=0.1.............\n",
            "[CV 3/5; 20/48] END max_depth=3, n_estimators=300, reg_lambda=0.1;, score=0.933 total time=   0.0s\n",
            "[CV 4/5; 20/48] START max_depth=3, n_estimators=300, reg_lambda=0.1.............\n",
            "[CV 4/5; 20/48] END max_depth=3, n_estimators=300, reg_lambda=0.1;, score=0.933 total time=   0.0s\n",
            "[CV 5/5; 20/48] START max_depth=3, n_estimators=300, reg_lambda=0.1.............\n",
            "[CV 5/5; 20/48] END max_depth=3, n_estimators=300, reg_lambda=0.1;, score=0.967 total time=   0.1s\n",
            "[CV 1/5; 21/48] START max_depth=3, n_estimators=300, reg_lambda=0.5.............\n",
            "[CV 1/5; 21/48] END max_depth=3, n_estimators=300, reg_lambda=0.5;, score=0.967 total time=   0.1s\n",
            "[CV 2/5; 21/48] START max_depth=3, n_estimators=300, reg_lambda=0.5.............\n",
            "[CV 2/5; 21/48] END max_depth=3, n_estimators=300, reg_lambda=0.5;, score=0.967 total time=   0.0s\n",
            "[CV 3/5; 21/48] START max_depth=3, n_estimators=300, reg_lambda=0.5.............\n",
            "[CV 3/5; 21/48] END max_depth=3, n_estimators=300, reg_lambda=0.5;, score=0.933 total time=   0.0s\n",
            "[CV 4/5; 21/48] START max_depth=3, n_estimators=300, reg_lambda=0.5.............\n",
            "[CV 4/5; 21/48] END max_depth=3, n_estimators=300, reg_lambda=0.5;, score=0.933 total time=   0.0s\n",
            "[CV 5/5; 21/48] START max_depth=3, n_estimators=300, reg_lambda=0.5.............\n",
            "[CV 5/5; 21/48] END max_depth=3, n_estimators=300, reg_lambda=0.5;, score=0.967 total time=   0.0s\n",
            "[CV 1/5; 22/48] START max_depth=3, n_estimators=400, reg_lambda=0.01............\n",
            "[CV 1/5; 22/48] END max_depth=3, n_estimators=400, reg_lambda=0.01;, score=0.967 total time=   0.1s\n",
            "[CV 2/5; 22/48] START max_depth=3, n_estimators=400, reg_lambda=0.01............\n",
            "[CV 2/5; 22/48] END max_depth=3, n_estimators=400, reg_lambda=0.01;, score=0.967 total time=   0.1s\n",
            "[CV 3/5; 22/48] START max_depth=3, n_estimators=400, reg_lambda=0.01............\n",
            "[CV 3/5; 22/48] END max_depth=3, n_estimators=400, reg_lambda=0.01;, score=0.933 total time=   0.0s\n",
            "[CV 4/5; 22/48] START max_depth=3, n_estimators=400, reg_lambda=0.01............\n",
            "[CV 4/5; 22/48] END max_depth=3, n_estimators=400, reg_lambda=0.01;, score=0.933 total time=   0.1s\n",
            "[CV 5/5; 22/48] START max_depth=3, n_estimators=400, reg_lambda=0.01............\n",
            "[CV 5/5; 22/48] END max_depth=3, n_estimators=400, reg_lambda=0.01;, score=0.967 total time=   0.1s\n",
            "[CV 1/5; 23/48] START max_depth=3, n_estimators=400, reg_lambda=0.1.............\n",
            "[CV 1/5; 23/48] END max_depth=3, n_estimators=400, reg_lambda=0.1;, score=0.967 total time=   0.1s\n",
            "[CV 2/5; 23/48] START max_depth=3, n_estimators=400, reg_lambda=0.1.............\n",
            "[CV 2/5; 23/48] END max_depth=3, n_estimators=400, reg_lambda=0.1;, score=0.967 total time=   0.0s\n",
            "[CV 3/5; 23/48] START max_depth=3, n_estimators=400, reg_lambda=0.1.............\n",
            "[CV 3/5; 23/48] END max_depth=3, n_estimators=400, reg_lambda=0.1;, score=0.933 total time=   0.0s\n",
            "[CV 4/5; 23/48] START max_depth=3, n_estimators=400, reg_lambda=0.1.............\n",
            "[CV 4/5; 23/48] END max_depth=3, n_estimators=400, reg_lambda=0.1;, score=0.967 total time=   0.0s\n",
            "[CV 5/5; 23/48] START max_depth=3, n_estimators=400, reg_lambda=0.1.............\n",
            "[CV 5/5; 23/48] END max_depth=3, n_estimators=400, reg_lambda=0.1;, score=0.967 total time=   0.1s\n",
            "[CV 1/5; 24/48] START max_depth=3, n_estimators=400, reg_lambda=0.5.............\n",
            "[CV 1/5; 24/48] END max_depth=3, n_estimators=400, reg_lambda=0.5;, score=0.967 total time=   0.1s\n",
            "[CV 2/5; 24/48] START max_depth=3, n_estimators=400, reg_lambda=0.5.............\n",
            "[CV 2/5; 24/48] END max_depth=3, n_estimators=400, reg_lambda=0.5;, score=0.967 total time=   0.1s\n",
            "[CV 3/5; 24/48] START max_depth=3, n_estimators=400, reg_lambda=0.5.............\n",
            "[CV 3/5; 24/48] END max_depth=3, n_estimators=400, reg_lambda=0.5;, score=0.933 total time=   0.1s\n",
            "[CV 4/5; 24/48] START max_depth=3, n_estimators=400, reg_lambda=0.5.............\n",
            "[CV 4/5; 24/48] END max_depth=3, n_estimators=400, reg_lambda=0.5;, score=0.933 total time=   0.0s\n",
            "[CV 5/5; 24/48] START max_depth=3, n_estimators=400, reg_lambda=0.5.............\n",
            "[CV 5/5; 24/48] END max_depth=3, n_estimators=400, reg_lambda=0.5;, score=0.967 total time=   0.0s\n",
            "[CV 1/5; 25/48] START max_depth=5, n_estimators=100, reg_lambda=0.01............\n",
            "[CV 1/5; 25/48] END max_depth=5, n_estimators=100, reg_lambda=0.01;, score=0.967 total time=   0.0s\n",
            "[CV 2/5; 25/48] START max_depth=5, n_estimators=100, reg_lambda=0.01............\n",
            "[CV 2/5; 25/48] END max_depth=5, n_estimators=100, reg_lambda=0.01;, score=0.967 total time=   0.0s\n",
            "[CV 3/5; 25/48] START max_depth=5, n_estimators=100, reg_lambda=0.01............\n",
            "[CV 3/5; 25/48] END max_depth=5, n_estimators=100, reg_lambda=0.01;, score=0.933 total time=   0.0s\n",
            "[CV 4/5; 25/48] START max_depth=5, n_estimators=100, reg_lambda=0.01............\n",
            "[CV 4/5; 25/48] END max_depth=5, n_estimators=100, reg_lambda=0.01;, score=0.933 total time=   0.0s\n",
            "[CV 5/5; 25/48] START max_depth=5, n_estimators=100, reg_lambda=0.01............\n",
            "[CV 5/5; 25/48] END max_depth=5, n_estimators=100, reg_lambda=0.01;, score=0.967 total time=   0.0s\n",
            "[CV 1/5; 26/48] START max_depth=5, n_estimators=100, reg_lambda=0.1.............\n",
            "[CV 1/5; 26/48] END max_depth=5, n_estimators=100, reg_lambda=0.1;, score=0.967 total time=   0.0s\n",
            "[CV 2/5; 26/48] START max_depth=5, n_estimators=100, reg_lambda=0.1.............\n",
            "[CV 2/5; 26/48] END max_depth=5, n_estimators=100, reg_lambda=0.1;, score=0.967 total time=   0.0s\n",
            "[CV 3/5; 26/48] START max_depth=5, n_estimators=100, reg_lambda=0.1.............\n",
            "[CV 3/5; 26/48] END max_depth=5, n_estimators=100, reg_lambda=0.1;, score=0.933 total time=   0.0s\n",
            "[CV 4/5; 26/48] START max_depth=5, n_estimators=100, reg_lambda=0.1.............\n",
            "[CV 4/5; 26/48] END max_depth=5, n_estimators=100, reg_lambda=0.1;, score=0.933 total time=   0.0s\n",
            "[CV 5/5; 26/48] START max_depth=5, n_estimators=100, reg_lambda=0.1.............\n",
            "[CV 5/5; 26/48] END max_depth=5, n_estimators=100, reg_lambda=0.1;, score=0.967 total time=   0.0s\n",
            "[CV 1/5; 27/48] START max_depth=5, n_estimators=100, reg_lambda=0.5.............\n",
            "[CV 1/5; 27/48] END max_depth=5, n_estimators=100, reg_lambda=0.5;, score=0.967 total time=   0.0s\n",
            "[CV 2/5; 27/48] START max_depth=5, n_estimators=100, reg_lambda=0.5.............\n",
            "[CV 2/5; 27/48] END max_depth=5, n_estimators=100, reg_lambda=0.5;, score=0.967 total time=   0.0s\n",
            "[CV 3/5; 27/48] START max_depth=5, n_estimators=100, reg_lambda=0.5.............\n",
            "[CV 3/5; 27/48] END max_depth=5, n_estimators=100, reg_lambda=0.5;, score=0.933 total time=   0.0s\n",
            "[CV 4/5; 27/48] START max_depth=5, n_estimators=100, reg_lambda=0.5.............\n",
            "[CV 4/5; 27/48] END max_depth=5, n_estimators=100, reg_lambda=0.5;, score=0.933 total time=   0.0s\n",
            "[CV 5/5; 27/48] START max_depth=5, n_estimators=100, reg_lambda=0.5.............\n",
            "[CV 5/5; 27/48] END max_depth=5, n_estimators=100, reg_lambda=0.5;, score=0.967 total time=   0.0s\n",
            "[CV 1/5; 28/48] START max_depth=5, n_estimators=200, reg_lambda=0.01............\n",
            "[CV 1/5; 28/48] END max_depth=5, n_estimators=200, reg_lambda=0.01;, score=0.967 total time=   0.0s\n",
            "[CV 2/5; 28/48] START max_depth=5, n_estimators=200, reg_lambda=0.01............\n",
            "[CV 2/5; 28/48] END max_depth=5, n_estimators=200, reg_lambda=0.01;, score=0.967 total time=   0.0s\n",
            "[CV 3/5; 28/48] START max_depth=5, n_estimators=200, reg_lambda=0.01............\n",
            "[CV 3/5; 28/48] END max_depth=5, n_estimators=200, reg_lambda=0.01;, score=0.933 total time=   0.0s\n",
            "[CV 4/5; 28/48] START max_depth=5, n_estimators=200, reg_lambda=0.01............\n",
            "[CV 4/5; 28/48] END max_depth=5, n_estimators=200, reg_lambda=0.01;, score=0.933 total time=   0.0s\n",
            "[CV 5/5; 28/48] START max_depth=5, n_estimators=200, reg_lambda=0.01............\n",
            "[CV 5/5; 28/48] END max_depth=5, n_estimators=200, reg_lambda=0.01;, score=0.967 total time=   0.0s\n",
            "[CV 1/5; 29/48] START max_depth=5, n_estimators=200, reg_lambda=0.1.............\n",
            "[CV 1/5; 29/48] END max_depth=5, n_estimators=200, reg_lambda=0.1;, score=0.967 total time=   0.0s\n",
            "[CV 2/5; 29/48] START max_depth=5, n_estimators=200, reg_lambda=0.1.............\n",
            "[CV 2/5; 29/48] END max_depth=5, n_estimators=200, reg_lambda=0.1;, score=0.967 total time=   0.0s\n",
            "[CV 3/5; 29/48] START max_depth=5, n_estimators=200, reg_lambda=0.1.............\n",
            "[CV 3/5; 29/48] END max_depth=5, n_estimators=200, reg_lambda=0.1;, score=0.933 total time=   0.0s\n",
            "[CV 4/5; 29/48] START max_depth=5, n_estimators=200, reg_lambda=0.1.............\n",
            "[CV 4/5; 29/48] END max_depth=5, n_estimators=200, reg_lambda=0.1;, score=0.933 total time=   0.0s\n",
            "[CV 5/5; 29/48] START max_depth=5, n_estimators=200, reg_lambda=0.1.............\n",
            "[CV 5/5; 29/48] END max_depth=5, n_estimators=200, reg_lambda=0.1;, score=0.967 total time=   0.0s\n",
            "[CV 1/5; 30/48] START max_depth=5, n_estimators=200, reg_lambda=0.5.............\n",
            "[CV 1/5; 30/48] END max_depth=5, n_estimators=200, reg_lambda=0.5;, score=0.967 total time=   0.0s\n",
            "[CV 2/5; 30/48] START max_depth=5, n_estimators=200, reg_lambda=0.5.............\n",
            "[CV 2/5; 30/48] END max_depth=5, n_estimators=200, reg_lambda=0.5;, score=0.967 total time=   0.0s\n",
            "[CV 3/5; 30/48] START max_depth=5, n_estimators=200, reg_lambda=0.5.............\n",
            "[CV 3/5; 30/48] END max_depth=5, n_estimators=200, reg_lambda=0.5;, score=0.933 total time=   0.0s\n",
            "[CV 4/5; 30/48] START max_depth=5, n_estimators=200, reg_lambda=0.5.............\n",
            "[CV 4/5; 30/48] END max_depth=5, n_estimators=200, reg_lambda=0.5;, score=0.933 total time=   0.0s\n",
            "[CV 5/5; 30/48] START max_depth=5, n_estimators=200, reg_lambda=0.5.............\n",
            "[CV 5/5; 30/48] END max_depth=5, n_estimators=200, reg_lambda=0.5;, score=0.967 total time=   0.0s\n",
            "[CV 1/5; 31/48] START max_depth=5, n_estimators=300, reg_lambda=0.01............\n",
            "[CV 1/5; 31/48] END max_depth=5, n_estimators=300, reg_lambda=0.01;, score=0.967 total time=   0.0s\n",
            "[CV 2/5; 31/48] START max_depth=5, n_estimators=300, reg_lambda=0.01............\n",
            "[CV 2/5; 31/48] END max_depth=5, n_estimators=300, reg_lambda=0.01;, score=0.967 total time=   0.1s\n",
            "[CV 3/5; 31/48] START max_depth=5, n_estimators=300, reg_lambda=0.01............\n",
            "[CV 3/5; 31/48] END max_depth=5, n_estimators=300, reg_lambda=0.01;, score=0.933 total time=   0.0s\n",
            "[CV 4/5; 31/48] START max_depth=5, n_estimators=300, reg_lambda=0.01............\n",
            "[CV 4/5; 31/48] END max_depth=5, n_estimators=300, reg_lambda=0.01;, score=0.933 total time=   0.0s\n",
            "[CV 5/5; 31/48] START max_depth=5, n_estimators=300, reg_lambda=0.01............\n",
            "[CV 5/5; 31/48] END max_depth=5, n_estimators=300, reg_lambda=0.01;, score=0.967 total time=   0.0s\n",
            "[CV 1/5; 32/48] START max_depth=5, n_estimators=300, reg_lambda=0.1.............\n",
            "[CV 1/5; 32/48] END max_depth=5, n_estimators=300, reg_lambda=0.1;, score=0.967 total time=   0.0s\n",
            "[CV 2/5; 32/48] START max_depth=5, n_estimators=300, reg_lambda=0.1.............\n",
            "[CV 2/5; 32/48] END max_depth=5, n_estimators=300, reg_lambda=0.1;, score=0.967 total time=   0.0s\n",
            "[CV 3/5; 32/48] START max_depth=5, n_estimators=300, reg_lambda=0.1.............\n",
            "[CV 3/5; 32/48] END max_depth=5, n_estimators=300, reg_lambda=0.1;, score=0.933 total time=   0.0s\n",
            "[CV 4/5; 32/48] START max_depth=5, n_estimators=300, reg_lambda=0.1.............\n",
            "[CV 4/5; 32/48] END max_depth=5, n_estimators=300, reg_lambda=0.1;, score=0.933 total time=   0.1s\n",
            "[CV 5/5; 32/48] START max_depth=5, n_estimators=300, reg_lambda=0.1.............\n",
            "[CV 5/5; 32/48] END max_depth=5, n_estimators=300, reg_lambda=0.1;, score=0.967 total time=   0.0s\n",
            "[CV 1/5; 33/48] START max_depth=5, n_estimators=300, reg_lambda=0.5.............\n",
            "[CV 1/5; 33/48] END max_depth=5, n_estimators=300, reg_lambda=0.5;, score=0.967 total time=   0.0s\n",
            "[CV 2/5; 33/48] START max_depth=5, n_estimators=300, reg_lambda=0.5.............\n",
            "[CV 2/5; 33/48] END max_depth=5, n_estimators=300, reg_lambda=0.5;, score=0.967 total time=   0.1s\n",
            "[CV 3/5; 33/48] START max_depth=5, n_estimators=300, reg_lambda=0.5.............\n",
            "[CV 3/5; 33/48] END max_depth=5, n_estimators=300, reg_lambda=0.5;, score=0.933 total time=   0.1s\n",
            "[CV 4/5; 33/48] START max_depth=5, n_estimators=300, reg_lambda=0.5.............\n",
            "[CV 4/5; 33/48] END max_depth=5, n_estimators=300, reg_lambda=0.5;, score=0.933 total time=   0.0s\n",
            "[CV 5/5; 33/48] START max_depth=5, n_estimators=300, reg_lambda=0.5.............\n",
            "[CV 5/5; 33/48] END max_depth=5, n_estimators=300, reg_lambda=0.5;, score=0.967 total time=   0.0s\n",
            "[CV 1/5; 34/48] START max_depth=5, n_estimators=400, reg_lambda=0.01............\n",
            "[CV 1/5; 34/48] END max_depth=5, n_estimators=400, reg_lambda=0.01;, score=0.967 total time=   0.1s\n",
            "[CV 2/5; 34/48] START max_depth=5, n_estimators=400, reg_lambda=0.01............\n",
            "[CV 2/5; 34/48] END max_depth=5, n_estimators=400, reg_lambda=0.01;, score=0.967 total time=   0.1s\n",
            "[CV 3/5; 34/48] START max_depth=5, n_estimators=400, reg_lambda=0.01............\n",
            "[CV 3/5; 34/48] END max_depth=5, n_estimators=400, reg_lambda=0.01;, score=0.933 total time=   0.1s\n",
            "[CV 4/5; 34/48] START max_depth=5, n_estimators=400, reg_lambda=0.01............\n",
            "[CV 4/5; 34/48] END max_depth=5, n_estimators=400, reg_lambda=0.01;, score=0.933 total time=   0.1s\n",
            "[CV 5/5; 34/48] START max_depth=5, n_estimators=400, reg_lambda=0.01............\n",
            "[CV 5/5; 34/48] END max_depth=5, n_estimators=400, reg_lambda=0.01;, score=0.967 total time=   0.0s\n",
            "[CV 1/5; 35/48] START max_depth=5, n_estimators=400, reg_lambda=0.1.............\n",
            "[CV 1/5; 35/48] END max_depth=5, n_estimators=400, reg_lambda=0.1;, score=0.967 total time=   0.1s\n",
            "[CV 2/5; 35/48] START max_depth=5, n_estimators=400, reg_lambda=0.1.............\n",
            "[CV 2/5; 35/48] END max_depth=5, n_estimators=400, reg_lambda=0.1;, score=0.967 total time=   0.0s\n",
            "[CV 3/5; 35/48] START max_depth=5, n_estimators=400, reg_lambda=0.1.............\n",
            "[CV 3/5; 35/48] END max_depth=5, n_estimators=400, reg_lambda=0.1;, score=0.933 total time=   0.1s\n",
            "[CV 4/5; 35/48] START max_depth=5, n_estimators=400, reg_lambda=0.1.............\n",
            "[CV 4/5; 35/48] END max_depth=5, n_estimators=400, reg_lambda=0.1;, score=0.933 total time=   0.1s\n",
            "[CV 5/5; 35/48] START max_depth=5, n_estimators=400, reg_lambda=0.1.............\n",
            "[CV 5/5; 35/48] END max_depth=5, n_estimators=400, reg_lambda=0.1;, score=0.967 total time=   0.1s\n",
            "[CV 1/5; 36/48] START max_depth=5, n_estimators=400, reg_lambda=0.5.............\n",
            "[CV 1/5; 36/48] END max_depth=5, n_estimators=400, reg_lambda=0.5;, score=0.967 total time=   0.1s\n",
            "[CV 2/5; 36/48] START max_depth=5, n_estimators=400, reg_lambda=0.5.............\n",
            "[CV 2/5; 36/48] END max_depth=5, n_estimators=400, reg_lambda=0.5;, score=0.967 total time=   0.1s\n",
            "[CV 3/5; 36/48] START max_depth=5, n_estimators=400, reg_lambda=0.5.............\n",
            "[CV 3/5; 36/48] END max_depth=5, n_estimators=400, reg_lambda=0.5;, score=0.933 total time=   0.1s\n",
            "[CV 4/5; 36/48] START max_depth=5, n_estimators=400, reg_lambda=0.5.............\n",
            "[CV 4/5; 36/48] END max_depth=5, n_estimators=400, reg_lambda=0.5;, score=0.933 total time=   0.1s\n",
            "[CV 5/5; 36/48] START max_depth=5, n_estimators=400, reg_lambda=0.5.............\n",
            "[CV 5/5; 36/48] END max_depth=5, n_estimators=400, reg_lambda=0.5;, score=0.967 total time=   0.1s\n",
            "[CV 1/5; 37/48] START max_depth=7, n_estimators=100, reg_lambda=0.01............\n",
            "[CV 1/5; 37/48] END max_depth=7, n_estimators=100, reg_lambda=0.01;, score=0.967 total time=   0.0s\n",
            "[CV 2/5; 37/48] START max_depth=7, n_estimators=100, reg_lambda=0.01............\n",
            "[CV 2/5; 37/48] END max_depth=7, n_estimators=100, reg_lambda=0.01;, score=0.967 total time=   0.0s\n",
            "[CV 3/5; 37/48] START max_depth=7, n_estimators=100, reg_lambda=0.01............\n",
            "[CV 3/5; 37/48] END max_depth=7, n_estimators=100, reg_lambda=0.01;, score=0.933 total time=   0.0s\n",
            "[CV 4/5; 37/48] START max_depth=7, n_estimators=100, reg_lambda=0.01............\n",
            "[CV 4/5; 37/48] END max_depth=7, n_estimators=100, reg_lambda=0.01;, score=0.933 total time=   0.0s\n",
            "[CV 5/5; 37/48] START max_depth=7, n_estimators=100, reg_lambda=0.01............\n",
            "[CV 5/5; 37/48] END max_depth=7, n_estimators=100, reg_lambda=0.01;, score=0.967 total time=   0.0s\n",
            "[CV 1/5; 38/48] START max_depth=7, n_estimators=100, reg_lambda=0.1.............\n",
            "[CV 1/5; 38/48] END max_depth=7, n_estimators=100, reg_lambda=0.1;, score=0.967 total time=   0.0s\n",
            "[CV 2/5; 38/48] START max_depth=7, n_estimators=100, reg_lambda=0.1.............\n",
            "[CV 2/5; 38/48] END max_depth=7, n_estimators=100, reg_lambda=0.1;, score=0.967 total time=   0.0s\n",
            "[CV 3/5; 38/48] START max_depth=7, n_estimators=100, reg_lambda=0.1.............\n",
            "[CV 3/5; 38/48] END max_depth=7, n_estimators=100, reg_lambda=0.1;, score=0.933 total time=   0.0s\n",
            "[CV 4/5; 38/48] START max_depth=7, n_estimators=100, reg_lambda=0.1.............\n",
            "[CV 4/5; 38/48] END max_depth=7, n_estimators=100, reg_lambda=0.1;, score=0.933 total time=   0.0s\n",
            "[CV 5/5; 38/48] START max_depth=7, n_estimators=100, reg_lambda=0.1.............\n",
            "[CV 5/5; 38/48] END max_depth=7, n_estimators=100, reg_lambda=0.1;, score=0.967 total time=   0.0s\n",
            "[CV 1/5; 39/48] START max_depth=7, n_estimators=100, reg_lambda=0.5.............\n",
            "[CV 1/5; 39/48] END max_depth=7, n_estimators=100, reg_lambda=0.5;, score=0.967 total time=   0.0s\n",
            "[CV 2/5; 39/48] START max_depth=7, n_estimators=100, reg_lambda=0.5.............\n",
            "[CV 2/5; 39/48] END max_depth=7, n_estimators=100, reg_lambda=0.5;, score=0.967 total time=   0.0s\n",
            "[CV 3/5; 39/48] START max_depth=7, n_estimators=100, reg_lambda=0.5.............\n",
            "[CV 3/5; 39/48] END max_depth=7, n_estimators=100, reg_lambda=0.5;, score=0.933 total time=   0.0s\n",
            "[CV 4/5; 39/48] START max_depth=7, n_estimators=100, reg_lambda=0.5.............\n",
            "[CV 4/5; 39/48] END max_depth=7, n_estimators=100, reg_lambda=0.5;, score=0.933 total time=   0.0s\n",
            "[CV 5/5; 39/48] START max_depth=7, n_estimators=100, reg_lambda=0.5.............\n",
            "[CV 5/5; 39/48] END max_depth=7, n_estimators=100, reg_lambda=0.5;, score=0.967 total time=   0.0s\n",
            "[CV 1/5; 40/48] START max_depth=7, n_estimators=200, reg_lambda=0.01............\n",
            "[CV 1/5; 40/48] END max_depth=7, n_estimators=200, reg_lambda=0.01;, score=0.967 total time=   0.0s\n",
            "[CV 2/5; 40/48] START max_depth=7, n_estimators=200, reg_lambda=0.01............\n",
            "[CV 2/5; 40/48] END max_depth=7, n_estimators=200, reg_lambda=0.01;, score=0.967 total time=   0.0s\n",
            "[CV 3/5; 40/48] START max_depth=7, n_estimators=200, reg_lambda=0.01............\n",
            "[CV 3/5; 40/48] END max_depth=7, n_estimators=200, reg_lambda=0.01;, score=0.933 total time=   0.0s\n",
            "[CV 4/5; 40/48] START max_depth=7, n_estimators=200, reg_lambda=0.01............\n",
            "[CV 4/5; 40/48] END max_depth=7, n_estimators=200, reg_lambda=0.01;, score=0.933 total time=   0.0s\n",
            "[CV 5/5; 40/48] START max_depth=7, n_estimators=200, reg_lambda=0.01............\n",
            "[CV 5/5; 40/48] END max_depth=7, n_estimators=200, reg_lambda=0.01;, score=0.967 total time=   0.0s\n",
            "[CV 1/5; 41/48] START max_depth=7, n_estimators=200, reg_lambda=0.1.............\n",
            "[CV 1/5; 41/48] END max_depth=7, n_estimators=200, reg_lambda=0.1;, score=0.967 total time=   0.0s\n",
            "[CV 2/5; 41/48] START max_depth=7, n_estimators=200, reg_lambda=0.1.............\n",
            "[CV 2/5; 41/48] END max_depth=7, n_estimators=200, reg_lambda=0.1;, score=0.967 total time=   0.0s\n",
            "[CV 3/5; 41/48] START max_depth=7, n_estimators=200, reg_lambda=0.1.............\n",
            "[CV 3/5; 41/48] END max_depth=7, n_estimators=200, reg_lambda=0.1;, score=0.933 total time=   0.0s\n",
            "[CV 4/5; 41/48] START max_depth=7, n_estimators=200, reg_lambda=0.1.............\n",
            "[CV 4/5; 41/48] END max_depth=7, n_estimators=200, reg_lambda=0.1;, score=0.933 total time=   0.0s\n",
            "[CV 5/5; 41/48] START max_depth=7, n_estimators=200, reg_lambda=0.1.............\n",
            "[CV 5/5; 41/48] END max_depth=7, n_estimators=200, reg_lambda=0.1;, score=0.967 total time=   0.0s\n",
            "[CV 1/5; 42/48] START max_depth=7, n_estimators=200, reg_lambda=0.5.............\n",
            "[CV 1/5; 42/48] END max_depth=7, n_estimators=200, reg_lambda=0.5;, score=0.967 total time=   0.0s\n",
            "[CV 2/5; 42/48] START max_depth=7, n_estimators=200, reg_lambda=0.5.............\n",
            "[CV 2/5; 42/48] END max_depth=7, n_estimators=200, reg_lambda=0.5;, score=0.967 total time=   0.0s\n",
            "[CV 3/5; 42/48] START max_depth=7, n_estimators=200, reg_lambda=0.5.............\n",
            "[CV 3/5; 42/48] END max_depth=7, n_estimators=200, reg_lambda=0.5;, score=0.933 total time=   0.0s\n",
            "[CV 4/5; 42/48] START max_depth=7, n_estimators=200, reg_lambda=0.5.............\n",
            "[CV 4/5; 42/48] END max_depth=7, n_estimators=200, reg_lambda=0.5;, score=0.933 total time=   0.0s\n",
            "[CV 5/5; 42/48] START max_depth=7, n_estimators=200, reg_lambda=0.5.............\n",
            "[CV 5/5; 42/48] END max_depth=7, n_estimators=200, reg_lambda=0.5;, score=0.967 total time=   0.0s\n",
            "[CV 1/5; 43/48] START max_depth=7, n_estimators=300, reg_lambda=0.01............\n",
            "[CV 1/5; 43/48] END max_depth=7, n_estimators=300, reg_lambda=0.01;, score=0.967 total time=   0.0s\n",
            "[CV 2/5; 43/48] START max_depth=7, n_estimators=300, reg_lambda=0.01............\n",
            "[CV 2/5; 43/48] END max_depth=7, n_estimators=300, reg_lambda=0.01;, score=0.967 total time=   0.0s\n",
            "[CV 3/5; 43/48] START max_depth=7, n_estimators=300, reg_lambda=0.01............\n",
            "[CV 3/5; 43/48] END max_depth=7, n_estimators=300, reg_lambda=0.01;, score=0.933 total time=   0.0s\n",
            "[CV 4/5; 43/48] START max_depth=7, n_estimators=300, reg_lambda=0.01............\n",
            "[CV 4/5; 43/48] END max_depth=7, n_estimators=300, reg_lambda=0.01;, score=0.933 total time=   0.0s\n",
            "[CV 5/5; 43/48] START max_depth=7, n_estimators=300, reg_lambda=0.01............\n",
            "[CV 5/5; 43/48] END max_depth=7, n_estimators=300, reg_lambda=0.01;, score=0.967 total time=   0.0s\n",
            "[CV 1/5; 44/48] START max_depth=7, n_estimators=300, reg_lambda=0.1.............\n",
            "[CV 1/5; 44/48] END max_depth=7, n_estimators=300, reg_lambda=0.1;, score=0.967 total time=   0.0s\n",
            "[CV 2/5; 44/48] START max_depth=7, n_estimators=300, reg_lambda=0.1.............\n",
            "[CV 2/5; 44/48] END max_depth=7, n_estimators=300, reg_lambda=0.1;, score=0.967 total time=   0.0s\n",
            "[CV 3/5; 44/48] START max_depth=7, n_estimators=300, reg_lambda=0.1.............\n",
            "[CV 3/5; 44/48] END max_depth=7, n_estimators=300, reg_lambda=0.1;, score=0.933 total time=   0.0s\n",
            "[CV 4/5; 44/48] START max_depth=7, n_estimators=300, reg_lambda=0.1.............\n",
            "[CV 4/5; 44/48] END max_depth=7, n_estimators=300, reg_lambda=0.1;, score=0.933 total time=   0.0s\n",
            "[CV 5/5; 44/48] START max_depth=7, n_estimators=300, reg_lambda=0.1.............\n",
            "[CV 5/5; 44/48] END max_depth=7, n_estimators=300, reg_lambda=0.1;, score=0.967 total time=   0.0s\n",
            "[CV 1/5; 45/48] START max_depth=7, n_estimators=300, reg_lambda=0.5.............\n",
            "[CV 1/5; 45/48] END max_depth=7, n_estimators=300, reg_lambda=0.5;, score=0.967 total time=   0.0s\n",
            "[CV 2/5; 45/48] START max_depth=7, n_estimators=300, reg_lambda=0.5.............\n",
            "[CV 2/5; 45/48] END max_depth=7, n_estimators=300, reg_lambda=0.5;, score=0.967 total time=   0.0s\n",
            "[CV 3/5; 45/48] START max_depth=7, n_estimators=300, reg_lambda=0.5.............\n",
            "[CV 3/5; 45/48] END max_depth=7, n_estimators=300, reg_lambda=0.5;, score=0.933 total time=   0.0s\n",
            "[CV 4/5; 45/48] START max_depth=7, n_estimators=300, reg_lambda=0.5.............\n",
            "[CV 4/5; 45/48] END max_depth=7, n_estimators=300, reg_lambda=0.5;, score=0.933 total time=   0.0s\n",
            "[CV 5/5; 45/48] START max_depth=7, n_estimators=300, reg_lambda=0.5.............\n",
            "[CV 5/5; 45/48] END max_depth=7, n_estimators=300, reg_lambda=0.5;, score=0.967 total time=   0.2s\n",
            "[CV 1/5; 46/48] START max_depth=7, n_estimators=400, reg_lambda=0.01............\n",
            "[CV 1/5; 46/48] END max_depth=7, n_estimators=400, reg_lambda=0.01;, score=0.967 total time=   0.1s\n",
            "[CV 2/5; 46/48] START max_depth=7, n_estimators=400, reg_lambda=0.01............\n",
            "[CV 2/5; 46/48] END max_depth=7, n_estimators=400, reg_lambda=0.01;, score=0.967 total time=   0.1s\n",
            "[CV 3/5; 46/48] START max_depth=7, n_estimators=400, reg_lambda=0.01............\n",
            "[CV 3/5; 46/48] END max_depth=7, n_estimators=400, reg_lambda=0.01;, score=0.933 total time=   0.1s\n",
            "[CV 4/5; 46/48] START max_depth=7, n_estimators=400, reg_lambda=0.01............\n",
            "[CV 4/5; 46/48] END max_depth=7, n_estimators=400, reg_lambda=0.01;, score=0.933 total time=   0.1s\n",
            "[CV 5/5; 46/48] START max_depth=7, n_estimators=400, reg_lambda=0.01............\n",
            "[CV 5/5; 46/48] END max_depth=7, n_estimators=400, reg_lambda=0.01;, score=0.967 total time=   0.1s\n",
            "[CV 1/5; 47/48] START max_depth=7, n_estimators=400, reg_lambda=0.1.............\n",
            "[CV 1/5; 47/48] END max_depth=7, n_estimators=400, reg_lambda=0.1;, score=0.967 total time=   0.1s\n",
            "[CV 2/5; 47/48] START max_depth=7, n_estimators=400, reg_lambda=0.1.............\n",
            "[CV 2/5; 47/48] END max_depth=7, n_estimators=400, reg_lambda=0.1;, score=0.967 total time=   0.1s\n",
            "[CV 3/5; 47/48] START max_depth=7, n_estimators=400, reg_lambda=0.1.............\n",
            "[CV 3/5; 47/48] END max_depth=7, n_estimators=400, reg_lambda=0.1;, score=0.933 total time=   0.1s\n",
            "[CV 4/5; 47/48] START max_depth=7, n_estimators=400, reg_lambda=0.1.............\n",
            "[CV 4/5; 47/48] END max_depth=7, n_estimators=400, reg_lambda=0.1;, score=0.933 total time=   0.1s\n",
            "[CV 5/5; 47/48] START max_depth=7, n_estimators=400, reg_lambda=0.1.............\n",
            "[CV 5/5; 47/48] END max_depth=7, n_estimators=400, reg_lambda=0.1;, score=0.967 total time=   0.1s\n",
            "[CV 1/5; 48/48] START max_depth=7, n_estimators=400, reg_lambda=0.5.............\n",
            "[CV 1/5; 48/48] END max_depth=7, n_estimators=400, reg_lambda=0.5;, score=0.967 total time=   0.0s\n",
            "[CV 2/5; 48/48] START max_depth=7, n_estimators=400, reg_lambda=0.5.............\n",
            "[CV 2/5; 48/48] END max_depth=7, n_estimators=400, reg_lambda=0.5;, score=0.967 total time=   0.1s\n",
            "[CV 3/5; 48/48] START max_depth=7, n_estimators=400, reg_lambda=0.5.............\n",
            "[CV 3/5; 48/48] END max_depth=7, n_estimators=400, reg_lambda=0.5;, score=0.933 total time=   0.1s\n",
            "[CV 4/5; 48/48] START max_depth=7, n_estimators=400, reg_lambda=0.5.............\n",
            "[CV 4/5; 48/48] END max_depth=7, n_estimators=400, reg_lambda=0.5;, score=0.933 total time=   0.1s\n",
            "[CV 5/5; 48/48] START max_depth=7, n_estimators=400, reg_lambda=0.5.............\n",
            "[CV 5/5; 48/48] END max_depth=7, n_estimators=400, reg_lambda=0.5;, score=0.967 total time=   0.1s\n",
            "{'max_depth': 3, 'n_estimators': 400, 'reg_lambda': 0.1}\n",
            "XGBClassifier(base_score=None, booster=None, callbacks=None,\n",
            "              colsample_bylevel=None, colsample_bynode=None,\n",
            "              colsample_bytree=None, device=None, early_stopping_rounds=None,\n",
            "              enable_categorical=False, eval_metric=None, feature_types=None,\n",
            "              gamma=None, grow_policy=None, importance_type=None,\n",
            "              interaction_constraints=None, learning_rate=None, max_bin=None,\n",
            "              max_cat_threshold=None, max_cat_to_onehot=None,\n",
            "              max_delta_step=None, max_depth=3, max_leaves=None,\n",
            "              min_child_weight=None, missing=nan, monotone_constraints=None,\n",
            "              multi_strategy=None, n_estimators=400, n_jobs=None,\n",
            "              num_parallel_tree=None, objective='multi:softprob', ...)\n",
            "0.96\n"
          ]
        }
      ],
      "source": [
        "#Importing packages from sklearn\n",
        "\n",
        "from sklearn import preprocessing\n",
        "from sklearn import model_selection\n",
        "from sklearn import metrics\n",
        "\n",
        "#defining a set of values as a dictionary for hyperparameters\n",
        "\n",
        "param_grid = {\n",
        "    \"n_estimators\":[100,200,300,400],\n",
        "    \"max_depth\":[1,3,5,7],\n",
        "    \"reg_lambda\":[.01,.1,.5]    \n",
        "}\n",
        "\n",
        "#declaring GridSearchCV model\n",
        "\n",
        "model = model_selection.GridSearchCV(\n",
        "    estimator = clf,\n",
        "    param_grid = param_grid,\n",
        "    scoring = 'accuracy',\n",
        "    verbose = 10,\n",
        "    n_jobs = 1,\n",
        "    cv = 5    \n",
        ")\n",
        "\n",
        "#fitting values to the gridsearchcv model\n",
        "\n",
        "model.fit(X,y)\n",
        "#printing the best possible values to enhance accuracy\n",
        "print(model.best_params_)\n",
        "print(model.best_estimator_)\n",
        "#printing the best score\n",
        "print(model.best_score_)\n",
        "#import joblib\n",
        "#joblib.dump(model, 'model_xgboost.pkl') q"
      ]
    },
    {
      "cell_type": "markdown",
      "metadata": {
        "id": "5YOrV2urb0yw"
      },
      "source": [
        "# 2. RandomizedSearchCV\n",
        "\n",
        "- 그리드 서치에서는 grid_param과 같이 매개변수마다 특정 값을 지정해주었습니다. 만약에 변수 범위가 너무 다양하다면 하나하나 작성해주는게 너무 힘들다.\n",
        "\n",
        "- 하이퍼 파라미터 검색 반영이 너무 클때 사용하는 방식이 Randomized Search입니다.\n"
      ]
    },
    {
      "cell_type": "code",
      "execution_count": 4,
      "metadata": {
        "id": "xmuYSlArbwv_"
      },
      "outputs": [
        {
          "name": "stdout",
          "output_type": "stream",
          "text": [
            "Fitting 5 folds for each of 10 candidates, totalling 50 fits\n",
            "[CV 1/5; 1/10] START max_depth=1, n_estimators=300, reg_lambda=0.5..............\n",
            "[CV 1/5; 1/10] END max_depth=1, n_estimators=300, reg_lambda=0.5;, score=0.967 total time=   0.3s\n",
            "[CV 2/5; 1/10] START max_depth=1, n_estimators=300, reg_lambda=0.5..............\n",
            "[CV 2/5; 1/10] END max_depth=1, n_estimators=300, reg_lambda=0.5;, score=0.967 total time=   0.5s\n",
            "[CV 3/5; 1/10] START max_depth=1, n_estimators=300, reg_lambda=0.5..............\n",
            "[CV 3/5; 1/10] END max_depth=1, n_estimators=300, reg_lambda=0.5;, score=0.900 total time=   0.7s\n",
            "[CV 4/5; 1/10] START max_depth=1, n_estimators=300, reg_lambda=0.5..............\n",
            "[CV 4/5; 1/10] END max_depth=1, n_estimators=300, reg_lambda=0.5;, score=0.933 total time=   0.5s\n",
            "[CV 5/5; 1/10] START max_depth=1, n_estimators=300, reg_lambda=0.5..............\n",
            "[CV 5/5; 1/10] END max_depth=1, n_estimators=300, reg_lambda=0.5;, score=0.967 total time=   0.0s\n",
            "[CV 1/5; 2/10] START max_depth=7, n_estimators=400, reg_lambda=0.01.............\n",
            "[CV 1/5; 2/10] END max_depth=7, n_estimators=400, reg_lambda=0.01;, score=0.967 total time=   0.1s\n",
            "[CV 2/5; 2/10] START max_depth=7, n_estimators=400, reg_lambda=0.01.............\n",
            "[CV 2/5; 2/10] END max_depth=7, n_estimators=400, reg_lambda=0.01;, score=0.967 total time=   0.1s\n",
            "[CV 3/5; 2/10] START max_depth=7, n_estimators=400, reg_lambda=0.01.............\n",
            "[CV 3/5; 2/10] END max_depth=7, n_estimators=400, reg_lambda=0.01;, score=0.933 total time=   0.1s\n",
            "[CV 4/5; 2/10] START max_depth=7, n_estimators=400, reg_lambda=0.01.............\n",
            "[CV 4/5; 2/10] END max_depth=7, n_estimators=400, reg_lambda=0.01;, score=0.933 total time=   0.1s\n",
            "[CV 5/5; 2/10] START max_depth=7, n_estimators=400, reg_lambda=0.01.............\n",
            "[CV 5/5; 2/10] END max_depth=7, n_estimators=400, reg_lambda=0.01;, score=0.967 total time=   0.1s\n",
            "[CV 1/5; 3/10] START max_depth=5, n_estimators=200, reg_lambda=0.1..............\n",
            "[CV 1/5; 3/10] END max_depth=5, n_estimators=200, reg_lambda=0.1;, score=0.967 total time=   0.0s\n",
            "[CV 2/5; 3/10] START max_depth=5, n_estimators=200, reg_lambda=0.1..............\n",
            "[CV 2/5; 3/10] END max_depth=5, n_estimators=200, reg_lambda=0.1;, score=0.967 total time=   0.0s\n",
            "[CV 3/5; 3/10] START max_depth=5, n_estimators=200, reg_lambda=0.1..............\n",
            "[CV 3/5; 3/10] END max_depth=5, n_estimators=200, reg_lambda=0.1;, score=0.933 total time=   0.0s\n",
            "[CV 4/5; 3/10] START max_depth=5, n_estimators=200, reg_lambda=0.1..............\n",
            "[CV 4/5; 3/10] END max_depth=5, n_estimators=200, reg_lambda=0.1;, score=0.933 total time=   0.0s\n",
            "[CV 5/5; 3/10] START max_depth=5, n_estimators=200, reg_lambda=0.1..............\n",
            "[CV 5/5; 3/10] END max_depth=5, n_estimators=200, reg_lambda=0.1;, score=0.967 total time=   0.0s\n",
            "[CV 1/5; 4/10] START max_depth=3, n_estimators=300, reg_lambda=0.01.............\n",
            "[CV 1/5; 4/10] END max_depth=3, n_estimators=300, reg_lambda=0.01;, score=0.967 total time=   0.0s\n",
            "[CV 2/5; 4/10] START max_depth=3, n_estimators=300, reg_lambda=0.01.............\n",
            "[CV 2/5; 4/10] END max_depth=3, n_estimators=300, reg_lambda=0.01;, score=0.967 total time=   0.0s\n",
            "[CV 3/5; 4/10] START max_depth=3, n_estimators=300, reg_lambda=0.01.............\n",
            "[CV 3/5; 4/10] END max_depth=3, n_estimators=300, reg_lambda=0.01;, score=0.933 total time=   0.0s\n",
            "[CV 4/5; 4/10] START max_depth=3, n_estimators=300, reg_lambda=0.01.............\n",
            "[CV 4/5; 4/10] END max_depth=3, n_estimators=300, reg_lambda=0.01;, score=0.933 total time=   0.0s\n",
            "[CV 5/5; 4/10] START max_depth=3, n_estimators=300, reg_lambda=0.01.............\n",
            "[CV 5/5; 4/10] END max_depth=3, n_estimators=300, reg_lambda=0.01;, score=0.967 total time=   0.0s\n",
            "[CV 1/5; 5/10] START max_depth=3, n_estimators=100, reg_lambda=0.1..............\n",
            "[CV 1/5; 5/10] END max_depth=3, n_estimators=100, reg_lambda=0.1;, score=0.967 total time=   0.0s\n",
            "[CV 2/5; 5/10] START max_depth=3, n_estimators=100, reg_lambda=0.1..............\n",
            "[CV 2/5; 5/10] END max_depth=3, n_estimators=100, reg_lambda=0.1;, score=0.967 total time=   0.0s\n",
            "[CV 3/5; 5/10] START max_depth=3, n_estimators=100, reg_lambda=0.1..............\n",
            "[CV 3/5; 5/10] END max_depth=3, n_estimators=100, reg_lambda=0.1;, score=0.933 total time=   0.0s\n",
            "[CV 4/5; 5/10] START max_depth=3, n_estimators=100, reg_lambda=0.1..............\n",
            "[CV 4/5; 5/10] END max_depth=3, n_estimators=100, reg_lambda=0.1;, score=0.933 total time=   0.0s\n",
            "[CV 5/5; 5/10] START max_depth=3, n_estimators=100, reg_lambda=0.1..............\n",
            "[CV 5/5; 5/10] END max_depth=3, n_estimators=100, reg_lambda=0.1;, score=0.967 total time=   0.0s\n",
            "[CV 1/5; 6/10] START max_depth=1, n_estimators=200, reg_lambda=0.1..............\n",
            "[CV 1/5; 6/10] END max_depth=1, n_estimators=200, reg_lambda=0.1;, score=0.967 total time=   0.0s\n",
            "[CV 2/5; 6/10] START max_depth=1, n_estimators=200, reg_lambda=0.1..............\n",
            "[CV 2/5; 6/10] END max_depth=1, n_estimators=200, reg_lambda=0.1;, score=0.967 total time=   0.0s\n",
            "[CV 3/5; 6/10] START max_depth=1, n_estimators=200, reg_lambda=0.1..............\n",
            "[CV 3/5; 6/10] END max_depth=1, n_estimators=200, reg_lambda=0.1;, score=0.900 total time=   0.0s\n",
            "[CV 4/5; 6/10] START max_depth=1, n_estimators=200, reg_lambda=0.1..............\n",
            "[CV 4/5; 6/10] END max_depth=1, n_estimators=200, reg_lambda=0.1;, score=0.933 total time=   0.0s\n",
            "[CV 5/5; 6/10] START max_depth=1, n_estimators=200, reg_lambda=0.1..............\n",
            "[CV 5/5; 6/10] END max_depth=1, n_estimators=200, reg_lambda=0.1;, score=0.967 total time=   0.0s\n",
            "[CV 1/5; 7/10] START max_depth=7, n_estimators=300, reg_lambda=0.01.............\n",
            "[CV 1/5; 7/10] END max_depth=7, n_estimators=300, reg_lambda=0.01;, score=0.967 total time=   0.1s\n",
            "[CV 2/5; 7/10] START max_depth=7, n_estimators=300, reg_lambda=0.01.............\n",
            "[CV 2/5; 7/10] END max_depth=7, n_estimators=300, reg_lambda=0.01;, score=0.967 total time=   0.0s\n",
            "[CV 3/5; 7/10] START max_depth=7, n_estimators=300, reg_lambda=0.01.............\n",
            "[CV 3/5; 7/10] END max_depth=7, n_estimators=300, reg_lambda=0.01;, score=0.933 total time=   0.0s\n",
            "[CV 4/5; 7/10] START max_depth=7, n_estimators=300, reg_lambda=0.01.............\n",
            "[CV 4/5; 7/10] END max_depth=7, n_estimators=300, reg_lambda=0.01;, score=0.933 total time=   0.1s\n",
            "[CV 5/5; 7/10] START max_depth=7, n_estimators=300, reg_lambda=0.01.............\n",
            "[CV 5/5; 7/10] END max_depth=7, n_estimators=300, reg_lambda=0.01;, score=0.967 total time=   0.1s\n",
            "[CV 1/5; 8/10] START max_depth=1, n_estimators=300, reg_lambda=0.1..............\n",
            "[CV 1/5; 8/10] END max_depth=1, n_estimators=300, reg_lambda=0.1;, score=0.967 total time=   0.0s\n",
            "[CV 2/5; 8/10] START max_depth=1, n_estimators=300, reg_lambda=0.1..............\n",
            "[CV 2/5; 8/10] END max_depth=1, n_estimators=300, reg_lambda=0.1;, score=0.967 total time=   0.0s\n",
            "[CV 3/5; 8/10] START max_depth=1, n_estimators=300, reg_lambda=0.1..............\n",
            "[CV 3/5; 8/10] END max_depth=1, n_estimators=300, reg_lambda=0.1;, score=0.900 total time=   0.0s\n",
            "[CV 4/5; 8/10] START max_depth=1, n_estimators=300, reg_lambda=0.1..............\n",
            "[CV 4/5; 8/10] END max_depth=1, n_estimators=300, reg_lambda=0.1;, score=0.933 total time=   0.0s\n",
            "[CV 5/5; 8/10] START max_depth=1, n_estimators=300, reg_lambda=0.1..............\n",
            "[CV 5/5; 8/10] END max_depth=1, n_estimators=300, reg_lambda=0.1;, score=0.967 total time=   0.0s\n",
            "[CV 1/5; 9/10] START max_depth=7, n_estimators=200, reg_lambda=0.01.............\n",
            "[CV 1/5; 9/10] END max_depth=7, n_estimators=200, reg_lambda=0.01;, score=0.967 total time=   0.0s\n",
            "[CV 2/5; 9/10] START max_depth=7, n_estimators=200, reg_lambda=0.01.............\n",
            "[CV 2/5; 9/10] END max_depth=7, n_estimators=200, reg_lambda=0.01;, score=0.967 total time=   0.0s\n",
            "[CV 3/5; 9/10] START max_depth=7, n_estimators=200, reg_lambda=0.01.............\n",
            "[CV 3/5; 9/10] END max_depth=7, n_estimators=200, reg_lambda=0.01;, score=0.933 total time=   0.0s\n",
            "[CV 4/5; 9/10] START max_depth=7, n_estimators=200, reg_lambda=0.01.............\n",
            "[CV 4/5; 9/10] END max_depth=7, n_estimators=200, reg_lambda=0.01;, score=0.933 total time=   0.0s\n",
            "[CV 5/5; 9/10] START max_depth=7, n_estimators=200, reg_lambda=0.01.............\n",
            "[CV 5/5; 9/10] END max_depth=7, n_estimators=200, reg_lambda=0.01;, score=0.967 total time=   0.0s\n",
            "[CV 1/5; 10/10] START max_depth=1, n_estimators=100, reg_lambda=0.1.............\n",
            "[CV 1/5; 10/10] END max_depth=1, n_estimators=100, reg_lambda=0.1;, score=0.967 total time=   0.0s\n",
            "[CV 2/5; 10/10] START max_depth=1, n_estimators=100, reg_lambda=0.1.............\n",
            "[CV 2/5; 10/10] END max_depth=1, n_estimators=100, reg_lambda=0.1;, score=0.967 total time=   0.0s\n",
            "[CV 3/5; 10/10] START max_depth=1, n_estimators=100, reg_lambda=0.1.............\n",
            "[CV 3/5; 10/10] END max_depth=1, n_estimators=100, reg_lambda=0.1;, score=0.900 total time=   0.0s\n",
            "[CV 4/5; 10/10] START max_depth=1, n_estimators=100, reg_lambda=0.1.............\n",
            "[CV 4/5; 10/10] END max_depth=1, n_estimators=100, reg_lambda=0.1;, score=0.933 total time=   0.0s\n",
            "[CV 5/5; 10/10] START max_depth=1, n_estimators=100, reg_lambda=0.1.............\n",
            "[CV 5/5; 10/10] END max_depth=1, n_estimators=100, reg_lambda=0.1;, score=0.967 total time=   0.0s\n",
            "{'reg_lambda': 0.01, 'n_estimators': 400, 'max_depth': 7}\n",
            "XGBClassifier(base_score=None, booster=None, callbacks=None,\n",
            "              colsample_bylevel=None, colsample_bynode=None,\n",
            "              colsample_bytree=None, device=None, early_stopping_rounds=None,\n",
            "              enable_categorical=False, eval_metric=None, feature_types=None,\n",
            "              gamma=None, grow_policy=None, importance_type=None,\n",
            "              interaction_constraints=None, learning_rate=None, max_bin=None,\n",
            "              max_cat_threshold=None, max_cat_to_onehot=None,\n",
            "              max_delta_step=None, max_depth=7, max_leaves=None,\n",
            "              min_child_weight=None, missing=nan, monotone_constraints=None,\n",
            "              multi_strategy=None, n_estimators=400, n_jobs=None,\n",
            "              num_parallel_tree=None, objective='multi:softprob', ...)\n",
            "0.9533333333333334\n"
          ]
        }
      ],
      "source": [
        "#defining a set of values as a dictionary for hyperparameters\n",
        "\n",
        "param_grid = {\n",
        "    \"n_estimators\":[100,200,300,400],\n",
        "    \"max_depth\":[1,3,5,7],\n",
        "    \"reg_lambda\":[.01,.1,.5]    \n",
        "}\n",
        "\n",
        "#declaring RandomizedSearchCV model\n",
        "\n",
        "model = model_selection.RandomizedSearchCV(\n",
        "    estimator = clf,\n",
        "    param_distributions = param_grid,\n",
        "    scoring = 'accuracy',\n",
        "    verbose = 10,\n",
        "    n_jobs = 1,\n",
        "    cv = 5,\n",
        "    n_iter=10\n",
        ")\n",
        "\n",
        "#fitting values to the RandomizedSearchCV model\n",
        "\n",
        "model.fit(X,y)\n",
        "\n",
        "#printing the best possible values to enhance accuracy\n",
        "\n",
        "print(model.best_params_)\n",
        "print(model.best_estimator_)\n",
        "#printing the best score\n",
        "print(model.best_score_)"
      ]
    },
    {
      "cell_type": "markdown",
      "metadata": {
        "id": "RaVcCEqfb3dL"
      },
      "source": [
        "## 3. Bayesian optimization\n",
        "\n",
        "- 참고 : https://wooono.tistory.com/102\n",
        "\n",
        "Bayesian Optimization 은 어느 입력값(x)를 받는 미지의 목적 함수 (f(x))를 판단하고 결정하여, 해당 함숫값 (f(x))을 최대로 만드는 최적해를 찾는 것을 목적으로 합니다.\n",
        "\n",
        "즉, 목적 함수(탐색대상함수)와 하이퍼파라미터 쌍(pair)을 대상으로 Surrogate Model(대체 모델) 을 만들고,\n",
        "순차적으로 하이퍼 파라미터를 업데이트해 가면서 평가를 통해 최적의 하이퍼파라미터 조합을 탐색합니다.\n",
        "이 때의 목적 함수를 black-box function 이라고 합니다.\n",
        "Bayesian Optimization 에는 두 가지 필수 요소가 존재합니다.\n",
        "\n",
        "먼저 Surrogate Model 은, 현재까지 조사된 입력값-함숫결과값 점들 $(x_1, f(x_1)),...,(x_t, f(x_t))$ 을 바탕으로, 미지의 목적 함수의 형태에 대한 확률적인 추정을 수행하는 모델을 지칭합니다. 그리고 Acquisition Function 은, 목적 함수에 대한 현재까지의 확률적 추정 결과를 바탕으로, ‘최적 입력값을 찾는 데 있어 가장 유용할 만한’ 다음 입력값 후보를 추천해 주는 함수를 지칭합니다."
      ]
    },
    {
      "cell_type": "markdown",
      "metadata": {
        "id": "O40L9E6lb5EN"
      },
      "source": [
        "<img src='https://img1.daumcdn.net/thumb/R1280x0/?scode=mtistory2&fname=https%3A%2F%2Fblog.kakaocdn.net%2Fdn%2Fb33tsP%2FbtraMpvxJG0%2FSn7uQK7k910IQ7cP3ZM9vk%2Fimg.png'>"
      ]
    },
    {
      "cell_type": "markdown",
      "metadata": {
        "id": "FZ_RPKfO0Qq8"
      },
      "source": [
        "- 대략적인 수행 과정\n",
        "\n",
        "    - 위의 파란색 선은, 우리가 찾으려고 하는 목적함수 f(x) 를 나타내고,\n",
        "    - 검정색 점선은, 지금까지 관측한 데이터를 바탕으로 우리가 예측한 estimated function 을 의미합니다.\n",
        "    - 검정색 점선 주변에 있는 파란 영역은, 목적함수 f(x) 가 존재할만한 confidence bound(function의 variance) 를 의미합니다.\n",
        "    - 밑에 있는 EI(x) 는, Acquisition function 을 의미하며, 다음 입력값 후보 추천 시 사용됩니다.\n",
        "    - Acquisition function 값이 컸던 지점을 확인하고, 해당 지점의 hyperparameter 를 다음 입력 값으로 사용합니다.\n",
        "    - hyperparamter 에 따라 estimated function 을 계속 update 하면, estimation function 과 목적 함수 f(x) 가 흡사해집니다.\n",
        "    - 관측한 지점 중 best point 을 argmax f(x) 로 선택합니다.\n",
        "- 자세한 수행 과정\n",
        "\n",
        "    - 입력값, 목적 함수 및 그 외 설정값들을 정의합니다.\n",
        "\n",
        "        - 입력값 x : 여러가지 hyperparameter\n",
        "        - 목적 함수 f(x) : 설정한 입력값을 적용해 학습한, 딥러닝 모델의 성능 결과 수치(e.g. 정확도)\n",
        "        - 입력값 x 의 탐색 대상 구간 : (a,b)\n",
        "        - 입력값-함숫결과값 점들의 갯수 : n\n",
        "        - 조사할 입력값-함숫결과값 점들의 갯수 : N\n",
        "    - 설정한 탐색 대상 구간 (a,b) 내에서 처음 n 개의 입력값들을 랜덤하게 샘플링하여 선택합니다.\n",
        "\n",
        "    - 선택한 n 개의 입력값 x1, x2, ..., xn 을 각각 모델의 hyperparameter 로 설정하여 딥러닝 모델을 학습한 뒤, 학습이 완료된 모델의 성능 결과 수치를 계산합니다.\n",
        "\n",
        "        - 이들을 각각 함숫결과값 f(x1), f(x2), ..., f(xn) 으로 간주합니다.\n",
        "입력값-함숫결과값 점들의 모음 (x1, f(x1)), (x2, f(x2)), ..., (xn, f(xn)) 에 대하여 Surrogate Model 로 확률적 추정을 수행합니다.\n",
        "\n",
        "    - 조사된 입력값-함숫결과값 점들이 총 N 개에 도달할 때까지, 아래의 과정을 반복적으로 수행합니다.\n",
        "\n",
        "        - 기존 입력값-함숫결과값 점들의 모음 (x1, f(x1)),(x2, f(x2)), ..., (xt, f(xt)) 에 대한 Surrogate Model 의 확률적 추정 결과를 바탕으로, 입력값 구간 (a,b) 내에서의 EI 의 값을 계산하고, 그 값이 가장 큰 점을 다음 입력값 후보 x1 로 선정합니다.\n",
        "        - 다음 입력값 후보 x1 를 hyperparameter 로 설정하여 딥러닝 모델을 학습한 뒤, 학습이 완료된 모델의 성능 결과 수치를 계산하고, 이를 f(x1) 값으로 간주합니다.\n",
        "        - 새로운 점 (x2, f(x2)) 을 기존 입력값-함숫결과값 점들의 모음에 추가하고, 갱신된 점들의 모음에 대하여 Surrogate Model 로 확률적 추정을 다시 수행합니다.\n",
        "        - 총 N 개의 입력값-함숫결과값 점들에 대하여 확률적으로 추정된 목적 함수 결과물을 바탕으로, 평균 함수 μ(x) 을 최대로 만드는 최적해를 최종 선택합니다. 추후 해당값을 hyperparameter 로 사용하여 딥러닝 모델을 학습하면, 일반화 성능이 극대화된 모델을 얻을 수 있습니다.\n",
        "\n"
      ]
    },
    {
      "cell_type": "markdown",
      "metadata": {},
      "source": [
        "grid search와 random search는 f(x)값에 관계없이 하이퍼 파라미터를 집어넣은 후에 최종 정확도를 비교하지만   \n",
        "bayesian optimization은 기존 입력값과 f(x)값을 바탕으로 하이퍼 파라미터 집합과 일반화 성능을 모델링한 surrogate model을 생성하고   \n",
        "acquisition function이 최대가 되는 surrogate model을 계속 다시 모델링하면서 추정값이 실제 목적함수에 근사하게 되고 근사한 함수에서 최적값을 찾을 수 있다."
      ]
    },
    {
      "cell_type": "code",
      "execution_count": null,
      "metadata": {
        "id": "nyr_1tlmbwyk"
      },
      "outputs": [],
      "source": [
        "def black_box_function(x, y):\n",
        "    \"\"\"Function with unknown internals we wish to maximize.\n",
        "\n",
        "    This is just serving as an example, for all intents and\n",
        "    purposes think of the internals of this function, i.e.: the process\n",
        "    which generates its output values, as unknown.\n",
        "    \"\"\"\n",
        "    return -x ** 2 - (y - 1) ** 2 + 1"
      ]
    },
    {
      "cell_type": "code",
      "execution_count": null,
      "metadata": {
        "id": "tjXwJ9Xmb6-d"
      },
      "outputs": [],
      "source": [
        "!pip install bayesian-optimization"
      ]
    },
    {
      "cell_type": "code",
      "execution_count": null,
      "metadata": {
        "id": "WDguW3mcb7Ab"
      },
      "outputs": [],
      "source": [
        "from bayes_opt import BayesianOptimization\n",
        "\n",
        "# Bounded region of parameter space\n",
        "pbounds = {'x': (2, 4), 'y': (-3, 3)}\n",
        "\n",
        "optimizer = BayesianOptimization(\n",
        "    f=black_box_function,\n",
        "    pbounds=pbounds,\n",
        "    random_state=1,\n",
        ")"
      ]
    },
    {
      "cell_type": "markdown",
      "metadata": {
        "id": "T5TAgbkzb9iL"
      },
      "source": [
        "- n_iter: How many steps of bayesian optimization you want to perform. The more steps the more likely to find a good maximum you are.\n",
        "\n",
        "- init_points: How many steps of random exploration you want to perform. Random exploration can help by diversifying the exploration space."
      ]
    },
    {
      "cell_type": "code",
      "execution_count": null,
      "metadata": {
        "id": "hUs3G-ccb7Cr"
      },
      "outputs": [],
      "source": [
        "optimizer.maximize(\n",
        "    init_points=2,\n",
        "    n_iter=3,\n",
        ")"
      ]
    },
    {
      "cell_type": "code",
      "execution_count": null,
      "metadata": {
        "id": "jOnAhNQVb_aV"
      },
      "outputs": [],
      "source": [
        "print(optimizer.max)"
      ]
    },
    {
      "cell_type": "code",
      "execution_count": null,
      "metadata": {
        "id": "Th9v5FM1cAOi"
      },
      "outputs": [],
      "source": [
        "for i, res in enumerate(optimizer.res):\n",
        "    print(\"Iteration {}: \\n\\t{}\".format(i, res))"
      ]
    },
    {
      "cell_type": "code",
      "execution_count": null,
      "metadata": {
        "id": "LBZZaoFNcBMC"
      },
      "outputs": [],
      "source": [
        "optimizer.set_bounds(new_bounds={\"x\": (-2, 3)})\n",
        "\n",
        "optimizer.maximize(\n",
        "    init_points=0,\n",
        "    n_iter=5,\n",
        ")\n"
      ]
    },
    {
      "cell_type": "markdown",
      "metadata": {
        "id": "VnAbSHdbze4c"
      },
      "source": [
        "- xgboost 하이퍼 파라미터 최적화"
      ]
    },
    {
      "cell_type": "code",
      "execution_count": null,
      "metadata": {
        "id": "LT41dfDjztml"
      },
      "outputs": [],
      "source": [
        "#import packages\n",
        "import pandas as pd\n",
        "import numpy as np\n",
        "from sklearn.datasets import load_iris\n",
        "\n",
        "#Loading iris dataset from sklearn\n",
        "iris = load_iris()\n",
        "\n",
        "#independent feautres\n",
        "X = iris.data\n",
        "\n",
        "# target features\n",
        "y = iris.target"
      ]
    },
    {
      "cell_type": "code",
      "execution_count": null,
      "metadata": {
        "id": "6_2WiA3szymE"
      },
      "outputs": [],
      "source": [
        "from sklearn.model_selection import train_test_split\n",
        "X_train,X_test,y_train,y_test = train_test_split(X,y,test_size=0.2, stratify=y)"
      ]
    },
    {
      "cell_type": "code",
      "execution_count": null,
      "metadata": {
        "id": "Xn6GBBVVzdRN"
      },
      "outputs": [],
      "source": [
        "from sklearn.metrics import r2_score, mean_squared_error\n",
        "import xgboost as xgb\n",
        "\n",
        "# MAPE Metric\n",
        "def mean_absolute_percentage_error(y_test, y_pred):\n",
        "    y_test, y_pred = np.array(y_test), np.array(y_pred)\n",
        "    return np.mean(np.abs((y_test - y_pred) / y_test)) * 100\n",
        "\n",
        "# 탐색 대상 함수 (XGBRegressor)\n",
        "def XGB_cv(max_depth,learning_rate, n_estimators, gamma\n",
        "            ,min_child_weight, subsample\n",
        "            ,colsample_bytree, silent=True, nthread=-1):\n",
        "\n",
        "    # 모델 정의\n",
        "    model = xgb.XGBRegressor(max_depth=int(max_depth),\n",
        "                            learning_rate=learning_rate,\n",
        "                            n_estimators=int(n_estimators),\n",
        "                            gamma=gamma,\n",
        "                            min_child_weight=min_child_weight,\n",
        "                            subsample=subsample,\n",
        "                            colsample_bytree=colsample_bytree, \n",
        "                            nthread=nthread\n",
        "                            )\n",
        "    # 모델 훈련\n",
        "    model.fit(X_train, y_train)\n",
        "\n",
        "    # 예측값 출력\n",
        "    y_pred= model.predict(X_test)\n",
        "\n",
        "    # 각종 metric 계산\n",
        "    rmse = np.sqrt(mean_squared_error(y_test, y_pred))\n",
        "    r2 = r2_score(y_test, y_pred)\n",
        "    mape = mean_absolute_percentage_error(y_test, y_pred)\n",
        "\n",
        "    # 오차 최적화로 사용할 metric 반환\n",
        "    return r2"
      ]
    },
    {
      "cell_type": "code",
      "execution_count": null,
      "metadata": {
        "id": "qnvOOx3Tzjzs"
      },
      "outputs": [],
      "source": [
        "#  bayesian-optimization 라이브러리의 BayesianOptimization 클래스 import\n",
        "from bayes_opt import BayesianOptimization\n",
        "import numpy as np\n",
        "\n",
        "# 실험해보고자하는 hyperparameter 집합\n",
        "pbounds = {'max_depth': (3, 7),\n",
        "            'learning_rate': (0.01, 0.2),\n",
        "            'n_estimators': (5000, 10000),\n",
        "            'gamma': (0, 100),\n",
        "            'min_child_weight': (0, 3),\n",
        "            'subsample': (0.5, 1),\n",
        "            'colsample_bytree' :(0.2, 1)\n",
        "            }\n",
        "\n",
        "# Bayesian optimization 객체 생성\n",
        "# f : 탐색 대상 함수, pbounds : hyperparameter 집합\n",
        "# verbose = 2 항상 출력, verbose = 1 최댓값일 때 출력, verbose = 0 출력 안함\n",
        "# random_state : Bayesian Optimization 상의 랜덤성이 존재하는 부분을 통제 \n",
        "bo=BayesianOptimization(f=XGB_cv, pbounds=pbounds, verbose=2, random_state=1 )    \n",
        "\n",
        "# 메소드를 이용해 최대화 과정 수행\n",
        "# init_points :  초기 Random Search 갯수\n",
        "# n_iter : 반복 횟수 (몇개의 입력값-함숫값 점들을 확인할지! 많을 수록 정확한 값을 얻을 수 있다.)\n",
        "# acq : Acquisition Function들 중 Expected Improvement(EI) 를 사용\n",
        "# xi : exploration 강도 (기본값은 0.0)\n",
        "bo.maximize(init_points=2, n_iter=10, acq='ei', xi=0.01)\n",
        "\n",
        "# ‘iter’는 반복 회차, ‘target’은 목적 함수의 값, 나머지는 입력값을 나타냅니다. \n",
        "# 현재 회차 이전까지 조사된 함숫값들과 비교하여, 현재 회차에 최댓값이 얻어진 경우, \n",
        "# bayesian-optimization 라이브러리는 이를 자동으로 다른 색 글자로 표시하는 것을 확인할 수 있습니다\n",
        "\n",
        "# 찾은 파라미터 값 확인\n",
        "print(bo.max)"
      ]
    },
    {
      "cell_type": "markdown",
      "metadata": {
        "id": "oNOGx7UrcCXN"
      },
      "source": [
        "# 4.Hyperopt\n",
        "\n",
        "- HyperOpt는 자동화된 하이퍼파라미터 튜닝 프레임워크로서, fmin()이라는 함수 안에는 3가지의 파라미터가 있다:\n",
        "\n",
        "    - Objective Function: 최소화할 손실 함수\n",
        "    - Domain Space: 탐색 범위. 베이지안 최적화에서는 이 범위가 각  하이퍼파라미터에 대해 통계 분포를 만들어낸다.\n",
        "    - Optimization Algorithm : 최적의 조합을 찾기 위한 알고리즘\n",
        "\n",
        "참고 : https://velog.io/@emseoyk/%ED%95%98%EC%9D%B4%ED%8D%BC%ED%8C%8C%EB%9D%BC%EB%AF%B8%ED%84%B0-%ED%8A%9C%EB%8B%9D"
      ]
    },
    {
      "cell_type": "code",
      "execution_count": null,
      "metadata": {
        "id": "K-k_fxgjcDeQ"
      },
      "outputs": [],
      "source": [
        "!pip install scikit-optimize"
      ]
    },
    {
      "cell_type": "code",
      "execution_count": null,
      "metadata": {
        "id": "iM-SA_qFcEQ-"
      },
      "outputs": [],
      "source": [
        "#importing packages \n",
        "\n",
        "from hyperopt import hp,fmin, tpe, Trials\n",
        "\n",
        "from hyperopt.pyll.base import scope\n",
        "\n",
        "from functools import partial\n",
        "\n",
        "from skopt import space\n",
        "\n",
        "from skopt import gp_minimize\n",
        "\n",
        "#defining a method that will perfrom a 5 split cross validation over\n",
        "\n",
        "#dataset and and will produce the optimum value of the accuracy\n",
        "\n",
        "def optimize(params, x,y):\n",
        "\n",
        "    clf = XGBClassifier(**params)\n",
        "\n",
        "    kf = model_selection.StratifiedKFold(n_splits=5)\n",
        "\n",
        "    accuracies = []\n",
        "\n",
        "    for idx in kf.split(X=x,y=y):\n",
        "\n",
        "        train_idx,test_idx = idx[0],idx[1]\n",
        "\n",
        "        xtrain = x[train_idx]\n",
        "\n",
        "        ytrain = y[train_idx]\n",
        "\n",
        "        xtest = x[test_idx]\n",
        "\n",
        "        ytest = y[test_idx]\n",
        "\n",
        "        clf.fit(xtrain,ytrain)\n",
        "\n",
        "        preds =  clf.predict(xtest)\n",
        "\n",
        "        fold_acc = metrics.accuracy_score(ytest,preds)\n",
        "\n",
        "        accuracies.append(fold_acc)\n",
        "\n",
        "    return -1.0 * np.mean(accuracies)\n",
        "\n",
        "#defining a set of values as hp for hyperparameters\n",
        "\n",
        "param_space = {\n",
        "\n",
        "    \"max_depth\" : scope.int(hp.quniform(\"max_depth\",3,20, 1)) ,\n",
        "\n",
        "    \"min_child_weight\" : scope.int(hp.quniform(\"min_child_weight\",1,8, 1)),\n",
        "\n",
        "    \"n_estimators\": scope.int(hp.quniform(\"n_estimators\",100,1500,1)),\n",
        "\n",
        "    'learning_rate': hp.uniform(\"learning_rate\",0.01,1),\n",
        "\n",
        "    'reg_lambda': hp.uniform(\"reg_lambda\",0.01,1),\n",
        "\n",
        "    'gamma': hp.uniform(\"gamma\",0.01,1),\n",
        "\n",
        "    'subsample': hp.uniform(\"subsample\",0.01,1)\n",
        "\n",
        "    }\n",
        "\n",
        "#defiing optimization_fuction as partial and calling optimize within it\n",
        "\n",
        "optimization_fuction = partial(optimize,x = X, y = y) \n",
        "\n",
        "trials = Trials()\n",
        "\n",
        "#Getting the optimum values for hyperparameters\n",
        "\n",
        "result = fmin(\n",
        "\n",
        "    fn = optimization_fuction,\n",
        "\n",
        "    space = param_space,\n",
        "\n",
        "    algo = tpe.suggest,\n",
        "\n",
        "    max_evals = 15,\n",
        "\n",
        "    trials = trials\n",
        "\n",
        ")\n",
        "\n",
        "#Printing the best hyperparemeter set\n",
        "\n",
        "print(result)"
      ]
    },
    {
      "cell_type": "markdown",
      "metadata": {
        "id": "gaNtLF72cFZ6"
      },
      "source": [
        "# 5. Optuna ****************\n",
        "\n",
        "- Optuna는 ML 알고리즘의 하이퍼파라미터 튜닝을 자동화해주는 오픈소스 툴입니다. 유사한 툴로 Hyperopt가 있지만 사용성과 문서화, 시각화 제공 여부 등에서 Optuna의 손을 들어주는 경우가 많음.\n",
        "\n",
        "- 하이퍼파라미터 튜닝에 쓰고 있는 최신 Automl 기법입니다.\n",
        "- 빠르게 튜닝이 가능하다는 장점이 있음.\n",
        "- 하이퍼파라미터 튜닝 방식을 지정할수 있다. -> 직관적인 api인 튜닝된 lightgbm도 제공해줍니다.\n",
        "\n",
        "- 다른 라이브러리들에 비해 직관적인 장점이 있어 코딩하기 용이합니다.\n"
      ]
    },
    {
      "cell_type": "markdown",
      "metadata": {
        "id": "DgTDs7PVGC37"
      },
      "source": [
        "- 거의 모든 ML/DL 프레임워크에서 사용 가능한 넓은 범용성을 가지고 있다.\n",
        "간단하고 빠르다.\n",
        "- 최신 동향의 다양한 최적화 알고리즘을 갖추고 있다.\n",
        "- 병렬 처리가 가능하다.\n",
        "- 간단한 메소드로 시각화가 가능하다."
      ]
    },
    {
      "cell_type": "markdown",
      "metadata": {
        "id": "wO8cko_zGFGy"
      },
      "source": [
        "- Optuna를 이해하기 위해서는 다음의 용어에 익숙해져야 한다.\n",
        "\n",
        "    - Study: 목적 함수에 기반한 최적화\n",
        "    - Trial: 목적함수 시행\n",
        "- 쉽게 말해 study는 최적화를 하는 과정이고, trial은 다양한 조합으로 목적함수를 시행하는 횟수를 뜻한다.\n",
        "- Study의 목적은 여러 번의 trial을 거쳐 최적의 하이퍼파라미터 조합을 찾는 것이라고 할 수 있겠다."
      ]
    },
    {
      "cell_type": "code",
      "execution_count": 5,
      "metadata": {
        "id": "h3rOl_oqcHAc"
      },
      "outputs": [
        {
          "name": "stdout",
          "output_type": "stream",
          "text": [
            "Collecting optuna\n",
            "  Downloading optuna-3.6.1-py3-none-any.whl.metadata (17 kB)\n",
            "Collecting alembic>=1.5.0 (from optuna)\n",
            "  Downloading alembic-1.13.1-py3-none-any.whl.metadata (7.4 kB)\n",
            "Collecting colorlog (from optuna)\n",
            "  Downloading colorlog-6.8.2-py3-none-any.whl.metadata (10 kB)\n",
            "Requirement already satisfied: numpy in c:\\users\\chldy\\appdata\\local\\programs\\python\\python310\\lib\\site-packages (from optuna) (1.26.4)\n",
            "Requirement already satisfied: packaging>=20.0 in c:\\users\\chldy\\appdata\\local\\programs\\python\\python310\\lib\\site-packages (from optuna) (24.0)\n",
            "Collecting sqlalchemy>=1.3.0 (from optuna)\n",
            "  Downloading SQLAlchemy-2.0.29-cp310-cp310-win_amd64.whl.metadata (9.8 kB)\n",
            "Collecting tqdm (from optuna)\n",
            "  Downloading tqdm-4.66.2-py3-none-any.whl.metadata (57 kB)\n",
            "     ---------------------------------------- 0.0/57.6 kB ? eta -:--:--\n",
            "     ---------------------------------------- 57.6/57.6 kB 3.0 MB/s eta 0:00:00\n",
            "Collecting PyYAML (from optuna)\n",
            "  Downloading PyYAML-6.0.1-cp310-cp310-win_amd64.whl.metadata (2.1 kB)\n",
            "Collecting Mako (from alembic>=1.5.0->optuna)\n",
            "  Downloading Mako-1.3.3-py3-none-any.whl.metadata (2.9 kB)\n",
            "Collecting typing-extensions>=4 (from alembic>=1.5.0->optuna)\n",
            "  Downloading typing_extensions-4.11.0-py3-none-any.whl.metadata (3.0 kB)\n",
            "Collecting greenlet!=0.4.17 (from sqlalchemy>=1.3.0->optuna)\n",
            "  Downloading greenlet-3.0.3-cp310-cp310-win_amd64.whl.metadata (3.9 kB)\n",
            "Collecting colorama (from colorlog->optuna)\n",
            "  Downloading colorama-0.4.6-py2.py3-none-any.whl.metadata (17 kB)\n",
            "Collecting MarkupSafe>=0.9.2 (from Mako->alembic>=1.5.0->optuna)\n",
            "  Downloading MarkupSafe-2.1.5-cp310-cp310-win_amd64.whl.metadata (3.1 kB)\n",
            "Downloading optuna-3.6.1-py3-none-any.whl (380 kB)\n",
            "   ---------------------------------------- 0.0/380.1 kB ? eta -:--:--\n",
            "   --------------------------------------- 380.1/380.1 kB 11.9 MB/s eta 0:00:00\n",
            "Downloading alembic-1.13.1-py3-none-any.whl (233 kB)\n",
            "   ---------------------------------------- 0.0/233.4 kB ? eta -:--:--\n",
            "   --------------------------------------- 233.4/233.4 kB 13.9 MB/s eta 0:00:00\n",
            "Downloading SQLAlchemy-2.0.29-cp310-cp310-win_amd64.whl (2.1 MB)\n",
            "   ---------------------------------------- 0.0/2.1 MB ? eta -:--:--\n",
            "   ---------------- ----------------------- 0.9/2.1 MB 27.4 MB/s eta 0:00:01\n",
            "   ----------------------------------- ---- 1.8/2.1 MB 23.4 MB/s eta 0:00:01\n",
            "   ---------------------------------------- 2.1/2.1 MB 16.5 MB/s eta 0:00:00\n",
            "Downloading colorlog-6.8.2-py3-none-any.whl (11 kB)\n",
            "Downloading PyYAML-6.0.1-cp310-cp310-win_amd64.whl (145 kB)\n",
            "   ---------------------------------------- 0.0/145.3 kB ? eta -:--:--\n",
            "   ---------------------------------------- 145.3/145.3 kB 9.0 MB/s eta 0:00:00\n",
            "Downloading tqdm-4.66.2-py3-none-any.whl (78 kB)\n",
            "   ---------------------------------------- 0.0/78.3 kB ? eta -:--:--\n",
            "   ---------------------------------------- 78.3/78.3 kB 4.5 MB/s eta 0:00:00\n",
            "Downloading greenlet-3.0.3-cp310-cp310-win_amd64.whl (292 kB)\n",
            "   ---------------------------------------- 0.0/292.3 kB ? eta -:--:--\n",
            "   --------------------------------------- 292.3/292.3 kB 17.6 MB/s eta 0:00:00\n",
            "Downloading typing_extensions-4.11.0-py3-none-any.whl (34 kB)\n",
            "Downloading colorama-0.4.6-py2.py3-none-any.whl (25 kB)\n",
            "Downloading Mako-1.3.3-py3-none-any.whl (78 kB)\n",
            "   ---------------------------------------- 0.0/78.8 kB ? eta -:--:--\n",
            "   ---------------------------------------- 78.8/78.8 kB ? eta 0:00:00\n",
            "Downloading MarkupSafe-2.1.5-cp310-cp310-win_amd64.whl (17 kB)\n",
            "Installing collected packages: typing-extensions, PyYAML, MarkupSafe, greenlet, colorama, tqdm, sqlalchemy, Mako, colorlog, alembic, optuna\n",
            "Successfully installed Mako-1.3.3 MarkupSafe-2.1.5 PyYAML-6.0.1 alembic-1.13.1 colorama-0.4.6 colorlog-6.8.2 greenlet-3.0.3 optuna-3.6.1 sqlalchemy-2.0.29 tqdm-4.66.2 typing-extensions-4.11.0\n"
          ]
        },
        {
          "name": "stderr",
          "output_type": "stream",
          "text": [
            "DEPRECATION: mecab-python 0.996-ko-0.9.2-msvc has a non-standard version number. pip 24.1 will enforce this behaviour change. A possible replacement is to upgrade to a newer version of mecab-python or contact the author to suggest that they release a version with a conforming version number. Discussion can be found at https://github.com/pypa/pip/issues/12063\n"
          ]
        }
      ],
      "source": [
        "!pip install optuna"
      ]
    },
    {
      "cell_type": "code",
      "execution_count": 7,
      "metadata": {
        "id": "5fGjE4mrcH8V"
      },
      "outputs": [],
      "source": [
        "#importing all the required packages\n",
        "import optuna\n",
        "from sklearn.datasets import load_iris\n",
        "import sklearn.linear_model\n",
        "import sklearn.metrics\n",
        "from sklearn.model_selection import train_test_split\n",
        "\n",
        "#Loading iris dataset from sklearn\n",
        "iris = load_iris()\n",
        "\n",
        "#independent feautres\n",
        "X = iris.data\n",
        "\n",
        "# target features\n",
        "y = iris.target"
      ]
    },
    {
      "cell_type": "code",
      "execution_count": 8,
      "metadata": {
        "id": "UQYpoUkQcJDG"
      },
      "outputs": [
        {
          "name": "stdout",
          "output_type": "stream",
          "text": [
            "3.6.1\n"
          ]
        }
      ],
      "source": [
        "import optuna\n",
        "print(optuna.__version__)"
      ]
    },
    {
      "cell_type": "code",
      "execution_count": 10,
      "metadata": {
        "id": "1H0r9ygVcKDW"
      },
      "outputs": [
        {
          "name": "stderr",
          "output_type": "stream",
          "text": [
            "[I 2024-04-12 10:13:19,366] A new study created in memory with name: no-name-9047ebc1-effb-4d85-8ca4-25d4855e2d51\n",
            "C:\\Users\\chldy\\AppData\\Local\\Temp\\ipykernel_14372\\3806663716.py:12: FutureWarning: suggest_uniform has been deprecated in v3.0.0. This feature will be removed in v6.0.0. See https://github.com/optuna/optuna/releases/tag/v3.0.0. Use suggest_float instead.\n",
            "  reg_lambda = trial.suggest_uniform('reg_lambda',0.01,1)\n",
            "C:\\Users\\chldy\\AppData\\Local\\Temp\\ipykernel_14372\\3806663716.py:18: FutureWarning: suggest_uniform has been deprecated in v3.0.0. This feature will be removed in v6.0.0. See https://github.com/optuna/optuna/releases/tag/v3.0.0. Use suggest_float instead.\n",
            "  max_features = trial.suggest_uniform('max_features',0.01,1)\n",
            "c:\\Users\\chldy\\anaconda3\\envs\\torch\\lib\\site-packages\\xgboost\\core.py:160: UserWarning: [10:13:19] WARNING: C:\\buildkite-agent\\builds\\buildkite-windows-cpu-autoscaling-group-i-0b3782d1791676daf-1\\xgboost\\xgboost-ci-windows\\src\\learner.cc:742: \n",
            "Parameters: { \"max_features\" } are not used.\n",
            "\n",
            "  warnings.warn(smsg, UserWarning)\n",
            "c:\\Users\\chldy\\anaconda3\\envs\\torch\\lib\\site-packages\\xgboost\\core.py:160: UserWarning: [10:13:20] WARNING: C:\\buildkite-agent\\builds\\buildkite-windows-cpu-autoscaling-group-i-0b3782d1791676daf-1\\xgboost\\xgboost-ci-windows\\src\\learner.cc:742: \n",
            "Parameters: { \"max_features\" } are not used.\n",
            "\n",
            "  warnings.warn(smsg, UserWarning)\n",
            "c:\\Users\\chldy\\anaconda3\\envs\\torch\\lib\\site-packages\\xgboost\\core.py:160: UserWarning: [10:13:20] WARNING: C:\\buildkite-agent\\builds\\buildkite-windows-cpu-autoscaling-group-i-0b3782d1791676daf-1\\xgboost\\xgboost-ci-windows\\src\\learner.cc:742: \n",
            "Parameters: { \"max_features\" } are not used.\n",
            "\n",
            "  warnings.warn(smsg, UserWarning)\n",
            "c:\\Users\\chldy\\anaconda3\\envs\\torch\\lib\\site-packages\\xgboost\\core.py:160: UserWarning: [10:13:21] WARNING: C:\\buildkite-agent\\builds\\buildkite-windows-cpu-autoscaling-group-i-0b3782d1791676daf-1\\xgboost\\xgboost-ci-windows\\src\\learner.cc:742: \n",
            "Parameters: { \"max_features\" } are not used.\n",
            "\n",
            "  warnings.warn(smsg, UserWarning)\n",
            "c:\\Users\\chldy\\anaconda3\\envs\\torch\\lib\\site-packages\\xgboost\\core.py:160: UserWarning: [10:13:21] WARNING: C:\\buildkite-agent\\builds\\buildkite-windows-cpu-autoscaling-group-i-0b3782d1791676daf-1\\xgboost\\xgboost-ci-windows\\src\\learner.cc:742: \n",
            "Parameters: { \"max_features\" } are not used.\n",
            "\n",
            "  warnings.warn(smsg, UserWarning)\n",
            "[I 2024-04-12 10:13:22,421] Trial 0 finished with value: -0.96 and parameters: {'reg_lambda': 0.6736986341226632, 'n_estimators': 1053, 'max_depth': 11, 'max_features': 0.9808315320193841}. Best is trial 0 with value: -0.96.\n",
            "C:\\Users\\chldy\\AppData\\Local\\Temp\\ipykernel_14372\\3806663716.py:12: FutureWarning: suggest_uniform has been deprecated in v3.0.0. This feature will be removed in v6.0.0. See https://github.com/optuna/optuna/releases/tag/v3.0.0. Use suggest_float instead.\n",
            "  reg_lambda = trial.suggest_uniform('reg_lambda',0.01,1)\n",
            "C:\\Users\\chldy\\AppData\\Local\\Temp\\ipykernel_14372\\3806663716.py:18: FutureWarning: suggest_uniform has been deprecated in v3.0.0. This feature will be removed in v6.0.0. See https://github.com/optuna/optuna/releases/tag/v3.0.0. Use suggest_float instead.\n",
            "  max_features = trial.suggest_uniform('max_features',0.01,1)\n",
            "c:\\Users\\chldy\\anaconda3\\envs\\torch\\lib\\site-packages\\xgboost\\core.py:160: UserWarning: [10:13:22] WARNING: C:\\buildkite-agent\\builds\\buildkite-windows-cpu-autoscaling-group-i-0b3782d1791676daf-1\\xgboost\\xgboost-ci-windows\\src\\learner.cc:742: \n",
            "Parameters: { \"max_features\" } are not used.\n",
            "\n",
            "  warnings.warn(smsg, UserWarning)\n",
            "c:\\Users\\chldy\\anaconda3\\envs\\torch\\lib\\site-packages\\xgboost\\core.py:160: UserWarning: [10:13:22] WARNING: C:\\buildkite-agent\\builds\\buildkite-windows-cpu-autoscaling-group-i-0b3782d1791676daf-1\\xgboost\\xgboost-ci-windows\\src\\learner.cc:742: \n",
            "Parameters: { \"max_features\" } are not used.\n",
            "\n",
            "  warnings.warn(smsg, UserWarning)\n",
            "c:\\Users\\chldy\\anaconda3\\envs\\torch\\lib\\site-packages\\xgboost\\core.py:160: UserWarning: [10:13:22] WARNING: C:\\buildkite-agent\\builds\\buildkite-windows-cpu-autoscaling-group-i-0b3782d1791676daf-1\\xgboost\\xgboost-ci-windows\\src\\learner.cc:742: \n",
            "Parameters: { \"max_features\" } are not used.\n",
            "\n",
            "  warnings.warn(smsg, UserWarning)\n",
            "c:\\Users\\chldy\\anaconda3\\envs\\torch\\lib\\site-packages\\xgboost\\core.py:160: UserWarning: [10:13:23] WARNING: C:\\buildkite-agent\\builds\\buildkite-windows-cpu-autoscaling-group-i-0b3782d1791676daf-1\\xgboost\\xgboost-ci-windows\\src\\learner.cc:742: \n",
            "Parameters: { \"max_features\" } are not used.\n",
            "\n",
            "  warnings.warn(smsg, UserWarning)\n",
            "c:\\Users\\chldy\\anaconda3\\envs\\torch\\lib\\site-packages\\xgboost\\core.py:160: UserWarning: [10:13:23] WARNING: C:\\buildkite-agent\\builds\\buildkite-windows-cpu-autoscaling-group-i-0b3782d1791676daf-1\\xgboost\\xgboost-ci-windows\\src\\learner.cc:742: \n",
            "Parameters: { \"max_features\" } are not used.\n",
            "\n",
            "  warnings.warn(smsg, UserWarning)\n",
            "[I 2024-04-12 10:13:23,588] Trial 1 finished with value: -0.9533333333333334 and parameters: {'reg_lambda': 0.78250792550993, 'n_estimators': 531, 'max_depth': 3, 'max_features': 0.4470215877831561}. Best is trial 0 with value: -0.96.\n",
            "C:\\Users\\chldy\\AppData\\Local\\Temp\\ipykernel_14372\\3806663716.py:12: FutureWarning: suggest_uniform has been deprecated in v3.0.0. This feature will be removed in v6.0.0. See https://github.com/optuna/optuna/releases/tag/v3.0.0. Use suggest_float instead.\n",
            "  reg_lambda = trial.suggest_uniform('reg_lambda',0.01,1)\n",
            "C:\\Users\\chldy\\AppData\\Local\\Temp\\ipykernel_14372\\3806663716.py:18: FutureWarning: suggest_uniform has been deprecated in v3.0.0. This feature will be removed in v6.0.0. See https://github.com/optuna/optuna/releases/tag/v3.0.0. Use suggest_float instead.\n",
            "  max_features = trial.suggest_uniform('max_features',0.01,1)\n",
            "c:\\Users\\chldy\\anaconda3\\envs\\torch\\lib\\site-packages\\xgboost\\core.py:160: UserWarning: [10:13:23] WARNING: C:\\buildkite-agent\\builds\\buildkite-windows-cpu-autoscaling-group-i-0b3782d1791676daf-1\\xgboost\\xgboost-ci-windows\\src\\learner.cc:742: \n",
            "Parameters: { \"max_features\" } are not used.\n",
            "\n",
            "  warnings.warn(smsg, UserWarning)\n",
            "c:\\Users\\chldy\\anaconda3\\envs\\torch\\lib\\site-packages\\xgboost\\core.py:160: UserWarning: [10:13:23] WARNING: C:\\buildkite-agent\\builds\\buildkite-windows-cpu-autoscaling-group-i-0b3782d1791676daf-1\\xgboost\\xgboost-ci-windows\\src\\learner.cc:742: \n",
            "Parameters: { \"max_features\" } are not used.\n",
            "\n",
            "  warnings.warn(smsg, UserWarning)\n",
            "c:\\Users\\chldy\\anaconda3\\envs\\torch\\lib\\site-packages\\xgboost\\core.py:160: UserWarning: [10:13:24] WARNING: C:\\buildkite-agent\\builds\\buildkite-windows-cpu-autoscaling-group-i-0b3782d1791676daf-1\\xgboost\\xgboost-ci-windows\\src\\learner.cc:742: \n",
            "Parameters: { \"max_features\" } are not used.\n",
            "\n",
            "  warnings.warn(smsg, UserWarning)\n",
            "c:\\Users\\chldy\\anaconda3\\envs\\torch\\lib\\site-packages\\xgboost\\core.py:160: UserWarning: [10:13:24] WARNING: C:\\buildkite-agent\\builds\\buildkite-windows-cpu-autoscaling-group-i-0b3782d1791676daf-1\\xgboost\\xgboost-ci-windows\\src\\learner.cc:742: \n",
            "Parameters: { \"max_features\" } are not used.\n",
            "\n",
            "  warnings.warn(smsg, UserWarning)\n",
            "c:\\Users\\chldy\\anaconda3\\envs\\torch\\lib\\site-packages\\xgboost\\core.py:160: UserWarning: [10:13:24] WARNING: C:\\buildkite-agent\\builds\\buildkite-windows-cpu-autoscaling-group-i-0b3782d1791676daf-1\\xgboost\\xgboost-ci-windows\\src\\learner.cc:742: \n",
            "Parameters: { \"max_features\" } are not used.\n",
            "\n",
            "  warnings.warn(smsg, UserWarning)\n",
            "[I 2024-04-12 10:13:25,128] Trial 2 finished with value: -0.96 and parameters: {'reg_lambda': 0.7678932132472782, 'n_estimators': 750, 'max_depth': 3, 'max_features': 0.14762133046404124}. Best is trial 0 with value: -0.96.\n",
            "C:\\Users\\chldy\\AppData\\Local\\Temp\\ipykernel_14372\\3806663716.py:12: FutureWarning: suggest_uniform has been deprecated in v3.0.0. This feature will be removed in v6.0.0. See https://github.com/optuna/optuna/releases/tag/v3.0.0. Use suggest_float instead.\n",
            "  reg_lambda = trial.suggest_uniform('reg_lambda',0.01,1)\n",
            "C:\\Users\\chldy\\AppData\\Local\\Temp\\ipykernel_14372\\3806663716.py:18: FutureWarning: suggest_uniform has been deprecated in v3.0.0. This feature will be removed in v6.0.0. See https://github.com/optuna/optuna/releases/tag/v3.0.0. Use suggest_float instead.\n",
            "  max_features = trial.suggest_uniform('max_features',0.01,1)\n",
            "c:\\Users\\chldy\\anaconda3\\envs\\torch\\lib\\site-packages\\xgboost\\core.py:160: UserWarning: [10:13:25] WARNING: C:\\buildkite-agent\\builds\\buildkite-windows-cpu-autoscaling-group-i-0b3782d1791676daf-1\\xgboost\\xgboost-ci-windows\\src\\learner.cc:742: \n",
            "Parameters: { \"max_features\" } are not used.\n",
            "\n",
            "  warnings.warn(smsg, UserWarning)\n",
            "c:\\Users\\chldy\\anaconda3\\envs\\torch\\lib\\site-packages\\xgboost\\core.py:160: UserWarning: [10:13:25] WARNING: C:\\buildkite-agent\\builds\\buildkite-windows-cpu-autoscaling-group-i-0b3782d1791676daf-1\\xgboost\\xgboost-ci-windows\\src\\learner.cc:742: \n",
            "Parameters: { \"max_features\" } are not used.\n",
            "\n",
            "  warnings.warn(smsg, UserWarning)\n",
            "c:\\Users\\chldy\\anaconda3\\envs\\torch\\lib\\site-packages\\xgboost\\core.py:160: UserWarning: [10:13:25] WARNING: C:\\buildkite-agent\\builds\\buildkite-windows-cpu-autoscaling-group-i-0b3782d1791676daf-1\\xgboost\\xgboost-ci-windows\\src\\learner.cc:742: \n",
            "Parameters: { \"max_features\" } are not used.\n",
            "\n",
            "  warnings.warn(smsg, UserWarning)\n",
            "c:\\Users\\chldy\\anaconda3\\envs\\torch\\lib\\site-packages\\xgboost\\core.py:160: UserWarning: [10:13:25] WARNING: C:\\buildkite-agent\\builds\\buildkite-windows-cpu-autoscaling-group-i-0b3782d1791676daf-1\\xgboost\\xgboost-ci-windows\\src\\learner.cc:742: \n",
            "Parameters: { \"max_features\" } are not used.\n",
            "\n",
            "  warnings.warn(smsg, UserWarning)\n",
            "c:\\Users\\chldy\\anaconda3\\envs\\torch\\lib\\site-packages\\xgboost\\core.py:160: UserWarning: [10:13:25] WARNING: C:\\buildkite-agent\\builds\\buildkite-windows-cpu-autoscaling-group-i-0b3782d1791676daf-1\\xgboost\\xgboost-ci-windows\\src\\learner.cc:742: \n",
            "Parameters: { \"max_features\" } are not used.\n",
            "\n",
            "  warnings.warn(smsg, UserWarning)\n",
            "[I 2024-04-12 10:13:26,110] Trial 3 finished with value: -0.9533333333333334 and parameters: {'reg_lambda': 0.7389812627229014, 'n_estimators': 495, 'max_depth': 7, 'max_features': 0.5193364269964741}. Best is trial 0 with value: -0.96.\n",
            "C:\\Users\\chldy\\AppData\\Local\\Temp\\ipykernel_14372\\3806663716.py:12: FutureWarning: suggest_uniform has been deprecated in v3.0.0. This feature will be removed in v6.0.0. See https://github.com/optuna/optuna/releases/tag/v3.0.0. Use suggest_float instead.\n",
            "  reg_lambda = trial.suggest_uniform('reg_lambda',0.01,1)\n",
            "C:\\Users\\chldy\\AppData\\Local\\Temp\\ipykernel_14372\\3806663716.py:18: FutureWarning: suggest_uniform has been deprecated in v3.0.0. This feature will be removed in v6.0.0. See https://github.com/optuna/optuna/releases/tag/v3.0.0. Use suggest_float instead.\n",
            "  max_features = trial.suggest_uniform('max_features',0.01,1)\n",
            "c:\\Users\\chldy\\anaconda3\\envs\\torch\\lib\\site-packages\\xgboost\\core.py:160: UserWarning: [10:13:26] WARNING: C:\\buildkite-agent\\builds\\buildkite-windows-cpu-autoscaling-group-i-0b3782d1791676daf-1\\xgboost\\xgboost-ci-windows\\src\\learner.cc:742: \n",
            "Parameters: { \"max_features\" } are not used.\n",
            "\n",
            "  warnings.warn(smsg, UserWarning)\n",
            "c:\\Users\\chldy\\anaconda3\\envs\\torch\\lib\\site-packages\\xgboost\\core.py:160: UserWarning: [10:13:26] WARNING: C:\\buildkite-agent\\builds\\buildkite-windows-cpu-autoscaling-group-i-0b3782d1791676daf-1\\xgboost\\xgboost-ci-windows\\src\\learner.cc:742: \n",
            "Parameters: { \"max_features\" } are not used.\n",
            "\n",
            "  warnings.warn(smsg, UserWarning)\n",
            "c:\\Users\\chldy\\anaconda3\\envs\\torch\\lib\\site-packages\\xgboost\\core.py:160: UserWarning: [10:13:27] WARNING: C:\\buildkite-agent\\builds\\buildkite-windows-cpu-autoscaling-group-i-0b3782d1791676daf-1\\xgboost\\xgboost-ci-windows\\src\\learner.cc:742: \n",
            "Parameters: { \"max_features\" } are not used.\n",
            "\n",
            "  warnings.warn(smsg, UserWarning)\n",
            "c:\\Users\\chldy\\anaconda3\\envs\\torch\\lib\\site-packages\\xgboost\\core.py:160: UserWarning: [10:13:27] WARNING: C:\\buildkite-agent\\builds\\buildkite-windows-cpu-autoscaling-group-i-0b3782d1791676daf-1\\xgboost\\xgboost-ci-windows\\src\\learner.cc:742: \n",
            "Parameters: { \"max_features\" } are not used.\n",
            "\n",
            "  warnings.warn(smsg, UserWarning)\n",
            "c:\\Users\\chldy\\anaconda3\\envs\\torch\\lib\\site-packages\\xgboost\\core.py:160: UserWarning: [10:13:28] WARNING: C:\\buildkite-agent\\builds\\buildkite-windows-cpu-autoscaling-group-i-0b3782d1791676daf-1\\xgboost\\xgboost-ci-windows\\src\\learner.cc:742: \n",
            "Parameters: { \"max_features\" } are not used.\n",
            "\n",
            "  warnings.warn(smsg, UserWarning)\n",
            "[I 2024-04-12 10:13:28,657] Trial 4 finished with value: -0.96 and parameters: {'reg_lambda': 0.8738343039959998, 'n_estimators': 1287, 'max_depth': 15, 'max_features': 0.579821196494083}. Best is trial 0 with value: -0.96.\n",
            "C:\\Users\\chldy\\AppData\\Local\\Temp\\ipykernel_14372\\3806663716.py:12: FutureWarning: suggest_uniform has been deprecated in v3.0.0. This feature will be removed in v6.0.0. See https://github.com/optuna/optuna/releases/tag/v3.0.0. Use suggest_float instead.\n",
            "  reg_lambda = trial.suggest_uniform('reg_lambda',0.01,1)\n",
            "C:\\Users\\chldy\\AppData\\Local\\Temp\\ipykernel_14372\\3806663716.py:18: FutureWarning: suggest_uniform has been deprecated in v3.0.0. This feature will be removed in v6.0.0. See https://github.com/optuna/optuna/releases/tag/v3.0.0. Use suggest_float instead.\n",
            "  max_features = trial.suggest_uniform('max_features',0.01,1)\n",
            "c:\\Users\\chldy\\anaconda3\\envs\\torch\\lib\\site-packages\\xgboost\\core.py:160: UserWarning: [10:13:28] WARNING: C:\\buildkite-agent\\builds\\buildkite-windows-cpu-autoscaling-group-i-0b3782d1791676daf-1\\xgboost\\xgboost-ci-windows\\src\\learner.cc:742: \n",
            "Parameters: { \"max_features\" } are not used.\n",
            "\n",
            "  warnings.warn(smsg, UserWarning)\n",
            "c:\\Users\\chldy\\anaconda3\\envs\\torch\\lib\\site-packages\\xgboost\\core.py:160: UserWarning: [10:13:28] WARNING: C:\\buildkite-agent\\builds\\buildkite-windows-cpu-autoscaling-group-i-0b3782d1791676daf-1\\xgboost\\xgboost-ci-windows\\src\\learner.cc:742: \n",
            "Parameters: { \"max_features\" } are not used.\n",
            "\n",
            "  warnings.warn(smsg, UserWarning)\n",
            "c:\\Users\\chldy\\anaconda3\\envs\\torch\\lib\\site-packages\\xgboost\\core.py:160: UserWarning: [10:13:29] WARNING: C:\\buildkite-agent\\builds\\buildkite-windows-cpu-autoscaling-group-i-0b3782d1791676daf-1\\xgboost\\xgboost-ci-windows\\src\\learner.cc:742: \n",
            "Parameters: { \"max_features\" } are not used.\n",
            "\n",
            "  warnings.warn(smsg, UserWarning)\n",
            "c:\\Users\\chldy\\anaconda3\\envs\\torch\\lib\\site-packages\\xgboost\\core.py:160: UserWarning: [10:13:29] WARNING: C:\\buildkite-agent\\builds\\buildkite-windows-cpu-autoscaling-group-i-0b3782d1791676daf-1\\xgboost\\xgboost-ci-windows\\src\\learner.cc:742: \n",
            "Parameters: { \"max_features\" } are not used.\n",
            "\n",
            "  warnings.warn(smsg, UserWarning)\n",
            "c:\\Users\\chldy\\anaconda3\\envs\\torch\\lib\\site-packages\\xgboost\\core.py:160: UserWarning: [10:13:29] WARNING: C:\\buildkite-agent\\builds\\buildkite-windows-cpu-autoscaling-group-i-0b3782d1791676daf-1\\xgboost\\xgboost-ci-windows\\src\\learner.cc:742: \n",
            "Parameters: { \"max_features\" } are not used.\n",
            "\n",
            "  warnings.warn(smsg, UserWarning)\n",
            "[I 2024-04-12 10:13:29,931] Trial 5 finished with value: -0.96 and parameters: {'reg_lambda': 0.8600487446721401, 'n_estimators': 643, 'max_depth': 3, 'max_features': 0.8287014866827779}. Best is trial 0 with value: -0.96.\n",
            "C:\\Users\\chldy\\AppData\\Local\\Temp\\ipykernel_14372\\3806663716.py:12: FutureWarning: suggest_uniform has been deprecated in v3.0.0. This feature will be removed in v6.0.0. See https://github.com/optuna/optuna/releases/tag/v3.0.0. Use suggest_float instead.\n",
            "  reg_lambda = trial.suggest_uniform('reg_lambda',0.01,1)\n",
            "C:\\Users\\chldy\\AppData\\Local\\Temp\\ipykernel_14372\\3806663716.py:18: FutureWarning: suggest_uniform has been deprecated in v3.0.0. This feature will be removed in v6.0.0. See https://github.com/optuna/optuna/releases/tag/v3.0.0. Use suggest_float instead.\n",
            "  max_features = trial.suggest_uniform('max_features',0.01,1)\n",
            "c:\\Users\\chldy\\anaconda3\\envs\\torch\\lib\\site-packages\\xgboost\\core.py:160: UserWarning: [10:13:29] WARNING: C:\\buildkite-agent\\builds\\buildkite-windows-cpu-autoscaling-group-i-0b3782d1791676daf-1\\xgboost\\xgboost-ci-windows\\src\\learner.cc:742: \n",
            "Parameters: { \"max_features\" } are not used.\n",
            "\n",
            "  warnings.warn(smsg, UserWarning)\n",
            "c:\\Users\\chldy\\anaconda3\\envs\\torch\\lib\\site-packages\\xgboost\\core.py:160: UserWarning: [10:13:30] WARNING: C:\\buildkite-agent\\builds\\buildkite-windows-cpu-autoscaling-group-i-0b3782d1791676daf-1\\xgboost\\xgboost-ci-windows\\src\\learner.cc:742: \n",
            "Parameters: { \"max_features\" } are not used.\n",
            "\n",
            "  warnings.warn(smsg, UserWarning)\n",
            "c:\\Users\\chldy\\anaconda3\\envs\\torch\\lib\\site-packages\\xgboost\\core.py:160: UserWarning: [10:13:30] WARNING: C:\\buildkite-agent\\builds\\buildkite-windows-cpu-autoscaling-group-i-0b3782d1791676daf-1\\xgboost\\xgboost-ci-windows\\src\\learner.cc:742: \n",
            "Parameters: { \"max_features\" } are not used.\n",
            "\n",
            "  warnings.warn(smsg, UserWarning)\n",
            "c:\\Users\\chldy\\anaconda3\\envs\\torch\\lib\\site-packages\\xgboost\\core.py:160: UserWarning: [10:13:30] WARNING: C:\\buildkite-agent\\builds\\buildkite-windows-cpu-autoscaling-group-i-0b3782d1791676daf-1\\xgboost\\xgboost-ci-windows\\src\\learner.cc:742: \n",
            "Parameters: { \"max_features\" } are not used.\n",
            "\n",
            "  warnings.warn(smsg, UserWarning)\n",
            "c:\\Users\\chldy\\anaconda3\\envs\\torch\\lib\\site-packages\\xgboost\\core.py:160: UserWarning: [10:13:30] WARNING: C:\\buildkite-agent\\builds\\buildkite-windows-cpu-autoscaling-group-i-0b3782d1791676daf-1\\xgboost\\xgboost-ci-windows\\src\\learner.cc:742: \n",
            "Parameters: { \"max_features\" } are not used.\n",
            "\n",
            "  warnings.warn(smsg, UserWarning)\n",
            "[I 2024-04-12 10:13:30,381] Trial 6 finished with value: -0.9533333333333334 and parameters: {'reg_lambda': 0.7942299124149316, 'n_estimators': 209, 'max_depth': 4, 'max_features': 0.43726811773912627}. Best is trial 0 with value: -0.96.\n",
            "C:\\Users\\chldy\\AppData\\Local\\Temp\\ipykernel_14372\\3806663716.py:12: FutureWarning: suggest_uniform has been deprecated in v3.0.0. This feature will be removed in v6.0.0. See https://github.com/optuna/optuna/releases/tag/v3.0.0. Use suggest_float instead.\n",
            "  reg_lambda = trial.suggest_uniform('reg_lambda',0.01,1)\n",
            "C:\\Users\\chldy\\AppData\\Local\\Temp\\ipykernel_14372\\3806663716.py:18: FutureWarning: suggest_uniform has been deprecated in v3.0.0. This feature will be removed in v6.0.0. See https://github.com/optuna/optuna/releases/tag/v3.0.0. Use suggest_float instead.\n",
            "  max_features = trial.suggest_uniform('max_features',0.01,1)\n",
            "c:\\Users\\chldy\\anaconda3\\envs\\torch\\lib\\site-packages\\xgboost\\core.py:160: UserWarning: [10:13:30] WARNING: C:\\buildkite-agent\\builds\\buildkite-windows-cpu-autoscaling-group-i-0b3782d1791676daf-1\\xgboost\\xgboost-ci-windows\\src\\learner.cc:742: \n",
            "Parameters: { \"max_features\" } are not used.\n",
            "\n",
            "  warnings.warn(smsg, UserWarning)\n",
            "c:\\Users\\chldy\\anaconda3\\envs\\torch\\lib\\site-packages\\xgboost\\core.py:160: UserWarning: [10:13:30] WARNING: C:\\buildkite-agent\\builds\\buildkite-windows-cpu-autoscaling-group-i-0b3782d1791676daf-1\\xgboost\\xgboost-ci-windows\\src\\learner.cc:742: \n",
            "Parameters: { \"max_features\" } are not used.\n",
            "\n",
            "  warnings.warn(smsg, UserWarning)\n",
            "c:\\Users\\chldy\\anaconda3\\envs\\torch\\lib\\site-packages\\xgboost\\core.py:160: UserWarning: [10:13:31] WARNING: C:\\buildkite-agent\\builds\\buildkite-windows-cpu-autoscaling-group-i-0b3782d1791676daf-1\\xgboost\\xgboost-ci-windows\\src\\learner.cc:742: \n",
            "Parameters: { \"max_features\" } are not used.\n",
            "\n",
            "  warnings.warn(smsg, UserWarning)\n",
            "c:\\Users\\chldy\\anaconda3\\envs\\torch\\lib\\site-packages\\xgboost\\core.py:160: UserWarning: [10:13:31] WARNING: C:\\buildkite-agent\\builds\\buildkite-windows-cpu-autoscaling-group-i-0b3782d1791676daf-1\\xgboost\\xgboost-ci-windows\\src\\learner.cc:742: \n",
            "Parameters: { \"max_features\" } are not used.\n",
            "\n",
            "  warnings.warn(smsg, UserWarning)\n",
            "c:\\Users\\chldy\\anaconda3\\envs\\torch\\lib\\site-packages\\xgboost\\core.py:160: UserWarning: [10:13:32] WARNING: C:\\buildkite-agent\\builds\\buildkite-windows-cpu-autoscaling-group-i-0b3782d1791676daf-1\\xgboost\\xgboost-ci-windows\\src\\learner.cc:742: \n",
            "Parameters: { \"max_features\" } are not used.\n",
            "\n",
            "  warnings.warn(smsg, UserWarning)\n",
            "[I 2024-04-12 10:13:32,752] Trial 7 finished with value: -0.9533333333333334 and parameters: {'reg_lambda': 0.3352508214194902, 'n_estimators': 1196, 'max_depth': 13, 'max_features': 0.31773746522827073}. Best is trial 0 with value: -0.96.\n",
            "C:\\Users\\chldy\\AppData\\Local\\Temp\\ipykernel_14372\\3806663716.py:12: FutureWarning: suggest_uniform has been deprecated in v3.0.0. This feature will be removed in v6.0.0. See https://github.com/optuna/optuna/releases/tag/v3.0.0. Use suggest_float instead.\n",
            "  reg_lambda = trial.suggest_uniform('reg_lambda',0.01,1)\n",
            "C:\\Users\\chldy\\AppData\\Local\\Temp\\ipykernel_14372\\3806663716.py:18: FutureWarning: suggest_uniform has been deprecated in v3.0.0. This feature will be removed in v6.0.0. See https://github.com/optuna/optuna/releases/tag/v3.0.0. Use suggest_float instead.\n",
            "  max_features = trial.suggest_uniform('max_features',0.01,1)\n",
            "c:\\Users\\chldy\\anaconda3\\envs\\torch\\lib\\site-packages\\xgboost\\core.py:160: UserWarning: [10:13:32] WARNING: C:\\buildkite-agent\\builds\\buildkite-windows-cpu-autoscaling-group-i-0b3782d1791676daf-1\\xgboost\\xgboost-ci-windows\\src\\learner.cc:742: \n",
            "Parameters: { \"max_features\" } are not used.\n",
            "\n",
            "  warnings.warn(smsg, UserWarning)\n",
            "c:\\Users\\chldy\\anaconda3\\envs\\torch\\lib\\site-packages\\xgboost\\core.py:160: UserWarning: [10:13:32] WARNING: C:\\buildkite-agent\\builds\\buildkite-windows-cpu-autoscaling-group-i-0b3782d1791676daf-1\\xgboost\\xgboost-ci-windows\\src\\learner.cc:742: \n",
            "Parameters: { \"max_features\" } are not used.\n",
            "\n",
            "  warnings.warn(smsg, UserWarning)\n",
            "c:\\Users\\chldy\\anaconda3\\envs\\torch\\lib\\site-packages\\xgboost\\core.py:160: UserWarning: [10:13:33] WARNING: C:\\buildkite-agent\\builds\\buildkite-windows-cpu-autoscaling-group-i-0b3782d1791676daf-1\\xgboost\\xgboost-ci-windows\\src\\learner.cc:742: \n",
            "Parameters: { \"max_features\" } are not used.\n",
            "\n",
            "  warnings.warn(smsg, UserWarning)\n",
            "c:\\Users\\chldy\\anaconda3\\envs\\torch\\lib\\site-packages\\xgboost\\core.py:160: UserWarning: [10:13:33] WARNING: C:\\buildkite-agent\\builds\\buildkite-windows-cpu-autoscaling-group-i-0b3782d1791676daf-1\\xgboost\\xgboost-ci-windows\\src\\learner.cc:742: \n",
            "Parameters: { \"max_features\" } are not used.\n",
            "\n",
            "  warnings.warn(smsg, UserWarning)\n",
            "c:\\Users\\chldy\\anaconda3\\envs\\torch\\lib\\site-packages\\xgboost\\core.py:160: UserWarning: [10:13:33] WARNING: C:\\buildkite-agent\\builds\\buildkite-windows-cpu-autoscaling-group-i-0b3782d1791676daf-1\\xgboost\\xgboost-ci-windows\\src\\learner.cc:742: \n",
            "Parameters: { \"max_features\" } are not used.\n",
            "\n",
            "  warnings.warn(smsg, UserWarning)\n",
            "[I 2024-04-12 10:13:33,401] Trial 8 finished with value: -0.9533333333333334 and parameters: {'reg_lambda': 0.2663772408201341, 'n_estimators': 271, 'max_depth': 11, 'max_features': 0.967332817077396}. Best is trial 0 with value: -0.96.\n",
            "C:\\Users\\chldy\\AppData\\Local\\Temp\\ipykernel_14372\\3806663716.py:12: FutureWarning: suggest_uniform has been deprecated in v3.0.0. This feature will be removed in v6.0.0. See https://github.com/optuna/optuna/releases/tag/v3.0.0. Use suggest_float instead.\n",
            "  reg_lambda = trial.suggest_uniform('reg_lambda',0.01,1)\n",
            "C:\\Users\\chldy\\AppData\\Local\\Temp\\ipykernel_14372\\3806663716.py:18: FutureWarning: suggest_uniform has been deprecated in v3.0.0. This feature will be removed in v6.0.0. See https://github.com/optuna/optuna/releases/tag/v3.0.0. Use suggest_float instead.\n",
            "  max_features = trial.suggest_uniform('max_features',0.01,1)\n",
            "c:\\Users\\chldy\\anaconda3\\envs\\torch\\lib\\site-packages\\xgboost\\core.py:160: UserWarning: [10:13:33] WARNING: C:\\buildkite-agent\\builds\\buildkite-windows-cpu-autoscaling-group-i-0b3782d1791676daf-1\\xgboost\\xgboost-ci-windows\\src\\learner.cc:742: \n",
            "Parameters: { \"max_features\" } are not used.\n",
            "\n",
            "  warnings.warn(smsg, UserWarning)\n",
            "c:\\Users\\chldy\\anaconda3\\envs\\torch\\lib\\site-packages\\xgboost\\core.py:160: UserWarning: [10:13:33] WARNING: C:\\buildkite-agent\\builds\\buildkite-windows-cpu-autoscaling-group-i-0b3782d1791676daf-1\\xgboost\\xgboost-ci-windows\\src\\learner.cc:742: \n",
            "Parameters: { \"max_features\" } are not used.\n",
            "\n",
            "  warnings.warn(smsg, UserWarning)\n",
            "c:\\Users\\chldy\\anaconda3\\envs\\torch\\lib\\site-packages\\xgboost\\core.py:160: UserWarning: [10:13:34] WARNING: C:\\buildkite-agent\\builds\\buildkite-windows-cpu-autoscaling-group-i-0b3782d1791676daf-1\\xgboost\\xgboost-ci-windows\\src\\learner.cc:742: \n",
            "Parameters: { \"max_features\" } are not used.\n",
            "\n",
            "  warnings.warn(smsg, UserWarning)\n",
            "c:\\Users\\chldy\\anaconda3\\envs\\torch\\lib\\site-packages\\xgboost\\core.py:160: UserWarning: [10:13:34] WARNING: C:\\buildkite-agent\\builds\\buildkite-windows-cpu-autoscaling-group-i-0b3782d1791676daf-1\\xgboost\\xgboost-ci-windows\\src\\learner.cc:742: \n",
            "Parameters: { \"max_features\" } are not used.\n",
            "\n",
            "  warnings.warn(smsg, UserWarning)\n",
            "c:\\Users\\chldy\\anaconda3\\envs\\torch\\lib\\site-packages\\xgboost\\core.py:160: UserWarning: [10:13:35] WARNING: C:\\buildkite-agent\\builds\\buildkite-windows-cpu-autoscaling-group-i-0b3782d1791676daf-1\\xgboost\\xgboost-ci-windows\\src\\learner.cc:742: \n",
            "Parameters: { \"max_features\" } are not used.\n",
            "\n",
            "  warnings.warn(smsg, UserWarning)\n",
            "[I 2024-04-12 10:13:35,675] Trial 9 finished with value: -0.96 and parameters: {'reg_lambda': 0.6271835006425751, 'n_estimators': 1141, 'max_depth': 6, 'max_features': 0.29224165321135365}. Best is trial 0 with value: -0.96.\n",
            "C:\\Users\\chldy\\AppData\\Local\\Temp\\ipykernel_14372\\3806663716.py:12: FutureWarning: suggest_uniform has been deprecated in v3.0.0. This feature will be removed in v6.0.0. See https://github.com/optuna/optuna/releases/tag/v3.0.0. Use suggest_float instead.\n",
            "  reg_lambda = trial.suggest_uniform('reg_lambda',0.01,1)\n",
            "C:\\Users\\chldy\\AppData\\Local\\Temp\\ipykernel_14372\\3806663716.py:18: FutureWarning: suggest_uniform has been deprecated in v3.0.0. This feature will be removed in v6.0.0. See https://github.com/optuna/optuna/releases/tag/v3.0.0. Use suggest_float instead.\n",
            "  max_features = trial.suggest_uniform('max_features',0.01,1)\n",
            "c:\\Users\\chldy\\anaconda3\\envs\\torch\\lib\\site-packages\\xgboost\\core.py:160: UserWarning: [10:13:35] WARNING: C:\\buildkite-agent\\builds\\buildkite-windows-cpu-autoscaling-group-i-0b3782d1791676daf-1\\xgboost\\xgboost-ci-windows\\src\\learner.cc:742: \n",
            "Parameters: { \"max_features\" } are not used.\n",
            "\n",
            "  warnings.warn(smsg, UserWarning)\n",
            "c:\\Users\\chldy\\anaconda3\\envs\\torch\\lib\\site-packages\\xgboost\\core.py:160: UserWarning: [10:13:36] WARNING: C:\\buildkite-agent\\builds\\buildkite-windows-cpu-autoscaling-group-i-0b3782d1791676daf-1\\xgboost\\xgboost-ci-windows\\src\\learner.cc:742: \n",
            "Parameters: { \"max_features\" } are not used.\n",
            "\n",
            "  warnings.warn(smsg, UserWarning)\n",
            "c:\\Users\\chldy\\anaconda3\\envs\\torch\\lib\\site-packages\\xgboost\\core.py:160: UserWarning: [10:13:36] WARNING: C:\\buildkite-agent\\builds\\buildkite-windows-cpu-autoscaling-group-i-0b3782d1791676daf-1\\xgboost\\xgboost-ci-windows\\src\\learner.cc:742: \n",
            "Parameters: { \"max_features\" } are not used.\n",
            "\n",
            "  warnings.warn(smsg, UserWarning)\n",
            "c:\\Users\\chldy\\anaconda3\\envs\\torch\\lib\\site-packages\\xgboost\\core.py:160: UserWarning: [10:13:36] WARNING: C:\\buildkite-agent\\builds\\buildkite-windows-cpu-autoscaling-group-i-0b3782d1791676daf-1\\xgboost\\xgboost-ci-windows\\src\\learner.cc:742: \n",
            "Parameters: { \"max_features\" } are not used.\n",
            "\n",
            "  warnings.warn(smsg, UserWarning)\n",
            "c:\\Users\\chldy\\anaconda3\\envs\\torch\\lib\\site-packages\\xgboost\\core.py:160: UserWarning: [10:13:37] WARNING: C:\\buildkite-agent\\builds\\buildkite-windows-cpu-autoscaling-group-i-0b3782d1791676daf-1\\xgboost\\xgboost-ci-windows\\src\\learner.cc:742: \n",
            "Parameters: { \"max_features\" } are not used.\n",
            "\n",
            "  warnings.warn(smsg, UserWarning)\n",
            "[I 2024-04-12 10:13:37,670] Trial 10 finished with value: -0.96 and parameters: {'reg_lambda': 0.07513930262178747, 'n_estimators': 988, 'max_depth': 10, 'max_features': 0.7164354412213078}. Best is trial 0 with value: -0.96.\n",
            "C:\\Users\\chldy\\AppData\\Local\\Temp\\ipykernel_14372\\3806663716.py:12: FutureWarning: suggest_uniform has been deprecated in v3.0.0. This feature will be removed in v6.0.0. See https://github.com/optuna/optuna/releases/tag/v3.0.0. Use suggest_float instead.\n",
            "  reg_lambda = trial.suggest_uniform('reg_lambda',0.01,1)\n",
            "C:\\Users\\chldy\\AppData\\Local\\Temp\\ipykernel_14372\\3806663716.py:18: FutureWarning: suggest_uniform has been deprecated in v3.0.0. This feature will be removed in v6.0.0. See https://github.com/optuna/optuna/releases/tag/v3.0.0. Use suggest_float instead.\n",
            "  max_features = trial.suggest_uniform('max_features',0.01,1)\n",
            "c:\\Users\\chldy\\anaconda3\\envs\\torch\\lib\\site-packages\\xgboost\\core.py:160: UserWarning: [10:13:37] WARNING: C:\\buildkite-agent\\builds\\buildkite-windows-cpu-autoscaling-group-i-0b3782d1791676daf-1\\xgboost\\xgboost-ci-windows\\src\\learner.cc:742: \n",
            "Parameters: { \"max_features\" } are not used.\n",
            "\n",
            "  warnings.warn(smsg, UserWarning)\n",
            "c:\\Users\\chldy\\anaconda3\\envs\\torch\\lib\\site-packages\\xgboost\\core.py:160: UserWarning: [10:13:38] WARNING: C:\\buildkite-agent\\builds\\buildkite-windows-cpu-autoscaling-group-i-0b3782d1791676daf-1\\xgboost\\xgboost-ci-windows\\src\\learner.cc:742: \n",
            "Parameters: { \"max_features\" } are not used.\n",
            "\n",
            "  warnings.warn(smsg, UserWarning)\n",
            "c:\\Users\\chldy\\anaconda3\\envs\\torch\\lib\\site-packages\\xgboost\\core.py:160: UserWarning: [10:13:38] WARNING: C:\\buildkite-agent\\builds\\buildkite-windows-cpu-autoscaling-group-i-0b3782d1791676daf-1\\xgboost\\xgboost-ci-windows\\src\\learner.cc:742: \n",
            "Parameters: { \"max_features\" } are not used.\n",
            "\n",
            "  warnings.warn(smsg, UserWarning)\n",
            "c:\\Users\\chldy\\anaconda3\\envs\\torch\\lib\\site-packages\\xgboost\\core.py:160: UserWarning: [10:13:38] WARNING: C:\\buildkite-agent\\builds\\buildkite-windows-cpu-autoscaling-group-i-0b3782d1791676daf-1\\xgboost\\xgboost-ci-windows\\src\\learner.cc:742: \n",
            "Parameters: { \"max_features\" } are not used.\n",
            "\n",
            "  warnings.warn(smsg, UserWarning)\n",
            "c:\\Users\\chldy\\anaconda3\\envs\\torch\\lib\\site-packages\\xgboost\\core.py:160: UserWarning: [10:13:39] WARNING: C:\\buildkite-agent\\builds\\buildkite-windows-cpu-autoscaling-group-i-0b3782d1791676daf-1\\xgboost\\xgboost-ci-windows\\src\\learner.cc:742: \n",
            "Parameters: { \"max_features\" } are not used.\n",
            "\n",
            "  warnings.warn(smsg, UserWarning)\n",
            "[I 2024-04-12 10:13:39,499] Trial 11 finished with value: -0.9533333333333334 and parameters: {'reg_lambda': 0.5399166828249863, 'n_estimators': 938, 'max_depth': 8, 'max_features': 0.022895618939747023}. Best is trial 0 with value: -0.96.\n",
            "C:\\Users\\chldy\\AppData\\Local\\Temp\\ipykernel_14372\\3806663716.py:12: FutureWarning: suggest_uniform has been deprecated in v3.0.0. This feature will be removed in v6.0.0. See https://github.com/optuna/optuna/releases/tag/v3.0.0. Use suggest_float instead.\n",
            "  reg_lambda = trial.suggest_uniform('reg_lambda',0.01,1)\n",
            "C:\\Users\\chldy\\AppData\\Local\\Temp\\ipykernel_14372\\3806663716.py:18: FutureWarning: suggest_uniform has been deprecated in v3.0.0. This feature will be removed in v6.0.0. See https://github.com/optuna/optuna/releases/tag/v3.0.0. Use suggest_float instead.\n",
            "  max_features = trial.suggest_uniform('max_features',0.01,1)\n",
            "c:\\Users\\chldy\\anaconda3\\envs\\torch\\lib\\site-packages\\xgboost\\core.py:160: UserWarning: [10:13:39] WARNING: C:\\buildkite-agent\\builds\\buildkite-windows-cpu-autoscaling-group-i-0b3782d1791676daf-1\\xgboost\\xgboost-ci-windows\\src\\learner.cc:742: \n",
            "Parameters: { \"max_features\" } are not used.\n",
            "\n",
            "  warnings.warn(smsg, UserWarning)\n",
            "c:\\Users\\chldy\\anaconda3\\envs\\torch\\lib\\site-packages\\xgboost\\core.py:160: UserWarning: [10:13:39] WARNING: C:\\buildkite-agent\\builds\\buildkite-windows-cpu-autoscaling-group-i-0b3782d1791676daf-1\\xgboost\\xgboost-ci-windows\\src\\learner.cc:742: \n",
            "Parameters: { \"max_features\" } are not used.\n",
            "\n",
            "  warnings.warn(smsg, UserWarning)\n",
            "c:\\Users\\chldy\\anaconda3\\envs\\torch\\lib\\site-packages\\xgboost\\core.py:160: UserWarning: [10:13:40] WARNING: C:\\buildkite-agent\\builds\\buildkite-windows-cpu-autoscaling-group-i-0b3782d1791676daf-1\\xgboost\\xgboost-ci-windows\\src\\learner.cc:742: \n",
            "Parameters: { \"max_features\" } are not used.\n",
            "\n",
            "  warnings.warn(smsg, UserWarning)\n",
            "c:\\Users\\chldy\\anaconda3\\envs\\torch\\lib\\site-packages\\xgboost\\core.py:160: UserWarning: [10:13:40] WARNING: C:\\buildkite-agent\\builds\\buildkite-windows-cpu-autoscaling-group-i-0b3782d1791676daf-1\\xgboost\\xgboost-ci-windows\\src\\learner.cc:742: \n",
            "Parameters: { \"max_features\" } are not used.\n",
            "\n",
            "  warnings.warn(smsg, UserWarning)\n",
            "c:\\Users\\chldy\\anaconda3\\envs\\torch\\lib\\site-packages\\xgboost\\core.py:160: UserWarning: [10:13:40] WARNING: C:\\buildkite-agent\\builds\\buildkite-windows-cpu-autoscaling-group-i-0b3782d1791676daf-1\\xgboost\\xgboost-ci-windows\\src\\learner.cc:742: \n",
            "Parameters: { \"max_features\" } are not used.\n",
            "\n",
            "  warnings.warn(smsg, UserWarning)\n",
            "[I 2024-04-12 10:13:41,098] Trial 12 finished with value: -0.9533333333333334 and parameters: {'reg_lambda': 0.9874503051825965, 'n_estimators': 796, 'max_depth': 12, 'max_features': 0.0741173635074514}. Best is trial 0 with value: -0.96.\n",
            "C:\\Users\\chldy\\AppData\\Local\\Temp\\ipykernel_14372\\3806663716.py:12: FutureWarning: suggest_uniform has been deprecated in v3.0.0. This feature will be removed in v6.0.0. See https://github.com/optuna/optuna/releases/tag/v3.0.0. Use suggest_float instead.\n",
            "  reg_lambda = trial.suggest_uniform('reg_lambda',0.01,1)\n",
            "C:\\Users\\chldy\\AppData\\Local\\Temp\\ipykernel_14372\\3806663716.py:18: FutureWarning: suggest_uniform has been deprecated in v3.0.0. This feature will be removed in v6.0.0. See https://github.com/optuna/optuna/releases/tag/v3.0.0. Use suggest_float instead.\n",
            "  max_features = trial.suggest_uniform('max_features',0.01,1)\n",
            "c:\\Users\\chldy\\anaconda3\\envs\\torch\\lib\\site-packages\\xgboost\\core.py:160: UserWarning: [10:13:41] WARNING: C:\\buildkite-agent\\builds\\buildkite-windows-cpu-autoscaling-group-i-0b3782d1791676daf-1\\xgboost\\xgboost-ci-windows\\src\\learner.cc:742: \n",
            "Parameters: { \"max_features\" } are not used.\n",
            "\n",
            "  warnings.warn(smsg, UserWarning)\n",
            "c:\\Users\\chldy\\anaconda3\\envs\\torch\\lib\\site-packages\\xgboost\\core.py:160: UserWarning: [10:13:41] WARNING: C:\\buildkite-agent\\builds\\buildkite-windows-cpu-autoscaling-group-i-0b3782d1791676daf-1\\xgboost\\xgboost-ci-windows\\src\\learner.cc:742: \n",
            "Parameters: { \"max_features\" } are not used.\n",
            "\n",
            "  warnings.warn(smsg, UserWarning)\n",
            "c:\\Users\\chldy\\anaconda3\\envs\\torch\\lib\\site-packages\\xgboost\\core.py:160: UserWarning: [10:13:42] WARNING: C:\\buildkite-agent\\builds\\buildkite-windows-cpu-autoscaling-group-i-0b3782d1791676daf-1\\xgboost\\xgboost-ci-windows\\src\\learner.cc:742: \n",
            "Parameters: { \"max_features\" } are not used.\n",
            "\n",
            "  warnings.warn(smsg, UserWarning)\n",
            "c:\\Users\\chldy\\anaconda3\\envs\\torch\\lib\\site-packages\\xgboost\\core.py:160: UserWarning: [10:13:43] WARNING: C:\\buildkite-agent\\builds\\buildkite-windows-cpu-autoscaling-group-i-0b3782d1791676daf-1\\xgboost\\xgboost-ci-windows\\src\\learner.cc:742: \n",
            "Parameters: { \"max_features\" } are not used.\n",
            "\n",
            "  warnings.warn(smsg, UserWarning)\n",
            "c:\\Users\\chldy\\anaconda3\\envs\\torch\\lib\\site-packages\\xgboost\\core.py:160: UserWarning: [10:13:43] WARNING: C:\\buildkite-agent\\builds\\buildkite-windows-cpu-autoscaling-group-i-0b3782d1791676daf-1\\xgboost\\xgboost-ci-windows\\src\\learner.cc:742: \n",
            "Parameters: { \"max_features\" } are not used.\n",
            "\n",
            "  warnings.warn(smsg, UserWarning)\n",
            "[I 2024-04-12 10:13:44,344] Trial 13 finished with value: -0.96 and parameters: {'reg_lambda': 0.6115658710999368, 'n_estimators': 1488, 'max_depth': 9, 'max_features': 0.21209210136200102}. Best is trial 0 with value: -0.96.\n",
            "C:\\Users\\chldy\\AppData\\Local\\Temp\\ipykernel_14372\\3806663716.py:12: FutureWarning: suggest_uniform has been deprecated in v3.0.0. This feature will be removed in v6.0.0. See https://github.com/optuna/optuna/releases/tag/v3.0.0. Use suggest_float instead.\n",
            "  reg_lambda = trial.suggest_uniform('reg_lambda',0.01,1)\n",
            "C:\\Users\\chldy\\AppData\\Local\\Temp\\ipykernel_14372\\3806663716.py:18: FutureWarning: suggest_uniform has been deprecated in v3.0.0. This feature will be removed in v6.0.0. See https://github.com/optuna/optuna/releases/tag/v3.0.0. Use suggest_float instead.\n",
            "  max_features = trial.suggest_uniform('max_features',0.01,1)\n",
            "c:\\Users\\chldy\\anaconda3\\envs\\torch\\lib\\site-packages\\xgboost\\core.py:160: UserWarning: [10:13:44] WARNING: C:\\buildkite-agent\\builds\\buildkite-windows-cpu-autoscaling-group-i-0b3782d1791676daf-1\\xgboost\\xgboost-ci-windows\\src\\learner.cc:742: \n",
            "Parameters: { \"max_features\" } are not used.\n",
            "\n",
            "  warnings.warn(smsg, UserWarning)\n",
            "c:\\Users\\chldy\\anaconda3\\envs\\torch\\lib\\site-packages\\xgboost\\core.py:160: UserWarning: [10:13:44] WARNING: C:\\buildkite-agent\\builds\\buildkite-windows-cpu-autoscaling-group-i-0b3782d1791676daf-1\\xgboost\\xgboost-ci-windows\\src\\learner.cc:742: \n",
            "Parameters: { \"max_features\" } are not used.\n",
            "\n",
            "  warnings.warn(smsg, UserWarning)\n",
            "c:\\Users\\chldy\\anaconda3\\envs\\torch\\lib\\site-packages\\xgboost\\core.py:160: UserWarning: [10:13:44] WARNING: C:\\buildkite-agent\\builds\\buildkite-windows-cpu-autoscaling-group-i-0b3782d1791676daf-1\\xgboost\\xgboost-ci-windows\\src\\learner.cc:742: \n",
            "Parameters: { \"max_features\" } are not used.\n",
            "\n",
            "  warnings.warn(smsg, UserWarning)\n",
            "c:\\Users\\chldy\\anaconda3\\envs\\torch\\lib\\site-packages\\xgboost\\core.py:160: UserWarning: [10:13:45] WARNING: C:\\buildkite-agent\\builds\\buildkite-windows-cpu-autoscaling-group-i-0b3782d1791676daf-1\\xgboost\\xgboost-ci-windows\\src\\learner.cc:742: \n",
            "Parameters: { \"max_features\" } are not used.\n",
            "\n",
            "  warnings.warn(smsg, UserWarning)\n",
            "c:\\Users\\chldy\\anaconda3\\envs\\torch\\lib\\site-packages\\xgboost\\core.py:160: UserWarning: [10:13:45] WARNING: C:\\buildkite-agent\\builds\\buildkite-windows-cpu-autoscaling-group-i-0b3782d1791676daf-1\\xgboost\\xgboost-ci-windows\\src\\learner.cc:742: \n",
            "Parameters: { \"max_features\" } are not used.\n",
            "\n",
            "  warnings.warn(smsg, UserWarning)\n",
            "[I 2024-04-12 10:13:45,977] Trial 14 finished with value: -0.96 and parameters: {'reg_lambda': 0.40114200109033965, 'n_estimators': 743, 'max_depth': 5, 'max_features': 0.9728629601915356}. Best is trial 0 with value: -0.96.\n"
          ]
        }
      ],
      "source": [
        "#importing packages\n",
        "import optuna\n",
        "from functools import partial\n",
        "\n",
        "#defining a method that will perfrom a 5 split cross validation over\n",
        "#dataset and and will produce the optimum value of the accuracy\n",
        "def optimize(trial, x,y):\n",
        "    #parameter set is declare within function\n",
        "    #suggest_uniform : 범위 내의 균일 분포 값을 선택.\n",
        "    #suggest_discrete_uniform : 이산 균등 분포를 값으로 선택.\n",
        "    #suggest_loguniform : 범위 내의 로그 함수 선상의 값을 선택.\n",
        "    reg_lambda = trial.suggest_uniform('reg_lambda',0.01,1)\n",
        "    \n",
        "    n_estimators = trial.suggest_int('n_estimators',100,1500)\n",
        "    \n",
        "    max_depth = trial.suggest_int('max_depth',3,15)\n",
        "    \n",
        "    max_features = trial.suggest_uniform('max_features',0.01,1)\n",
        "    \n",
        "    clf = XGBClassifier(\n",
        "    \n",
        "    n_estimators= n_estimators,\n",
        "\n",
        "    reg_lambda=reg_lambda,\n",
        "\n",
        "    max_depth=max_depth,\n",
        "\n",
        "    max_features= max_features)\n",
        "\n",
        "    kf = model_selection.StratifiedKFold(n_splits=5)\n",
        "\n",
        "    accuracies = []\n",
        "\n",
        "    for idx in kf.split(X=x,y=y):\n",
        "\n",
        "        train_idx,test_idx = idx[0],idx[1]\n",
        "\n",
        "        xtrain = x[train_idx]\n",
        "\n",
        "        ytrain = y[train_idx]\n",
        "\n",
        "        xtest = x[test_idx]\n",
        "\n",
        "        ytest = y[test_idx]\n",
        "\n",
        "        clf.fit(xtrain,ytrain)\n",
        "\n",
        "        preds =  clf.predict(xtest)\n",
        "\n",
        "        fold_acc = metrics.accuracy_score(ytest,preds)\n",
        "\n",
        "        accuracies.append(fold_acc)\n",
        "\n",
        "    return -1.0 * np.mean(accuracies)\n",
        "\n",
        "#defiing optimization_fuction as partial and calling optimize within it\n",
        "\n",
        "optimization_fuction = partial(optimize,x = X, y = y) \n",
        "\n",
        "study = optuna.create_study(direction='minimize')\n",
        "\n",
        "#Printing the best hyperparemeter set\n",
        "\n",
        "study.optimize(optimization_fuction, n_trials=15)"
      ]
    },
    {
      "cell_type": "markdown",
      "metadata": {
        "id": "WD46e556Omz6"
      },
      "source": [
        "- mimimize로 찾은 이유 : https://stackoverflow.com/questions/72193393/find-the-value-of-variables-to-maximize-return-of-function-in-python"
      ]
    },
    {
      "cell_type": "code",
      "execution_count": 11,
      "metadata": {
        "id": "phw9SbcQJmD0"
      },
      "outputs": [
        {
          "name": "stderr",
          "output_type": "stream",
          "text": [
            "[I 2024-04-12 10:16:57,904] A new study created in memory with name: no-name-7a146972-e00f-46d4-888b-441db1548c63\n",
            "C:\\Users\\chldy\\AppData\\Local\\Temp\\ipykernel_14372\\1062776656.py:12: FutureWarning: suggest_uniform has been deprecated in v3.0.0. This feature will be removed in v6.0.0. See https://github.com/optuna/optuna/releases/tag/v3.0.0. Use suggest_float instead.\n",
            "  reg_lambda = trial.suggest_uniform('reg_lambda',0.01,1)\n",
            "C:\\Users\\chldy\\AppData\\Local\\Temp\\ipykernel_14372\\1062776656.py:18: FutureWarning: suggest_uniform has been deprecated in v3.0.0. This feature will be removed in v6.0.0. See https://github.com/optuna/optuna/releases/tag/v3.0.0. Use suggest_float instead.\n",
            "  max_features = trial.suggest_uniform('max_features',0.01,1)\n",
            "c:\\Users\\chldy\\anaconda3\\envs\\torch\\lib\\site-packages\\xgboost\\core.py:160: UserWarning: [10:16:57] WARNING: C:\\buildkite-agent\\builds\\buildkite-windows-cpu-autoscaling-group-i-0b3782d1791676daf-1\\xgboost\\xgboost-ci-windows\\src\\learner.cc:742: \n",
            "Parameters: { \"max_features\" } are not used.\n",
            "\n",
            "  warnings.warn(smsg, UserWarning)\n",
            "c:\\Users\\chldy\\anaconda3\\envs\\torch\\lib\\site-packages\\xgboost\\core.py:160: UserWarning: [10:16:58] WARNING: C:\\buildkite-agent\\builds\\buildkite-windows-cpu-autoscaling-group-i-0b3782d1791676daf-1\\xgboost\\xgboost-ci-windows\\src\\learner.cc:742: \n",
            "Parameters: { \"max_features\" } are not used.\n",
            "\n",
            "  warnings.warn(smsg, UserWarning)\n",
            "c:\\Users\\chldy\\anaconda3\\envs\\torch\\lib\\site-packages\\xgboost\\core.py:160: UserWarning: [10:16:59] WARNING: C:\\buildkite-agent\\builds\\buildkite-windows-cpu-autoscaling-group-i-0b3782d1791676daf-1\\xgboost\\xgboost-ci-windows\\src\\learner.cc:742: \n",
            "Parameters: { \"max_features\" } are not used.\n",
            "\n",
            "  warnings.warn(smsg, UserWarning)\n",
            "c:\\Users\\chldy\\anaconda3\\envs\\torch\\lib\\site-packages\\xgboost\\core.py:160: UserWarning: [10:16:59] WARNING: C:\\buildkite-agent\\builds\\buildkite-windows-cpu-autoscaling-group-i-0b3782d1791676daf-1\\xgboost\\xgboost-ci-windows\\src\\learner.cc:742: \n",
            "Parameters: { \"max_features\" } are not used.\n",
            "\n",
            "  warnings.warn(smsg, UserWarning)\n",
            "c:\\Users\\chldy\\anaconda3\\envs\\torch\\lib\\site-packages\\xgboost\\core.py:160: UserWarning: [10:16:59] WARNING: C:\\buildkite-agent\\builds\\buildkite-windows-cpu-autoscaling-group-i-0b3782d1791676daf-1\\xgboost\\xgboost-ci-windows\\src\\learner.cc:742: \n",
            "Parameters: { \"max_features\" } are not used.\n",
            "\n",
            "  warnings.warn(smsg, UserWarning)\n",
            "[I 2024-04-12 10:17:00,240] Trial 0 finished with value: 0.9533333333333334 and parameters: {'reg_lambda': 0.45762684269957277, 'n_estimators': 825, 'max_depth': 12, 'max_features': 0.4653608020313443}. Best is trial 0 with value: 0.9533333333333334.\n",
            "C:\\Users\\chldy\\AppData\\Local\\Temp\\ipykernel_14372\\1062776656.py:12: FutureWarning: suggest_uniform has been deprecated in v3.0.0. This feature will be removed in v6.0.0. See https://github.com/optuna/optuna/releases/tag/v3.0.0. Use suggest_float instead.\n",
            "  reg_lambda = trial.suggest_uniform('reg_lambda',0.01,1)\n",
            "C:\\Users\\chldy\\AppData\\Local\\Temp\\ipykernel_14372\\1062776656.py:18: FutureWarning: suggest_uniform has been deprecated in v3.0.0. This feature will be removed in v6.0.0. See https://github.com/optuna/optuna/releases/tag/v3.0.0. Use suggest_float instead.\n",
            "  max_features = trial.suggest_uniform('max_features',0.01,1)\n",
            "c:\\Users\\chldy\\anaconda3\\envs\\torch\\lib\\site-packages\\xgboost\\core.py:160: UserWarning: [10:17:00] WARNING: C:\\buildkite-agent\\builds\\buildkite-windows-cpu-autoscaling-group-i-0b3782d1791676daf-1\\xgboost\\xgboost-ci-windows\\src\\learner.cc:742: \n",
            "Parameters: { \"max_features\" } are not used.\n",
            "\n",
            "  warnings.warn(smsg, UserWarning)\n",
            "c:\\Users\\chldy\\anaconda3\\envs\\torch\\lib\\site-packages\\xgboost\\core.py:160: UserWarning: [10:17:00] WARNING: C:\\buildkite-agent\\builds\\buildkite-windows-cpu-autoscaling-group-i-0b3782d1791676daf-1\\xgboost\\xgboost-ci-windows\\src\\learner.cc:742: \n",
            "Parameters: { \"max_features\" } are not used.\n",
            "\n",
            "  warnings.warn(smsg, UserWarning)\n",
            "c:\\Users\\chldy\\anaconda3\\envs\\torch\\lib\\site-packages\\xgboost\\core.py:160: UserWarning: [10:17:01] WARNING: C:\\buildkite-agent\\builds\\buildkite-windows-cpu-autoscaling-group-i-0b3782d1791676daf-1\\xgboost\\xgboost-ci-windows\\src\\learner.cc:742: \n",
            "Parameters: { \"max_features\" } are not used.\n",
            "\n",
            "  warnings.warn(smsg, UserWarning)\n",
            "c:\\Users\\chldy\\anaconda3\\envs\\torch\\lib\\site-packages\\xgboost\\core.py:160: UserWarning: [10:17:01] WARNING: C:\\buildkite-agent\\builds\\buildkite-windows-cpu-autoscaling-group-i-0b3782d1791676daf-1\\xgboost\\xgboost-ci-windows\\src\\learner.cc:742: \n",
            "Parameters: { \"max_features\" } are not used.\n",
            "\n",
            "  warnings.warn(smsg, UserWarning)\n",
            "c:\\Users\\chldy\\anaconda3\\envs\\torch\\lib\\site-packages\\xgboost\\core.py:160: UserWarning: [10:17:02] WARNING: C:\\buildkite-agent\\builds\\buildkite-windows-cpu-autoscaling-group-i-0b3782d1791676daf-1\\xgboost\\xgboost-ci-windows\\src\\learner.cc:742: \n",
            "Parameters: { \"max_features\" } are not used.\n",
            "\n",
            "  warnings.warn(smsg, UserWarning)\n",
            "[I 2024-04-12 10:17:02,823] Trial 1 finished with value: 0.9466666666666667 and parameters: {'reg_lambda': 0.3392741415238557, 'n_estimators': 1187, 'max_depth': 3, 'max_features': 0.3805674166522088}. Best is trial 0 with value: 0.9533333333333334.\n",
            "C:\\Users\\chldy\\AppData\\Local\\Temp\\ipykernel_14372\\1062776656.py:12: FutureWarning: suggest_uniform has been deprecated in v3.0.0. This feature will be removed in v6.0.0. See https://github.com/optuna/optuna/releases/tag/v3.0.0. Use suggest_float instead.\n",
            "  reg_lambda = trial.suggest_uniform('reg_lambda',0.01,1)\n",
            "C:\\Users\\chldy\\AppData\\Local\\Temp\\ipykernel_14372\\1062776656.py:18: FutureWarning: suggest_uniform has been deprecated in v3.0.0. This feature will be removed in v6.0.0. See https://github.com/optuna/optuna/releases/tag/v3.0.0. Use suggest_float instead.\n",
            "  max_features = trial.suggest_uniform('max_features',0.01,1)\n",
            "c:\\Users\\chldy\\anaconda3\\envs\\torch\\lib\\site-packages\\xgboost\\core.py:160: UserWarning: [10:17:02] WARNING: C:\\buildkite-agent\\builds\\buildkite-windows-cpu-autoscaling-group-i-0b3782d1791676daf-1\\xgboost\\xgboost-ci-windows\\src\\learner.cc:742: \n",
            "Parameters: { \"max_features\" } are not used.\n",
            "\n",
            "  warnings.warn(smsg, UserWarning)\n",
            "c:\\Users\\chldy\\anaconda3\\envs\\torch\\lib\\site-packages\\xgboost\\core.py:160: UserWarning: [10:17:03] WARNING: C:\\buildkite-agent\\builds\\buildkite-windows-cpu-autoscaling-group-i-0b3782d1791676daf-1\\xgboost\\xgboost-ci-windows\\src\\learner.cc:742: \n",
            "Parameters: { \"max_features\" } are not used.\n",
            "\n",
            "  warnings.warn(smsg, UserWarning)\n",
            "c:\\Users\\chldy\\anaconda3\\envs\\torch\\lib\\site-packages\\xgboost\\core.py:160: UserWarning: [10:17:03] WARNING: C:\\buildkite-agent\\builds\\buildkite-windows-cpu-autoscaling-group-i-0b3782d1791676daf-1\\xgboost\\xgboost-ci-windows\\src\\learner.cc:742: \n",
            "Parameters: { \"max_features\" } are not used.\n",
            "\n",
            "  warnings.warn(smsg, UserWarning)\n",
            "c:\\Users\\chldy\\anaconda3\\envs\\torch\\lib\\site-packages\\xgboost\\core.py:160: UserWarning: [10:17:04] WARNING: C:\\buildkite-agent\\builds\\buildkite-windows-cpu-autoscaling-group-i-0b3782d1791676daf-1\\xgboost\\xgboost-ci-windows\\src\\learner.cc:742: \n",
            "Parameters: { \"max_features\" } are not used.\n",
            "\n",
            "  warnings.warn(smsg, UserWarning)\n",
            "c:\\Users\\chldy\\anaconda3\\envs\\torch\\lib\\site-packages\\xgboost\\core.py:160: UserWarning: [10:17:04] WARNING: C:\\buildkite-agent\\builds\\buildkite-windows-cpu-autoscaling-group-i-0b3782d1791676daf-1\\xgboost\\xgboost-ci-windows\\src\\learner.cc:742: \n",
            "Parameters: { \"max_features\" } are not used.\n",
            "\n",
            "  warnings.warn(smsg, UserWarning)\n",
            "[I 2024-04-12 10:17:05,132] Trial 2 finished with value: 0.96 and parameters: {'reg_lambda': 0.10786249637417114, 'n_estimators': 1134, 'max_depth': 15, 'max_features': 0.9562414575144218}. Best is trial 2 with value: 0.96.\n",
            "C:\\Users\\chldy\\AppData\\Local\\Temp\\ipykernel_14372\\1062776656.py:12: FutureWarning: suggest_uniform has been deprecated in v3.0.0. This feature will be removed in v6.0.0. See https://github.com/optuna/optuna/releases/tag/v3.0.0. Use suggest_float instead.\n",
            "  reg_lambda = trial.suggest_uniform('reg_lambda',0.01,1)\n",
            "C:\\Users\\chldy\\AppData\\Local\\Temp\\ipykernel_14372\\1062776656.py:18: FutureWarning: suggest_uniform has been deprecated in v3.0.0. This feature will be removed in v6.0.0. See https://github.com/optuna/optuna/releases/tag/v3.0.0. Use suggest_float instead.\n",
            "  max_features = trial.suggest_uniform('max_features',0.01,1)\n",
            "c:\\Users\\chldy\\anaconda3\\envs\\torch\\lib\\site-packages\\xgboost\\core.py:160: UserWarning: [10:17:05] WARNING: C:\\buildkite-agent\\builds\\buildkite-windows-cpu-autoscaling-group-i-0b3782d1791676daf-1\\xgboost\\xgboost-ci-windows\\src\\learner.cc:742: \n",
            "Parameters: { \"max_features\" } are not used.\n",
            "\n",
            "  warnings.warn(smsg, UserWarning)\n",
            "c:\\Users\\chldy\\anaconda3\\envs\\torch\\lib\\site-packages\\xgboost\\core.py:160: UserWarning: [10:17:05] WARNING: C:\\buildkite-agent\\builds\\buildkite-windows-cpu-autoscaling-group-i-0b3782d1791676daf-1\\xgboost\\xgboost-ci-windows\\src\\learner.cc:742: \n",
            "Parameters: { \"max_features\" } are not used.\n",
            "\n",
            "  warnings.warn(smsg, UserWarning)\n",
            "c:\\Users\\chldy\\anaconda3\\envs\\torch\\lib\\site-packages\\xgboost\\core.py:160: UserWarning: [10:17:05] WARNING: C:\\buildkite-agent\\builds\\buildkite-windows-cpu-autoscaling-group-i-0b3782d1791676daf-1\\xgboost\\xgboost-ci-windows\\src\\learner.cc:742: \n",
            "Parameters: { \"max_features\" } are not used.\n",
            "\n",
            "  warnings.warn(smsg, UserWarning)\n",
            "c:\\Users\\chldy\\anaconda3\\envs\\torch\\lib\\site-packages\\xgboost\\core.py:160: UserWarning: [10:17:05] WARNING: C:\\buildkite-agent\\builds\\buildkite-windows-cpu-autoscaling-group-i-0b3782d1791676daf-1\\xgboost\\xgboost-ci-windows\\src\\learner.cc:742: \n",
            "Parameters: { \"max_features\" } are not used.\n",
            "\n",
            "  warnings.warn(smsg, UserWarning)\n",
            "c:\\Users\\chldy\\anaconda3\\envs\\torch\\lib\\site-packages\\xgboost\\core.py:160: UserWarning: [10:17:05] WARNING: C:\\buildkite-agent\\builds\\buildkite-windows-cpu-autoscaling-group-i-0b3782d1791676daf-1\\xgboost\\xgboost-ci-windows\\src\\learner.cc:742: \n",
            "Parameters: { \"max_features\" } are not used.\n",
            "\n",
            "  warnings.warn(smsg, UserWarning)\n",
            "[I 2024-04-12 10:17:05,549] Trial 3 finished with value: 0.9533333333333334 and parameters: {'reg_lambda': 0.9689485853641867, 'n_estimators': 197, 'max_depth': 3, 'max_features': 0.3415112978298091}. Best is trial 2 with value: 0.96.\n",
            "C:\\Users\\chldy\\AppData\\Local\\Temp\\ipykernel_14372\\1062776656.py:12: FutureWarning: suggest_uniform has been deprecated in v3.0.0. This feature will be removed in v6.0.0. See https://github.com/optuna/optuna/releases/tag/v3.0.0. Use suggest_float instead.\n",
            "  reg_lambda = trial.suggest_uniform('reg_lambda',0.01,1)\n",
            "C:\\Users\\chldy\\AppData\\Local\\Temp\\ipykernel_14372\\1062776656.py:18: FutureWarning: suggest_uniform has been deprecated in v3.0.0. This feature will be removed in v6.0.0. See https://github.com/optuna/optuna/releases/tag/v3.0.0. Use suggest_float instead.\n",
            "  max_features = trial.suggest_uniform('max_features',0.01,1)\n",
            "c:\\Users\\chldy\\anaconda3\\envs\\torch\\lib\\site-packages\\xgboost\\core.py:160: UserWarning: [10:17:05] WARNING: C:\\buildkite-agent\\builds\\buildkite-windows-cpu-autoscaling-group-i-0b3782d1791676daf-1\\xgboost\\xgboost-ci-windows\\src\\learner.cc:742: \n",
            "Parameters: { \"max_features\" } are not used.\n",
            "\n",
            "  warnings.warn(smsg, UserWarning)\n",
            "c:\\Users\\chldy\\anaconda3\\envs\\torch\\lib\\site-packages\\xgboost\\core.py:160: UserWarning: [10:17:05] WARNING: C:\\buildkite-agent\\builds\\buildkite-windows-cpu-autoscaling-group-i-0b3782d1791676daf-1\\xgboost\\xgboost-ci-windows\\src\\learner.cc:742: \n",
            "Parameters: { \"max_features\" } are not used.\n",
            "\n",
            "  warnings.warn(smsg, UserWarning)\n",
            "c:\\Users\\chldy\\anaconda3\\envs\\torch\\lib\\site-packages\\xgboost\\core.py:160: UserWarning: [10:17:06] WARNING: C:\\buildkite-agent\\builds\\buildkite-windows-cpu-autoscaling-group-i-0b3782d1791676daf-1\\xgboost\\xgboost-ci-windows\\src\\learner.cc:742: \n",
            "Parameters: { \"max_features\" } are not used.\n",
            "\n",
            "  warnings.warn(smsg, UserWarning)\n",
            "c:\\Users\\chldy\\anaconda3\\envs\\torch\\lib\\site-packages\\xgboost\\core.py:160: UserWarning: [10:17:06] WARNING: C:\\buildkite-agent\\builds\\buildkite-windows-cpu-autoscaling-group-i-0b3782d1791676daf-1\\xgboost\\xgboost-ci-windows\\src\\learner.cc:742: \n",
            "Parameters: { \"max_features\" } are not used.\n",
            "\n",
            "  warnings.warn(smsg, UserWarning)\n",
            "c:\\Users\\chldy\\anaconda3\\envs\\torch\\lib\\site-packages\\xgboost\\core.py:160: UserWarning: [10:17:06] WARNING: C:\\buildkite-agent\\builds\\buildkite-windows-cpu-autoscaling-group-i-0b3782d1791676daf-1\\xgboost\\xgboost-ci-windows\\src\\learner.cc:742: \n",
            "Parameters: { \"max_features\" } are not used.\n",
            "\n",
            "  warnings.warn(smsg, UserWarning)\n",
            "[I 2024-04-12 10:17:06,973] Trial 4 finished with value: 0.9533333333333334 and parameters: {'reg_lambda': 0.4638970647483728, 'n_estimators': 716, 'max_depth': 9, 'max_features': 0.18283206058071846}. Best is trial 2 with value: 0.96.\n",
            "C:\\Users\\chldy\\AppData\\Local\\Temp\\ipykernel_14372\\1062776656.py:12: FutureWarning: suggest_uniform has been deprecated in v3.0.0. This feature will be removed in v6.0.0. See https://github.com/optuna/optuna/releases/tag/v3.0.0. Use suggest_float instead.\n",
            "  reg_lambda = trial.suggest_uniform('reg_lambda',0.01,1)\n",
            "C:\\Users\\chldy\\AppData\\Local\\Temp\\ipykernel_14372\\1062776656.py:18: FutureWarning: suggest_uniform has been deprecated in v3.0.0. This feature will be removed in v6.0.0. See https://github.com/optuna/optuna/releases/tag/v3.0.0. Use suggest_float instead.\n",
            "  max_features = trial.suggest_uniform('max_features',0.01,1)\n",
            "c:\\Users\\chldy\\anaconda3\\envs\\torch\\lib\\site-packages\\xgboost\\core.py:160: UserWarning: [10:17:06] WARNING: C:\\buildkite-agent\\builds\\buildkite-windows-cpu-autoscaling-group-i-0b3782d1791676daf-1\\xgboost\\xgboost-ci-windows\\src\\learner.cc:742: \n",
            "Parameters: { \"max_features\" } are not used.\n",
            "\n",
            "  warnings.warn(smsg, UserWarning)\n",
            "c:\\Users\\chldy\\anaconda3\\envs\\torch\\lib\\site-packages\\xgboost\\core.py:160: UserWarning: [10:17:07] WARNING: C:\\buildkite-agent\\builds\\buildkite-windows-cpu-autoscaling-group-i-0b3782d1791676daf-1\\xgboost\\xgboost-ci-windows\\src\\learner.cc:742: \n",
            "Parameters: { \"max_features\" } are not used.\n",
            "\n",
            "  warnings.warn(smsg, UserWarning)\n",
            "c:\\Users\\chldy\\anaconda3\\envs\\torch\\lib\\site-packages\\xgboost\\core.py:160: UserWarning: [10:17:07] WARNING: C:\\buildkite-agent\\builds\\buildkite-windows-cpu-autoscaling-group-i-0b3782d1791676daf-1\\xgboost\\xgboost-ci-windows\\src\\learner.cc:742: \n",
            "Parameters: { \"max_features\" } are not used.\n",
            "\n",
            "  warnings.warn(smsg, UserWarning)\n",
            "c:\\Users\\chldy\\anaconda3\\envs\\torch\\lib\\site-packages\\xgboost\\core.py:160: UserWarning: [10:17:08] WARNING: C:\\buildkite-agent\\builds\\buildkite-windows-cpu-autoscaling-group-i-0b3782d1791676daf-1\\xgboost\\xgboost-ci-windows\\src\\learner.cc:742: \n",
            "Parameters: { \"max_features\" } are not used.\n",
            "\n",
            "  warnings.warn(smsg, UserWarning)\n",
            "c:\\Users\\chldy\\anaconda3\\envs\\torch\\lib\\site-packages\\xgboost\\core.py:160: UserWarning: [10:17:08] WARNING: C:\\buildkite-agent\\builds\\buildkite-windows-cpu-autoscaling-group-i-0b3782d1791676daf-1\\xgboost\\xgboost-ci-windows\\src\\learner.cc:742: \n",
            "Parameters: { \"max_features\" } are not used.\n",
            "\n",
            "  warnings.warn(smsg, UserWarning)\n",
            "[I 2024-04-12 10:17:09,166] Trial 5 finished with value: 0.96 and parameters: {'reg_lambda': 0.6184873278983701, 'n_estimators': 1032, 'max_depth': 6, 'max_features': 0.912806857899753}. Best is trial 2 with value: 0.96.\n",
            "C:\\Users\\chldy\\AppData\\Local\\Temp\\ipykernel_14372\\1062776656.py:12: FutureWarning: suggest_uniform has been deprecated in v3.0.0. This feature will be removed in v6.0.0. See https://github.com/optuna/optuna/releases/tag/v3.0.0. Use suggest_float instead.\n",
            "  reg_lambda = trial.suggest_uniform('reg_lambda',0.01,1)\n",
            "C:\\Users\\chldy\\AppData\\Local\\Temp\\ipykernel_14372\\1062776656.py:18: FutureWarning: suggest_uniform has been deprecated in v3.0.0. This feature will be removed in v6.0.0. See https://github.com/optuna/optuna/releases/tag/v3.0.0. Use suggest_float instead.\n",
            "  max_features = trial.suggest_uniform('max_features',0.01,1)\n",
            "c:\\Users\\chldy\\anaconda3\\envs\\torch\\lib\\site-packages\\xgboost\\core.py:160: UserWarning: [10:17:09] WARNING: C:\\buildkite-agent\\builds\\buildkite-windows-cpu-autoscaling-group-i-0b3782d1791676daf-1\\xgboost\\xgboost-ci-windows\\src\\learner.cc:742: \n",
            "Parameters: { \"max_features\" } are not used.\n",
            "\n",
            "  warnings.warn(smsg, UserWarning)\n",
            "c:\\Users\\chldy\\anaconda3\\envs\\torch\\lib\\site-packages\\xgboost\\core.py:160: UserWarning: [10:17:09] WARNING: C:\\buildkite-agent\\builds\\buildkite-windows-cpu-autoscaling-group-i-0b3782d1791676daf-1\\xgboost\\xgboost-ci-windows\\src\\learner.cc:742: \n",
            "Parameters: { \"max_features\" } are not used.\n",
            "\n",
            "  warnings.warn(smsg, UserWarning)\n",
            "c:\\Users\\chldy\\anaconda3\\envs\\torch\\lib\\site-packages\\xgboost\\core.py:160: UserWarning: [10:17:09] WARNING: C:\\buildkite-agent\\builds\\buildkite-windows-cpu-autoscaling-group-i-0b3782d1791676daf-1\\xgboost\\xgboost-ci-windows\\src\\learner.cc:742: \n",
            "Parameters: { \"max_features\" } are not used.\n",
            "\n",
            "  warnings.warn(smsg, UserWarning)\n",
            "c:\\Users\\chldy\\anaconda3\\envs\\torch\\lib\\site-packages\\xgboost\\core.py:160: UserWarning: [10:17:10] WARNING: C:\\buildkite-agent\\builds\\buildkite-windows-cpu-autoscaling-group-i-0b3782d1791676daf-1\\xgboost\\xgboost-ci-windows\\src\\learner.cc:742: \n",
            "Parameters: { \"max_features\" } are not used.\n",
            "\n",
            "  warnings.warn(smsg, UserWarning)\n",
            "c:\\Users\\chldy\\anaconda3\\envs\\torch\\lib\\site-packages\\xgboost\\core.py:160: UserWarning: [10:17:10] WARNING: C:\\buildkite-agent\\builds\\buildkite-windows-cpu-autoscaling-group-i-0b3782d1791676daf-1\\xgboost\\xgboost-ci-windows\\src\\learner.cc:742: \n",
            "Parameters: { \"max_features\" } are not used.\n",
            "\n",
            "  warnings.warn(smsg, UserWarning)\n",
            "[I 2024-04-12 10:17:11,316] Trial 6 finished with value: 0.96 and parameters: {'reg_lambda': 0.0346161485289183, 'n_estimators': 1008, 'max_depth': 12, 'max_features': 0.7611431191928153}. Best is trial 2 with value: 0.96.\n",
            "C:\\Users\\chldy\\AppData\\Local\\Temp\\ipykernel_14372\\1062776656.py:12: FutureWarning: suggest_uniform has been deprecated in v3.0.0. This feature will be removed in v6.0.0. See https://github.com/optuna/optuna/releases/tag/v3.0.0. Use suggest_float instead.\n",
            "  reg_lambda = trial.suggest_uniform('reg_lambda',0.01,1)\n",
            "C:\\Users\\chldy\\AppData\\Local\\Temp\\ipykernel_14372\\1062776656.py:18: FutureWarning: suggest_uniform has been deprecated in v3.0.0. This feature will be removed in v6.0.0. See https://github.com/optuna/optuna/releases/tag/v3.0.0. Use suggest_float instead.\n",
            "  max_features = trial.suggest_uniform('max_features',0.01,1)\n",
            "c:\\Users\\chldy\\anaconda3\\envs\\torch\\lib\\site-packages\\xgboost\\core.py:160: UserWarning: [10:17:11] WARNING: C:\\buildkite-agent\\builds\\buildkite-windows-cpu-autoscaling-group-i-0b3782d1791676daf-1\\xgboost\\xgboost-ci-windows\\src\\learner.cc:742: \n",
            "Parameters: { \"max_features\" } are not used.\n",
            "\n",
            "  warnings.warn(smsg, UserWarning)\n",
            "c:\\Users\\chldy\\anaconda3\\envs\\torch\\lib\\site-packages\\xgboost\\core.py:160: UserWarning: [10:17:11] WARNING: C:\\buildkite-agent\\builds\\buildkite-windows-cpu-autoscaling-group-i-0b3782d1791676daf-1\\xgboost\\xgboost-ci-windows\\src\\learner.cc:742: \n",
            "Parameters: { \"max_features\" } are not used.\n",
            "\n",
            "  warnings.warn(smsg, UserWarning)\n",
            "c:\\Users\\chldy\\anaconda3\\envs\\torch\\lib\\site-packages\\xgboost\\core.py:160: UserWarning: [10:17:11] WARNING: C:\\buildkite-agent\\builds\\buildkite-windows-cpu-autoscaling-group-i-0b3782d1791676daf-1\\xgboost\\xgboost-ci-windows\\src\\learner.cc:742: \n",
            "Parameters: { \"max_features\" } are not used.\n",
            "\n",
            "  warnings.warn(smsg, UserWarning)\n",
            "c:\\Users\\chldy\\anaconda3\\envs\\torch\\lib\\site-packages\\xgboost\\core.py:160: UserWarning: [10:17:11] WARNING: C:\\buildkite-agent\\builds\\buildkite-windows-cpu-autoscaling-group-i-0b3782d1791676daf-1\\xgboost\\xgboost-ci-windows\\src\\learner.cc:742: \n",
            "Parameters: { \"max_features\" } are not used.\n",
            "\n",
            "  warnings.warn(smsg, UserWarning)\n",
            "c:\\Users\\chldy\\anaconda3\\envs\\torch\\lib\\site-packages\\xgboost\\core.py:160: UserWarning: [10:17:11] WARNING: C:\\buildkite-agent\\builds\\buildkite-windows-cpu-autoscaling-group-i-0b3782d1791676daf-1\\xgboost\\xgboost-ci-windows\\src\\learner.cc:742: \n",
            "Parameters: { \"max_features\" } are not used.\n",
            "\n",
            "  warnings.warn(smsg, UserWarning)\n",
            "[I 2024-04-12 10:17:11,970] Trial 7 finished with value: 0.9533333333333334 and parameters: {'reg_lambda': 0.03591892885581801, 'n_estimators': 365, 'max_depth': 6, 'max_features': 0.49273901521398417}. Best is trial 2 with value: 0.96.\n",
            "C:\\Users\\chldy\\AppData\\Local\\Temp\\ipykernel_14372\\1062776656.py:12: FutureWarning: suggest_uniform has been deprecated in v3.0.0. This feature will be removed in v6.0.0. See https://github.com/optuna/optuna/releases/tag/v3.0.0. Use suggest_float instead.\n",
            "  reg_lambda = trial.suggest_uniform('reg_lambda',0.01,1)\n",
            "C:\\Users\\chldy\\AppData\\Local\\Temp\\ipykernel_14372\\1062776656.py:18: FutureWarning: suggest_uniform has been deprecated in v3.0.0. This feature will be removed in v6.0.0. See https://github.com/optuna/optuna/releases/tag/v3.0.0. Use suggest_float instead.\n",
            "  max_features = trial.suggest_uniform('max_features',0.01,1)\n",
            "c:\\Users\\chldy\\anaconda3\\envs\\torch\\lib\\site-packages\\xgboost\\core.py:160: UserWarning: [10:17:11] WARNING: C:\\buildkite-agent\\builds\\buildkite-windows-cpu-autoscaling-group-i-0b3782d1791676daf-1\\xgboost\\xgboost-ci-windows\\src\\learner.cc:742: \n",
            "Parameters: { \"max_features\" } are not used.\n",
            "\n",
            "  warnings.warn(smsg, UserWarning)\n",
            "c:\\Users\\chldy\\anaconda3\\envs\\torch\\lib\\site-packages\\xgboost\\core.py:160: UserWarning: [10:17:12] WARNING: C:\\buildkite-agent\\builds\\buildkite-windows-cpu-autoscaling-group-i-0b3782d1791676daf-1\\xgboost\\xgboost-ci-windows\\src\\learner.cc:742: \n",
            "Parameters: { \"max_features\" } are not used.\n",
            "\n",
            "  warnings.warn(smsg, UserWarning)\n",
            "c:\\Users\\chldy\\anaconda3\\envs\\torch\\lib\\site-packages\\xgboost\\core.py:160: UserWarning: [10:17:12] WARNING: C:\\buildkite-agent\\builds\\buildkite-windows-cpu-autoscaling-group-i-0b3782d1791676daf-1\\xgboost\\xgboost-ci-windows\\src\\learner.cc:742: \n",
            "Parameters: { \"max_features\" } are not used.\n",
            "\n",
            "  warnings.warn(smsg, UserWarning)\n",
            "c:\\Users\\chldy\\anaconda3\\envs\\torch\\lib\\site-packages\\xgboost\\core.py:160: UserWarning: [10:17:12] WARNING: C:\\buildkite-agent\\builds\\buildkite-windows-cpu-autoscaling-group-i-0b3782d1791676daf-1\\xgboost\\xgboost-ci-windows\\src\\learner.cc:742: \n",
            "Parameters: { \"max_features\" } are not used.\n",
            "\n",
            "  warnings.warn(smsg, UserWarning)\n",
            "c:\\Users\\chldy\\anaconda3\\envs\\torch\\lib\\site-packages\\xgboost\\core.py:160: UserWarning: [10:17:12] WARNING: C:\\buildkite-agent\\builds\\buildkite-windows-cpu-autoscaling-group-i-0b3782d1791676daf-1\\xgboost\\xgboost-ci-windows\\src\\learner.cc:742: \n",
            "Parameters: { \"max_features\" } are not used.\n",
            "\n",
            "  warnings.warn(smsg, UserWarning)\n",
            "[I 2024-04-12 10:17:12,256] Trial 8 finished with value: 0.9533333333333334 and parameters: {'reg_lambda': 0.6810592359613215, 'n_estimators': 107, 'max_depth': 11, 'max_features': 0.10987364605337063}. Best is trial 2 with value: 0.96.\n",
            "C:\\Users\\chldy\\AppData\\Local\\Temp\\ipykernel_14372\\1062776656.py:12: FutureWarning: suggest_uniform has been deprecated in v3.0.0. This feature will be removed in v6.0.0. See https://github.com/optuna/optuna/releases/tag/v3.0.0. Use suggest_float instead.\n",
            "  reg_lambda = trial.suggest_uniform('reg_lambda',0.01,1)\n",
            "C:\\Users\\chldy\\AppData\\Local\\Temp\\ipykernel_14372\\1062776656.py:18: FutureWarning: suggest_uniform has been deprecated in v3.0.0. This feature will be removed in v6.0.0. See https://github.com/optuna/optuna/releases/tag/v3.0.0. Use suggest_float instead.\n",
            "  max_features = trial.suggest_uniform('max_features',0.01,1)\n",
            "c:\\Users\\chldy\\anaconda3\\envs\\torch\\lib\\site-packages\\xgboost\\core.py:160: UserWarning: [10:17:12] WARNING: C:\\buildkite-agent\\builds\\buildkite-windows-cpu-autoscaling-group-i-0b3782d1791676daf-1\\xgboost\\xgboost-ci-windows\\src\\learner.cc:742: \n",
            "Parameters: { \"max_features\" } are not used.\n",
            "\n",
            "  warnings.warn(smsg, UserWarning)\n",
            "c:\\Users\\chldy\\anaconda3\\envs\\torch\\lib\\site-packages\\xgboost\\core.py:160: UserWarning: [10:17:12] WARNING: C:\\buildkite-agent\\builds\\buildkite-windows-cpu-autoscaling-group-i-0b3782d1791676daf-1\\xgboost\\xgboost-ci-windows\\src\\learner.cc:742: \n",
            "Parameters: { \"max_features\" } are not used.\n",
            "\n",
            "  warnings.warn(smsg, UserWarning)\n",
            "c:\\Users\\chldy\\anaconda3\\envs\\torch\\lib\\site-packages\\xgboost\\core.py:160: UserWarning: [10:17:12] WARNING: C:\\buildkite-agent\\builds\\buildkite-windows-cpu-autoscaling-group-i-0b3782d1791676daf-1\\xgboost\\xgboost-ci-windows\\src\\learner.cc:742: \n",
            "Parameters: { \"max_features\" } are not used.\n",
            "\n",
            "  warnings.warn(smsg, UserWarning)\n",
            "c:\\Users\\chldy\\anaconda3\\envs\\torch\\lib\\site-packages\\xgboost\\core.py:160: UserWarning: [10:17:12] WARNING: C:\\buildkite-agent\\builds\\buildkite-windows-cpu-autoscaling-group-i-0b3782d1791676daf-1\\xgboost\\xgboost-ci-windows\\src\\learner.cc:742: \n",
            "Parameters: { \"max_features\" } are not used.\n",
            "\n",
            "  warnings.warn(smsg, UserWarning)\n",
            "c:\\Users\\chldy\\anaconda3\\envs\\torch\\lib\\site-packages\\xgboost\\core.py:160: UserWarning: [10:17:13] WARNING: C:\\buildkite-agent\\builds\\buildkite-windows-cpu-autoscaling-group-i-0b3782d1791676daf-1\\xgboost\\xgboost-ci-windows\\src\\learner.cc:742: \n",
            "Parameters: { \"max_features\" } are not used.\n",
            "\n",
            "  warnings.warn(smsg, UserWarning)\n",
            "[I 2024-04-12 10:17:13,475] Trial 9 finished with value: 0.96 and parameters: {'reg_lambda': 0.8977993142191824, 'n_estimators': 683, 'max_depth': 3, 'max_features': 0.1992767028488674}. Best is trial 2 with value: 0.96.\n",
            "C:\\Users\\chldy\\AppData\\Local\\Temp\\ipykernel_14372\\1062776656.py:12: FutureWarning: suggest_uniform has been deprecated in v3.0.0. This feature will be removed in v6.0.0. See https://github.com/optuna/optuna/releases/tag/v3.0.0. Use suggest_float instead.\n",
            "  reg_lambda = trial.suggest_uniform('reg_lambda',0.01,1)\n",
            "C:\\Users\\chldy\\AppData\\Local\\Temp\\ipykernel_14372\\1062776656.py:18: FutureWarning: suggest_uniform has been deprecated in v3.0.0. This feature will be removed in v6.0.0. See https://github.com/optuna/optuna/releases/tag/v3.0.0. Use suggest_float instead.\n",
            "  max_features = trial.suggest_uniform('max_features',0.01,1)\n",
            "c:\\Users\\chldy\\anaconda3\\envs\\torch\\lib\\site-packages\\xgboost\\core.py:160: UserWarning: [10:17:13] WARNING: C:\\buildkite-agent\\builds\\buildkite-windows-cpu-autoscaling-group-i-0b3782d1791676daf-1\\xgboost\\xgboost-ci-windows\\src\\learner.cc:742: \n",
            "Parameters: { \"max_features\" } are not used.\n",
            "\n",
            "  warnings.warn(smsg, UserWarning)\n",
            "c:\\Users\\chldy\\anaconda3\\envs\\torch\\lib\\site-packages\\xgboost\\core.py:160: UserWarning: [10:17:13] WARNING: C:\\buildkite-agent\\builds\\buildkite-windows-cpu-autoscaling-group-i-0b3782d1791676daf-1\\xgboost\\xgboost-ci-windows\\src\\learner.cc:742: \n",
            "Parameters: { \"max_features\" } are not used.\n",
            "\n",
            "  warnings.warn(smsg, UserWarning)\n",
            "c:\\Users\\chldy\\anaconda3\\envs\\torch\\lib\\site-packages\\xgboost\\core.py:160: UserWarning: [10:17:14] WARNING: C:\\buildkite-agent\\builds\\buildkite-windows-cpu-autoscaling-group-i-0b3782d1791676daf-1\\xgboost\\xgboost-ci-windows\\src\\learner.cc:742: \n",
            "Parameters: { \"max_features\" } are not used.\n",
            "\n",
            "  warnings.warn(smsg, UserWarning)\n",
            "c:\\Users\\chldy\\anaconda3\\envs\\torch\\lib\\site-packages\\xgboost\\core.py:160: UserWarning: [10:17:15] WARNING: C:\\buildkite-agent\\builds\\buildkite-windows-cpu-autoscaling-group-i-0b3782d1791676daf-1\\xgboost\\xgboost-ci-windows\\src\\learner.cc:742: \n",
            "Parameters: { \"max_features\" } are not used.\n",
            "\n",
            "  warnings.warn(smsg, UserWarning)\n",
            "c:\\Users\\chldy\\anaconda3\\envs\\torch\\lib\\site-packages\\xgboost\\core.py:160: UserWarning: [10:17:15] WARNING: C:\\buildkite-agent\\builds\\buildkite-windows-cpu-autoscaling-group-i-0b3782d1791676daf-1\\xgboost\\xgboost-ci-windows\\src\\learner.cc:742: \n",
            "Parameters: { \"max_features\" } are not used.\n",
            "\n",
            "  warnings.warn(smsg, UserWarning)\n",
            "[I 2024-04-12 10:17:16,148] Trial 10 finished with value: 0.96 and parameters: {'reg_lambda': 0.2317201053269028, 'n_estimators': 1362, 'max_depth': 14, 'max_features': 0.7155892053718816}. Best is trial 2 with value: 0.96.\n",
            "C:\\Users\\chldy\\AppData\\Local\\Temp\\ipykernel_14372\\1062776656.py:12: FutureWarning: suggest_uniform has been deprecated in v3.0.0. This feature will be removed in v6.0.0. See https://github.com/optuna/optuna/releases/tag/v3.0.0. Use suggest_float instead.\n",
            "  reg_lambda = trial.suggest_uniform('reg_lambda',0.01,1)\n",
            "C:\\Users\\chldy\\AppData\\Local\\Temp\\ipykernel_14372\\1062776656.py:18: FutureWarning: suggest_uniform has been deprecated in v3.0.0. This feature will be removed in v6.0.0. See https://github.com/optuna/optuna/releases/tag/v3.0.0. Use suggest_float instead.\n",
            "  max_features = trial.suggest_uniform('max_features',0.01,1)\n",
            "c:\\Users\\chldy\\anaconda3\\envs\\torch\\lib\\site-packages\\xgboost\\core.py:160: UserWarning: [10:17:16] WARNING: C:\\buildkite-agent\\builds\\buildkite-windows-cpu-autoscaling-group-i-0b3782d1791676daf-1\\xgboost\\xgboost-ci-windows\\src\\learner.cc:742: \n",
            "Parameters: { \"max_features\" } are not used.\n",
            "\n",
            "  warnings.warn(smsg, UserWarning)\n",
            "c:\\Users\\chldy\\anaconda3\\envs\\torch\\lib\\site-packages\\xgboost\\core.py:160: UserWarning: [10:17:16] WARNING: C:\\buildkite-agent\\builds\\buildkite-windows-cpu-autoscaling-group-i-0b3782d1791676daf-1\\xgboost\\xgboost-ci-windows\\src\\learner.cc:742: \n",
            "Parameters: { \"max_features\" } are not used.\n",
            "\n",
            "  warnings.warn(smsg, UserWarning)\n",
            "c:\\Users\\chldy\\anaconda3\\envs\\torch\\lib\\site-packages\\xgboost\\core.py:160: UserWarning: [10:17:17] WARNING: C:\\buildkite-agent\\builds\\buildkite-windows-cpu-autoscaling-group-i-0b3782d1791676daf-1\\xgboost\\xgboost-ci-windows\\src\\learner.cc:742: \n",
            "Parameters: { \"max_features\" } are not used.\n",
            "\n",
            "  warnings.warn(smsg, UserWarning)\n",
            "c:\\Users\\chldy\\anaconda3\\envs\\torch\\lib\\site-packages\\xgboost\\core.py:160: UserWarning: [10:17:18] WARNING: C:\\buildkite-agent\\builds\\buildkite-windows-cpu-autoscaling-group-i-0b3782d1791676daf-1\\xgboost\\xgboost-ci-windows\\src\\learner.cc:742: \n",
            "Parameters: { \"max_features\" } are not used.\n",
            "\n",
            "  warnings.warn(smsg, UserWarning)\n",
            "c:\\Users\\chldy\\anaconda3\\envs\\torch\\lib\\site-packages\\xgboost\\core.py:160: UserWarning: [10:17:19] WARNING: C:\\buildkite-agent\\builds\\buildkite-windows-cpu-autoscaling-group-i-0b3782d1791676daf-1\\xgboost\\xgboost-ci-windows\\src\\learner.cc:742: \n",
            "Parameters: { \"max_features\" } are not used.\n",
            "\n",
            "  warnings.warn(smsg, UserWarning)\n",
            "[I 2024-04-12 10:17:19,760] Trial 11 finished with value: 0.96 and parameters: {'reg_lambda': 0.6687844516346778, 'n_estimators': 1454, 'max_depth': 7, 'max_features': 0.9910951711141774}. Best is trial 2 with value: 0.96.\n",
            "C:\\Users\\chldy\\AppData\\Local\\Temp\\ipykernel_14372\\1062776656.py:12: FutureWarning: suggest_uniform has been deprecated in v3.0.0. This feature will be removed in v6.0.0. See https://github.com/optuna/optuna/releases/tag/v3.0.0. Use suggest_float instead.\n",
            "  reg_lambda = trial.suggest_uniform('reg_lambda',0.01,1)\n",
            "C:\\Users\\chldy\\AppData\\Local\\Temp\\ipykernel_14372\\1062776656.py:18: FutureWarning: suggest_uniform has been deprecated in v3.0.0. This feature will be removed in v6.0.0. See https://github.com/optuna/optuna/releases/tag/v3.0.0. Use suggest_float instead.\n",
            "  max_features = trial.suggest_uniform('max_features',0.01,1)\n",
            "c:\\Users\\chldy\\anaconda3\\envs\\torch\\lib\\site-packages\\xgboost\\core.py:160: UserWarning: [10:17:19] WARNING: C:\\buildkite-agent\\builds\\buildkite-windows-cpu-autoscaling-group-i-0b3782d1791676daf-1\\xgboost\\xgboost-ci-windows\\src\\learner.cc:742: \n",
            "Parameters: { \"max_features\" } are not used.\n",
            "\n",
            "  warnings.warn(smsg, UserWarning)\n",
            "c:\\Users\\chldy\\anaconda3\\envs\\torch\\lib\\site-packages\\xgboost\\core.py:160: UserWarning: [10:17:20] WARNING: C:\\buildkite-agent\\builds\\buildkite-windows-cpu-autoscaling-group-i-0b3782d1791676daf-1\\xgboost\\xgboost-ci-windows\\src\\learner.cc:742: \n",
            "Parameters: { \"max_features\" } are not used.\n",
            "\n",
            "  warnings.warn(smsg, UserWarning)\n",
            "c:\\Users\\chldy\\anaconda3\\envs\\torch\\lib\\site-packages\\xgboost\\core.py:160: UserWarning: [10:17:20] WARNING: C:\\buildkite-agent\\builds\\buildkite-windows-cpu-autoscaling-group-i-0b3782d1791676daf-1\\xgboost\\xgboost-ci-windows\\src\\learner.cc:742: \n",
            "Parameters: { \"max_features\" } are not used.\n",
            "\n",
            "  warnings.warn(smsg, UserWarning)\n",
            "c:\\Users\\chldy\\anaconda3\\envs\\torch\\lib\\site-packages\\xgboost\\core.py:160: UserWarning: [10:17:21] WARNING: C:\\buildkite-agent\\builds\\buildkite-windows-cpu-autoscaling-group-i-0b3782d1791676daf-1\\xgboost\\xgboost-ci-windows\\src\\learner.cc:742: \n",
            "Parameters: { \"max_features\" } are not used.\n",
            "\n",
            "  warnings.warn(smsg, UserWarning)\n",
            "c:\\Users\\chldy\\anaconda3\\envs\\torch\\lib\\site-packages\\xgboost\\core.py:160: UserWarning: [10:17:21] WARNING: C:\\buildkite-agent\\builds\\buildkite-windows-cpu-autoscaling-group-i-0b3782d1791676daf-1\\xgboost\\xgboost-ci-windows\\src\\learner.cc:742: \n",
            "Parameters: { \"max_features\" } are not used.\n",
            "\n",
            "  warnings.warn(smsg, UserWarning)\n",
            "[I 2024-04-12 10:17:22,022] Trial 12 finished with value: 0.96 and parameters: {'reg_lambda': 0.6807171782147845, 'n_estimators': 1085, 'max_depth': 15, 'max_features': 0.9956041248587977}. Best is trial 2 with value: 0.96.\n",
            "C:\\Users\\chldy\\AppData\\Local\\Temp\\ipykernel_14372\\1062776656.py:12: FutureWarning: suggest_uniform has been deprecated in v3.0.0. This feature will be removed in v6.0.0. See https://github.com/optuna/optuna/releases/tag/v3.0.0. Use suggest_float instead.\n",
            "  reg_lambda = trial.suggest_uniform('reg_lambda',0.01,1)\n",
            "C:\\Users\\chldy\\AppData\\Local\\Temp\\ipykernel_14372\\1062776656.py:18: FutureWarning: suggest_uniform has been deprecated in v3.0.0. This feature will be removed in v6.0.0. See https://github.com/optuna/optuna/releases/tag/v3.0.0. Use suggest_float instead.\n",
            "  max_features = trial.suggest_uniform('max_features',0.01,1)\n",
            "c:\\Users\\chldy\\anaconda3\\envs\\torch\\lib\\site-packages\\xgboost\\core.py:160: UserWarning: [10:17:22] WARNING: C:\\buildkite-agent\\builds\\buildkite-windows-cpu-autoscaling-group-i-0b3782d1791676daf-1\\xgboost\\xgboost-ci-windows\\src\\learner.cc:742: \n",
            "Parameters: { \"max_features\" } are not used.\n",
            "\n",
            "  warnings.warn(smsg, UserWarning)\n",
            "c:\\Users\\chldy\\anaconda3\\envs\\torch\\lib\\site-packages\\xgboost\\core.py:160: UserWarning: [10:17:22] WARNING: C:\\buildkite-agent\\builds\\buildkite-windows-cpu-autoscaling-group-i-0b3782d1791676daf-1\\xgboost\\xgboost-ci-windows\\src\\learner.cc:742: \n",
            "Parameters: { \"max_features\" } are not used.\n",
            "\n",
            "  warnings.warn(smsg, UserWarning)\n",
            "c:\\Users\\chldy\\anaconda3\\envs\\torch\\lib\\site-packages\\xgboost\\core.py:160: UserWarning: [10:17:22] WARNING: C:\\buildkite-agent\\builds\\buildkite-windows-cpu-autoscaling-group-i-0b3782d1791676daf-1\\xgboost\\xgboost-ci-windows\\src\\learner.cc:742: \n",
            "Parameters: { \"max_features\" } are not used.\n",
            "\n",
            "  warnings.warn(smsg, UserWarning)\n",
            "c:\\Users\\chldy\\anaconda3\\envs\\torch\\lib\\site-packages\\xgboost\\core.py:160: UserWarning: [10:17:23] WARNING: C:\\buildkite-agent\\builds\\buildkite-windows-cpu-autoscaling-group-i-0b3782d1791676daf-1\\xgboost\\xgboost-ci-windows\\src\\learner.cc:742: \n",
            "Parameters: { \"max_features\" } are not used.\n",
            "\n",
            "  warnings.warn(smsg, UserWarning)\n",
            "c:\\Users\\chldy\\anaconda3\\envs\\torch\\lib\\site-packages\\xgboost\\core.py:160: UserWarning: [10:17:23] WARNING: C:\\buildkite-agent\\builds\\buildkite-windows-cpu-autoscaling-group-i-0b3782d1791676daf-1\\xgboost\\xgboost-ci-windows\\src\\learner.cc:742: \n",
            "Parameters: { \"max_features\" } are not used.\n",
            "\n",
            "  warnings.warn(smsg, UserWarning)\n",
            "[I 2024-04-12 10:17:23,853] Trial 13 finished with value: 0.96 and parameters: {'reg_lambda': 0.211785646456633, 'n_estimators': 918, 'max_depth': 6, 'max_features': 0.7549805466065399}. Best is trial 2 with value: 0.96.\n",
            "C:\\Users\\chldy\\AppData\\Local\\Temp\\ipykernel_14372\\1062776656.py:12: FutureWarning: suggest_uniform has been deprecated in v3.0.0. This feature will be removed in v6.0.0. See https://github.com/optuna/optuna/releases/tag/v3.0.0. Use suggest_float instead.\n",
            "  reg_lambda = trial.suggest_uniform('reg_lambda',0.01,1)\n",
            "C:\\Users\\chldy\\AppData\\Local\\Temp\\ipykernel_14372\\1062776656.py:18: FutureWarning: suggest_uniform has been deprecated in v3.0.0. This feature will be removed in v6.0.0. See https://github.com/optuna/optuna/releases/tag/v3.0.0. Use suggest_float instead.\n",
            "  max_features = trial.suggest_uniform('max_features',0.01,1)\n",
            "c:\\Users\\chldy\\anaconda3\\envs\\torch\\lib\\site-packages\\xgboost\\core.py:160: UserWarning: [10:17:23] WARNING: C:\\buildkite-agent\\builds\\buildkite-windows-cpu-autoscaling-group-i-0b3782d1791676daf-1\\xgboost\\xgboost-ci-windows\\src\\learner.cc:742: \n",
            "Parameters: { \"max_features\" } are not used.\n",
            "\n",
            "  warnings.warn(smsg, UserWarning)\n",
            "c:\\Users\\chldy\\anaconda3\\envs\\torch\\lib\\site-packages\\xgboost\\core.py:160: UserWarning: [10:17:24] WARNING: C:\\buildkite-agent\\builds\\buildkite-windows-cpu-autoscaling-group-i-0b3782d1791676daf-1\\xgboost\\xgboost-ci-windows\\src\\learner.cc:742: \n",
            "Parameters: { \"max_features\" } are not used.\n",
            "\n",
            "  warnings.warn(smsg, UserWarning)\n",
            "c:\\Users\\chldy\\anaconda3\\envs\\torch\\lib\\site-packages\\xgboost\\core.py:160: UserWarning: [10:17:24] WARNING: C:\\buildkite-agent\\builds\\buildkite-windows-cpu-autoscaling-group-i-0b3782d1791676daf-1\\xgboost\\xgboost-ci-windows\\src\\learner.cc:742: \n",
            "Parameters: { \"max_features\" } are not used.\n",
            "\n",
            "  warnings.warn(smsg, UserWarning)\n",
            "c:\\Users\\chldy\\anaconda3\\envs\\torch\\lib\\site-packages\\xgboost\\core.py:160: UserWarning: [10:17:25] WARNING: C:\\buildkite-agent\\builds\\buildkite-windows-cpu-autoscaling-group-i-0b3782d1791676daf-1\\xgboost\\xgboost-ci-windows\\src\\learner.cc:742: \n",
            "Parameters: { \"max_features\" } are not used.\n",
            "\n",
            "  warnings.warn(smsg, UserWarning)\n",
            "c:\\Users\\chldy\\anaconda3\\envs\\torch\\lib\\site-packages\\xgboost\\core.py:160: UserWarning: [10:17:26] WARNING: C:\\buildkite-agent\\builds\\buildkite-windows-cpu-autoscaling-group-i-0b3782d1791676daf-1\\xgboost\\xgboost-ci-windows\\src\\learner.cc:742: \n",
            "Parameters: { \"max_features\" } are not used.\n",
            "\n",
            "  warnings.warn(smsg, UserWarning)\n",
            "[I 2024-04-12 10:17:26,586] Trial 14 finished with value: 0.96 and parameters: {'reg_lambda': 0.7867513298690021, 'n_estimators': 1260, 'max_depth': 8, 'max_features': 0.8948173796432538}. Best is trial 2 with value: 0.96.\n"
          ]
        }
      ],
      "source": [
        "#importing packages\n",
        "import optuna\n",
        "from functools import partial\n",
        "\n",
        "#defining a method that will perfrom a 5 split cross validation over\n",
        "#dataset and and will produce the optimum value of the accuracy\n",
        "def optimize(trial, x,y):\n",
        "    #parameter set is declare within function\n",
        "    #suggest_uniform : 범위 내의 균일 분포 값을 선택.\n",
        "    #suggest_discrete_uniform : 이산 균등 분포를 값으로 선택.\n",
        "    #suggest_loguniform : 범위 내의 로그 함수 선상의 값을 선택.\n",
        "    reg_lambda = trial.suggest_uniform('reg_lambda',0.01,1)\n",
        "    \n",
        "    n_estimators = trial.suggest_int('n_estimators',100,1500)\n",
        "    \n",
        "    max_depth = trial.suggest_int('max_depth',3,15)\n",
        "    \n",
        "    max_features = trial.suggest_uniform('max_features',0.01,1)\n",
        "    \n",
        "    clf = XGBClassifier(\n",
        "    \n",
        "    n_estimators= n_estimators,\n",
        "\n",
        "    reg_lambda=reg_lambda,\n",
        "\n",
        "    max_depth=max_depth,\n",
        "\n",
        "    max_features= max_features)\n",
        "\n",
        "    kf = model_selection.StratifiedKFold(n_splits=5)\n",
        "\n",
        "    accuracies = []\n",
        "\n",
        "    for idx in kf.split(X=x,y=y):\n",
        "\n",
        "        train_idx,test_idx = idx[0],idx[1]\n",
        "\n",
        "        xtrain = x[train_idx]\n",
        "\n",
        "        ytrain = y[train_idx]\n",
        "\n",
        "        xtest = x[test_idx]\n",
        "\n",
        "        ytest = y[test_idx]\n",
        "\n",
        "        clf.fit(xtrain,ytrain)\n",
        "\n",
        "        preds =  clf.predict(xtest)\n",
        "\n",
        "        fold_acc = metrics.accuracy_score(ytest,preds)\n",
        "\n",
        "        accuracies.append(fold_acc)\n",
        "\n",
        "    return np.mean(accuracies)\n",
        "\n",
        "#defiing optimization_fuction as partial and calling optimize within it\n",
        "\n",
        "optimization_fuction = partial(optimize,x = X, y = y) \n",
        "\n",
        "study = optuna.create_study(direction='maximize')\n",
        "\n",
        "#Printing the best hyperparemeter set\n",
        "\n",
        "study.optimize(optimization_fuction, n_trials=15)"
      ]
    },
    {
      "cell_type": "markdown",
      "metadata": {
        "id": "9zw7Dt_UcOW_"
      },
      "source": [
        "## Create an objective function"
      ]
    },
    {
      "cell_type": "code",
      "execution_count": 13,
      "metadata": {
        "id": "Pr8FbrtvcPdZ"
      },
      "outputs": [],
      "source": [
        "## In optuna, A Trial represents a single call of the objective function\n",
        "## Study shows an optimization session which contains a set of trials\n",
        "## Study: optimization based on an objective function\n",
        "## Trial: a single execution of the objective function\n",
        "\n",
        "## In this demo, \"alpha\" is the hyperparameter which is need to be optimized\n",
        "def objective(trial):\n",
        "   \n",
        "    # hyperparameter setting, trial.suggest_uniform will suggest uniform hyperparameter\n",
        "    #alpha between the range of 0.0 to 2.0, lowest value of interval is closed and \n",
        "    #when low=high, it will return low value\n",
        "    alpha = trial.suggest_uniform('alpha', 0.0, 2.0)\n",
        "    \n",
        "    # data loading and train-test split\n",
        "    X, y = load_iris(return_X_y=True)\n",
        "    X_train, X_val, y_train, y_val = train_test_split(X, y, random_state=0)\n",
        "    \n",
        "    # model training and evaluation\n",
        "    model = sklearn.linear_model.Lasso(alpha=alpha)\n",
        "    model.fit(X_train, y_train)\n",
        "    y_pred = model.predict(X_val)\n",
        "    error = sklearn.metrics.mean_squared_error(y_val, y_pred)\n",
        "\n",
        "    # output: evaluation score\n",
        "    return error"
      ]
    },
    {
      "cell_type": "markdown",
      "metadata": {
        "id": "J5_c2l7TcRKn"
      },
      "source": [
        "## Create an study for that ML model and optimize it"
      ]
    },
    {
      "cell_type": "code",
      "execution_count": 14,
      "metadata": {
        "id": "MDjBVqYkcPfr"
      },
      "outputs": [
        {
          "name": "stderr",
          "output_type": "stream",
          "text": [
            "[I 2024-04-12 10:17:35,806] A new study created in memory with name: no-name-754e209f-c23a-4eab-a0a8-dcc2644716cd\n",
            "C:\\Users\\chldy\\AppData\\Local\\Temp\\ipykernel_14372\\2118815928.py:12: FutureWarning: suggest_uniform has been deprecated in v3.0.0. This feature will be removed in v6.0.0. See https://github.com/optuna/optuna/releases/tag/v3.0.0. Use suggest_float instead.\n",
            "  alpha = trial.suggest_uniform('alpha', 0.0, 2.0)\n",
            "[I 2024-04-12 10:17:35,827] Trial 0 finished with value: 0.5877416756176155 and parameters: {'alpha': 1.7732367839449403}. Best is trial 0 with value: 0.5877416756176155.\n",
            "C:\\Users\\chldy\\AppData\\Local\\Temp\\ipykernel_14372\\2118815928.py:12: FutureWarning: suggest_uniform has been deprecated in v3.0.0. This feature will be removed in v6.0.0. See https://github.com/optuna/optuna/releases/tag/v3.0.0. Use suggest_float instead.\n",
            "  alpha = trial.suggest_uniform('alpha', 0.0, 2.0)\n",
            "[I 2024-04-12 10:17:35,832] Trial 1 finished with value: 0.13019142061832117 and parameters: {'alpha': 0.47222126392270547}. Best is trial 1 with value: 0.13019142061832117.\n",
            "C:\\Users\\chldy\\AppData\\Local\\Temp\\ipykernel_14372\\2118815928.py:12: FutureWarning: suggest_uniform has been deprecated in v3.0.0. This feature will be removed in v6.0.0. See https://github.com/optuna/optuna/releases/tag/v3.0.0. Use suggest_float instead.\n",
            "  alpha = trial.suggest_uniform('alpha', 0.0, 2.0)\n",
            "[I 2024-04-12 10:17:35,839] Trial 2 finished with value: 0.35293722932136634 and parameters: {'alpha': 1.0580401162016204}. Best is trial 1 with value: 0.13019142061832117.\n",
            "C:\\Users\\chldy\\AppData\\Local\\Temp\\ipykernel_14372\\2118815928.py:12: FutureWarning: suggest_uniform has been deprecated in v3.0.0. This feature will be removed in v6.0.0. See https://github.com/optuna/optuna/releases/tag/v3.0.0. Use suggest_float instead.\n",
            "  alpha = trial.suggest_uniform('alpha', 0.0, 2.0)\n",
            "[I 2024-04-12 10:17:35,844] Trial 3 finished with value: 0.5877416756176155 and parameters: {'alpha': 1.4546790590787377}. Best is trial 1 with value: 0.13019142061832117.\n",
            "C:\\Users\\chldy\\AppData\\Local\\Temp\\ipykernel_14372\\2118815928.py:12: FutureWarning: suggest_uniform has been deprecated in v3.0.0. This feature will be removed in v6.0.0. See https://github.com/optuna/optuna/releases/tag/v3.0.0. Use suggest_float instead.\n",
            "  alpha = trial.suggest_uniform('alpha', 0.0, 2.0)\n",
            "[I 2024-04-12 10:17:35,849] Trial 4 finished with value: 0.44907559174419076 and parameters: {'alpha': 1.2236327672609022}. Best is trial 1 with value: 0.13019142061832117.\n",
            "C:\\Users\\chldy\\AppData\\Local\\Temp\\ipykernel_14372\\2118815928.py:12: FutureWarning: suggest_uniform has been deprecated in v3.0.0. This feature will be removed in v6.0.0. See https://github.com/optuna/optuna/releases/tag/v3.0.0. Use suggest_float instead.\n",
            "  alpha = trial.suggest_uniform('alpha', 0.0, 2.0)\n",
            "[I 2024-04-12 10:17:35,854] Trial 5 finished with value: 0.18054918116938504 and parameters: {'alpha': 0.6565562784197898}. Best is trial 1 with value: 0.13019142061832117.\n",
            "C:\\Users\\chldy\\AppData\\Local\\Temp\\ipykernel_14372\\2118815928.py:12: FutureWarning: suggest_uniform has been deprecated in v3.0.0. This feature will be removed in v6.0.0. See https://github.com/optuna/optuna/releases/tag/v3.0.0. Use suggest_float instead.\n",
            "  alpha = trial.suggest_uniform('alpha', 0.0, 2.0)\n",
            "[I 2024-04-12 10:17:35,860] Trial 6 finished with value: 0.5423537397696906 and parameters: {'alpha': 1.3644780168339896}. Best is trial 1 with value: 0.13019142061832117.\n",
            "C:\\Users\\chldy\\AppData\\Local\\Temp\\ipykernel_14372\\2118815928.py:12: FutureWarning: suggest_uniform has been deprecated in v3.0.0. This feature will be removed in v6.0.0. See https://github.com/optuna/optuna/releases/tag/v3.0.0. Use suggest_float instead.\n",
            "  alpha = trial.suggest_uniform('alpha', 0.0, 2.0)\n",
            "[I 2024-04-12 10:17:35,865] Trial 7 finished with value: 0.36520437122349236 and parameters: {'alpha': 1.0806544229158932}. Best is trial 1 with value: 0.13019142061832117.\n",
            "C:\\Users\\chldy\\AppData\\Local\\Temp\\ipykernel_14372\\2118815928.py:12: FutureWarning: suggest_uniform has been deprecated in v3.0.0. This feature will be removed in v6.0.0. See https://github.com/optuna/optuna/releases/tag/v3.0.0. Use suggest_float instead.\n",
            "  alpha = trial.suggest_uniform('alpha', 0.0, 2.0)\n",
            "[I 2024-04-12 10:17:35,871] Trial 8 finished with value: 0.2664996748577229 and parameters: {'alpha': 0.8813930086901904}. Best is trial 1 with value: 0.13019142061832117.\n",
            "C:\\Users\\chldy\\AppData\\Local\\Temp\\ipykernel_14372\\2118815928.py:12: FutureWarning: suggest_uniform has been deprecated in v3.0.0. This feature will be removed in v6.0.0. See https://github.com/optuna/optuna/releases/tag/v3.0.0. Use suggest_float instead.\n",
            "  alpha = trial.suggest_uniform('alpha', 0.0, 2.0)\n",
            "[I 2024-04-12 10:17:35,876] Trial 9 finished with value: 0.5877416756176155 and parameters: {'alpha': 1.5091830854741222}. Best is trial 1 with value: 0.13019142061832117.\n",
            "C:\\Users\\chldy\\AppData\\Local\\Temp\\ipykernel_14372\\2118815928.py:12: FutureWarning: suggest_uniform has been deprecated in v3.0.0. This feature will be removed in v6.0.0. See https://github.com/optuna/optuna/releases/tag/v3.0.0. Use suggest_float instead.\n",
            "  alpha = trial.suggest_uniform('alpha', 0.0, 2.0)\n",
            "[I 2024-04-12 10:17:35,886] Trial 10 finished with value: 0.0952564847105204 and parameters: {'alpha': 0.26536764595124274}. Best is trial 10 with value: 0.0952564847105204.\n",
            "C:\\Users\\chldy\\AppData\\Local\\Temp\\ipykernel_14372\\2118815928.py:12: FutureWarning: suggest_uniform has been deprecated in v3.0.0. This feature will be removed in v6.0.0. See https://github.com/optuna/optuna/releases/tag/v3.0.0. Use suggest_float instead.\n",
            "  alpha = trial.suggest_uniform('alpha', 0.0, 2.0)\n",
            "[I 2024-04-12 10:17:35,895] Trial 11 finished with value: 0.0630548185513529 and parameters: {'alpha': 0.001056555547400806}. Best is trial 11 with value: 0.0630548185513529.\n",
            "C:\\Users\\chldy\\AppData\\Local\\Temp\\ipykernel_14372\\2118815928.py:12: FutureWarning: suggest_uniform has been deprecated in v3.0.0. This feature will be removed in v6.0.0. See https://github.com/optuna/optuna/releases/tag/v3.0.0. Use suggest_float instead.\n",
            "  alpha = trial.suggest_uniform('alpha', 0.0, 2.0)\n",
            "[I 2024-04-12 10:17:35,905] Trial 12 finished with value: 0.06476066685576028 and parameters: {'alpha': 0.016613943287847155}. Best is trial 11 with value: 0.0630548185513529.\n",
            "C:\\Users\\chldy\\AppData\\Local\\Temp\\ipykernel_14372\\2118815928.py:12: FutureWarning: suggest_uniform has been deprecated in v3.0.0. This feature will be removed in v6.0.0. See https://github.com/optuna/optuna/releases/tag/v3.0.0. Use suggest_float instead.\n",
            "  alpha = trial.suggest_uniform('alpha', 0.0, 2.0)\n",
            "[I 2024-04-12 10:17:35,915] Trial 13 finished with value: 0.06362182535180502 and parameters: {'alpha': 0.013535263852441335}. Best is trial 11 with value: 0.0630548185513529.\n",
            "C:\\Users\\chldy\\AppData\\Local\\Temp\\ipykernel_14372\\2118815928.py:12: FutureWarning: suggest_uniform has been deprecated in v3.0.0. This feature will be removed in v6.0.0. See https://github.com/optuna/optuna/releases/tag/v3.0.0. Use suggest_float instead.\n",
            "  alpha = trial.suggest_uniform('alpha', 0.0, 2.0)\n",
            "[I 2024-04-12 10:17:35,952] Trial 14 finished with value: 0.06289507124027431 and parameters: {'alpha': 0.010332908782782698}. Best is trial 14 with value: 0.06289507124027431.\n",
            "C:\\Users\\chldy\\AppData\\Local\\Temp\\ipykernel_14372\\2118815928.py:12: FutureWarning: suggest_uniform has been deprecated in v3.0.0. This feature will be removed in v6.0.0. See https://github.com/optuna/optuna/releases/tag/v3.0.0. Use suggest_float instead.\n",
            "  alpha = trial.suggest_uniform('alpha', 0.0, 2.0)\n",
            "[I 2024-04-12 10:17:35,964] Trial 15 finished with value: 0.11278997290488836 and parameters: {'alpha': 0.3856255448781156}. Best is trial 14 with value: 0.06289507124027431.\n",
            "C:\\Users\\chldy\\AppData\\Local\\Temp\\ipykernel_14372\\2118815928.py:12: FutureWarning: suggest_uniform has been deprecated in v3.0.0. This feature will be removed in v6.0.0. See https://github.com/optuna/optuna/releases/tag/v3.0.0. Use suggest_float instead.\n",
            "  alpha = trial.suggest_uniform('alpha', 0.0, 2.0)\n",
            "[I 2024-04-12 10:17:35,974] Trial 16 finished with value: 0.2007436095332956 and parameters: {'alpha': 0.7162586973416573}. Best is trial 14 with value: 0.06289507124027431.\n",
            "C:\\Users\\chldy\\AppData\\Local\\Temp\\ipykernel_14372\\2118815928.py:12: FutureWarning: suggest_uniform has been deprecated in v3.0.0. This feature will be removed in v6.0.0. See https://github.com/optuna/optuna/releases/tag/v3.0.0. Use suggest_float instead.\n",
            "  alpha = trial.suggest_uniform('alpha', 0.0, 2.0)\n",
            "[I 2024-04-12 10:17:35,984] Trial 17 finished with value: 0.08729674341839203 and parameters: {'alpha': 0.17713252257049494}. Best is trial 14 with value: 0.06289507124027431.\n",
            "C:\\Users\\chldy\\AppData\\Local\\Temp\\ipykernel_14372\\2118815928.py:12: FutureWarning: suggest_uniform has been deprecated in v3.0.0. This feature will be removed in v6.0.0. See https://github.com/optuna/optuna/releases/tag/v3.0.0. Use suggest_float instead.\n",
            "  alpha = trial.suggest_uniform('alpha', 0.0, 2.0)\n",
            "[I 2024-04-12 10:17:35,994] Trial 18 finished with value: 0.14637035610871782 and parameters: {'alpha': 0.5391114962733455}. Best is trial 14 with value: 0.06289507124027431.\n",
            "C:\\Users\\chldy\\AppData\\Local\\Temp\\ipykernel_14372\\2118815928.py:12: FutureWarning: suggest_uniform has been deprecated in v3.0.0. This feature will be removed in v6.0.0. See https://github.com/optuna/optuna/releases/tag/v3.0.0. Use suggest_float instead.\n",
            "  alpha = trial.suggest_uniform('alpha', 0.0, 2.0)\n",
            "[I 2024-04-12 10:17:36,001] Trial 19 finished with value: 0.09169607360951994 and parameters: {'alpha': 0.23135085576937148}. Best is trial 14 with value: 0.06289507124027431.\n",
            "C:\\Users\\chldy\\AppData\\Local\\Temp\\ipykernel_14372\\2118815928.py:12: FutureWarning: suggest_uniform has been deprecated in v3.0.0. This feature will be removed in v6.0.0. See https://github.com/optuna/optuna/releases/tag/v3.0.0. Use suggest_float instead.\n",
            "  alpha = trial.suggest_uniform('alpha', 0.0, 2.0)\n",
            "[I 2024-04-12 10:17:36,010] Trial 20 finished with value: 0.5877416756176155 and parameters: {'alpha': 1.9980225466539596}. Best is trial 14 with value: 0.06289507124027431.\n",
            "C:\\Users\\chldy\\AppData\\Local\\Temp\\ipykernel_14372\\2118815928.py:12: FutureWarning: suggest_uniform has been deprecated in v3.0.0. This feature will be removed in v6.0.0. See https://github.com/optuna/optuna/releases/tag/v3.0.0. Use suggest_float instead.\n",
            "  alpha = trial.suggest_uniform('alpha', 0.0, 2.0)\n",
            "[I 2024-04-12 10:17:36,018] Trial 21 finished with value: 0.06267527682556832 and parameters: {'alpha': 0.008279697535113506}. Best is trial 21 with value: 0.06267527682556832.\n",
            "C:\\Users\\chldy\\AppData\\Local\\Temp\\ipykernel_14372\\2118815928.py:12: FutureWarning: suggest_uniform has been deprecated in v3.0.0. This feature will be removed in v6.0.0. See https://github.com/optuna/optuna/releases/tag/v3.0.0. Use suggest_float instead.\n",
            "  alpha = trial.suggest_uniform('alpha', 0.0, 2.0)\n",
            "[I 2024-04-12 10:17:36,026] Trial 22 finished with value: 0.07862685455099724 and parameters: {'alpha': 0.03650767073070831}. Best is trial 21 with value: 0.06267527682556832.\n",
            "C:\\Users\\chldy\\AppData\\Local\\Temp\\ipykernel_14372\\2118815928.py:12: FutureWarning: suggest_uniform has been deprecated in v3.0.0. This feature will be removed in v6.0.0. See https://github.com/optuna/optuna/releases/tag/v3.0.0. Use suggest_float instead.\n",
            "  alpha = trial.suggest_uniform('alpha', 0.0, 2.0)\n",
            "[I 2024-04-12 10:17:36,033] Trial 23 finished with value: 0.10398505539366482 and parameters: {'alpha': 0.33177429404141906}. Best is trial 21 with value: 0.06267527682556832.\n",
            "C:\\Users\\chldy\\AppData\\Local\\Temp\\ipykernel_14372\\2118815928.py:12: FutureWarning: suggest_uniform has been deprecated in v3.0.0. This feature will be removed in v6.0.0. See https://github.com/optuna/optuna/releases/tag/v3.0.0. Use suggest_float instead.\n",
            "  alpha = trial.suggest_uniform('alpha', 0.0, 2.0)\n",
            "[I 2024-04-12 10:17:36,042] Trial 24 finished with value: 0.08755479180733794 and parameters: {'alpha': 0.18094408140434834}. Best is trial 21 with value: 0.06267527682556832.\n",
            "C:\\Users\\chldy\\AppData\\Local\\Temp\\ipykernel_14372\\2118815928.py:12: FutureWarning: suggest_uniform has been deprecated in v3.0.0. This feature will be removed in v6.0.0. See https://github.com/optuna/optuna/releases/tag/v3.0.0. Use suggest_float instead.\n",
            "  alpha = trial.suggest_uniform('alpha', 0.0, 2.0)\n",
            "[I 2024-04-12 10:17:36,049] Trial 25 finished with value: 0.16232638502836036 and parameters: {'alpha': 0.5970980766053924}. Best is trial 21 with value: 0.06267527682556832.\n",
            "C:\\Users\\chldy\\AppData\\Local\\Temp\\ipykernel_14372\\2118815928.py:12: FutureWarning: suggest_uniform has been deprecated in v3.0.0. This feature will be removed in v6.0.0. See https://github.com/optuna/optuna/releases/tag/v3.0.0. Use suggest_float instead.\n",
            "  alpha = trial.suggest_uniform('alpha', 0.0, 2.0)\n",
            "[I 2024-04-12 10:17:36,058] Trial 26 finished with value: 0.2273454918356021 and parameters: {'alpha': 0.7875438973162009}. Best is trial 21 with value: 0.06267527682556832.\n",
            "C:\\Users\\chldy\\AppData\\Local\\Temp\\ipykernel_14372\\2118815928.py:12: FutureWarning: suggest_uniform has been deprecated in v3.0.0. This feature will be removed in v6.0.0. See https://github.com/optuna/optuna/releases/tag/v3.0.0. Use suggest_float instead.\n",
            "  alpha = trial.suggest_uniform('alpha', 0.0, 2.0)\n",
            "[I 2024-04-12 10:17:36,069] Trial 27 finished with value: 0.08491246631988203 and parameters: {'alpha': 0.13390846820513827}. Best is trial 21 with value: 0.06267527682556832.\n",
            "C:\\Users\\chldy\\AppData\\Local\\Temp\\ipykernel_14372\\2118815928.py:12: FutureWarning: suggest_uniform has been deprecated in v3.0.0. This feature will be removed in v6.0.0. See https://github.com/optuna/optuna/releases/tag/v3.0.0. Use suggest_float instead.\n",
            "  alpha = trial.suggest_uniform('alpha', 0.0, 2.0)\n",
            "[I 2024-04-12 10:17:36,079] Trial 28 finished with value: 0.11604615691261891 and parameters: {'alpha': 0.4034562865187469}. Best is trial 21 with value: 0.06267527682556832.\n",
            "C:\\Users\\chldy\\AppData\\Local\\Temp\\ipykernel_14372\\2118815928.py:12: FutureWarning: suggest_uniform has been deprecated in v3.0.0. This feature will be removed in v6.0.0. See https://github.com/optuna/optuna/releases/tag/v3.0.0. Use suggest_float instead.\n",
            "  alpha = trial.suggest_uniform('alpha', 0.0, 2.0)\n",
            "[I 2024-04-12 10:17:36,087] Trial 29 finished with value: 0.08560242995146347 and parameters: {'alpha': 0.14843139483038084}. Best is trial 21 with value: 0.06267527682556832.\n",
            "C:\\Users\\chldy\\AppData\\Local\\Temp\\ipykernel_14372\\2118815928.py:12: FutureWarning: suggest_uniform has been deprecated in v3.0.0. This feature will be removed in v6.0.0. See https://github.com/optuna/optuna/releases/tag/v3.0.0. Use suggest_float instead.\n",
            "  alpha = trial.suggest_uniform('alpha', 0.0, 2.0)\n",
            "[I 2024-04-12 10:17:36,098] Trial 30 finished with value: 0.10027212273079919 and parameters: {'alpha': 0.3056607511140197}. Best is trial 21 with value: 0.06267527682556832.\n",
            "C:\\Users\\chldy\\AppData\\Local\\Temp\\ipykernel_14372\\2118815928.py:12: FutureWarning: suggest_uniform has been deprecated in v3.0.0. This feature will be removed in v6.0.0. See https://github.com/optuna/optuna/releases/tag/v3.0.0. Use suggest_float instead.\n",
            "  alpha = trial.suggest_uniform('alpha', 0.0, 2.0)\n",
            "[I 2024-04-12 10:17:36,109] Trial 31 finished with value: 0.06616007390345797 and parameters: {'alpha': 0.019391378482072518}. Best is trial 21 with value: 0.06267527682556832.\n",
            "C:\\Users\\chldy\\AppData\\Local\\Temp\\ipykernel_14372\\2118815928.py:12: FutureWarning: suggest_uniform has been deprecated in v3.0.0. This feature will be removed in v6.0.0. See https://github.com/optuna/optuna/releases/tag/v3.0.0. Use suggest_float instead.\n",
            "  alpha = trial.suggest_uniform('alpha', 0.0, 2.0)\n",
            "[I 2024-04-12 10:17:36,117] Trial 32 finished with value: 0.08385083005986903 and parameters: {'alpha': 0.10417910133773818}. Best is trial 21 with value: 0.06267527682556832.\n",
            "C:\\Users\\chldy\\AppData\\Local\\Temp\\ipykernel_14372\\2118815928.py:12: FutureWarning: suggest_uniform has been deprecated in v3.0.0. This feature will be removed in v6.0.0. See https://github.com/optuna/optuna/releases/tag/v3.0.0. Use suggest_float instead.\n",
            "  alpha = trial.suggest_uniform('alpha', 0.0, 2.0)\n",
            "[I 2024-04-12 10:17:36,126] Trial 33 finished with value: 0.1312428381934754 and parameters: {'alpha': 0.4768883615453762}. Best is trial 21 with value: 0.06267527682556832.\n",
            "C:\\Users\\chldy\\AppData\\Local\\Temp\\ipykernel_14372\\2118815928.py:12: FutureWarning: suggest_uniform has been deprecated in v3.0.0. This feature will be removed in v6.0.0. See https://github.com/optuna/optuna/releases/tag/v3.0.0. Use suggest_float instead.\n",
            "  alpha = trial.suggest_uniform('alpha', 0.0, 2.0)\n",
            "[I 2024-04-12 10:17:36,135] Trial 34 finished with value: 0.06259521513009556 and parameters: {'alpha': 0.005941108154284889}. Best is trial 34 with value: 0.06259521513009556.\n",
            "C:\\Users\\chldy\\AppData\\Local\\Temp\\ipykernel_14372\\2118815928.py:12: FutureWarning: suggest_uniform has been deprecated in v3.0.0. This feature will be removed in v6.0.0. See https://github.com/optuna/optuna/releases/tag/v3.0.0. Use suggest_float instead.\n",
            "  alpha = trial.suggest_uniform('alpha', 0.0, 2.0)\n",
            "[I 2024-04-12 10:17:36,144] Trial 35 finished with value: 0.09478980731677436 and parameters: {'alpha': 0.2612242322399936}. Best is trial 34 with value: 0.06259521513009556.\n",
            "C:\\Users\\chldy\\AppData\\Local\\Temp\\ipykernel_14372\\2118815928.py:12: FutureWarning: suggest_uniform has been deprecated in v3.0.0. This feature will be removed in v6.0.0. See https://github.com/optuna/optuna/releases/tag/v3.0.0. Use suggest_float instead.\n",
            "  alpha = trial.suggest_uniform('alpha', 0.0, 2.0)\n",
            "[I 2024-04-12 10:17:36,151] Trial 36 finished with value: 0.12174448169235036 and parameters: {'alpha': 0.4326552015931411}. Best is trial 34 with value: 0.06259521513009556.\n",
            "C:\\Users\\chldy\\AppData\\Local\\Temp\\ipykernel_14372\\2118815928.py:12: FutureWarning: suggest_uniform has been deprecated in v3.0.0. This feature will be removed in v6.0.0. See https://github.com/optuna/optuna/releases/tag/v3.0.0. Use suggest_float instead.\n",
            "  alpha = trial.suggest_uniform('alpha', 0.0, 2.0)\n",
            "[I 2024-04-12 10:17:36,161] Trial 37 finished with value: 0.08411433261879477 and parameters: {'alpha': 0.1129285849424495}. Best is trial 34 with value: 0.06259521513009556.\n",
            "C:\\Users\\chldy\\AppData\\Local\\Temp\\ipykernel_14372\\2118815928.py:12: FutureWarning: suggest_uniform has been deprecated in v3.0.0. This feature will be removed in v6.0.0. See https://github.com/optuna/optuna/releases/tag/v3.0.0. Use suggest_float instead.\n",
            "  alpha = trial.suggest_uniform('alpha', 0.0, 2.0)\n",
            "[I 2024-04-12 10:17:36,169] Trial 38 finished with value: 0.5877416756176155 and parameters: {'alpha': 1.6442319736424302}. Best is trial 34 with value: 0.06259521513009556.\n",
            "C:\\Users\\chldy\\AppData\\Local\\Temp\\ipykernel_14372\\2118815928.py:12: FutureWarning: suggest_uniform has been deprecated in v3.0.0. This feature will be removed in v6.0.0. See https://github.com/optuna/optuna/releases/tag/v3.0.0. Use suggest_float instead.\n",
            "  alpha = trial.suggest_uniform('alpha', 0.0, 2.0)\n",
            "[I 2024-04-12 10:17:36,180] Trial 39 finished with value: 0.4121227668188719 and parameters: {'alpha': 1.162908167460443}. Best is trial 34 with value: 0.06259521513009556.\n",
            "C:\\Users\\chldy\\AppData\\Local\\Temp\\ipykernel_14372\\2118815928.py:12: FutureWarning: suggest_uniform has been deprecated in v3.0.0. This feature will be removed in v6.0.0. See https://github.com/optuna/optuna/releases/tag/v3.0.0. Use suggest_float instead.\n",
            "  alpha = trial.suggest_uniform('alpha', 0.0, 2.0)\n",
            "[I 2024-04-12 10:17:36,190] Trial 40 finished with value: 0.14072003967695013 and parameters: {'alpha': 0.5168460640236331}. Best is trial 34 with value: 0.06259521513009556.\n",
            "C:\\Users\\chldy\\AppData\\Local\\Temp\\ipykernel_14372\\2118815928.py:12: FutureWarning: suggest_uniform has been deprecated in v3.0.0. This feature will be removed in v6.0.0. See https://github.com/optuna/optuna/releases/tag/v3.0.0. Use suggest_float instead.\n",
            "  alpha = trial.suggest_uniform('alpha', 0.0, 2.0)\n",
            "[I 2024-04-12 10:17:36,199] Trial 41 finished with value: 0.06567107341704125 and parameters: {'alpha': 0.018497117097635577}. Best is trial 34 with value: 0.06259521513009556.\n",
            "C:\\Users\\chldy\\AppData\\Local\\Temp\\ipykernel_14372\\2118815928.py:12: FutureWarning: suggest_uniform has been deprecated in v3.0.0. This feature will be removed in v6.0.0. See https://github.com/optuna/optuna/releases/tag/v3.0.0. Use suggest_float instead.\n",
            "  alpha = trial.suggest_uniform('alpha', 0.0, 2.0)\n",
            "[I 2024-04-12 10:17:36,209] Trial 42 finished with value: 0.0837759280920849 and parameters: {'alpha': 0.10140958626116747}. Best is trial 34 with value: 0.06259521513009556.\n",
            "C:\\Users\\chldy\\AppData\\Local\\Temp\\ipykernel_14372\\2118815928.py:12: FutureWarning: suggest_uniform has been deprecated in v3.0.0. This feature will be removed in v6.0.0. See https://github.com/optuna/optuna/releases/tag/v3.0.0. Use suggest_float instead.\n",
            "  alpha = trial.suggest_uniform('alpha', 0.0, 2.0)\n",
            "[I 2024-04-12 10:17:36,219] Trial 43 finished with value: 0.06352782279541676 and parameters: {'alpha': 0.013214091253115174}. Best is trial 34 with value: 0.06259521513009556.\n",
            "C:\\Users\\chldy\\AppData\\Local\\Temp\\ipykernel_14372\\2118815928.py:12: FutureWarning: suggest_uniform has been deprecated in v3.0.0. This feature will be removed in v6.0.0. See https://github.com/optuna/optuna/releases/tag/v3.0.0. Use suggest_float instead.\n",
            "  alpha = trial.suggest_uniform('alpha', 0.0, 2.0)\n",
            "[I 2024-04-12 10:17:36,230] Trial 44 finished with value: 0.09476461456039612 and parameters: {'alpha': 0.26099821963862896}. Best is trial 34 with value: 0.06259521513009556.\n",
            "C:\\Users\\chldy\\AppData\\Local\\Temp\\ipykernel_14372\\2118815928.py:12: FutureWarning: suggest_uniform has been deprecated in v3.0.0. This feature will be removed in v6.0.0. See https://github.com/optuna/optuna/releases/tag/v3.0.0. Use suggest_float instead.\n",
            "  alpha = trial.suggest_uniform('alpha', 0.0, 2.0)\n",
            "[I 2024-04-12 10:17:36,238] Trial 45 finished with value: 0.31362882819405097 and parameters: {'alpha': 0.9818779719324807}. Best is trial 34 with value: 0.06259521513009556.\n",
            "C:\\Users\\chldy\\AppData\\Local\\Temp\\ipykernel_14372\\2118815928.py:12: FutureWarning: suggest_uniform has been deprecated in v3.0.0. This feature will be removed in v6.0.0. See https://github.com/optuna/optuna/releases/tag/v3.0.0. Use suggest_float instead.\n",
            "  alpha = trial.suggest_uniform('alpha', 0.0, 2.0)\n",
            "[I 2024-04-12 10:17:36,248] Trial 46 finished with value: 0.10537856502126311 and parameters: {'alpha': 0.3409664676316824}. Best is trial 34 with value: 0.06259521513009556.\n",
            "C:\\Users\\chldy\\AppData\\Local\\Temp\\ipykernel_14372\\2118815928.py:12: FutureWarning: suggest_uniform has been deprecated in v3.0.0. This feature will be removed in v6.0.0. See https://github.com/optuna/optuna/releases/tag/v3.0.0. Use suggest_float instead.\n",
            "  alpha = trial.suggest_uniform('alpha', 0.0, 2.0)\n",
            "[I 2024-04-12 10:17:36,259] Trial 47 finished with value: 0.08856761622019378 and parameters: {'alpha': 0.19492462655915543}. Best is trial 34 with value: 0.06259521513009556.\n",
            "C:\\Users\\chldy\\AppData\\Local\\Temp\\ipykernel_14372\\2118815928.py:12: FutureWarning: suggest_uniform has been deprecated in v3.0.0. This feature will be removed in v6.0.0. See https://github.com/optuna/optuna/releases/tag/v3.0.0. Use suggest_float instead.\n",
            "  alpha = trial.suggest_uniform('alpha', 0.0, 2.0)\n",
            "[I 2024-04-12 10:17:36,268] Trial 48 finished with value: 0.08384312244337758 and parameters: {'alpha': 0.10390094245230726}. Best is trial 34 with value: 0.06259521513009556.\n",
            "C:\\Users\\chldy\\AppData\\Local\\Temp\\ipykernel_14372\\2118815928.py:12: FutureWarning: suggest_uniform has been deprecated in v3.0.0. This feature will be removed in v6.0.0. See https://github.com/optuna/optuna/releases/tag/v3.0.0. Use suggest_float instead.\n",
            "  alpha = trial.suggest_uniform('alpha', 0.0, 2.0)\n",
            "[I 2024-04-12 10:17:36,277] Trial 49 finished with value: 0.06271406987655928 and parameters: {'alpha': 0.008815362760714094}. Best is trial 34 with value: 0.06259521513009556.\n"
          ]
        }
      ],
      "source": [
        "import sklearn\n",
        "# In Optuna, we use the study object to manage optimization.\n",
        "# Method :func:`~optuna.create_study` returns a study object.\n",
        "# A study object has useful properties for analyzing the optimization outcome.\n",
        "study = optuna.create_study(direction='minimize') #Set minimize for minimization and maximize for maximization.\n",
        "#To start the optimization, we create a study object and pass the objective function to method\n",
        "study.optimize(objective, n_trials=50)"
      ]
    },
    {
      "cell_type": "markdown",
      "metadata": {
        "id": "3vQMiNdmcTqW"
      },
      "source": [
        "## Visualized the above hyperparameter optimization study"
      ]
    },
    {
      "cell_type": "code",
      "execution_count": 15,
      "metadata": {
        "id": "CFlHgvK9cPh4"
      },
      "outputs": [],
      "source": [
        "#importing all the plot functions\n",
        "from optuna.visualization import plot_edf\n",
        "from optuna.visualization import plot_optimization_history\n",
        "from optuna.visualization import plot_parallel_coordinate\n",
        "from optuna.visualization import plot_param_importances\n",
        "from optuna.visualization import plot_slice"
      ]
    },
    {
      "cell_type": "code",
      "execution_count": 16,
      "metadata": {
        "id": "E3dHCwofcVE4"
      },
      "outputs": [
        {
          "data": {
            "application/vnd.plotly.v1+json": {
              "config": {
                "plotlyServerURL": "https://plot.ly"
              },
              "data": [
                {
                  "mode": "markers",
                  "name": "Objective Value",
                  "type": "scatter",
                  "x": [
                    0,
                    1,
                    2,
                    3,
                    4,
                    5,
                    6,
                    7,
                    8,
                    9,
                    10,
                    11,
                    12,
                    13,
                    14,
                    15,
                    16,
                    17,
                    18,
                    19,
                    20,
                    21,
                    22,
                    23,
                    24,
                    25,
                    26,
                    27,
                    28,
                    29,
                    30,
                    31,
                    32,
                    33,
                    34,
                    35,
                    36,
                    37,
                    38,
                    39,
                    40,
                    41,
                    42,
                    43,
                    44,
                    45,
                    46,
                    47,
                    48,
                    49
                  ],
                  "y": [
                    0.5877416756176155,
                    0.13019142061832117,
                    0.35293722932136634,
                    0.5877416756176155,
                    0.44907559174419076,
                    0.18054918116938504,
                    0.5423537397696906,
                    0.36520437122349236,
                    0.2664996748577229,
                    0.5877416756176155,
                    0.0952564847105204,
                    0.0630548185513529,
                    0.06476066685576028,
                    0.06362182535180502,
                    0.06289507124027431,
                    0.11278997290488836,
                    0.2007436095332956,
                    0.08729674341839203,
                    0.14637035610871782,
                    0.09169607360951994,
                    0.5877416756176155,
                    0.06267527682556832,
                    0.07862685455099724,
                    0.10398505539366482,
                    0.08755479180733794,
                    0.16232638502836036,
                    0.2273454918356021,
                    0.08491246631988203,
                    0.11604615691261891,
                    0.08560242995146347,
                    0.10027212273079919,
                    0.06616007390345797,
                    0.08385083005986903,
                    0.1312428381934754,
                    0.06259521513009556,
                    0.09478980731677436,
                    0.12174448169235036,
                    0.08411433261879477,
                    0.5877416756176155,
                    0.4121227668188719,
                    0.14072003967695013,
                    0.06567107341704125,
                    0.0837759280920849,
                    0.06352782279541676,
                    0.09476461456039612,
                    0.31362882819405097,
                    0.10537856502126311,
                    0.08856761622019378,
                    0.08384312244337758,
                    0.06271406987655928
                  ]
                },
                {
                  "mode": "lines",
                  "name": "Best Value",
                  "type": "scatter",
                  "x": [
                    0,
                    1,
                    2,
                    3,
                    4,
                    5,
                    6,
                    7,
                    8,
                    9,
                    10,
                    11,
                    12,
                    13,
                    14,
                    15,
                    16,
                    17,
                    18,
                    19,
                    20,
                    21,
                    22,
                    23,
                    24,
                    25,
                    26,
                    27,
                    28,
                    29,
                    30,
                    31,
                    32,
                    33,
                    34,
                    35,
                    36,
                    37,
                    38,
                    39,
                    40,
                    41,
                    42,
                    43,
                    44,
                    45,
                    46,
                    47,
                    48,
                    49
                  ],
                  "y": [
                    0.5877416756176155,
                    0.13019142061832117,
                    0.13019142061832117,
                    0.13019142061832117,
                    0.13019142061832117,
                    0.13019142061832117,
                    0.13019142061832117,
                    0.13019142061832117,
                    0.13019142061832117,
                    0.13019142061832117,
                    0.0952564847105204,
                    0.0630548185513529,
                    0.0630548185513529,
                    0.0630548185513529,
                    0.06289507124027431,
                    0.06289507124027431,
                    0.06289507124027431,
                    0.06289507124027431,
                    0.06289507124027431,
                    0.06289507124027431,
                    0.06289507124027431,
                    0.06267527682556832,
                    0.06267527682556832,
                    0.06267527682556832,
                    0.06267527682556832,
                    0.06267527682556832,
                    0.06267527682556832,
                    0.06267527682556832,
                    0.06267527682556832,
                    0.06267527682556832,
                    0.06267527682556832,
                    0.06267527682556832,
                    0.06267527682556832,
                    0.06267527682556832,
                    0.06259521513009556,
                    0.06259521513009556,
                    0.06259521513009556,
                    0.06259521513009556,
                    0.06259521513009556,
                    0.06259521513009556,
                    0.06259521513009556,
                    0.06259521513009556,
                    0.06259521513009556,
                    0.06259521513009556,
                    0.06259521513009556,
                    0.06259521513009556,
                    0.06259521513009556,
                    0.06259521513009556,
                    0.06259521513009556,
                    0.06259521513009556
                  ]
                },
                {
                  "marker": {
                    "color": "#cccccc"
                  },
                  "mode": "markers",
                  "name": "Infeasible Trial",
                  "showlegend": false,
                  "type": "scatter",
                  "x": [],
                  "y": []
                }
              ],
              "layout": {
                "template": {
                  "data": {
                    "bar": [
                      {
                        "error_x": {
                          "color": "#2a3f5f"
                        },
                        "error_y": {
                          "color": "#2a3f5f"
                        },
                        "marker": {
                          "line": {
                            "color": "#E5ECF6",
                            "width": 0.5
                          },
                          "pattern": {
                            "fillmode": "overlay",
                            "size": 10,
                            "solidity": 0.2
                          }
                        },
                        "type": "bar"
                      }
                    ],
                    "barpolar": [
                      {
                        "marker": {
                          "line": {
                            "color": "#E5ECF6",
                            "width": 0.5
                          },
                          "pattern": {
                            "fillmode": "overlay",
                            "size": 10,
                            "solidity": 0.2
                          }
                        },
                        "type": "barpolar"
                      }
                    ],
                    "carpet": [
                      {
                        "aaxis": {
                          "endlinecolor": "#2a3f5f",
                          "gridcolor": "white",
                          "linecolor": "white",
                          "minorgridcolor": "white",
                          "startlinecolor": "#2a3f5f"
                        },
                        "baxis": {
                          "endlinecolor": "#2a3f5f",
                          "gridcolor": "white",
                          "linecolor": "white",
                          "minorgridcolor": "white",
                          "startlinecolor": "#2a3f5f"
                        },
                        "type": "carpet"
                      }
                    ],
                    "choropleth": [
                      {
                        "colorbar": {
                          "outlinewidth": 0,
                          "ticks": ""
                        },
                        "type": "choropleth"
                      }
                    ],
                    "contour": [
                      {
                        "colorbar": {
                          "outlinewidth": 0,
                          "ticks": ""
                        },
                        "colorscale": [
                          [
                            0,
                            "#0d0887"
                          ],
                          [
                            0.1111111111111111,
                            "#46039f"
                          ],
                          [
                            0.2222222222222222,
                            "#7201a8"
                          ],
                          [
                            0.3333333333333333,
                            "#9c179e"
                          ],
                          [
                            0.4444444444444444,
                            "#bd3786"
                          ],
                          [
                            0.5555555555555556,
                            "#d8576b"
                          ],
                          [
                            0.6666666666666666,
                            "#ed7953"
                          ],
                          [
                            0.7777777777777778,
                            "#fb9f3a"
                          ],
                          [
                            0.8888888888888888,
                            "#fdca26"
                          ],
                          [
                            1,
                            "#f0f921"
                          ]
                        ],
                        "type": "contour"
                      }
                    ],
                    "contourcarpet": [
                      {
                        "colorbar": {
                          "outlinewidth": 0,
                          "ticks": ""
                        },
                        "type": "contourcarpet"
                      }
                    ],
                    "heatmap": [
                      {
                        "colorbar": {
                          "outlinewidth": 0,
                          "ticks": ""
                        },
                        "colorscale": [
                          [
                            0,
                            "#0d0887"
                          ],
                          [
                            0.1111111111111111,
                            "#46039f"
                          ],
                          [
                            0.2222222222222222,
                            "#7201a8"
                          ],
                          [
                            0.3333333333333333,
                            "#9c179e"
                          ],
                          [
                            0.4444444444444444,
                            "#bd3786"
                          ],
                          [
                            0.5555555555555556,
                            "#d8576b"
                          ],
                          [
                            0.6666666666666666,
                            "#ed7953"
                          ],
                          [
                            0.7777777777777778,
                            "#fb9f3a"
                          ],
                          [
                            0.8888888888888888,
                            "#fdca26"
                          ],
                          [
                            1,
                            "#f0f921"
                          ]
                        ],
                        "type": "heatmap"
                      }
                    ],
                    "heatmapgl": [
                      {
                        "colorbar": {
                          "outlinewidth": 0,
                          "ticks": ""
                        },
                        "colorscale": [
                          [
                            0,
                            "#0d0887"
                          ],
                          [
                            0.1111111111111111,
                            "#46039f"
                          ],
                          [
                            0.2222222222222222,
                            "#7201a8"
                          ],
                          [
                            0.3333333333333333,
                            "#9c179e"
                          ],
                          [
                            0.4444444444444444,
                            "#bd3786"
                          ],
                          [
                            0.5555555555555556,
                            "#d8576b"
                          ],
                          [
                            0.6666666666666666,
                            "#ed7953"
                          ],
                          [
                            0.7777777777777778,
                            "#fb9f3a"
                          ],
                          [
                            0.8888888888888888,
                            "#fdca26"
                          ],
                          [
                            1,
                            "#f0f921"
                          ]
                        ],
                        "type": "heatmapgl"
                      }
                    ],
                    "histogram": [
                      {
                        "marker": {
                          "pattern": {
                            "fillmode": "overlay",
                            "size": 10,
                            "solidity": 0.2
                          }
                        },
                        "type": "histogram"
                      }
                    ],
                    "histogram2d": [
                      {
                        "colorbar": {
                          "outlinewidth": 0,
                          "ticks": ""
                        },
                        "colorscale": [
                          [
                            0,
                            "#0d0887"
                          ],
                          [
                            0.1111111111111111,
                            "#46039f"
                          ],
                          [
                            0.2222222222222222,
                            "#7201a8"
                          ],
                          [
                            0.3333333333333333,
                            "#9c179e"
                          ],
                          [
                            0.4444444444444444,
                            "#bd3786"
                          ],
                          [
                            0.5555555555555556,
                            "#d8576b"
                          ],
                          [
                            0.6666666666666666,
                            "#ed7953"
                          ],
                          [
                            0.7777777777777778,
                            "#fb9f3a"
                          ],
                          [
                            0.8888888888888888,
                            "#fdca26"
                          ],
                          [
                            1,
                            "#f0f921"
                          ]
                        ],
                        "type": "histogram2d"
                      }
                    ],
                    "histogram2dcontour": [
                      {
                        "colorbar": {
                          "outlinewidth": 0,
                          "ticks": ""
                        },
                        "colorscale": [
                          [
                            0,
                            "#0d0887"
                          ],
                          [
                            0.1111111111111111,
                            "#46039f"
                          ],
                          [
                            0.2222222222222222,
                            "#7201a8"
                          ],
                          [
                            0.3333333333333333,
                            "#9c179e"
                          ],
                          [
                            0.4444444444444444,
                            "#bd3786"
                          ],
                          [
                            0.5555555555555556,
                            "#d8576b"
                          ],
                          [
                            0.6666666666666666,
                            "#ed7953"
                          ],
                          [
                            0.7777777777777778,
                            "#fb9f3a"
                          ],
                          [
                            0.8888888888888888,
                            "#fdca26"
                          ],
                          [
                            1,
                            "#f0f921"
                          ]
                        ],
                        "type": "histogram2dcontour"
                      }
                    ],
                    "mesh3d": [
                      {
                        "colorbar": {
                          "outlinewidth": 0,
                          "ticks": ""
                        },
                        "type": "mesh3d"
                      }
                    ],
                    "parcoords": [
                      {
                        "line": {
                          "colorbar": {
                            "outlinewidth": 0,
                            "ticks": ""
                          }
                        },
                        "type": "parcoords"
                      }
                    ],
                    "pie": [
                      {
                        "automargin": true,
                        "type": "pie"
                      }
                    ],
                    "scatter": [
                      {
                        "fillpattern": {
                          "fillmode": "overlay",
                          "size": 10,
                          "solidity": 0.2
                        },
                        "type": "scatter"
                      }
                    ],
                    "scatter3d": [
                      {
                        "line": {
                          "colorbar": {
                            "outlinewidth": 0,
                            "ticks": ""
                          }
                        },
                        "marker": {
                          "colorbar": {
                            "outlinewidth": 0,
                            "ticks": ""
                          }
                        },
                        "type": "scatter3d"
                      }
                    ],
                    "scattercarpet": [
                      {
                        "marker": {
                          "colorbar": {
                            "outlinewidth": 0,
                            "ticks": ""
                          }
                        },
                        "type": "scattercarpet"
                      }
                    ],
                    "scattergeo": [
                      {
                        "marker": {
                          "colorbar": {
                            "outlinewidth": 0,
                            "ticks": ""
                          }
                        },
                        "type": "scattergeo"
                      }
                    ],
                    "scattergl": [
                      {
                        "marker": {
                          "colorbar": {
                            "outlinewidth": 0,
                            "ticks": ""
                          }
                        },
                        "type": "scattergl"
                      }
                    ],
                    "scattermapbox": [
                      {
                        "marker": {
                          "colorbar": {
                            "outlinewidth": 0,
                            "ticks": ""
                          }
                        },
                        "type": "scattermapbox"
                      }
                    ],
                    "scatterpolar": [
                      {
                        "marker": {
                          "colorbar": {
                            "outlinewidth": 0,
                            "ticks": ""
                          }
                        },
                        "type": "scatterpolar"
                      }
                    ],
                    "scatterpolargl": [
                      {
                        "marker": {
                          "colorbar": {
                            "outlinewidth": 0,
                            "ticks": ""
                          }
                        },
                        "type": "scatterpolargl"
                      }
                    ],
                    "scatterternary": [
                      {
                        "marker": {
                          "colorbar": {
                            "outlinewidth": 0,
                            "ticks": ""
                          }
                        },
                        "type": "scatterternary"
                      }
                    ],
                    "surface": [
                      {
                        "colorbar": {
                          "outlinewidth": 0,
                          "ticks": ""
                        },
                        "colorscale": [
                          [
                            0,
                            "#0d0887"
                          ],
                          [
                            0.1111111111111111,
                            "#46039f"
                          ],
                          [
                            0.2222222222222222,
                            "#7201a8"
                          ],
                          [
                            0.3333333333333333,
                            "#9c179e"
                          ],
                          [
                            0.4444444444444444,
                            "#bd3786"
                          ],
                          [
                            0.5555555555555556,
                            "#d8576b"
                          ],
                          [
                            0.6666666666666666,
                            "#ed7953"
                          ],
                          [
                            0.7777777777777778,
                            "#fb9f3a"
                          ],
                          [
                            0.8888888888888888,
                            "#fdca26"
                          ],
                          [
                            1,
                            "#f0f921"
                          ]
                        ],
                        "type": "surface"
                      }
                    ],
                    "table": [
                      {
                        "cells": {
                          "fill": {
                            "color": "#EBF0F8"
                          },
                          "line": {
                            "color": "white"
                          }
                        },
                        "header": {
                          "fill": {
                            "color": "#C8D4E3"
                          },
                          "line": {
                            "color": "white"
                          }
                        },
                        "type": "table"
                      }
                    ]
                  },
                  "layout": {
                    "annotationdefaults": {
                      "arrowcolor": "#2a3f5f",
                      "arrowhead": 0,
                      "arrowwidth": 1
                    },
                    "autotypenumbers": "strict",
                    "coloraxis": {
                      "colorbar": {
                        "outlinewidth": 0,
                        "ticks": ""
                      }
                    },
                    "colorscale": {
                      "diverging": [
                        [
                          0,
                          "#8e0152"
                        ],
                        [
                          0.1,
                          "#c51b7d"
                        ],
                        [
                          0.2,
                          "#de77ae"
                        ],
                        [
                          0.3,
                          "#f1b6da"
                        ],
                        [
                          0.4,
                          "#fde0ef"
                        ],
                        [
                          0.5,
                          "#f7f7f7"
                        ],
                        [
                          0.6,
                          "#e6f5d0"
                        ],
                        [
                          0.7,
                          "#b8e186"
                        ],
                        [
                          0.8,
                          "#7fbc41"
                        ],
                        [
                          0.9,
                          "#4d9221"
                        ],
                        [
                          1,
                          "#276419"
                        ]
                      ],
                      "sequential": [
                        [
                          0,
                          "#0d0887"
                        ],
                        [
                          0.1111111111111111,
                          "#46039f"
                        ],
                        [
                          0.2222222222222222,
                          "#7201a8"
                        ],
                        [
                          0.3333333333333333,
                          "#9c179e"
                        ],
                        [
                          0.4444444444444444,
                          "#bd3786"
                        ],
                        [
                          0.5555555555555556,
                          "#d8576b"
                        ],
                        [
                          0.6666666666666666,
                          "#ed7953"
                        ],
                        [
                          0.7777777777777778,
                          "#fb9f3a"
                        ],
                        [
                          0.8888888888888888,
                          "#fdca26"
                        ],
                        [
                          1,
                          "#f0f921"
                        ]
                      ],
                      "sequentialminus": [
                        [
                          0,
                          "#0d0887"
                        ],
                        [
                          0.1111111111111111,
                          "#46039f"
                        ],
                        [
                          0.2222222222222222,
                          "#7201a8"
                        ],
                        [
                          0.3333333333333333,
                          "#9c179e"
                        ],
                        [
                          0.4444444444444444,
                          "#bd3786"
                        ],
                        [
                          0.5555555555555556,
                          "#d8576b"
                        ],
                        [
                          0.6666666666666666,
                          "#ed7953"
                        ],
                        [
                          0.7777777777777778,
                          "#fb9f3a"
                        ],
                        [
                          0.8888888888888888,
                          "#fdca26"
                        ],
                        [
                          1,
                          "#f0f921"
                        ]
                      ]
                    },
                    "colorway": [
                      "#636efa",
                      "#EF553B",
                      "#00cc96",
                      "#ab63fa",
                      "#FFA15A",
                      "#19d3f3",
                      "#FF6692",
                      "#B6E880",
                      "#FF97FF",
                      "#FECB52"
                    ],
                    "font": {
                      "color": "#2a3f5f"
                    },
                    "geo": {
                      "bgcolor": "white",
                      "lakecolor": "white",
                      "landcolor": "#E5ECF6",
                      "showlakes": true,
                      "showland": true,
                      "subunitcolor": "white"
                    },
                    "hoverlabel": {
                      "align": "left"
                    },
                    "hovermode": "closest",
                    "mapbox": {
                      "style": "light"
                    },
                    "paper_bgcolor": "white",
                    "plot_bgcolor": "#E5ECF6",
                    "polar": {
                      "angularaxis": {
                        "gridcolor": "white",
                        "linecolor": "white",
                        "ticks": ""
                      },
                      "bgcolor": "#E5ECF6",
                      "radialaxis": {
                        "gridcolor": "white",
                        "linecolor": "white",
                        "ticks": ""
                      }
                    },
                    "scene": {
                      "xaxis": {
                        "backgroundcolor": "#E5ECF6",
                        "gridcolor": "white",
                        "gridwidth": 2,
                        "linecolor": "white",
                        "showbackground": true,
                        "ticks": "",
                        "zerolinecolor": "white"
                      },
                      "yaxis": {
                        "backgroundcolor": "#E5ECF6",
                        "gridcolor": "white",
                        "gridwidth": 2,
                        "linecolor": "white",
                        "showbackground": true,
                        "ticks": "",
                        "zerolinecolor": "white"
                      },
                      "zaxis": {
                        "backgroundcolor": "#E5ECF6",
                        "gridcolor": "white",
                        "gridwidth": 2,
                        "linecolor": "white",
                        "showbackground": true,
                        "ticks": "",
                        "zerolinecolor": "white"
                      }
                    },
                    "shapedefaults": {
                      "line": {
                        "color": "#2a3f5f"
                      }
                    },
                    "ternary": {
                      "aaxis": {
                        "gridcolor": "white",
                        "linecolor": "white",
                        "ticks": ""
                      },
                      "baxis": {
                        "gridcolor": "white",
                        "linecolor": "white",
                        "ticks": ""
                      },
                      "bgcolor": "#E5ECF6",
                      "caxis": {
                        "gridcolor": "white",
                        "linecolor": "white",
                        "ticks": ""
                      }
                    },
                    "title": {
                      "x": 0.05
                    },
                    "xaxis": {
                      "automargin": true,
                      "gridcolor": "white",
                      "linecolor": "white",
                      "ticks": "",
                      "title": {
                        "standoff": 15
                      },
                      "zerolinecolor": "white",
                      "zerolinewidth": 2
                    },
                    "yaxis": {
                      "automargin": true,
                      "gridcolor": "white",
                      "linecolor": "white",
                      "ticks": "",
                      "title": {
                        "standoff": 15
                      },
                      "zerolinecolor": "white",
                      "zerolinewidth": 2
                    }
                  }
                },
                "title": {
                  "text": "Optimization History Plot"
                },
                "xaxis": {
                  "title": {
                    "text": "Trial"
                  }
                },
                "yaxis": {
                  "title": {
                    "text": "Objective Value"
                  }
                }
              }
            }
          },
          "metadata": {},
          "output_type": "display_data"
        }
      ],
      "source": [
        "# Visualize the optimization history. See :func:`~optuna.visualization.plot_optimization_history` for the details.\n",
        "plot_optimization_history(study)"
      ]
    },
    {
      "cell_type": "code",
      "execution_count": 17,
      "metadata": {
        "id": "oQ6qT2ZLcVHP"
      },
      "outputs": [
        {
          "data": {
            "application/vnd.plotly.v1+json": {
              "config": {
                "plotlyServerURL": "https://plot.ly"
              },
              "data": [
                {
                  "dimensions": [
                    {
                      "label": "Objective Value",
                      "range": [
                        0.06259521513009556,
                        0.5877416756176155
                      ],
                      "values": [
                        0.5877416756176155,
                        0.13019142061832117,
                        0.35293722932136634,
                        0.5877416756176155,
                        0.44907559174419076,
                        0.18054918116938504,
                        0.5423537397696906,
                        0.36520437122349236,
                        0.2664996748577229,
                        0.5877416756176155,
                        0.0952564847105204,
                        0.0630548185513529,
                        0.06476066685576028,
                        0.06362182535180502,
                        0.06289507124027431,
                        0.11278997290488836,
                        0.2007436095332956,
                        0.08729674341839203,
                        0.14637035610871782,
                        0.09169607360951994,
                        0.5877416756176155,
                        0.06267527682556832,
                        0.07862685455099724,
                        0.10398505539366482,
                        0.08755479180733794,
                        0.16232638502836036,
                        0.2273454918356021,
                        0.08491246631988203,
                        0.11604615691261891,
                        0.08560242995146347,
                        0.10027212273079919,
                        0.06616007390345797,
                        0.08385083005986903,
                        0.1312428381934754,
                        0.06259521513009556,
                        0.09478980731677436,
                        0.12174448169235036,
                        0.08411433261879477,
                        0.5877416756176155,
                        0.4121227668188719,
                        0.14072003967695013,
                        0.06567107341704125,
                        0.0837759280920849,
                        0.06352782279541676,
                        0.09476461456039612,
                        0.31362882819405097,
                        0.10537856502126311,
                        0.08856761622019378,
                        0.08384312244337758,
                        0.06271406987655928
                      ]
                    },
                    {
                      "label": "alpha",
                      "range": [
                        0.001056555547400806,
                        1.9980225466539596
                      ],
                      "values": [
                        1.7732367839449403,
                        0.47222126392270547,
                        1.0580401162016204,
                        1.4546790590787377,
                        1.2236327672609022,
                        0.6565562784197898,
                        1.3644780168339896,
                        1.0806544229158932,
                        0.8813930086901904,
                        1.5091830854741222,
                        0.26536764595124274,
                        0.001056555547400806,
                        0.016613943287847155,
                        0.013535263852441335,
                        0.010332908782782698,
                        0.3856255448781156,
                        0.7162586973416573,
                        0.17713252257049494,
                        0.5391114962733455,
                        0.23135085576937148,
                        1.9980225466539596,
                        0.008279697535113506,
                        0.03650767073070831,
                        0.33177429404141906,
                        0.18094408140434834,
                        0.5970980766053924,
                        0.7875438973162009,
                        0.13390846820513827,
                        0.4034562865187469,
                        0.14843139483038084,
                        0.3056607511140197,
                        0.019391378482072518,
                        0.10417910133773818,
                        0.4768883615453762,
                        0.005941108154284889,
                        0.2612242322399936,
                        0.4326552015931411,
                        0.1129285849424495,
                        1.6442319736424302,
                        1.162908167460443,
                        0.5168460640236331,
                        0.018497117097635577,
                        0.10140958626116747,
                        0.013214091253115174,
                        0.26099821963862896,
                        0.9818779719324807,
                        0.3409664676316824,
                        0.19492462655915543,
                        0.10390094245230726,
                        0.008815362760714094
                      ]
                    }
                  ],
                  "labelangle": 30,
                  "labelside": "bottom",
                  "line": {
                    "color": [
                      0.5877416756176155,
                      0.13019142061832117,
                      0.35293722932136634,
                      0.5877416756176155,
                      0.44907559174419076,
                      0.18054918116938504,
                      0.5423537397696906,
                      0.36520437122349236,
                      0.2664996748577229,
                      0.5877416756176155,
                      0.0952564847105204,
                      0.0630548185513529,
                      0.06476066685576028,
                      0.06362182535180502,
                      0.06289507124027431,
                      0.11278997290488836,
                      0.2007436095332956,
                      0.08729674341839203,
                      0.14637035610871782,
                      0.09169607360951994,
                      0.5877416756176155,
                      0.06267527682556832,
                      0.07862685455099724,
                      0.10398505539366482,
                      0.08755479180733794,
                      0.16232638502836036,
                      0.2273454918356021,
                      0.08491246631988203,
                      0.11604615691261891,
                      0.08560242995146347,
                      0.10027212273079919,
                      0.06616007390345797,
                      0.08385083005986903,
                      0.1312428381934754,
                      0.06259521513009556,
                      0.09478980731677436,
                      0.12174448169235036,
                      0.08411433261879477,
                      0.5877416756176155,
                      0.4121227668188719,
                      0.14072003967695013,
                      0.06567107341704125,
                      0.0837759280920849,
                      0.06352782279541676,
                      0.09476461456039612,
                      0.31362882819405097,
                      0.10537856502126311,
                      0.08856761622019378,
                      0.08384312244337758,
                      0.06271406987655928
                    ],
                    "colorbar": {
                      "title": {
                        "text": "Objective Value"
                      }
                    },
                    "colorscale": [
                      [
                        0,
                        "rgb(247,251,255)"
                      ],
                      [
                        0.125,
                        "rgb(222,235,247)"
                      ],
                      [
                        0.25,
                        "rgb(198,219,239)"
                      ],
                      [
                        0.375,
                        "rgb(158,202,225)"
                      ],
                      [
                        0.5,
                        "rgb(107,174,214)"
                      ],
                      [
                        0.625,
                        "rgb(66,146,198)"
                      ],
                      [
                        0.75,
                        "rgb(33,113,181)"
                      ],
                      [
                        0.875,
                        "rgb(8,81,156)"
                      ],
                      [
                        1,
                        "rgb(8,48,107)"
                      ]
                    ],
                    "reversescale": true,
                    "showscale": true
                  },
                  "type": "parcoords"
                }
              ],
              "layout": {
                "template": {
                  "data": {
                    "bar": [
                      {
                        "error_x": {
                          "color": "#2a3f5f"
                        },
                        "error_y": {
                          "color": "#2a3f5f"
                        },
                        "marker": {
                          "line": {
                            "color": "#E5ECF6",
                            "width": 0.5
                          },
                          "pattern": {
                            "fillmode": "overlay",
                            "size": 10,
                            "solidity": 0.2
                          }
                        },
                        "type": "bar"
                      }
                    ],
                    "barpolar": [
                      {
                        "marker": {
                          "line": {
                            "color": "#E5ECF6",
                            "width": 0.5
                          },
                          "pattern": {
                            "fillmode": "overlay",
                            "size": 10,
                            "solidity": 0.2
                          }
                        },
                        "type": "barpolar"
                      }
                    ],
                    "carpet": [
                      {
                        "aaxis": {
                          "endlinecolor": "#2a3f5f",
                          "gridcolor": "white",
                          "linecolor": "white",
                          "minorgridcolor": "white",
                          "startlinecolor": "#2a3f5f"
                        },
                        "baxis": {
                          "endlinecolor": "#2a3f5f",
                          "gridcolor": "white",
                          "linecolor": "white",
                          "minorgridcolor": "white",
                          "startlinecolor": "#2a3f5f"
                        },
                        "type": "carpet"
                      }
                    ],
                    "choropleth": [
                      {
                        "colorbar": {
                          "outlinewidth": 0,
                          "ticks": ""
                        },
                        "type": "choropleth"
                      }
                    ],
                    "contour": [
                      {
                        "colorbar": {
                          "outlinewidth": 0,
                          "ticks": ""
                        },
                        "colorscale": [
                          [
                            0,
                            "#0d0887"
                          ],
                          [
                            0.1111111111111111,
                            "#46039f"
                          ],
                          [
                            0.2222222222222222,
                            "#7201a8"
                          ],
                          [
                            0.3333333333333333,
                            "#9c179e"
                          ],
                          [
                            0.4444444444444444,
                            "#bd3786"
                          ],
                          [
                            0.5555555555555556,
                            "#d8576b"
                          ],
                          [
                            0.6666666666666666,
                            "#ed7953"
                          ],
                          [
                            0.7777777777777778,
                            "#fb9f3a"
                          ],
                          [
                            0.8888888888888888,
                            "#fdca26"
                          ],
                          [
                            1,
                            "#f0f921"
                          ]
                        ],
                        "type": "contour"
                      }
                    ],
                    "contourcarpet": [
                      {
                        "colorbar": {
                          "outlinewidth": 0,
                          "ticks": ""
                        },
                        "type": "contourcarpet"
                      }
                    ],
                    "heatmap": [
                      {
                        "colorbar": {
                          "outlinewidth": 0,
                          "ticks": ""
                        },
                        "colorscale": [
                          [
                            0,
                            "#0d0887"
                          ],
                          [
                            0.1111111111111111,
                            "#46039f"
                          ],
                          [
                            0.2222222222222222,
                            "#7201a8"
                          ],
                          [
                            0.3333333333333333,
                            "#9c179e"
                          ],
                          [
                            0.4444444444444444,
                            "#bd3786"
                          ],
                          [
                            0.5555555555555556,
                            "#d8576b"
                          ],
                          [
                            0.6666666666666666,
                            "#ed7953"
                          ],
                          [
                            0.7777777777777778,
                            "#fb9f3a"
                          ],
                          [
                            0.8888888888888888,
                            "#fdca26"
                          ],
                          [
                            1,
                            "#f0f921"
                          ]
                        ],
                        "type": "heatmap"
                      }
                    ],
                    "heatmapgl": [
                      {
                        "colorbar": {
                          "outlinewidth": 0,
                          "ticks": ""
                        },
                        "colorscale": [
                          [
                            0,
                            "#0d0887"
                          ],
                          [
                            0.1111111111111111,
                            "#46039f"
                          ],
                          [
                            0.2222222222222222,
                            "#7201a8"
                          ],
                          [
                            0.3333333333333333,
                            "#9c179e"
                          ],
                          [
                            0.4444444444444444,
                            "#bd3786"
                          ],
                          [
                            0.5555555555555556,
                            "#d8576b"
                          ],
                          [
                            0.6666666666666666,
                            "#ed7953"
                          ],
                          [
                            0.7777777777777778,
                            "#fb9f3a"
                          ],
                          [
                            0.8888888888888888,
                            "#fdca26"
                          ],
                          [
                            1,
                            "#f0f921"
                          ]
                        ],
                        "type": "heatmapgl"
                      }
                    ],
                    "histogram": [
                      {
                        "marker": {
                          "pattern": {
                            "fillmode": "overlay",
                            "size": 10,
                            "solidity": 0.2
                          }
                        },
                        "type": "histogram"
                      }
                    ],
                    "histogram2d": [
                      {
                        "colorbar": {
                          "outlinewidth": 0,
                          "ticks": ""
                        },
                        "colorscale": [
                          [
                            0,
                            "#0d0887"
                          ],
                          [
                            0.1111111111111111,
                            "#46039f"
                          ],
                          [
                            0.2222222222222222,
                            "#7201a8"
                          ],
                          [
                            0.3333333333333333,
                            "#9c179e"
                          ],
                          [
                            0.4444444444444444,
                            "#bd3786"
                          ],
                          [
                            0.5555555555555556,
                            "#d8576b"
                          ],
                          [
                            0.6666666666666666,
                            "#ed7953"
                          ],
                          [
                            0.7777777777777778,
                            "#fb9f3a"
                          ],
                          [
                            0.8888888888888888,
                            "#fdca26"
                          ],
                          [
                            1,
                            "#f0f921"
                          ]
                        ],
                        "type": "histogram2d"
                      }
                    ],
                    "histogram2dcontour": [
                      {
                        "colorbar": {
                          "outlinewidth": 0,
                          "ticks": ""
                        },
                        "colorscale": [
                          [
                            0,
                            "#0d0887"
                          ],
                          [
                            0.1111111111111111,
                            "#46039f"
                          ],
                          [
                            0.2222222222222222,
                            "#7201a8"
                          ],
                          [
                            0.3333333333333333,
                            "#9c179e"
                          ],
                          [
                            0.4444444444444444,
                            "#bd3786"
                          ],
                          [
                            0.5555555555555556,
                            "#d8576b"
                          ],
                          [
                            0.6666666666666666,
                            "#ed7953"
                          ],
                          [
                            0.7777777777777778,
                            "#fb9f3a"
                          ],
                          [
                            0.8888888888888888,
                            "#fdca26"
                          ],
                          [
                            1,
                            "#f0f921"
                          ]
                        ],
                        "type": "histogram2dcontour"
                      }
                    ],
                    "mesh3d": [
                      {
                        "colorbar": {
                          "outlinewidth": 0,
                          "ticks": ""
                        },
                        "type": "mesh3d"
                      }
                    ],
                    "parcoords": [
                      {
                        "line": {
                          "colorbar": {
                            "outlinewidth": 0,
                            "ticks": ""
                          }
                        },
                        "type": "parcoords"
                      }
                    ],
                    "pie": [
                      {
                        "automargin": true,
                        "type": "pie"
                      }
                    ],
                    "scatter": [
                      {
                        "fillpattern": {
                          "fillmode": "overlay",
                          "size": 10,
                          "solidity": 0.2
                        },
                        "type": "scatter"
                      }
                    ],
                    "scatter3d": [
                      {
                        "line": {
                          "colorbar": {
                            "outlinewidth": 0,
                            "ticks": ""
                          }
                        },
                        "marker": {
                          "colorbar": {
                            "outlinewidth": 0,
                            "ticks": ""
                          }
                        },
                        "type": "scatter3d"
                      }
                    ],
                    "scattercarpet": [
                      {
                        "marker": {
                          "colorbar": {
                            "outlinewidth": 0,
                            "ticks": ""
                          }
                        },
                        "type": "scattercarpet"
                      }
                    ],
                    "scattergeo": [
                      {
                        "marker": {
                          "colorbar": {
                            "outlinewidth": 0,
                            "ticks": ""
                          }
                        },
                        "type": "scattergeo"
                      }
                    ],
                    "scattergl": [
                      {
                        "marker": {
                          "colorbar": {
                            "outlinewidth": 0,
                            "ticks": ""
                          }
                        },
                        "type": "scattergl"
                      }
                    ],
                    "scattermapbox": [
                      {
                        "marker": {
                          "colorbar": {
                            "outlinewidth": 0,
                            "ticks": ""
                          }
                        },
                        "type": "scattermapbox"
                      }
                    ],
                    "scatterpolar": [
                      {
                        "marker": {
                          "colorbar": {
                            "outlinewidth": 0,
                            "ticks": ""
                          }
                        },
                        "type": "scatterpolar"
                      }
                    ],
                    "scatterpolargl": [
                      {
                        "marker": {
                          "colorbar": {
                            "outlinewidth": 0,
                            "ticks": ""
                          }
                        },
                        "type": "scatterpolargl"
                      }
                    ],
                    "scatterternary": [
                      {
                        "marker": {
                          "colorbar": {
                            "outlinewidth": 0,
                            "ticks": ""
                          }
                        },
                        "type": "scatterternary"
                      }
                    ],
                    "surface": [
                      {
                        "colorbar": {
                          "outlinewidth": 0,
                          "ticks": ""
                        },
                        "colorscale": [
                          [
                            0,
                            "#0d0887"
                          ],
                          [
                            0.1111111111111111,
                            "#46039f"
                          ],
                          [
                            0.2222222222222222,
                            "#7201a8"
                          ],
                          [
                            0.3333333333333333,
                            "#9c179e"
                          ],
                          [
                            0.4444444444444444,
                            "#bd3786"
                          ],
                          [
                            0.5555555555555556,
                            "#d8576b"
                          ],
                          [
                            0.6666666666666666,
                            "#ed7953"
                          ],
                          [
                            0.7777777777777778,
                            "#fb9f3a"
                          ],
                          [
                            0.8888888888888888,
                            "#fdca26"
                          ],
                          [
                            1,
                            "#f0f921"
                          ]
                        ],
                        "type": "surface"
                      }
                    ],
                    "table": [
                      {
                        "cells": {
                          "fill": {
                            "color": "#EBF0F8"
                          },
                          "line": {
                            "color": "white"
                          }
                        },
                        "header": {
                          "fill": {
                            "color": "#C8D4E3"
                          },
                          "line": {
                            "color": "white"
                          }
                        },
                        "type": "table"
                      }
                    ]
                  },
                  "layout": {
                    "annotationdefaults": {
                      "arrowcolor": "#2a3f5f",
                      "arrowhead": 0,
                      "arrowwidth": 1
                    },
                    "autotypenumbers": "strict",
                    "coloraxis": {
                      "colorbar": {
                        "outlinewidth": 0,
                        "ticks": ""
                      }
                    },
                    "colorscale": {
                      "diverging": [
                        [
                          0,
                          "#8e0152"
                        ],
                        [
                          0.1,
                          "#c51b7d"
                        ],
                        [
                          0.2,
                          "#de77ae"
                        ],
                        [
                          0.3,
                          "#f1b6da"
                        ],
                        [
                          0.4,
                          "#fde0ef"
                        ],
                        [
                          0.5,
                          "#f7f7f7"
                        ],
                        [
                          0.6,
                          "#e6f5d0"
                        ],
                        [
                          0.7,
                          "#b8e186"
                        ],
                        [
                          0.8,
                          "#7fbc41"
                        ],
                        [
                          0.9,
                          "#4d9221"
                        ],
                        [
                          1,
                          "#276419"
                        ]
                      ],
                      "sequential": [
                        [
                          0,
                          "#0d0887"
                        ],
                        [
                          0.1111111111111111,
                          "#46039f"
                        ],
                        [
                          0.2222222222222222,
                          "#7201a8"
                        ],
                        [
                          0.3333333333333333,
                          "#9c179e"
                        ],
                        [
                          0.4444444444444444,
                          "#bd3786"
                        ],
                        [
                          0.5555555555555556,
                          "#d8576b"
                        ],
                        [
                          0.6666666666666666,
                          "#ed7953"
                        ],
                        [
                          0.7777777777777778,
                          "#fb9f3a"
                        ],
                        [
                          0.8888888888888888,
                          "#fdca26"
                        ],
                        [
                          1,
                          "#f0f921"
                        ]
                      ],
                      "sequentialminus": [
                        [
                          0,
                          "#0d0887"
                        ],
                        [
                          0.1111111111111111,
                          "#46039f"
                        ],
                        [
                          0.2222222222222222,
                          "#7201a8"
                        ],
                        [
                          0.3333333333333333,
                          "#9c179e"
                        ],
                        [
                          0.4444444444444444,
                          "#bd3786"
                        ],
                        [
                          0.5555555555555556,
                          "#d8576b"
                        ],
                        [
                          0.6666666666666666,
                          "#ed7953"
                        ],
                        [
                          0.7777777777777778,
                          "#fb9f3a"
                        ],
                        [
                          0.8888888888888888,
                          "#fdca26"
                        ],
                        [
                          1,
                          "#f0f921"
                        ]
                      ]
                    },
                    "colorway": [
                      "#636efa",
                      "#EF553B",
                      "#00cc96",
                      "#ab63fa",
                      "#FFA15A",
                      "#19d3f3",
                      "#FF6692",
                      "#B6E880",
                      "#FF97FF",
                      "#FECB52"
                    ],
                    "font": {
                      "color": "#2a3f5f"
                    },
                    "geo": {
                      "bgcolor": "white",
                      "lakecolor": "white",
                      "landcolor": "#E5ECF6",
                      "showlakes": true,
                      "showland": true,
                      "subunitcolor": "white"
                    },
                    "hoverlabel": {
                      "align": "left"
                    },
                    "hovermode": "closest",
                    "mapbox": {
                      "style": "light"
                    },
                    "paper_bgcolor": "white",
                    "plot_bgcolor": "#E5ECF6",
                    "polar": {
                      "angularaxis": {
                        "gridcolor": "white",
                        "linecolor": "white",
                        "ticks": ""
                      },
                      "bgcolor": "#E5ECF6",
                      "radialaxis": {
                        "gridcolor": "white",
                        "linecolor": "white",
                        "ticks": ""
                      }
                    },
                    "scene": {
                      "xaxis": {
                        "backgroundcolor": "#E5ECF6",
                        "gridcolor": "white",
                        "gridwidth": 2,
                        "linecolor": "white",
                        "showbackground": true,
                        "ticks": "",
                        "zerolinecolor": "white"
                      },
                      "yaxis": {
                        "backgroundcolor": "#E5ECF6",
                        "gridcolor": "white",
                        "gridwidth": 2,
                        "linecolor": "white",
                        "showbackground": true,
                        "ticks": "",
                        "zerolinecolor": "white"
                      },
                      "zaxis": {
                        "backgroundcolor": "#E5ECF6",
                        "gridcolor": "white",
                        "gridwidth": 2,
                        "linecolor": "white",
                        "showbackground": true,
                        "ticks": "",
                        "zerolinecolor": "white"
                      }
                    },
                    "shapedefaults": {
                      "line": {
                        "color": "#2a3f5f"
                      }
                    },
                    "ternary": {
                      "aaxis": {
                        "gridcolor": "white",
                        "linecolor": "white",
                        "ticks": ""
                      },
                      "baxis": {
                        "gridcolor": "white",
                        "linecolor": "white",
                        "ticks": ""
                      },
                      "bgcolor": "#E5ECF6",
                      "caxis": {
                        "gridcolor": "white",
                        "linecolor": "white",
                        "ticks": ""
                      }
                    },
                    "title": {
                      "x": 0.05
                    },
                    "xaxis": {
                      "automargin": true,
                      "gridcolor": "white",
                      "linecolor": "white",
                      "ticks": "",
                      "title": {
                        "standoff": 15
                      },
                      "zerolinecolor": "white",
                      "zerolinewidth": 2
                    },
                    "yaxis": {
                      "automargin": true,
                      "gridcolor": "white",
                      "linecolor": "white",
                      "ticks": "",
                      "title": {
                        "standoff": 15
                      },
                      "zerolinecolor": "white",
                      "zerolinewidth": 2
                    }
                  }
                },
                "title": {
                  "text": "Parallel Coordinate Plot"
                }
              }
            }
          },
          "metadata": {},
          "output_type": "display_data"
        }
      ],
      "source": [
        "# Visualize high-dimensional parameter relationships. See :func:`~optuna.visualization.plot_parallel_coordinate` for the details.\n",
        "plot_parallel_coordinate(study)"
      ]
    },
    {
      "cell_type": "code",
      "execution_count": 18,
      "metadata": {
        "id": "HNAk09O6cVJS"
      },
      "outputs": [
        {
          "data": {
            "application/vnd.plotly.v1+json": {
              "config": {
                "plotlyServerURL": "https://plot.ly"
              },
              "data": [
                {
                  "marker": {
                    "color": [
                      0,
                      1,
                      2,
                      3,
                      4,
                      5,
                      6,
                      7,
                      8,
                      9,
                      10,
                      11,
                      12,
                      13,
                      14,
                      15,
                      16,
                      17,
                      18,
                      19,
                      20,
                      21,
                      22,
                      23,
                      24,
                      25,
                      26,
                      27,
                      28,
                      29,
                      30,
                      31,
                      32,
                      33,
                      34,
                      35,
                      36,
                      37,
                      38,
                      39,
                      40,
                      41,
                      42,
                      43,
                      44,
                      45,
                      46,
                      47,
                      48,
                      49
                    ],
                    "colorbar": {
                      "title": {
                        "text": "Trial"
                      },
                      "x": 1,
                      "xpad": 40
                    },
                    "colorscale": [
                      [
                        0,
                        "rgb(247,251,255)"
                      ],
                      [
                        0.125,
                        "rgb(222,235,247)"
                      ],
                      [
                        0.25,
                        "rgb(198,219,239)"
                      ],
                      [
                        0.375,
                        "rgb(158,202,225)"
                      ],
                      [
                        0.5,
                        "rgb(107,174,214)"
                      ],
                      [
                        0.625,
                        "rgb(66,146,198)"
                      ],
                      [
                        0.75,
                        "rgb(33,113,181)"
                      ],
                      [
                        0.875,
                        "rgb(8,81,156)"
                      ],
                      [
                        1,
                        "rgb(8,48,107)"
                      ]
                    ],
                    "line": {
                      "color": "Grey",
                      "width": 0.5
                    }
                  },
                  "mode": "markers",
                  "name": "Feasible Trial",
                  "showlegend": false,
                  "type": "scatter",
                  "x": [
                    1.7732367839449403,
                    0.47222126392270547,
                    1.0580401162016204,
                    1.4546790590787377,
                    1.2236327672609022,
                    0.6565562784197898,
                    1.3644780168339896,
                    1.0806544229158932,
                    0.8813930086901904,
                    1.5091830854741222,
                    0.26536764595124274,
                    0.001056555547400806,
                    0.016613943287847155,
                    0.013535263852441335,
                    0.010332908782782698,
                    0.3856255448781156,
                    0.7162586973416573,
                    0.17713252257049494,
                    0.5391114962733455,
                    0.23135085576937148,
                    1.9980225466539596,
                    0.008279697535113506,
                    0.03650767073070831,
                    0.33177429404141906,
                    0.18094408140434834,
                    0.5970980766053924,
                    0.7875438973162009,
                    0.13390846820513827,
                    0.4034562865187469,
                    0.14843139483038084,
                    0.3056607511140197,
                    0.019391378482072518,
                    0.10417910133773818,
                    0.4768883615453762,
                    0.005941108154284889,
                    0.2612242322399936,
                    0.4326552015931411,
                    0.1129285849424495,
                    1.6442319736424302,
                    1.162908167460443,
                    0.5168460640236331,
                    0.018497117097635577,
                    0.10140958626116747,
                    0.013214091253115174,
                    0.26099821963862896,
                    0.9818779719324807,
                    0.3409664676316824,
                    0.19492462655915543,
                    0.10390094245230726,
                    0.008815362760714094
                  ],
                  "y": [
                    0.5877416756176155,
                    0.13019142061832117,
                    0.35293722932136634,
                    0.5877416756176155,
                    0.44907559174419076,
                    0.18054918116938504,
                    0.5423537397696906,
                    0.36520437122349236,
                    0.2664996748577229,
                    0.5877416756176155,
                    0.0952564847105204,
                    0.0630548185513529,
                    0.06476066685576028,
                    0.06362182535180502,
                    0.06289507124027431,
                    0.11278997290488836,
                    0.2007436095332956,
                    0.08729674341839203,
                    0.14637035610871782,
                    0.09169607360951994,
                    0.5877416756176155,
                    0.06267527682556832,
                    0.07862685455099724,
                    0.10398505539366482,
                    0.08755479180733794,
                    0.16232638502836036,
                    0.2273454918356021,
                    0.08491246631988203,
                    0.11604615691261891,
                    0.08560242995146347,
                    0.10027212273079919,
                    0.06616007390345797,
                    0.08385083005986903,
                    0.1312428381934754,
                    0.06259521513009556,
                    0.09478980731677436,
                    0.12174448169235036,
                    0.08411433261879477,
                    0.5877416756176155,
                    0.4121227668188719,
                    0.14072003967695013,
                    0.06567107341704125,
                    0.0837759280920849,
                    0.06352782279541676,
                    0.09476461456039612,
                    0.31362882819405097,
                    0.10537856502126311,
                    0.08856761622019378,
                    0.08384312244337758,
                    0.06271406987655928
                  ]
                }
              ],
              "layout": {
                "template": {
                  "data": {
                    "bar": [
                      {
                        "error_x": {
                          "color": "#2a3f5f"
                        },
                        "error_y": {
                          "color": "#2a3f5f"
                        },
                        "marker": {
                          "line": {
                            "color": "#E5ECF6",
                            "width": 0.5
                          },
                          "pattern": {
                            "fillmode": "overlay",
                            "size": 10,
                            "solidity": 0.2
                          }
                        },
                        "type": "bar"
                      }
                    ],
                    "barpolar": [
                      {
                        "marker": {
                          "line": {
                            "color": "#E5ECF6",
                            "width": 0.5
                          },
                          "pattern": {
                            "fillmode": "overlay",
                            "size": 10,
                            "solidity": 0.2
                          }
                        },
                        "type": "barpolar"
                      }
                    ],
                    "carpet": [
                      {
                        "aaxis": {
                          "endlinecolor": "#2a3f5f",
                          "gridcolor": "white",
                          "linecolor": "white",
                          "minorgridcolor": "white",
                          "startlinecolor": "#2a3f5f"
                        },
                        "baxis": {
                          "endlinecolor": "#2a3f5f",
                          "gridcolor": "white",
                          "linecolor": "white",
                          "minorgridcolor": "white",
                          "startlinecolor": "#2a3f5f"
                        },
                        "type": "carpet"
                      }
                    ],
                    "choropleth": [
                      {
                        "colorbar": {
                          "outlinewidth": 0,
                          "ticks": ""
                        },
                        "type": "choropleth"
                      }
                    ],
                    "contour": [
                      {
                        "colorbar": {
                          "outlinewidth": 0,
                          "ticks": ""
                        },
                        "colorscale": [
                          [
                            0,
                            "#0d0887"
                          ],
                          [
                            0.1111111111111111,
                            "#46039f"
                          ],
                          [
                            0.2222222222222222,
                            "#7201a8"
                          ],
                          [
                            0.3333333333333333,
                            "#9c179e"
                          ],
                          [
                            0.4444444444444444,
                            "#bd3786"
                          ],
                          [
                            0.5555555555555556,
                            "#d8576b"
                          ],
                          [
                            0.6666666666666666,
                            "#ed7953"
                          ],
                          [
                            0.7777777777777778,
                            "#fb9f3a"
                          ],
                          [
                            0.8888888888888888,
                            "#fdca26"
                          ],
                          [
                            1,
                            "#f0f921"
                          ]
                        ],
                        "type": "contour"
                      }
                    ],
                    "contourcarpet": [
                      {
                        "colorbar": {
                          "outlinewidth": 0,
                          "ticks": ""
                        },
                        "type": "contourcarpet"
                      }
                    ],
                    "heatmap": [
                      {
                        "colorbar": {
                          "outlinewidth": 0,
                          "ticks": ""
                        },
                        "colorscale": [
                          [
                            0,
                            "#0d0887"
                          ],
                          [
                            0.1111111111111111,
                            "#46039f"
                          ],
                          [
                            0.2222222222222222,
                            "#7201a8"
                          ],
                          [
                            0.3333333333333333,
                            "#9c179e"
                          ],
                          [
                            0.4444444444444444,
                            "#bd3786"
                          ],
                          [
                            0.5555555555555556,
                            "#d8576b"
                          ],
                          [
                            0.6666666666666666,
                            "#ed7953"
                          ],
                          [
                            0.7777777777777778,
                            "#fb9f3a"
                          ],
                          [
                            0.8888888888888888,
                            "#fdca26"
                          ],
                          [
                            1,
                            "#f0f921"
                          ]
                        ],
                        "type": "heatmap"
                      }
                    ],
                    "heatmapgl": [
                      {
                        "colorbar": {
                          "outlinewidth": 0,
                          "ticks": ""
                        },
                        "colorscale": [
                          [
                            0,
                            "#0d0887"
                          ],
                          [
                            0.1111111111111111,
                            "#46039f"
                          ],
                          [
                            0.2222222222222222,
                            "#7201a8"
                          ],
                          [
                            0.3333333333333333,
                            "#9c179e"
                          ],
                          [
                            0.4444444444444444,
                            "#bd3786"
                          ],
                          [
                            0.5555555555555556,
                            "#d8576b"
                          ],
                          [
                            0.6666666666666666,
                            "#ed7953"
                          ],
                          [
                            0.7777777777777778,
                            "#fb9f3a"
                          ],
                          [
                            0.8888888888888888,
                            "#fdca26"
                          ],
                          [
                            1,
                            "#f0f921"
                          ]
                        ],
                        "type": "heatmapgl"
                      }
                    ],
                    "histogram": [
                      {
                        "marker": {
                          "pattern": {
                            "fillmode": "overlay",
                            "size": 10,
                            "solidity": 0.2
                          }
                        },
                        "type": "histogram"
                      }
                    ],
                    "histogram2d": [
                      {
                        "colorbar": {
                          "outlinewidth": 0,
                          "ticks": ""
                        },
                        "colorscale": [
                          [
                            0,
                            "#0d0887"
                          ],
                          [
                            0.1111111111111111,
                            "#46039f"
                          ],
                          [
                            0.2222222222222222,
                            "#7201a8"
                          ],
                          [
                            0.3333333333333333,
                            "#9c179e"
                          ],
                          [
                            0.4444444444444444,
                            "#bd3786"
                          ],
                          [
                            0.5555555555555556,
                            "#d8576b"
                          ],
                          [
                            0.6666666666666666,
                            "#ed7953"
                          ],
                          [
                            0.7777777777777778,
                            "#fb9f3a"
                          ],
                          [
                            0.8888888888888888,
                            "#fdca26"
                          ],
                          [
                            1,
                            "#f0f921"
                          ]
                        ],
                        "type": "histogram2d"
                      }
                    ],
                    "histogram2dcontour": [
                      {
                        "colorbar": {
                          "outlinewidth": 0,
                          "ticks": ""
                        },
                        "colorscale": [
                          [
                            0,
                            "#0d0887"
                          ],
                          [
                            0.1111111111111111,
                            "#46039f"
                          ],
                          [
                            0.2222222222222222,
                            "#7201a8"
                          ],
                          [
                            0.3333333333333333,
                            "#9c179e"
                          ],
                          [
                            0.4444444444444444,
                            "#bd3786"
                          ],
                          [
                            0.5555555555555556,
                            "#d8576b"
                          ],
                          [
                            0.6666666666666666,
                            "#ed7953"
                          ],
                          [
                            0.7777777777777778,
                            "#fb9f3a"
                          ],
                          [
                            0.8888888888888888,
                            "#fdca26"
                          ],
                          [
                            1,
                            "#f0f921"
                          ]
                        ],
                        "type": "histogram2dcontour"
                      }
                    ],
                    "mesh3d": [
                      {
                        "colorbar": {
                          "outlinewidth": 0,
                          "ticks": ""
                        },
                        "type": "mesh3d"
                      }
                    ],
                    "parcoords": [
                      {
                        "line": {
                          "colorbar": {
                            "outlinewidth": 0,
                            "ticks": ""
                          }
                        },
                        "type": "parcoords"
                      }
                    ],
                    "pie": [
                      {
                        "automargin": true,
                        "type": "pie"
                      }
                    ],
                    "scatter": [
                      {
                        "fillpattern": {
                          "fillmode": "overlay",
                          "size": 10,
                          "solidity": 0.2
                        },
                        "type": "scatter"
                      }
                    ],
                    "scatter3d": [
                      {
                        "line": {
                          "colorbar": {
                            "outlinewidth": 0,
                            "ticks": ""
                          }
                        },
                        "marker": {
                          "colorbar": {
                            "outlinewidth": 0,
                            "ticks": ""
                          }
                        },
                        "type": "scatter3d"
                      }
                    ],
                    "scattercarpet": [
                      {
                        "marker": {
                          "colorbar": {
                            "outlinewidth": 0,
                            "ticks": ""
                          }
                        },
                        "type": "scattercarpet"
                      }
                    ],
                    "scattergeo": [
                      {
                        "marker": {
                          "colorbar": {
                            "outlinewidth": 0,
                            "ticks": ""
                          }
                        },
                        "type": "scattergeo"
                      }
                    ],
                    "scattergl": [
                      {
                        "marker": {
                          "colorbar": {
                            "outlinewidth": 0,
                            "ticks": ""
                          }
                        },
                        "type": "scattergl"
                      }
                    ],
                    "scattermapbox": [
                      {
                        "marker": {
                          "colorbar": {
                            "outlinewidth": 0,
                            "ticks": ""
                          }
                        },
                        "type": "scattermapbox"
                      }
                    ],
                    "scatterpolar": [
                      {
                        "marker": {
                          "colorbar": {
                            "outlinewidth": 0,
                            "ticks": ""
                          }
                        },
                        "type": "scatterpolar"
                      }
                    ],
                    "scatterpolargl": [
                      {
                        "marker": {
                          "colorbar": {
                            "outlinewidth": 0,
                            "ticks": ""
                          }
                        },
                        "type": "scatterpolargl"
                      }
                    ],
                    "scatterternary": [
                      {
                        "marker": {
                          "colorbar": {
                            "outlinewidth": 0,
                            "ticks": ""
                          }
                        },
                        "type": "scatterternary"
                      }
                    ],
                    "surface": [
                      {
                        "colorbar": {
                          "outlinewidth": 0,
                          "ticks": ""
                        },
                        "colorscale": [
                          [
                            0,
                            "#0d0887"
                          ],
                          [
                            0.1111111111111111,
                            "#46039f"
                          ],
                          [
                            0.2222222222222222,
                            "#7201a8"
                          ],
                          [
                            0.3333333333333333,
                            "#9c179e"
                          ],
                          [
                            0.4444444444444444,
                            "#bd3786"
                          ],
                          [
                            0.5555555555555556,
                            "#d8576b"
                          ],
                          [
                            0.6666666666666666,
                            "#ed7953"
                          ],
                          [
                            0.7777777777777778,
                            "#fb9f3a"
                          ],
                          [
                            0.8888888888888888,
                            "#fdca26"
                          ],
                          [
                            1,
                            "#f0f921"
                          ]
                        ],
                        "type": "surface"
                      }
                    ],
                    "table": [
                      {
                        "cells": {
                          "fill": {
                            "color": "#EBF0F8"
                          },
                          "line": {
                            "color": "white"
                          }
                        },
                        "header": {
                          "fill": {
                            "color": "#C8D4E3"
                          },
                          "line": {
                            "color": "white"
                          }
                        },
                        "type": "table"
                      }
                    ]
                  },
                  "layout": {
                    "annotationdefaults": {
                      "arrowcolor": "#2a3f5f",
                      "arrowhead": 0,
                      "arrowwidth": 1
                    },
                    "autotypenumbers": "strict",
                    "coloraxis": {
                      "colorbar": {
                        "outlinewidth": 0,
                        "ticks": ""
                      }
                    },
                    "colorscale": {
                      "diverging": [
                        [
                          0,
                          "#8e0152"
                        ],
                        [
                          0.1,
                          "#c51b7d"
                        ],
                        [
                          0.2,
                          "#de77ae"
                        ],
                        [
                          0.3,
                          "#f1b6da"
                        ],
                        [
                          0.4,
                          "#fde0ef"
                        ],
                        [
                          0.5,
                          "#f7f7f7"
                        ],
                        [
                          0.6,
                          "#e6f5d0"
                        ],
                        [
                          0.7,
                          "#b8e186"
                        ],
                        [
                          0.8,
                          "#7fbc41"
                        ],
                        [
                          0.9,
                          "#4d9221"
                        ],
                        [
                          1,
                          "#276419"
                        ]
                      ],
                      "sequential": [
                        [
                          0,
                          "#0d0887"
                        ],
                        [
                          0.1111111111111111,
                          "#46039f"
                        ],
                        [
                          0.2222222222222222,
                          "#7201a8"
                        ],
                        [
                          0.3333333333333333,
                          "#9c179e"
                        ],
                        [
                          0.4444444444444444,
                          "#bd3786"
                        ],
                        [
                          0.5555555555555556,
                          "#d8576b"
                        ],
                        [
                          0.6666666666666666,
                          "#ed7953"
                        ],
                        [
                          0.7777777777777778,
                          "#fb9f3a"
                        ],
                        [
                          0.8888888888888888,
                          "#fdca26"
                        ],
                        [
                          1,
                          "#f0f921"
                        ]
                      ],
                      "sequentialminus": [
                        [
                          0,
                          "#0d0887"
                        ],
                        [
                          0.1111111111111111,
                          "#46039f"
                        ],
                        [
                          0.2222222222222222,
                          "#7201a8"
                        ],
                        [
                          0.3333333333333333,
                          "#9c179e"
                        ],
                        [
                          0.4444444444444444,
                          "#bd3786"
                        ],
                        [
                          0.5555555555555556,
                          "#d8576b"
                        ],
                        [
                          0.6666666666666666,
                          "#ed7953"
                        ],
                        [
                          0.7777777777777778,
                          "#fb9f3a"
                        ],
                        [
                          0.8888888888888888,
                          "#fdca26"
                        ],
                        [
                          1,
                          "#f0f921"
                        ]
                      ]
                    },
                    "colorway": [
                      "#636efa",
                      "#EF553B",
                      "#00cc96",
                      "#ab63fa",
                      "#FFA15A",
                      "#19d3f3",
                      "#FF6692",
                      "#B6E880",
                      "#FF97FF",
                      "#FECB52"
                    ],
                    "font": {
                      "color": "#2a3f5f"
                    },
                    "geo": {
                      "bgcolor": "white",
                      "lakecolor": "white",
                      "landcolor": "#E5ECF6",
                      "showlakes": true,
                      "showland": true,
                      "subunitcolor": "white"
                    },
                    "hoverlabel": {
                      "align": "left"
                    },
                    "hovermode": "closest",
                    "mapbox": {
                      "style": "light"
                    },
                    "paper_bgcolor": "white",
                    "plot_bgcolor": "#E5ECF6",
                    "polar": {
                      "angularaxis": {
                        "gridcolor": "white",
                        "linecolor": "white",
                        "ticks": ""
                      },
                      "bgcolor": "#E5ECF6",
                      "radialaxis": {
                        "gridcolor": "white",
                        "linecolor": "white",
                        "ticks": ""
                      }
                    },
                    "scene": {
                      "xaxis": {
                        "backgroundcolor": "#E5ECF6",
                        "gridcolor": "white",
                        "gridwidth": 2,
                        "linecolor": "white",
                        "showbackground": true,
                        "ticks": "",
                        "zerolinecolor": "white"
                      },
                      "yaxis": {
                        "backgroundcolor": "#E5ECF6",
                        "gridcolor": "white",
                        "gridwidth": 2,
                        "linecolor": "white",
                        "showbackground": true,
                        "ticks": "",
                        "zerolinecolor": "white"
                      },
                      "zaxis": {
                        "backgroundcolor": "#E5ECF6",
                        "gridcolor": "white",
                        "gridwidth": 2,
                        "linecolor": "white",
                        "showbackground": true,
                        "ticks": "",
                        "zerolinecolor": "white"
                      }
                    },
                    "shapedefaults": {
                      "line": {
                        "color": "#2a3f5f"
                      }
                    },
                    "ternary": {
                      "aaxis": {
                        "gridcolor": "white",
                        "linecolor": "white",
                        "ticks": ""
                      },
                      "baxis": {
                        "gridcolor": "white",
                        "linecolor": "white",
                        "ticks": ""
                      },
                      "bgcolor": "#E5ECF6",
                      "caxis": {
                        "gridcolor": "white",
                        "linecolor": "white",
                        "ticks": ""
                      }
                    },
                    "title": {
                      "x": 0.05
                    },
                    "xaxis": {
                      "automargin": true,
                      "gridcolor": "white",
                      "linecolor": "white",
                      "ticks": "",
                      "title": {
                        "standoff": 15
                      },
                      "zerolinecolor": "white",
                      "zerolinewidth": 2
                    },
                    "yaxis": {
                      "automargin": true,
                      "gridcolor": "white",
                      "linecolor": "white",
                      "ticks": "",
                      "title": {
                        "standoff": 15
                      },
                      "zerolinecolor": "white",
                      "zerolinewidth": 2
                    }
                  }
                },
                "title": {
                  "text": "Slice Plot"
                },
                "xaxis": {
                  "title": {
                    "text": "alpha"
                  }
                },
                "yaxis": {
                  "title": {
                    "text": "Objective Value"
                  }
                }
              }
            }
          },
          "metadata": {},
          "output_type": "display_data"
        }
      ],
      "source": [
        "# Visualize individual hyperparameters as slice plot. See :func:`~optuna.visualization.plot_slice` for the details.\n",
        "plot_slice(study)"
      ]
    },
    {
      "cell_type": "code",
      "execution_count": 19,
      "metadata": {
        "id": "nNK4p89hcY1T"
      },
      "outputs": [
        {
          "data": {
            "application/vnd.plotly.v1+json": {
              "config": {
                "plotlyServerURL": "https://plot.ly"
              },
              "data": [
                {
                  "cliponaxis": false,
                  "hovertemplate": [
                    "alpha (FloatDistribution): 1.0<extra></extra>"
                  ],
                  "name": "Objective Value",
                  "orientation": "h",
                  "text": [
                    "1.00"
                  ],
                  "textposition": "outside",
                  "type": "bar",
                  "x": [
                    1
                  ],
                  "y": [
                    "alpha"
                  ]
                }
              ],
              "layout": {
                "template": {
                  "data": {
                    "bar": [
                      {
                        "error_x": {
                          "color": "#2a3f5f"
                        },
                        "error_y": {
                          "color": "#2a3f5f"
                        },
                        "marker": {
                          "line": {
                            "color": "#E5ECF6",
                            "width": 0.5
                          },
                          "pattern": {
                            "fillmode": "overlay",
                            "size": 10,
                            "solidity": 0.2
                          }
                        },
                        "type": "bar"
                      }
                    ],
                    "barpolar": [
                      {
                        "marker": {
                          "line": {
                            "color": "#E5ECF6",
                            "width": 0.5
                          },
                          "pattern": {
                            "fillmode": "overlay",
                            "size": 10,
                            "solidity": 0.2
                          }
                        },
                        "type": "barpolar"
                      }
                    ],
                    "carpet": [
                      {
                        "aaxis": {
                          "endlinecolor": "#2a3f5f",
                          "gridcolor": "white",
                          "linecolor": "white",
                          "minorgridcolor": "white",
                          "startlinecolor": "#2a3f5f"
                        },
                        "baxis": {
                          "endlinecolor": "#2a3f5f",
                          "gridcolor": "white",
                          "linecolor": "white",
                          "minorgridcolor": "white",
                          "startlinecolor": "#2a3f5f"
                        },
                        "type": "carpet"
                      }
                    ],
                    "choropleth": [
                      {
                        "colorbar": {
                          "outlinewidth": 0,
                          "ticks": ""
                        },
                        "type": "choropleth"
                      }
                    ],
                    "contour": [
                      {
                        "colorbar": {
                          "outlinewidth": 0,
                          "ticks": ""
                        },
                        "colorscale": [
                          [
                            0,
                            "#0d0887"
                          ],
                          [
                            0.1111111111111111,
                            "#46039f"
                          ],
                          [
                            0.2222222222222222,
                            "#7201a8"
                          ],
                          [
                            0.3333333333333333,
                            "#9c179e"
                          ],
                          [
                            0.4444444444444444,
                            "#bd3786"
                          ],
                          [
                            0.5555555555555556,
                            "#d8576b"
                          ],
                          [
                            0.6666666666666666,
                            "#ed7953"
                          ],
                          [
                            0.7777777777777778,
                            "#fb9f3a"
                          ],
                          [
                            0.8888888888888888,
                            "#fdca26"
                          ],
                          [
                            1,
                            "#f0f921"
                          ]
                        ],
                        "type": "contour"
                      }
                    ],
                    "contourcarpet": [
                      {
                        "colorbar": {
                          "outlinewidth": 0,
                          "ticks": ""
                        },
                        "type": "contourcarpet"
                      }
                    ],
                    "heatmap": [
                      {
                        "colorbar": {
                          "outlinewidth": 0,
                          "ticks": ""
                        },
                        "colorscale": [
                          [
                            0,
                            "#0d0887"
                          ],
                          [
                            0.1111111111111111,
                            "#46039f"
                          ],
                          [
                            0.2222222222222222,
                            "#7201a8"
                          ],
                          [
                            0.3333333333333333,
                            "#9c179e"
                          ],
                          [
                            0.4444444444444444,
                            "#bd3786"
                          ],
                          [
                            0.5555555555555556,
                            "#d8576b"
                          ],
                          [
                            0.6666666666666666,
                            "#ed7953"
                          ],
                          [
                            0.7777777777777778,
                            "#fb9f3a"
                          ],
                          [
                            0.8888888888888888,
                            "#fdca26"
                          ],
                          [
                            1,
                            "#f0f921"
                          ]
                        ],
                        "type": "heatmap"
                      }
                    ],
                    "heatmapgl": [
                      {
                        "colorbar": {
                          "outlinewidth": 0,
                          "ticks": ""
                        },
                        "colorscale": [
                          [
                            0,
                            "#0d0887"
                          ],
                          [
                            0.1111111111111111,
                            "#46039f"
                          ],
                          [
                            0.2222222222222222,
                            "#7201a8"
                          ],
                          [
                            0.3333333333333333,
                            "#9c179e"
                          ],
                          [
                            0.4444444444444444,
                            "#bd3786"
                          ],
                          [
                            0.5555555555555556,
                            "#d8576b"
                          ],
                          [
                            0.6666666666666666,
                            "#ed7953"
                          ],
                          [
                            0.7777777777777778,
                            "#fb9f3a"
                          ],
                          [
                            0.8888888888888888,
                            "#fdca26"
                          ],
                          [
                            1,
                            "#f0f921"
                          ]
                        ],
                        "type": "heatmapgl"
                      }
                    ],
                    "histogram": [
                      {
                        "marker": {
                          "pattern": {
                            "fillmode": "overlay",
                            "size": 10,
                            "solidity": 0.2
                          }
                        },
                        "type": "histogram"
                      }
                    ],
                    "histogram2d": [
                      {
                        "colorbar": {
                          "outlinewidth": 0,
                          "ticks": ""
                        },
                        "colorscale": [
                          [
                            0,
                            "#0d0887"
                          ],
                          [
                            0.1111111111111111,
                            "#46039f"
                          ],
                          [
                            0.2222222222222222,
                            "#7201a8"
                          ],
                          [
                            0.3333333333333333,
                            "#9c179e"
                          ],
                          [
                            0.4444444444444444,
                            "#bd3786"
                          ],
                          [
                            0.5555555555555556,
                            "#d8576b"
                          ],
                          [
                            0.6666666666666666,
                            "#ed7953"
                          ],
                          [
                            0.7777777777777778,
                            "#fb9f3a"
                          ],
                          [
                            0.8888888888888888,
                            "#fdca26"
                          ],
                          [
                            1,
                            "#f0f921"
                          ]
                        ],
                        "type": "histogram2d"
                      }
                    ],
                    "histogram2dcontour": [
                      {
                        "colorbar": {
                          "outlinewidth": 0,
                          "ticks": ""
                        },
                        "colorscale": [
                          [
                            0,
                            "#0d0887"
                          ],
                          [
                            0.1111111111111111,
                            "#46039f"
                          ],
                          [
                            0.2222222222222222,
                            "#7201a8"
                          ],
                          [
                            0.3333333333333333,
                            "#9c179e"
                          ],
                          [
                            0.4444444444444444,
                            "#bd3786"
                          ],
                          [
                            0.5555555555555556,
                            "#d8576b"
                          ],
                          [
                            0.6666666666666666,
                            "#ed7953"
                          ],
                          [
                            0.7777777777777778,
                            "#fb9f3a"
                          ],
                          [
                            0.8888888888888888,
                            "#fdca26"
                          ],
                          [
                            1,
                            "#f0f921"
                          ]
                        ],
                        "type": "histogram2dcontour"
                      }
                    ],
                    "mesh3d": [
                      {
                        "colorbar": {
                          "outlinewidth": 0,
                          "ticks": ""
                        },
                        "type": "mesh3d"
                      }
                    ],
                    "parcoords": [
                      {
                        "line": {
                          "colorbar": {
                            "outlinewidth": 0,
                            "ticks": ""
                          }
                        },
                        "type": "parcoords"
                      }
                    ],
                    "pie": [
                      {
                        "automargin": true,
                        "type": "pie"
                      }
                    ],
                    "scatter": [
                      {
                        "fillpattern": {
                          "fillmode": "overlay",
                          "size": 10,
                          "solidity": 0.2
                        },
                        "type": "scatter"
                      }
                    ],
                    "scatter3d": [
                      {
                        "line": {
                          "colorbar": {
                            "outlinewidth": 0,
                            "ticks": ""
                          }
                        },
                        "marker": {
                          "colorbar": {
                            "outlinewidth": 0,
                            "ticks": ""
                          }
                        },
                        "type": "scatter3d"
                      }
                    ],
                    "scattercarpet": [
                      {
                        "marker": {
                          "colorbar": {
                            "outlinewidth": 0,
                            "ticks": ""
                          }
                        },
                        "type": "scattercarpet"
                      }
                    ],
                    "scattergeo": [
                      {
                        "marker": {
                          "colorbar": {
                            "outlinewidth": 0,
                            "ticks": ""
                          }
                        },
                        "type": "scattergeo"
                      }
                    ],
                    "scattergl": [
                      {
                        "marker": {
                          "colorbar": {
                            "outlinewidth": 0,
                            "ticks": ""
                          }
                        },
                        "type": "scattergl"
                      }
                    ],
                    "scattermapbox": [
                      {
                        "marker": {
                          "colorbar": {
                            "outlinewidth": 0,
                            "ticks": ""
                          }
                        },
                        "type": "scattermapbox"
                      }
                    ],
                    "scatterpolar": [
                      {
                        "marker": {
                          "colorbar": {
                            "outlinewidth": 0,
                            "ticks": ""
                          }
                        },
                        "type": "scatterpolar"
                      }
                    ],
                    "scatterpolargl": [
                      {
                        "marker": {
                          "colorbar": {
                            "outlinewidth": 0,
                            "ticks": ""
                          }
                        },
                        "type": "scatterpolargl"
                      }
                    ],
                    "scatterternary": [
                      {
                        "marker": {
                          "colorbar": {
                            "outlinewidth": 0,
                            "ticks": ""
                          }
                        },
                        "type": "scatterternary"
                      }
                    ],
                    "surface": [
                      {
                        "colorbar": {
                          "outlinewidth": 0,
                          "ticks": ""
                        },
                        "colorscale": [
                          [
                            0,
                            "#0d0887"
                          ],
                          [
                            0.1111111111111111,
                            "#46039f"
                          ],
                          [
                            0.2222222222222222,
                            "#7201a8"
                          ],
                          [
                            0.3333333333333333,
                            "#9c179e"
                          ],
                          [
                            0.4444444444444444,
                            "#bd3786"
                          ],
                          [
                            0.5555555555555556,
                            "#d8576b"
                          ],
                          [
                            0.6666666666666666,
                            "#ed7953"
                          ],
                          [
                            0.7777777777777778,
                            "#fb9f3a"
                          ],
                          [
                            0.8888888888888888,
                            "#fdca26"
                          ],
                          [
                            1,
                            "#f0f921"
                          ]
                        ],
                        "type": "surface"
                      }
                    ],
                    "table": [
                      {
                        "cells": {
                          "fill": {
                            "color": "#EBF0F8"
                          },
                          "line": {
                            "color": "white"
                          }
                        },
                        "header": {
                          "fill": {
                            "color": "#C8D4E3"
                          },
                          "line": {
                            "color": "white"
                          }
                        },
                        "type": "table"
                      }
                    ]
                  },
                  "layout": {
                    "annotationdefaults": {
                      "arrowcolor": "#2a3f5f",
                      "arrowhead": 0,
                      "arrowwidth": 1
                    },
                    "autotypenumbers": "strict",
                    "coloraxis": {
                      "colorbar": {
                        "outlinewidth": 0,
                        "ticks": ""
                      }
                    },
                    "colorscale": {
                      "diverging": [
                        [
                          0,
                          "#8e0152"
                        ],
                        [
                          0.1,
                          "#c51b7d"
                        ],
                        [
                          0.2,
                          "#de77ae"
                        ],
                        [
                          0.3,
                          "#f1b6da"
                        ],
                        [
                          0.4,
                          "#fde0ef"
                        ],
                        [
                          0.5,
                          "#f7f7f7"
                        ],
                        [
                          0.6,
                          "#e6f5d0"
                        ],
                        [
                          0.7,
                          "#b8e186"
                        ],
                        [
                          0.8,
                          "#7fbc41"
                        ],
                        [
                          0.9,
                          "#4d9221"
                        ],
                        [
                          1,
                          "#276419"
                        ]
                      ],
                      "sequential": [
                        [
                          0,
                          "#0d0887"
                        ],
                        [
                          0.1111111111111111,
                          "#46039f"
                        ],
                        [
                          0.2222222222222222,
                          "#7201a8"
                        ],
                        [
                          0.3333333333333333,
                          "#9c179e"
                        ],
                        [
                          0.4444444444444444,
                          "#bd3786"
                        ],
                        [
                          0.5555555555555556,
                          "#d8576b"
                        ],
                        [
                          0.6666666666666666,
                          "#ed7953"
                        ],
                        [
                          0.7777777777777778,
                          "#fb9f3a"
                        ],
                        [
                          0.8888888888888888,
                          "#fdca26"
                        ],
                        [
                          1,
                          "#f0f921"
                        ]
                      ],
                      "sequentialminus": [
                        [
                          0,
                          "#0d0887"
                        ],
                        [
                          0.1111111111111111,
                          "#46039f"
                        ],
                        [
                          0.2222222222222222,
                          "#7201a8"
                        ],
                        [
                          0.3333333333333333,
                          "#9c179e"
                        ],
                        [
                          0.4444444444444444,
                          "#bd3786"
                        ],
                        [
                          0.5555555555555556,
                          "#d8576b"
                        ],
                        [
                          0.6666666666666666,
                          "#ed7953"
                        ],
                        [
                          0.7777777777777778,
                          "#fb9f3a"
                        ],
                        [
                          0.8888888888888888,
                          "#fdca26"
                        ],
                        [
                          1,
                          "#f0f921"
                        ]
                      ]
                    },
                    "colorway": [
                      "#636efa",
                      "#EF553B",
                      "#00cc96",
                      "#ab63fa",
                      "#FFA15A",
                      "#19d3f3",
                      "#FF6692",
                      "#B6E880",
                      "#FF97FF",
                      "#FECB52"
                    ],
                    "font": {
                      "color": "#2a3f5f"
                    },
                    "geo": {
                      "bgcolor": "white",
                      "lakecolor": "white",
                      "landcolor": "#E5ECF6",
                      "showlakes": true,
                      "showland": true,
                      "subunitcolor": "white"
                    },
                    "hoverlabel": {
                      "align": "left"
                    },
                    "hovermode": "closest",
                    "mapbox": {
                      "style": "light"
                    },
                    "paper_bgcolor": "white",
                    "plot_bgcolor": "#E5ECF6",
                    "polar": {
                      "angularaxis": {
                        "gridcolor": "white",
                        "linecolor": "white",
                        "ticks": ""
                      },
                      "bgcolor": "#E5ECF6",
                      "radialaxis": {
                        "gridcolor": "white",
                        "linecolor": "white",
                        "ticks": ""
                      }
                    },
                    "scene": {
                      "xaxis": {
                        "backgroundcolor": "#E5ECF6",
                        "gridcolor": "white",
                        "gridwidth": 2,
                        "linecolor": "white",
                        "showbackground": true,
                        "ticks": "",
                        "zerolinecolor": "white"
                      },
                      "yaxis": {
                        "backgroundcolor": "#E5ECF6",
                        "gridcolor": "white",
                        "gridwidth": 2,
                        "linecolor": "white",
                        "showbackground": true,
                        "ticks": "",
                        "zerolinecolor": "white"
                      },
                      "zaxis": {
                        "backgroundcolor": "#E5ECF6",
                        "gridcolor": "white",
                        "gridwidth": 2,
                        "linecolor": "white",
                        "showbackground": true,
                        "ticks": "",
                        "zerolinecolor": "white"
                      }
                    },
                    "shapedefaults": {
                      "line": {
                        "color": "#2a3f5f"
                      }
                    },
                    "ternary": {
                      "aaxis": {
                        "gridcolor": "white",
                        "linecolor": "white",
                        "ticks": ""
                      },
                      "baxis": {
                        "gridcolor": "white",
                        "linecolor": "white",
                        "ticks": ""
                      },
                      "bgcolor": "#E5ECF6",
                      "caxis": {
                        "gridcolor": "white",
                        "linecolor": "white",
                        "ticks": ""
                      }
                    },
                    "title": {
                      "x": 0.05
                    },
                    "xaxis": {
                      "automargin": true,
                      "gridcolor": "white",
                      "linecolor": "white",
                      "ticks": "",
                      "title": {
                        "standoff": 15
                      },
                      "zerolinecolor": "white",
                      "zerolinewidth": 2
                    },
                    "yaxis": {
                      "automargin": true,
                      "gridcolor": "white",
                      "linecolor": "white",
                      "ticks": "",
                      "title": {
                        "standoff": 15
                      },
                      "zerolinecolor": "white",
                      "zerolinewidth": 2
                    }
                  }
                },
                "title": {
                  "text": "Hyperparameter Importances"
                },
                "xaxis": {
                  "title": {
                    "text": "Hyperparameter Importance"
                  }
                },
                "yaxis": {
                  "title": {
                    "text": "Hyperparameter"
                  }
                }
              }
            }
          },
          "metadata": {},
          "output_type": "display_data"
        }
      ],
      "source": [
        "# Visualize parameter importances. See :func:`~optuna.visualization.plot_param_importances` for the details.\n",
        "#In this case, we have only one parameter.\n",
        "plot_param_importances(study)"
      ]
    },
    {
      "cell_type": "code",
      "execution_count": 20,
      "metadata": {
        "id": "4UnJr023cY3j"
      },
      "outputs": [
        {
          "data": {
            "application/vnd.plotly.v1+json": {
              "config": {
                "plotlyServerURL": "https://plot.ly"
              },
              "data": [
                {
                  "mode": "lines",
                  "name": "no-name-754e209f-c23a-4eab-a0a8-dcc2644716cd",
                  "type": "scatter",
                  "x": [
                    0.06259521513009556,
                    0.0678997248319897,
                    0.07320423453388383,
                    0.07850874423577797,
                    0.08381325393767211,
                    0.08911776363956625,
                    0.0944222733414604,
                    0.09972678304335454,
                    0.10503129274524868,
                    0.11033580244714282,
                    0.11564031214903696,
                    0.12094482185093111,
                    0.12624933155282525,
                    0.1315538412547194,
                    0.13685835095661353,
                    0.14216286065850767,
                    0.1474673703604018,
                    0.15277188006229594,
                    0.15807638976419008,
                    0.16338089946608422,
                    0.16868540916797836,
                    0.17398991886987253,
                    0.17929442857176664,
                    0.1845989382736608,
                    0.18990344797555495,
                    0.19520795767744908,
                    0.20051246737934322,
                    0.20581697708123736,
                    0.2111214867831315,
                    0.21642599648502564,
                    0.22173050618691978,
                    0.22703501588881392,
                    0.23233952559070806,
                    0.2376440352926022,
                    0.24294854499449633,
                    0.24825305469639047,
                    0.2535575643982846,
                    0.25886207410017875,
                    0.2641665838020729,
                    0.26947109350396703,
                    0.27477560320586114,
                    0.28008011290775536,
                    0.2853846226096495,
                    0.2906891323115436,
                    0.29599364201343775,
                    0.3012981517153319,
                    0.30660266141722603,
                    0.31190717111912014,
                    0.31721168082101436,
                    0.3225161905229085,
                    0.3278207002248026,
                    0.3331252099266967,
                    0.3384297196285909,
                    0.34373422933048503,
                    0.34903873903237914,
                    0.35434324873427325,
                    0.3596477584361675,
                    0.3649522681380616,
                    0.3702567778399557,
                    0.3755612875418498,
                    0.38086579724374403,
                    0.38617030694563814,
                    0.39147481664753225,
                    0.39677932634942636,
                    0.4020838360513206,
                    0.4073883457532147,
                    0.4126928554551088,
                    0.41799736515700303,
                    0.42330187485889714,
                    0.42860638456079125,
                    0.43391089426268536,
                    0.4392154039645796,
                    0.4445199136664737,
                    0.4498244233683678,
                    0.4551289330702619,
                    0.46043344277215614,
                    0.46573795247405025,
                    0.47104246217594437,
                    0.4763469718778385,
                    0.4816514815797327,
                    0.4869559912816268,
                    0.4922605009835209,
                    0.49756501068541514,
                    0.5028695203873093,
                    0.5081740300892034,
                    0.5134785397910975,
                    0.5187830494929917,
                    0.5240875591948858,
                    0.5293920688967799,
                    0.534696578598674,
                    0.5400010883005683,
                    0.5453055980024624,
                    0.5506101077043565,
                    0.5559146174062506,
                    0.5612191271081448,
                    0.5665236368100389,
                    0.5718281465119331,
                    0.5771326562138273,
                    0.5824371659157214,
                    0.5877416756176155
                  ],
                  "y": [
                    0.02,
                    0.2,
                    0.2,
                    0.2,
                    0.24,
                    0.4,
                    0.42,
                    0.48,
                    0.52,
                    0.54,
                    0.56,
                    0.58,
                    0.6,
                    0.64,
                    0.64,
                    0.66,
                    0.68,
                    0.68,
                    0.68,
                    0.7,
                    0.7,
                    0.7,
                    0.7,
                    0.72,
                    0.72,
                    0.72,
                    0.72,
                    0.74,
                    0.74,
                    0.74,
                    0.74,
                    0.74,
                    0.76,
                    0.76,
                    0.76,
                    0.76,
                    0.76,
                    0.76,
                    0.76,
                    0.78,
                    0.78,
                    0.78,
                    0.78,
                    0.78,
                    0.78,
                    0.78,
                    0.78,
                    0.78,
                    0.8,
                    0.8,
                    0.8,
                    0.8,
                    0.8,
                    0.8,
                    0.8,
                    0.82,
                    0.82,
                    0.82,
                    0.84,
                    0.84,
                    0.84,
                    0.84,
                    0.84,
                    0.84,
                    0.84,
                    0.84,
                    0.86,
                    0.86,
                    0.86,
                    0.86,
                    0.86,
                    0.86,
                    0.86,
                    0.88,
                    0.88,
                    0.88,
                    0.88,
                    0.88,
                    0.88,
                    0.88,
                    0.88,
                    0.88,
                    0.88,
                    0.88,
                    0.88,
                    0.88,
                    0.88,
                    0.88,
                    0.88,
                    0.88,
                    0.88,
                    0.9,
                    0.9,
                    0.9,
                    0.9,
                    0.9,
                    0.9,
                    0.9,
                    0.9,
                    1
                  ]
                }
              ],
              "layout": {
                "template": {
                  "data": {
                    "bar": [
                      {
                        "error_x": {
                          "color": "#2a3f5f"
                        },
                        "error_y": {
                          "color": "#2a3f5f"
                        },
                        "marker": {
                          "line": {
                            "color": "#E5ECF6",
                            "width": 0.5
                          },
                          "pattern": {
                            "fillmode": "overlay",
                            "size": 10,
                            "solidity": 0.2
                          }
                        },
                        "type": "bar"
                      }
                    ],
                    "barpolar": [
                      {
                        "marker": {
                          "line": {
                            "color": "#E5ECF6",
                            "width": 0.5
                          },
                          "pattern": {
                            "fillmode": "overlay",
                            "size": 10,
                            "solidity": 0.2
                          }
                        },
                        "type": "barpolar"
                      }
                    ],
                    "carpet": [
                      {
                        "aaxis": {
                          "endlinecolor": "#2a3f5f",
                          "gridcolor": "white",
                          "linecolor": "white",
                          "minorgridcolor": "white",
                          "startlinecolor": "#2a3f5f"
                        },
                        "baxis": {
                          "endlinecolor": "#2a3f5f",
                          "gridcolor": "white",
                          "linecolor": "white",
                          "minorgridcolor": "white",
                          "startlinecolor": "#2a3f5f"
                        },
                        "type": "carpet"
                      }
                    ],
                    "choropleth": [
                      {
                        "colorbar": {
                          "outlinewidth": 0,
                          "ticks": ""
                        },
                        "type": "choropleth"
                      }
                    ],
                    "contour": [
                      {
                        "colorbar": {
                          "outlinewidth": 0,
                          "ticks": ""
                        },
                        "colorscale": [
                          [
                            0,
                            "#0d0887"
                          ],
                          [
                            0.1111111111111111,
                            "#46039f"
                          ],
                          [
                            0.2222222222222222,
                            "#7201a8"
                          ],
                          [
                            0.3333333333333333,
                            "#9c179e"
                          ],
                          [
                            0.4444444444444444,
                            "#bd3786"
                          ],
                          [
                            0.5555555555555556,
                            "#d8576b"
                          ],
                          [
                            0.6666666666666666,
                            "#ed7953"
                          ],
                          [
                            0.7777777777777778,
                            "#fb9f3a"
                          ],
                          [
                            0.8888888888888888,
                            "#fdca26"
                          ],
                          [
                            1,
                            "#f0f921"
                          ]
                        ],
                        "type": "contour"
                      }
                    ],
                    "contourcarpet": [
                      {
                        "colorbar": {
                          "outlinewidth": 0,
                          "ticks": ""
                        },
                        "type": "contourcarpet"
                      }
                    ],
                    "heatmap": [
                      {
                        "colorbar": {
                          "outlinewidth": 0,
                          "ticks": ""
                        },
                        "colorscale": [
                          [
                            0,
                            "#0d0887"
                          ],
                          [
                            0.1111111111111111,
                            "#46039f"
                          ],
                          [
                            0.2222222222222222,
                            "#7201a8"
                          ],
                          [
                            0.3333333333333333,
                            "#9c179e"
                          ],
                          [
                            0.4444444444444444,
                            "#bd3786"
                          ],
                          [
                            0.5555555555555556,
                            "#d8576b"
                          ],
                          [
                            0.6666666666666666,
                            "#ed7953"
                          ],
                          [
                            0.7777777777777778,
                            "#fb9f3a"
                          ],
                          [
                            0.8888888888888888,
                            "#fdca26"
                          ],
                          [
                            1,
                            "#f0f921"
                          ]
                        ],
                        "type": "heatmap"
                      }
                    ],
                    "heatmapgl": [
                      {
                        "colorbar": {
                          "outlinewidth": 0,
                          "ticks": ""
                        },
                        "colorscale": [
                          [
                            0,
                            "#0d0887"
                          ],
                          [
                            0.1111111111111111,
                            "#46039f"
                          ],
                          [
                            0.2222222222222222,
                            "#7201a8"
                          ],
                          [
                            0.3333333333333333,
                            "#9c179e"
                          ],
                          [
                            0.4444444444444444,
                            "#bd3786"
                          ],
                          [
                            0.5555555555555556,
                            "#d8576b"
                          ],
                          [
                            0.6666666666666666,
                            "#ed7953"
                          ],
                          [
                            0.7777777777777778,
                            "#fb9f3a"
                          ],
                          [
                            0.8888888888888888,
                            "#fdca26"
                          ],
                          [
                            1,
                            "#f0f921"
                          ]
                        ],
                        "type": "heatmapgl"
                      }
                    ],
                    "histogram": [
                      {
                        "marker": {
                          "pattern": {
                            "fillmode": "overlay",
                            "size": 10,
                            "solidity": 0.2
                          }
                        },
                        "type": "histogram"
                      }
                    ],
                    "histogram2d": [
                      {
                        "colorbar": {
                          "outlinewidth": 0,
                          "ticks": ""
                        },
                        "colorscale": [
                          [
                            0,
                            "#0d0887"
                          ],
                          [
                            0.1111111111111111,
                            "#46039f"
                          ],
                          [
                            0.2222222222222222,
                            "#7201a8"
                          ],
                          [
                            0.3333333333333333,
                            "#9c179e"
                          ],
                          [
                            0.4444444444444444,
                            "#bd3786"
                          ],
                          [
                            0.5555555555555556,
                            "#d8576b"
                          ],
                          [
                            0.6666666666666666,
                            "#ed7953"
                          ],
                          [
                            0.7777777777777778,
                            "#fb9f3a"
                          ],
                          [
                            0.8888888888888888,
                            "#fdca26"
                          ],
                          [
                            1,
                            "#f0f921"
                          ]
                        ],
                        "type": "histogram2d"
                      }
                    ],
                    "histogram2dcontour": [
                      {
                        "colorbar": {
                          "outlinewidth": 0,
                          "ticks": ""
                        },
                        "colorscale": [
                          [
                            0,
                            "#0d0887"
                          ],
                          [
                            0.1111111111111111,
                            "#46039f"
                          ],
                          [
                            0.2222222222222222,
                            "#7201a8"
                          ],
                          [
                            0.3333333333333333,
                            "#9c179e"
                          ],
                          [
                            0.4444444444444444,
                            "#bd3786"
                          ],
                          [
                            0.5555555555555556,
                            "#d8576b"
                          ],
                          [
                            0.6666666666666666,
                            "#ed7953"
                          ],
                          [
                            0.7777777777777778,
                            "#fb9f3a"
                          ],
                          [
                            0.8888888888888888,
                            "#fdca26"
                          ],
                          [
                            1,
                            "#f0f921"
                          ]
                        ],
                        "type": "histogram2dcontour"
                      }
                    ],
                    "mesh3d": [
                      {
                        "colorbar": {
                          "outlinewidth": 0,
                          "ticks": ""
                        },
                        "type": "mesh3d"
                      }
                    ],
                    "parcoords": [
                      {
                        "line": {
                          "colorbar": {
                            "outlinewidth": 0,
                            "ticks": ""
                          }
                        },
                        "type": "parcoords"
                      }
                    ],
                    "pie": [
                      {
                        "automargin": true,
                        "type": "pie"
                      }
                    ],
                    "scatter": [
                      {
                        "fillpattern": {
                          "fillmode": "overlay",
                          "size": 10,
                          "solidity": 0.2
                        },
                        "type": "scatter"
                      }
                    ],
                    "scatter3d": [
                      {
                        "line": {
                          "colorbar": {
                            "outlinewidth": 0,
                            "ticks": ""
                          }
                        },
                        "marker": {
                          "colorbar": {
                            "outlinewidth": 0,
                            "ticks": ""
                          }
                        },
                        "type": "scatter3d"
                      }
                    ],
                    "scattercarpet": [
                      {
                        "marker": {
                          "colorbar": {
                            "outlinewidth": 0,
                            "ticks": ""
                          }
                        },
                        "type": "scattercarpet"
                      }
                    ],
                    "scattergeo": [
                      {
                        "marker": {
                          "colorbar": {
                            "outlinewidth": 0,
                            "ticks": ""
                          }
                        },
                        "type": "scattergeo"
                      }
                    ],
                    "scattergl": [
                      {
                        "marker": {
                          "colorbar": {
                            "outlinewidth": 0,
                            "ticks": ""
                          }
                        },
                        "type": "scattergl"
                      }
                    ],
                    "scattermapbox": [
                      {
                        "marker": {
                          "colorbar": {
                            "outlinewidth": 0,
                            "ticks": ""
                          }
                        },
                        "type": "scattermapbox"
                      }
                    ],
                    "scatterpolar": [
                      {
                        "marker": {
                          "colorbar": {
                            "outlinewidth": 0,
                            "ticks": ""
                          }
                        },
                        "type": "scatterpolar"
                      }
                    ],
                    "scatterpolargl": [
                      {
                        "marker": {
                          "colorbar": {
                            "outlinewidth": 0,
                            "ticks": ""
                          }
                        },
                        "type": "scatterpolargl"
                      }
                    ],
                    "scatterternary": [
                      {
                        "marker": {
                          "colorbar": {
                            "outlinewidth": 0,
                            "ticks": ""
                          }
                        },
                        "type": "scatterternary"
                      }
                    ],
                    "surface": [
                      {
                        "colorbar": {
                          "outlinewidth": 0,
                          "ticks": ""
                        },
                        "colorscale": [
                          [
                            0,
                            "#0d0887"
                          ],
                          [
                            0.1111111111111111,
                            "#46039f"
                          ],
                          [
                            0.2222222222222222,
                            "#7201a8"
                          ],
                          [
                            0.3333333333333333,
                            "#9c179e"
                          ],
                          [
                            0.4444444444444444,
                            "#bd3786"
                          ],
                          [
                            0.5555555555555556,
                            "#d8576b"
                          ],
                          [
                            0.6666666666666666,
                            "#ed7953"
                          ],
                          [
                            0.7777777777777778,
                            "#fb9f3a"
                          ],
                          [
                            0.8888888888888888,
                            "#fdca26"
                          ],
                          [
                            1,
                            "#f0f921"
                          ]
                        ],
                        "type": "surface"
                      }
                    ],
                    "table": [
                      {
                        "cells": {
                          "fill": {
                            "color": "#EBF0F8"
                          },
                          "line": {
                            "color": "white"
                          }
                        },
                        "header": {
                          "fill": {
                            "color": "#C8D4E3"
                          },
                          "line": {
                            "color": "white"
                          }
                        },
                        "type": "table"
                      }
                    ]
                  },
                  "layout": {
                    "annotationdefaults": {
                      "arrowcolor": "#2a3f5f",
                      "arrowhead": 0,
                      "arrowwidth": 1
                    },
                    "autotypenumbers": "strict",
                    "coloraxis": {
                      "colorbar": {
                        "outlinewidth": 0,
                        "ticks": ""
                      }
                    },
                    "colorscale": {
                      "diverging": [
                        [
                          0,
                          "#8e0152"
                        ],
                        [
                          0.1,
                          "#c51b7d"
                        ],
                        [
                          0.2,
                          "#de77ae"
                        ],
                        [
                          0.3,
                          "#f1b6da"
                        ],
                        [
                          0.4,
                          "#fde0ef"
                        ],
                        [
                          0.5,
                          "#f7f7f7"
                        ],
                        [
                          0.6,
                          "#e6f5d0"
                        ],
                        [
                          0.7,
                          "#b8e186"
                        ],
                        [
                          0.8,
                          "#7fbc41"
                        ],
                        [
                          0.9,
                          "#4d9221"
                        ],
                        [
                          1,
                          "#276419"
                        ]
                      ],
                      "sequential": [
                        [
                          0,
                          "#0d0887"
                        ],
                        [
                          0.1111111111111111,
                          "#46039f"
                        ],
                        [
                          0.2222222222222222,
                          "#7201a8"
                        ],
                        [
                          0.3333333333333333,
                          "#9c179e"
                        ],
                        [
                          0.4444444444444444,
                          "#bd3786"
                        ],
                        [
                          0.5555555555555556,
                          "#d8576b"
                        ],
                        [
                          0.6666666666666666,
                          "#ed7953"
                        ],
                        [
                          0.7777777777777778,
                          "#fb9f3a"
                        ],
                        [
                          0.8888888888888888,
                          "#fdca26"
                        ],
                        [
                          1,
                          "#f0f921"
                        ]
                      ],
                      "sequentialminus": [
                        [
                          0,
                          "#0d0887"
                        ],
                        [
                          0.1111111111111111,
                          "#46039f"
                        ],
                        [
                          0.2222222222222222,
                          "#7201a8"
                        ],
                        [
                          0.3333333333333333,
                          "#9c179e"
                        ],
                        [
                          0.4444444444444444,
                          "#bd3786"
                        ],
                        [
                          0.5555555555555556,
                          "#d8576b"
                        ],
                        [
                          0.6666666666666666,
                          "#ed7953"
                        ],
                        [
                          0.7777777777777778,
                          "#fb9f3a"
                        ],
                        [
                          0.8888888888888888,
                          "#fdca26"
                        ],
                        [
                          1,
                          "#f0f921"
                        ]
                      ]
                    },
                    "colorway": [
                      "#636efa",
                      "#EF553B",
                      "#00cc96",
                      "#ab63fa",
                      "#FFA15A",
                      "#19d3f3",
                      "#FF6692",
                      "#B6E880",
                      "#FF97FF",
                      "#FECB52"
                    ],
                    "font": {
                      "color": "#2a3f5f"
                    },
                    "geo": {
                      "bgcolor": "white",
                      "lakecolor": "white",
                      "landcolor": "#E5ECF6",
                      "showlakes": true,
                      "showland": true,
                      "subunitcolor": "white"
                    },
                    "hoverlabel": {
                      "align": "left"
                    },
                    "hovermode": "closest",
                    "mapbox": {
                      "style": "light"
                    },
                    "paper_bgcolor": "white",
                    "plot_bgcolor": "#E5ECF6",
                    "polar": {
                      "angularaxis": {
                        "gridcolor": "white",
                        "linecolor": "white",
                        "ticks": ""
                      },
                      "bgcolor": "#E5ECF6",
                      "radialaxis": {
                        "gridcolor": "white",
                        "linecolor": "white",
                        "ticks": ""
                      }
                    },
                    "scene": {
                      "xaxis": {
                        "backgroundcolor": "#E5ECF6",
                        "gridcolor": "white",
                        "gridwidth": 2,
                        "linecolor": "white",
                        "showbackground": true,
                        "ticks": "",
                        "zerolinecolor": "white"
                      },
                      "yaxis": {
                        "backgroundcolor": "#E5ECF6",
                        "gridcolor": "white",
                        "gridwidth": 2,
                        "linecolor": "white",
                        "showbackground": true,
                        "ticks": "",
                        "zerolinecolor": "white"
                      },
                      "zaxis": {
                        "backgroundcolor": "#E5ECF6",
                        "gridcolor": "white",
                        "gridwidth": 2,
                        "linecolor": "white",
                        "showbackground": true,
                        "ticks": "",
                        "zerolinecolor": "white"
                      }
                    },
                    "shapedefaults": {
                      "line": {
                        "color": "#2a3f5f"
                      }
                    },
                    "ternary": {
                      "aaxis": {
                        "gridcolor": "white",
                        "linecolor": "white",
                        "ticks": ""
                      },
                      "baxis": {
                        "gridcolor": "white",
                        "linecolor": "white",
                        "ticks": ""
                      },
                      "bgcolor": "#E5ECF6",
                      "caxis": {
                        "gridcolor": "white",
                        "linecolor": "white",
                        "ticks": ""
                      }
                    },
                    "title": {
                      "x": 0.05
                    },
                    "xaxis": {
                      "automargin": true,
                      "gridcolor": "white",
                      "linecolor": "white",
                      "ticks": "",
                      "title": {
                        "standoff": 15
                      },
                      "zerolinecolor": "white",
                      "zerolinewidth": 2
                    },
                    "yaxis": {
                      "automargin": true,
                      "gridcolor": "white",
                      "linecolor": "white",
                      "ticks": "",
                      "title": {
                        "standoff": 15
                      },
                      "zerolinecolor": "white",
                      "zerolinewidth": 2
                    }
                  }
                },
                "title": {
                  "text": "Empirical Distribution Function Plot"
                },
                "xaxis": {
                  "title": {
                    "text": "Objective Value"
                  }
                },
                "yaxis": {
                  "range": [
                    0,
                    1
                  ],
                  "title": {
                    "text": "Cumulative Probability"
                  }
                }
              }
            }
          },
          "metadata": {},
          "output_type": "display_data"
        }
      ],
      "source": [
        "# Visualize empirical distribution function. See :func:`~optuna.visualization.plot_edf` for the details.\n",
        "plot_edf(study)"
      ]
    },
    {
      "cell_type": "code",
      "execution_count": 21,
      "metadata": {
        "id": "8PahkZBmcY5u"
      },
      "outputs": [
        {
          "name": "stderr",
          "output_type": "stream",
          "text": [
            "[I 2024-04-12 10:18:19,032] A new study created in memory with name: no-name-16f6c029-eef1-40f2-9538-bf10b921e5b7\n",
            "C:\\Users\\chldy\\AppData\\Local\\Temp\\ipykernel_14372\\3750847957.py:16: FutureWarning:\n",
            "\n",
            "suggest_loguniform has been deprecated in v3.0.0. This feature will be removed in v6.0.0. See https://github.com/optuna/optuna/releases/tag/v3.0.0. Use suggest_float(..., log=True) instead.\n",
            "\n",
            "[I 2024-04-12 10:18:19,046] Trial 0 finished with value: 0.4822190611664296 and parameters: {'classifier': 'SVC', 'svc_c': 0.00013242665204694652}. Best is trial 0 with value: 0.4822190611664296.\n",
            "C:\\Users\\chldy\\AppData\\Local\\Temp\\ipykernel_14372\\3750847957.py:16: FutureWarning:\n",
            "\n",
            "suggest_loguniform has been deprecated in v3.0.0. This feature will be removed in v6.0.0. See https://github.com/optuna/optuna/releases/tag/v3.0.0. Use suggest_float(..., log=True) instead.\n",
            "\n",
            "[I 2024-04-12 10:18:19,057] Trial 1 finished with value: 0.4822190611664296 and parameters: {'classifier': 'SVC', 'svc_c': 2.307676967750783e-06}. Best is trial 0 with value: 0.4822190611664296.\n",
            "C:\\Users\\chldy\\AppData\\Local\\Temp\\ipykernel_14372\\3750847957.py:16: FutureWarning:\n",
            "\n",
            "suggest_loguniform has been deprecated in v3.0.0. This feature will be removed in v6.0.0. See https://github.com/optuna/optuna/releases/tag/v3.0.0. Use suggest_float(..., log=True) instead.\n",
            "\n",
            "[I 2024-04-12 10:18:19,068] Trial 2 finished with value: 0.9331436699857752 and parameters: {'classifier': 'SVC', 'svc_c': 9475214628.665258}. Best is trial 2 with value: 0.9331436699857752.\n",
            "C:\\Users\\chldy\\AppData\\Local\\Temp\\ipykernel_14372\\3750847957.py:21: FutureWarning:\n",
            "\n",
            "suggest_loguniform has been deprecated in v3.0.0. This feature will be removed in v6.0.0. See https://github.com/optuna/optuna/releases/tag/v3.0.0. Use suggest_float(..., log=True) instead.\n",
            "\n",
            "[I 2024-04-12 10:18:19,114] Trial 3 finished with value: 0.9599928876244666 and parameters: {'classifier': 'RandomForest', 'rf_max_depth': 7.034215992819017}. Best is trial 3 with value: 0.9599928876244666.\n",
            "C:\\Users\\chldy\\AppData\\Local\\Temp\\ipykernel_14372\\3750847957.py:16: FutureWarning:\n",
            "\n",
            "suggest_loguniform has been deprecated in v3.0.0. This feature will be removed in v6.0.0. See https://github.com/optuna/optuna/releases/tag/v3.0.0. Use suggest_float(..., log=True) instead.\n",
            "\n",
            "[I 2024-04-12 10:18:19,124] Trial 4 finished with value: 0.4822190611664296 and parameters: {'classifier': 'SVC', 'svc_c': 0.0029138257800980583}. Best is trial 3 with value: 0.9599928876244666.\n",
            "C:\\Users\\chldy\\AppData\\Local\\Temp\\ipykernel_14372\\3750847957.py:21: FutureWarning:\n",
            "\n",
            "suggest_loguniform has been deprecated in v3.0.0. This feature will be removed in v6.0.0. See https://github.com/optuna/optuna/releases/tag/v3.0.0. Use suggest_float(..., log=True) instead.\n",
            "\n",
            "[I 2024-04-12 10:18:19,170] Trial 5 finished with value: 0.9534139402560455 and parameters: {'classifier': 'RandomForest', 'rf_max_depth': 2.020382516066021}. Best is trial 3 with value: 0.9599928876244666.\n",
            "C:\\Users\\chldy\\AppData\\Local\\Temp\\ipykernel_14372\\3750847957.py:16: FutureWarning:\n",
            "\n",
            "suggest_loguniform has been deprecated in v3.0.0. This feature will be removed in v6.0.0. See https://github.com/optuna/optuna/releases/tag/v3.0.0. Use suggest_float(..., log=True) instead.\n",
            "\n",
            "[I 2024-04-12 10:18:19,179] Trial 6 finished with value: 0.9331436699857752 and parameters: {'classifier': 'SVC', 'svc_c': 56954.633319022585}. Best is trial 3 with value: 0.9599928876244666.\n",
            "C:\\Users\\chldy\\AppData\\Local\\Temp\\ipykernel_14372\\3750847957.py:21: FutureWarning:\n",
            "\n",
            "suggest_loguniform has been deprecated in v3.0.0. This feature will be removed in v6.0.0. See https://github.com/optuna/optuna/releases/tag/v3.0.0. Use suggest_float(..., log=True) instead.\n",
            "\n",
            "[I 2024-04-12 10:18:19,223] Trial 7 finished with value: 0.9532361308677098 and parameters: {'classifier': 'RandomForest', 'rf_max_depth': 8.262439523022781}. Best is trial 3 with value: 0.9599928876244666.\n",
            "C:\\Users\\chldy\\AppData\\Local\\Temp\\ipykernel_14372\\3750847957.py:21: FutureWarning:\n",
            "\n",
            "suggest_loguniform has been deprecated in v3.0.0. This feature will be removed in v6.0.0. See https://github.com/optuna/optuna/releases/tag/v3.0.0. Use suggest_float(..., log=True) instead.\n",
            "\n",
            "[I 2024-04-12 10:18:19,269] Trial 8 finished with value: 0.9599928876244666 and parameters: {'classifier': 'RandomForest', 'rf_max_depth': 28.703132429730196}. Best is trial 3 with value: 0.9599928876244666.\n",
            "C:\\Users\\chldy\\AppData\\Local\\Temp\\ipykernel_14372\\3750847957.py:21: FutureWarning:\n",
            "\n",
            "suggest_loguniform has been deprecated in v3.0.0. This feature will be removed in v6.0.0. See https://github.com/optuna/optuna/releases/tag/v3.0.0. Use suggest_float(..., log=True) instead.\n",
            "\n",
            "[I 2024-04-12 10:18:19,308] Trial 9 finished with value: 0.9397226173541963 and parameters: {'classifier': 'RandomForest', 'rf_max_depth': 5.845572013499311}. Best is trial 3 with value: 0.9599928876244666.\n",
            "C:\\Users\\chldy\\AppData\\Local\\Temp\\ipykernel_14372\\3750847957.py:21: FutureWarning:\n",
            "\n",
            "suggest_loguniform has been deprecated in v3.0.0. This feature will be removed in v6.0.0. See https://github.com/optuna/optuna/releases/tag/v3.0.0. Use suggest_float(..., log=True) instead.\n",
            "\n",
            "[I 2024-04-12 10:18:19,353] Trial 10 finished with value: 0.9532361308677098 and parameters: {'classifier': 'RandomForest', 'rf_max_depth': 8.168848128097686}. Best is trial 3 with value: 0.9599928876244666.\n",
            "C:\\Users\\chldy\\AppData\\Local\\Temp\\ipykernel_14372\\3750847957.py:21: FutureWarning:\n",
            "\n",
            "suggest_loguniform has been deprecated in v3.0.0. This feature will be removed in v6.0.0. See https://github.com/optuna/optuna/releases/tag/v3.0.0. Use suggest_float(..., log=True) instead.\n",
            "\n",
            "[I 2024-04-12 10:18:19,423] Trial 11 finished with value: 0.9667496443812233 and parameters: {'classifier': 'RandomForest', 'rf_max_depth': 20.09129600135618}. Best is trial 11 with value: 0.9667496443812233.\n",
            "C:\\Users\\chldy\\AppData\\Local\\Temp\\ipykernel_14372\\3750847957.py:21: FutureWarning:\n",
            "\n",
            "suggest_loguniform has been deprecated in v3.0.0. This feature will be removed in v6.0.0. See https://github.com/optuna/optuna/releases/tag/v3.0.0. Use suggest_float(..., log=True) instead.\n",
            "\n",
            "[I 2024-04-12 10:18:19,586] Trial 12 finished with value: 0.9532361308677098 and parameters: {'classifier': 'RandomForest', 'rf_max_depth': 23.171423263795266}. Best is trial 11 with value: 0.9667496443812233.\n",
            "C:\\Users\\chldy\\AppData\\Local\\Temp\\ipykernel_14372\\3750847957.py:21: FutureWarning:\n",
            "\n",
            "suggest_loguniform has been deprecated in v3.0.0. This feature will be removed in v6.0.0. See https://github.com/optuna/optuna/releases/tag/v3.0.0. Use suggest_float(..., log=True) instead.\n",
            "\n",
            "[I 2024-04-12 10:18:19,641] Trial 13 finished with value: 0.9397226173541964 and parameters: {'classifier': 'RandomForest', 'rf_max_depth': 14.227830830606386}. Best is trial 11 with value: 0.9667496443812233.\n",
            "C:\\Users\\chldy\\AppData\\Local\\Temp\\ipykernel_14372\\3750847957.py:21: FutureWarning:\n",
            "\n",
            "suggest_loguniform has been deprecated in v3.0.0. This feature will be removed in v6.0.0. See https://github.com/optuna/optuna/releases/tag/v3.0.0. Use suggest_float(..., log=True) instead.\n",
            "\n",
            "[I 2024-04-12 10:18:19,687] Trial 14 finished with value: 0.9667496443812233 and parameters: {'classifier': 'RandomForest', 'rf_max_depth': 4.285105556037955}. Best is trial 11 with value: 0.9667496443812233.\n",
            "C:\\Users\\chldy\\AppData\\Local\\Temp\\ipykernel_14372\\3750847957.py:21: FutureWarning:\n",
            "\n",
            "suggest_loguniform has been deprecated in v3.0.0. This feature will be removed in v6.0.0. See https://github.com/optuna/optuna/releases/tag/v3.0.0. Use suggest_float(..., log=True) instead.\n",
            "\n",
            "[I 2024-04-12 10:18:19,735] Trial 15 finished with value: 0.9601706970128022 and parameters: {'classifier': 'RandomForest', 'rf_max_depth': 2.733571742538277}. Best is trial 11 with value: 0.9667496443812233.\n",
            "C:\\Users\\chldy\\AppData\\Local\\Temp\\ipykernel_14372\\3750847957.py:21: FutureWarning:\n",
            "\n",
            "suggest_loguniform has been deprecated in v3.0.0. This feature will be removed in v6.0.0. See https://github.com/optuna/optuna/releases/tag/v3.0.0. Use suggest_float(..., log=True) instead.\n",
            "\n",
            "[I 2024-04-12 10:18:19,782] Trial 16 finished with value: 0.9534139402560455 and parameters: {'classifier': 'RandomForest', 'rf_max_depth': 4.186311040698554}. Best is trial 11 with value: 0.9667496443812233.\n",
            "C:\\Users\\chldy\\AppData\\Local\\Temp\\ipykernel_14372\\3750847957.py:21: FutureWarning:\n",
            "\n",
            "suggest_loguniform has been deprecated in v3.0.0. This feature will be removed in v6.0.0. See https://github.com/optuna/optuna/releases/tag/v3.0.0. Use suggest_float(..., log=True) instead.\n",
            "\n",
            "[I 2024-04-12 10:18:19,831] Trial 17 finished with value: 0.946479374110953 and parameters: {'classifier': 'RandomForest', 'rf_max_depth': 14.903312673782128}. Best is trial 11 with value: 0.9667496443812233.\n",
            "C:\\Users\\chldy\\AppData\\Local\\Temp\\ipykernel_14372\\3750847957.py:21: FutureWarning:\n",
            "\n",
            "suggest_loguniform has been deprecated in v3.0.0. This feature will be removed in v6.0.0. See https://github.com/optuna/optuna/releases/tag/v3.0.0. Use suggest_float(..., log=True) instead.\n",
            "\n",
            "[I 2024-04-12 10:18:19,889] Trial 18 finished with value: 0.9599928876244666 and parameters: {'classifier': 'RandomForest', 'rf_max_depth': 13.78994341498635}. Best is trial 11 with value: 0.9667496443812233.\n",
            "C:\\Users\\chldy\\AppData\\Local\\Temp\\ipykernel_14372\\3750847957.py:21: FutureWarning:\n",
            "\n",
            "suggest_loguniform has been deprecated in v3.0.0. This feature will be removed in v6.0.0. See https://github.com/optuna/optuna/releases/tag/v3.0.0. Use suggest_float(..., log=True) instead.\n",
            "\n",
            "[I 2024-04-12 10:18:19,949] Trial 19 finished with value: 0.9667496443812233 and parameters: {'classifier': 'RandomForest', 'rf_max_depth': 3.896716064674229}. Best is trial 11 with value: 0.9667496443812233.\n",
            "C:\\Users\\chldy\\AppData\\Local\\Temp\\ipykernel_14372\\3750847957.py:21: FutureWarning:\n",
            "\n",
            "suggest_loguniform has been deprecated in v3.0.0. This feature will be removed in v6.0.0. See https://github.com/optuna/optuna/releases/tag/v3.0.0. Use suggest_float(..., log=True) instead.\n",
            "\n",
            "[I 2024-04-12 10:18:20,038] Trial 20 finished with value: 0.9667496443812233 and parameters: {'classifier': 'RandomForest', 'rf_max_depth': 4.470698926002184}. Best is trial 11 with value: 0.9667496443812233.\n",
            "C:\\Users\\chldy\\AppData\\Local\\Temp\\ipykernel_14372\\3750847957.py:21: FutureWarning:\n",
            "\n",
            "suggest_loguniform has been deprecated in v3.0.0. This feature will be removed in v6.0.0. See https://github.com/optuna/optuna/releases/tag/v3.0.0. Use suggest_float(..., log=True) instead.\n",
            "\n",
            "[I 2024-04-12 10:18:20,089] Trial 21 finished with value: 0.9532361308677098 and parameters: {'classifier': 'RandomForest', 'rf_max_depth': 3.6197865339825848}. Best is trial 11 with value: 0.9667496443812233.\n",
            "C:\\Users\\chldy\\AppData\\Local\\Temp\\ipykernel_14372\\3750847957.py:21: FutureWarning:\n",
            "\n",
            "suggest_loguniform has been deprecated in v3.0.0. This feature will be removed in v6.0.0. See https://github.com/optuna/optuna/releases/tag/v3.0.0. Use suggest_float(..., log=True) instead.\n",
            "\n",
            "[I 2024-04-12 10:18:20,136] Trial 22 finished with value: 0.9532361308677098 and parameters: {'classifier': 'RandomForest', 'rf_max_depth': 3.1611162390891914}. Best is trial 11 with value: 0.9667496443812233.\n",
            "C:\\Users\\chldy\\AppData\\Local\\Temp\\ipykernel_14372\\3750847957.py:21: FutureWarning:\n",
            "\n",
            "suggest_loguniform has been deprecated in v3.0.0. This feature will be removed in v6.0.0. See https://github.com/optuna/optuna/releases/tag/v3.0.0. Use suggest_float(..., log=True) instead.\n",
            "\n",
            "[I 2024-04-12 10:18:20,186] Trial 23 finished with value: 0.9532361308677098 and parameters: {'classifier': 'RandomForest', 'rf_max_depth': 5.508214719924767}. Best is trial 11 with value: 0.9667496443812233.\n",
            "C:\\Users\\chldy\\AppData\\Local\\Temp\\ipykernel_14372\\3750847957.py:21: FutureWarning:\n",
            "\n",
            "suggest_loguniform has been deprecated in v3.0.0. This feature will be removed in v6.0.0. See https://github.com/optuna/optuna/releases/tag/v3.0.0. Use suggest_float(..., log=True) instead.\n",
            "\n",
            "[I 2024-04-12 10:18:20,250] Trial 24 finished with value: 0.9599928876244666 and parameters: {'classifier': 'RandomForest', 'rf_max_depth': 10.352526616955654}. Best is trial 11 with value: 0.9667496443812233.\n",
            "C:\\Users\\chldy\\AppData\\Local\\Temp\\ipykernel_14372\\3750847957.py:21: FutureWarning:\n",
            "\n",
            "suggest_loguniform has been deprecated in v3.0.0. This feature will be removed in v6.0.0. See https://github.com/optuna/optuna/releases/tag/v3.0.0. Use suggest_float(..., log=True) instead.\n",
            "\n",
            "[I 2024-04-12 10:18:20,309] Trial 25 finished with value: 0.9399004267425319 and parameters: {'classifier': 'RandomForest', 'rf_max_depth': 2.399866352415522}. Best is trial 11 with value: 0.9667496443812233.\n",
            "C:\\Users\\chldy\\AppData\\Local\\Temp\\ipykernel_14372\\3750847957.py:21: FutureWarning:\n",
            "\n",
            "suggest_loguniform has been deprecated in v3.0.0. This feature will be removed in v6.0.0. See https://github.com/optuna/optuna/releases/tag/v3.0.0. Use suggest_float(..., log=True) instead.\n",
            "\n",
            "[I 2024-04-12 10:18:20,369] Trial 26 finished with value: 0.9667496443812233 and parameters: {'classifier': 'RandomForest', 'rf_max_depth': 4.975899704463847}. Best is trial 11 with value: 0.9667496443812233.\n",
            "C:\\Users\\chldy\\AppData\\Local\\Temp\\ipykernel_14372\\3750847957.py:16: FutureWarning:\n",
            "\n",
            "suggest_loguniform has been deprecated in v3.0.0. This feature will be removed in v6.0.0. See https://github.com/optuna/optuna/releases/tag/v3.0.0. Use suggest_float(..., log=True) instead.\n",
            "\n",
            "[I 2024-04-12 10:18:20,385] Trial 27 finished with value: 0.4822190611664296 and parameters: {'classifier': 'SVC', 'svc_c': 1.3376333815629982e-10}. Best is trial 11 with value: 0.9667496443812233.\n",
            "C:\\Users\\chldy\\AppData\\Local\\Temp\\ipykernel_14372\\3750847957.py:21: FutureWarning:\n",
            "\n",
            "suggest_loguniform has been deprecated in v3.0.0. This feature will be removed in v6.0.0. See https://github.com/optuna/optuna/releases/tag/v3.0.0. Use suggest_float(..., log=True) instead.\n",
            "\n",
            "[I 2024-04-12 10:18:20,436] Trial 28 finished with value: 0.9532361308677098 and parameters: {'classifier': 'RandomForest', 'rf_max_depth': 3.5858350090145867}. Best is trial 11 with value: 0.9667496443812233.\n",
            "C:\\Users\\chldy\\AppData\\Local\\Temp\\ipykernel_14372\\3750847957.py:16: FutureWarning:\n",
            "\n",
            "suggest_loguniform has been deprecated in v3.0.0. This feature will be removed in v6.0.0. See https://github.com/optuna/optuna/releases/tag/v3.0.0. Use suggest_float(..., log=True) instead.\n",
            "\n",
            "[I 2024-04-12 10:18:20,449] Trial 29 finished with value: 0.9466571834992887 and parameters: {'classifier': 'SVC', 'svc_c': 1061.1492258207788}. Best is trial 11 with value: 0.9667496443812233.\n",
            "C:\\Users\\chldy\\AppData\\Local\\Temp\\ipykernel_14372\\3750847957.py:21: FutureWarning:\n",
            "\n",
            "suggest_loguniform has been deprecated in v3.0.0. This feature will be removed in v6.0.0. See https://github.com/optuna/optuna/releases/tag/v3.0.0. Use suggest_float(..., log=True) instead.\n",
            "\n",
            "[I 2024-04-12 10:18:20,500] Trial 30 finished with value: 0.9599928876244666 and parameters: {'classifier': 'RandomForest', 'rf_max_depth': 21.91832252396153}. Best is trial 11 with value: 0.9667496443812233.\n",
            "C:\\Users\\chldy\\AppData\\Local\\Temp\\ipykernel_14372\\3750847957.py:21: FutureWarning:\n",
            "\n",
            "suggest_loguniform has been deprecated in v3.0.0. This feature will be removed in v6.0.0. See https://github.com/optuna/optuna/releases/tag/v3.0.0. Use suggest_float(..., log=True) instead.\n",
            "\n",
            "[I 2024-04-12 10:18:20,551] Trial 31 finished with value: 0.9397226173541964 and parameters: {'classifier': 'RandomForest', 'rf_max_depth': 4.4634240280589035}. Best is trial 11 with value: 0.9667496443812233.\n",
            "C:\\Users\\chldy\\AppData\\Local\\Temp\\ipykernel_14372\\3750847957.py:21: FutureWarning:\n",
            "\n",
            "suggest_loguniform has been deprecated in v3.0.0. This feature will be removed in v6.0.0. See https://github.com/optuna/optuna/releases/tag/v3.0.0. Use suggest_float(..., log=True) instead.\n",
            "\n",
            "[I 2024-04-12 10:18:20,609] Trial 32 finished with value: 0.9667496443812233 and parameters: {'classifier': 'RandomForest', 'rf_max_depth': 6.423954846829441}. Best is trial 11 with value: 0.9667496443812233.\n",
            "C:\\Users\\chldy\\AppData\\Local\\Temp\\ipykernel_14372\\3750847957.py:21: FutureWarning:\n",
            "\n",
            "suggest_loguniform has been deprecated in v3.0.0. This feature will be removed in v6.0.0. See https://github.com/optuna/optuna/releases/tag/v3.0.0. Use suggest_float(..., log=True) instead.\n",
            "\n",
            "[I 2024-04-12 10:18:20,665] Trial 33 finished with value: 0.9599928876244666 and parameters: {'classifier': 'RandomForest', 'rf_max_depth': 3.906143600304565}. Best is trial 11 with value: 0.9667496443812233.\n",
            "C:\\Users\\chldy\\AppData\\Local\\Temp\\ipykernel_14372\\3750847957.py:16: FutureWarning:\n",
            "\n",
            "suggest_loguniform has been deprecated in v3.0.0. This feature will be removed in v6.0.0. See https://github.com/optuna/optuna/releases/tag/v3.0.0. Use suggest_float(..., log=True) instead.\n",
            "\n",
            "[I 2024-04-12 10:18:20,682] Trial 34 finished with value: 0.9331436699857752 and parameters: {'classifier': 'SVC', 'svc_c': 6149352.280116563}. Best is trial 11 with value: 0.9667496443812233.\n",
            "C:\\Users\\chldy\\AppData\\Local\\Temp\\ipykernel_14372\\3750847957.py:21: FutureWarning:\n",
            "\n",
            "suggest_loguniform has been deprecated in v3.0.0. This feature will be removed in v6.0.0. See https://github.com/optuna/optuna/releases/tag/v3.0.0. Use suggest_float(..., log=True) instead.\n",
            "\n",
            "[I 2024-04-12 10:18:20,737] Trial 35 finished with value: 0.9532361308677098 and parameters: {'classifier': 'RandomForest', 'rf_max_depth': 10.80166750883768}. Best is trial 11 with value: 0.9667496443812233.\n",
            "C:\\Users\\chldy\\AppData\\Local\\Temp\\ipykernel_14372\\3750847957.py:16: FutureWarning:\n",
            "\n",
            "suggest_loguniform has been deprecated in v3.0.0. This feature will be removed in v6.0.0. See https://github.com/optuna/optuna/releases/tag/v3.0.0. Use suggest_float(..., log=True) instead.\n",
            "\n",
            "[I 2024-04-12 10:18:20,754] Trial 36 finished with value: 0.9735064011379801 and parameters: {'classifier': 'SVC', 'svc_c': 8.250691978620889}. Best is trial 36 with value: 0.9735064011379801.\n",
            "C:\\Users\\chldy\\AppData\\Local\\Temp\\ipykernel_14372\\3750847957.py:16: FutureWarning:\n",
            "\n",
            "suggest_loguniform has been deprecated in v3.0.0. This feature will be removed in v6.0.0. See https://github.com/optuna/optuna/releases/tag/v3.0.0. Use suggest_float(..., log=True) instead.\n",
            "\n",
            "[I 2024-04-12 10:18:20,769] Trial 37 finished with value: 0.9735064011379801 and parameters: {'classifier': 'SVC', 'svc_c': 5.451601770140119}. Best is trial 36 with value: 0.9735064011379801.\n",
            "C:\\Users\\chldy\\AppData\\Local\\Temp\\ipykernel_14372\\3750847957.py:16: FutureWarning:\n",
            "\n",
            "suggest_loguniform has been deprecated in v3.0.0. This feature will be removed in v6.0.0. See https://github.com/optuna/optuna/releases/tag/v3.0.0. Use suggest_float(..., log=True) instead.\n",
            "\n",
            "[I 2024-04-12 10:18:20,786] Trial 38 finished with value: 0.9733285917496444 and parameters: {'classifier': 'SVC', 'svc_c': 2.726273655479438}. Best is trial 36 with value: 0.9735064011379801.\n",
            "C:\\Users\\chldy\\AppData\\Local\\Temp\\ipykernel_14372\\3750847957.py:16: FutureWarning:\n",
            "\n",
            "suggest_loguniform has been deprecated in v3.0.0. This feature will be removed in v6.0.0. See https://github.com/optuna/optuna/releases/tag/v3.0.0. Use suggest_float(..., log=True) instead.\n",
            "\n",
            "[I 2024-04-12 10:18:20,801] Trial 39 finished with value: 0.9735064011379801 and parameters: {'classifier': 'SVC', 'svc_c': 4.692293908185497}. Best is trial 36 with value: 0.9735064011379801.\n",
            "C:\\Users\\chldy\\AppData\\Local\\Temp\\ipykernel_14372\\3750847957.py:16: FutureWarning:\n",
            "\n",
            "suggest_loguniform has been deprecated in v3.0.0. This feature will be removed in v6.0.0. See https://github.com/optuna/optuna/releases/tag/v3.0.0. Use suggest_float(..., log=True) instead.\n",
            "\n",
            "[I 2024-04-12 10:18:20,817] Trial 40 finished with value: 0.9733285917496444 and parameters: {'classifier': 'SVC', 'svc_c': 3.9917445793144304}. Best is trial 36 with value: 0.9735064011379801.\n",
            "C:\\Users\\chldy\\AppData\\Local\\Temp\\ipykernel_14372\\3750847957.py:16: FutureWarning:\n",
            "\n",
            "suggest_loguniform has been deprecated in v3.0.0. This feature will be removed in v6.0.0. See https://github.com/optuna/optuna/releases/tag/v3.0.0. Use suggest_float(..., log=True) instead.\n",
            "\n",
            "[I 2024-04-12 10:18:20,832] Trial 41 finished with value: 0.9667496443812233 and parameters: {'classifier': 'SVC', 'svc_c': 6.653176809718868}. Best is trial 36 with value: 0.9735064011379801.\n",
            "C:\\Users\\chldy\\AppData\\Local\\Temp\\ipykernel_14372\\3750847957.py:16: FutureWarning:\n",
            "\n",
            "suggest_loguniform has been deprecated in v3.0.0. This feature will be removed in v6.0.0. See https://github.com/optuna/optuna/releases/tag/v3.0.0. Use suggest_float(..., log=True) instead.\n",
            "\n",
            "[I 2024-04-12 10:18:20,848] Trial 42 finished with value: 0.9733285917496444 and parameters: {'classifier': 'SVC', 'svc_c': 2.3126798128446415}. Best is trial 36 with value: 0.9735064011379801.\n",
            "C:\\Users\\chldy\\AppData\\Local\\Temp\\ipykernel_14372\\3750847957.py:16: FutureWarning:\n",
            "\n",
            "suggest_loguniform has been deprecated in v3.0.0. This feature will be removed in v6.0.0. See https://github.com/optuna/optuna/releases/tag/v3.0.0. Use suggest_float(..., log=True) instead.\n",
            "\n",
            "[I 2024-04-12 10:18:20,863] Trial 43 finished with value: 0.9731507823613088 and parameters: {'classifier': 'SVC', 'svc_c': 1.0499586237899794}. Best is trial 36 with value: 0.9735064011379801.\n",
            "C:\\Users\\chldy\\AppData\\Local\\Temp\\ipykernel_14372\\3750847957.py:16: FutureWarning:\n",
            "\n",
            "suggest_loguniform has been deprecated in v3.0.0. This feature will be removed in v6.0.0. See https://github.com/optuna/optuna/releases/tag/v3.0.0. Use suggest_float(..., log=True) instead.\n",
            "\n",
            "[I 2024-04-12 10:18:20,881] Trial 44 finished with value: 0.9665718349928876 and parameters: {'classifier': 'SVC', 'svc_c': 128.45660935924425}. Best is trial 36 with value: 0.9735064011379801.\n",
            "C:\\Users\\chldy\\AppData\\Local\\Temp\\ipykernel_14372\\3750847957.py:16: FutureWarning:\n",
            "\n",
            "suggest_loguniform has been deprecated in v3.0.0. This feature will be removed in v6.0.0. See https://github.com/optuna/optuna/releases/tag/v3.0.0. Use suggest_float(..., log=True) instead.\n",
            "\n",
            "[I 2024-04-12 10:18:20,899] Trial 45 finished with value: 0.8799786628733998 and parameters: {'classifier': 'SVC', 'svc_c': 0.03826571536624007}. Best is trial 36 with value: 0.9735064011379801.\n",
            "C:\\Users\\chldy\\AppData\\Local\\Temp\\ipykernel_14372\\3750847957.py:16: FutureWarning:\n",
            "\n",
            "suggest_loguniform has been deprecated in v3.0.0. This feature will be removed in v6.0.0. See https://github.com/optuna/optuna/releases/tag/v3.0.0. Use suggest_float(..., log=True) instead.\n",
            "\n",
            "[I 2024-04-12 10:18:20,915] Trial 46 finished with value: 0.9466571834992887 and parameters: {'classifier': 'SVC', 'svc_c': 391.46746677949585}. Best is trial 36 with value: 0.9735064011379801.\n",
            "C:\\Users\\chldy\\AppData\\Local\\Temp\\ipykernel_14372\\3750847957.py:16: FutureWarning:\n",
            "\n",
            "suggest_loguniform has been deprecated in v3.0.0. This feature will be removed in v6.0.0. See https://github.com/optuna/optuna/releases/tag/v3.0.0. Use suggest_float(..., log=True) instead.\n",
            "\n",
            "[I 2024-04-12 10:18:20,931] Trial 47 finished with value: 0.9599928876244666 and parameters: {'classifier': 'SVC', 'svc_c': 0.13066933448339266}. Best is trial 36 with value: 0.9735064011379801.\n",
            "C:\\Users\\chldy\\AppData\\Local\\Temp\\ipykernel_14372\\3750847957.py:16: FutureWarning:\n",
            "\n",
            "suggest_loguniform has been deprecated in v3.0.0. This feature will be removed in v6.0.0. See https://github.com/optuna/optuna/releases/tag/v3.0.0. Use suggest_float(..., log=True) instead.\n",
            "\n",
            "[I 2024-04-12 10:18:20,945] Trial 48 finished with value: 0.9532361308677098 and parameters: {'classifier': 'SVC', 'svc_c': 71.63888125868856}. Best is trial 36 with value: 0.9735064011379801.\n",
            "C:\\Users\\chldy\\AppData\\Local\\Temp\\ipykernel_14372\\3750847957.py:16: FutureWarning:\n",
            "\n",
            "suggest_loguniform has been deprecated in v3.0.0. This feature will be removed in v6.0.0. See https://github.com/optuna/optuna/releases/tag/v3.0.0. Use suggest_float(..., log=True) instead.\n",
            "\n",
            "[I 2024-04-12 10:18:20,961] Trial 49 finished with value: 0.9331436699857752 and parameters: {'classifier': 'SVC', 'svc_c': 8634.16495159475}. Best is trial 36 with value: 0.9735064011379801.\n",
            "C:\\Users\\chldy\\AppData\\Local\\Temp\\ipykernel_14372\\3750847957.py:16: FutureWarning:\n",
            "\n",
            "suggest_loguniform has been deprecated in v3.0.0. This feature will be removed in v6.0.0. See https://github.com/optuna/optuna/releases/tag/v3.0.0. Use suggest_float(..., log=True) instead.\n",
            "\n",
            "[I 2024-04-12 10:18:20,978] Trial 50 finished with value: 0.4822190611664296 and parameters: {'classifier': 'SVC', 'svc_c': 0.003921909439090489}. Best is trial 36 with value: 0.9735064011379801.\n",
            "C:\\Users\\chldy\\AppData\\Local\\Temp\\ipykernel_14372\\3750847957.py:16: FutureWarning:\n",
            "\n",
            "suggest_loguniform has been deprecated in v3.0.0. This feature will be removed in v6.0.0. See https://github.com/optuna/optuna/releases/tag/v3.0.0. Use suggest_float(..., log=True) instead.\n",
            "\n",
            "[I 2024-04-12 10:18:20,994] Trial 51 finished with value: 0.9733285917496444 and parameters: {'classifier': 'SVC', 'svc_c': 1.9481777157151976}. Best is trial 36 with value: 0.9735064011379801.\n",
            "C:\\Users\\chldy\\AppData\\Local\\Temp\\ipykernel_14372\\3750847957.py:16: FutureWarning:\n",
            "\n",
            "suggest_loguniform has been deprecated in v3.0.0. This feature will be removed in v6.0.0. See https://github.com/optuna/optuna/releases/tag/v3.0.0. Use suggest_float(..., log=True) instead.\n",
            "\n",
            "[I 2024-04-12 10:18:21,009] Trial 52 finished with value: 0.9735064011379801 and parameters: {'classifier': 'SVC', 'svc_c': 8.389309423839968}. Best is trial 36 with value: 0.9735064011379801.\n",
            "C:\\Users\\chldy\\AppData\\Local\\Temp\\ipykernel_14372\\3750847957.py:16: FutureWarning:\n",
            "\n",
            "suggest_loguniform has been deprecated in v3.0.0. This feature will be removed in v6.0.0. See https://github.com/optuna/optuna/releases/tag/v3.0.0. Use suggest_float(..., log=True) instead.\n",
            "\n",
            "[I 2024-04-12 10:18:21,025] Trial 53 finished with value: 0.9601706970128023 and parameters: {'classifier': 'SVC', 'svc_c': 15.59859022289309}. Best is trial 36 with value: 0.9735064011379801.\n",
            "C:\\Users\\chldy\\AppData\\Local\\Temp\\ipykernel_14372\\3750847957.py:16: FutureWarning:\n",
            "\n",
            "suggest_loguniform has been deprecated in v3.0.0. This feature will be removed in v6.0.0. See https://github.com/optuna/optuna/releases/tag/v3.0.0. Use suggest_float(..., log=True) instead.\n",
            "\n",
            "[I 2024-04-12 10:18:21,040] Trial 54 finished with value: 0.9599928876244666 and parameters: {'classifier': 'SVC', 'svc_c': 0.21306691551427678}. Best is trial 36 with value: 0.9735064011379801.\n",
            "C:\\Users\\chldy\\AppData\\Local\\Temp\\ipykernel_14372\\3750847957.py:16: FutureWarning:\n",
            "\n",
            "suggest_loguniform has been deprecated in v3.0.0. This feature will be removed in v6.0.0. See https://github.com/optuna/optuna/releases/tag/v3.0.0. Use suggest_float(..., log=True) instead.\n",
            "\n",
            "[I 2024-04-12 10:18:21,056] Trial 55 finished with value: 0.9601706970128023 and parameters: {'classifier': 'SVC', 'svc_c': 23.844203567357205}. Best is trial 36 with value: 0.9735064011379801.\n",
            "C:\\Users\\chldy\\AppData\\Local\\Temp\\ipykernel_14372\\3750847957.py:16: FutureWarning:\n",
            "\n",
            "suggest_loguniform has been deprecated in v3.0.0. This feature will be removed in v6.0.0. See https://github.com/optuna/optuna/releases/tag/v3.0.0. Use suggest_float(..., log=True) instead.\n",
            "\n",
            "[I 2024-04-12 10:18:21,075] Trial 56 finished with value: 0.9331436699857752 and parameters: {'classifier': 'SVC', 'svc_c': 63906.09817478837}. Best is trial 36 with value: 0.9735064011379801.\n",
            "C:\\Users\\chldy\\AppData\\Local\\Temp\\ipykernel_14372\\3750847957.py:16: FutureWarning:\n",
            "\n",
            "suggest_loguniform has been deprecated in v3.0.0. This feature will be removed in v6.0.0. See https://github.com/optuna/optuna/releases/tag/v3.0.0. Use suggest_float(..., log=True) instead.\n",
            "\n",
            "[I 2024-04-12 10:18:21,092] Trial 57 finished with value: 0.5743243243243243 and parameters: {'classifier': 'SVC', 'svc_c': 0.01717505891297516}. Best is trial 36 with value: 0.9735064011379801.\n",
            "C:\\Users\\chldy\\AppData\\Local\\Temp\\ipykernel_14372\\3750847957.py:16: FutureWarning:\n",
            "\n",
            "suggest_loguniform has been deprecated in v3.0.0. This feature will be removed in v6.0.0. See https://github.com/optuna/optuna/releases/tag/v3.0.0. Use suggest_float(..., log=True) instead.\n",
            "\n",
            "[I 2024-04-12 10:18:21,143] Trial 58 finished with value: 0.9466571834992887 and parameters: {'classifier': 'SVC', 'svc_c': 379.860156043834}. Best is trial 36 with value: 0.9735064011379801.\n",
            "C:\\Users\\chldy\\AppData\\Local\\Temp\\ipykernel_14372\\3750847957.py:16: FutureWarning:\n",
            "\n",
            "suggest_loguniform has been deprecated in v3.0.0. This feature will be removed in v6.0.0. See https://github.com/optuna/optuna/releases/tag/v3.0.0. Use suggest_float(..., log=True) instead.\n",
            "\n",
            "[I 2024-04-12 10:18:21,163] Trial 59 finished with value: 0.9665718349928876 and parameters: {'classifier': 'SVC', 'svc_c': 0.76568647885343}. Best is trial 36 with value: 0.9735064011379801.\n",
            "C:\\Users\\chldy\\AppData\\Local\\Temp\\ipykernel_14372\\3750847957.py:16: FutureWarning:\n",
            "\n",
            "suggest_loguniform has been deprecated in v3.0.0. This feature will be removed in v6.0.0. See https://github.com/optuna/optuna/releases/tag/v3.0.0. Use suggest_float(..., log=True) instead.\n",
            "\n",
            "[I 2024-04-12 10:18:21,184] Trial 60 finished with value: 0.4822190611664296 and parameters: {'classifier': 'SVC', 'svc_c': 0.0006756489536940685}. Best is trial 36 with value: 0.9735064011379801.\n",
            "C:\\Users\\chldy\\AppData\\Local\\Temp\\ipykernel_14372\\3750847957.py:16: FutureWarning:\n",
            "\n",
            "suggest_loguniform has been deprecated in v3.0.0. This feature will be removed in v6.0.0. See https://github.com/optuna/optuna/releases/tag/v3.0.0. Use suggest_float(..., log=True) instead.\n",
            "\n",
            "[I 2024-04-12 10:18:21,197] Trial 61 finished with value: 0.9733285917496444 and parameters: {'classifier': 'SVC', 'svc_c': 4.215510665582101}. Best is trial 36 with value: 0.9735064011379801.\n",
            "C:\\Users\\chldy\\AppData\\Local\\Temp\\ipykernel_14372\\3750847957.py:16: FutureWarning:\n",
            "\n",
            "suggest_loguniform has been deprecated in v3.0.0. This feature will be removed in v6.0.0. See https://github.com/optuna/optuna/releases/tag/v3.0.0. Use suggest_float(..., log=True) instead.\n",
            "\n",
            "[I 2024-04-12 10:18:21,211] Trial 62 finished with value: 0.9599928876244666 and parameters: {'classifier': 'SVC', 'svc_c': 0.14999428857304942}. Best is trial 36 with value: 0.9735064011379801.\n",
            "C:\\Users\\chldy\\AppData\\Local\\Temp\\ipykernel_14372\\3750847957.py:16: FutureWarning:\n",
            "\n",
            "suggest_loguniform has been deprecated in v3.0.0. This feature will be removed in v6.0.0. See https://github.com/optuna/optuna/releases/tag/v3.0.0. Use suggest_float(..., log=True) instead.\n",
            "\n",
            "[I 2024-04-12 10:18:21,227] Trial 63 finished with value: 0.4822190611664296 and parameters: {'classifier': 'SVC', 'svc_c': 4.230953216372566e-06}. Best is trial 36 with value: 0.9735064011379801.\n",
            "C:\\Users\\chldy\\AppData\\Local\\Temp\\ipykernel_14372\\3750847957.py:16: FutureWarning:\n",
            "\n",
            "suggest_loguniform has been deprecated in v3.0.0. This feature will be removed in v6.0.0. See https://github.com/optuna/optuna/releases/tag/v3.0.0. Use suggest_float(..., log=True) instead.\n",
            "\n",
            "[I 2024-04-12 10:18:21,240] Trial 64 finished with value: 0.9667496443812233 and parameters: {'classifier': 'SVC', 'svc_c': 35.321825451510755}. Best is trial 36 with value: 0.9735064011379801.\n",
            "C:\\Users\\chldy\\AppData\\Local\\Temp\\ipykernel_14372\\3750847957.py:16: FutureWarning:\n",
            "\n",
            "suggest_loguniform has been deprecated in v3.0.0. This feature will be removed in v6.0.0. See https://github.com/optuna/optuna/releases/tag/v3.0.0. Use suggest_float(..., log=True) instead.\n",
            "\n",
            "[I 2024-04-12 10:18:21,253] Trial 65 finished with value: 0.9733285917496444 and parameters: {'classifier': 'SVC', 'svc_c': 2.0157892463189975}. Best is trial 36 with value: 0.9735064011379801.\n",
            "C:\\Users\\chldy\\AppData\\Local\\Temp\\ipykernel_14372\\3750847957.py:16: FutureWarning:\n",
            "\n",
            "suggest_loguniform has been deprecated in v3.0.0. This feature will be removed in v6.0.0. See https://github.com/optuna/optuna/releases/tag/v3.0.0. Use suggest_float(..., log=True) instead.\n",
            "\n",
            "[I 2024-04-12 10:18:21,268] Trial 66 finished with value: 0.9331436699857752 and parameters: {'classifier': 'SVC', 'svc_c': 1715.346295605329}. Best is trial 36 with value: 0.9735064011379801.\n",
            "C:\\Users\\chldy\\AppData\\Local\\Temp\\ipykernel_14372\\3750847957.py:16: FutureWarning:\n",
            "\n",
            "suggest_loguniform has been deprecated in v3.0.0. This feature will be removed in v6.0.0. See https://github.com/optuna/optuna/releases/tag/v3.0.0. Use suggest_float(..., log=True) instead.\n",
            "\n",
            "[I 2024-04-12 10:18:21,286] Trial 67 finished with value: 0.4822190611664296 and parameters: {'classifier': 'SVC', 'svc_c': 0.014223651966147971}. Best is trial 36 with value: 0.9735064011379801.\n",
            "C:\\Users\\chldy\\AppData\\Local\\Temp\\ipykernel_14372\\3750847957.py:16: FutureWarning:\n",
            "\n",
            "suggest_loguniform has been deprecated in v3.0.0. This feature will be removed in v6.0.0. See https://github.com/optuna/optuna/releases/tag/v3.0.0. Use suggest_float(..., log=True) instead.\n",
            "\n",
            "[I 2024-04-12 10:18:21,301] Trial 68 finished with value: 0.4822190611664296 and parameters: {'classifier': 'SVC', 'svc_c': 3.525044964904066e-05}. Best is trial 36 with value: 0.9735064011379801.\n",
            "C:\\Users\\chldy\\AppData\\Local\\Temp\\ipykernel_14372\\3750847957.py:16: FutureWarning:\n",
            "\n",
            "suggest_loguniform has been deprecated in v3.0.0. This feature will be removed in v6.0.0. See https://github.com/optuna/optuna/releases/tag/v3.0.0. Use suggest_float(..., log=True) instead.\n",
            "\n",
            "[I 2024-04-12 10:18:21,316] Trial 69 finished with value: 0.9331436699857752 and parameters: {'classifier': 'SVC', 'svc_c': 7637.148957282243}. Best is trial 36 with value: 0.9735064011379801.\n",
            "C:\\Users\\chldy\\AppData\\Local\\Temp\\ipykernel_14372\\3750847957.py:16: FutureWarning:\n",
            "\n",
            "suggest_loguniform has been deprecated in v3.0.0. This feature will be removed in v6.0.0. See https://github.com/optuna/optuna/releases/tag/v3.0.0. Use suggest_float(..., log=True) instead.\n",
            "\n",
            "[I 2024-04-12 10:18:21,330] Trial 70 finished with value: 0.9735064011379801 and parameters: {'classifier': 'SVC', 'svc_c': 8.830662163228617}. Best is trial 36 with value: 0.9735064011379801.\n",
            "C:\\Users\\chldy\\AppData\\Local\\Temp\\ipykernel_14372\\3750847957.py:16: FutureWarning:\n",
            "\n",
            "suggest_loguniform has been deprecated in v3.0.0. This feature will be removed in v6.0.0. See https://github.com/optuna/optuna/releases/tag/v3.0.0. Use suggest_float(..., log=True) instead.\n",
            "\n",
            "[I 2024-04-12 10:18:21,344] Trial 71 finished with value: 0.9667496443812233 and parameters: {'classifier': 'SVC', 'svc_c': 6.33988011553152}. Best is trial 36 with value: 0.9735064011379801.\n",
            "C:\\Users\\chldy\\AppData\\Local\\Temp\\ipykernel_14372\\3750847957.py:16: FutureWarning:\n",
            "\n",
            "suggest_loguniform has been deprecated in v3.0.0. This feature will be removed in v6.0.0. See https://github.com/optuna/optuna/releases/tag/v3.0.0. Use suggest_float(..., log=True) instead.\n",
            "\n",
            "[I 2024-04-12 10:18:21,359] Trial 72 finished with value: 0.9731507823613088 and parameters: {'classifier': 'SVC', 'svc_c': 0.30898143084794105}. Best is trial 36 with value: 0.9735064011379801.\n",
            "C:\\Users\\chldy\\AppData\\Local\\Temp\\ipykernel_14372\\3750847957.py:16: FutureWarning:\n",
            "\n",
            "suggest_loguniform has been deprecated in v3.0.0. This feature will be removed in v6.0.0. See https://github.com/optuna/optuna/releases/tag/v3.0.0. Use suggest_float(..., log=True) instead.\n",
            "\n",
            "[I 2024-04-12 10:18:21,373] Trial 73 finished with value: 0.9601706970128023 and parameters: {'classifier': 'SVC', 'svc_c': 29.95205308968486}. Best is trial 36 with value: 0.9735064011379801.\n",
            "C:\\Users\\chldy\\AppData\\Local\\Temp\\ipykernel_14372\\3750847957.py:16: FutureWarning:\n",
            "\n",
            "suggest_loguniform has been deprecated in v3.0.0. This feature will be removed in v6.0.0. See https://github.com/optuna/optuna/releases/tag/v3.0.0. Use suggest_float(..., log=True) instead.\n",
            "\n",
            "[I 2024-04-12 10:18:21,386] Trial 74 finished with value: 0.9665718349928876 and parameters: {'classifier': 'SVC', 'svc_c': 1.0918088744238446}. Best is trial 36 with value: 0.9735064011379801.\n",
            "C:\\Users\\chldy\\AppData\\Local\\Temp\\ipykernel_14372\\3750847957.py:16: FutureWarning:\n",
            "\n",
            "suggest_loguniform has been deprecated in v3.0.0. This feature will be removed in v6.0.0. See https://github.com/optuna/optuna/releases/tag/v3.0.0. Use suggest_float(..., log=True) instead.\n",
            "\n",
            "[I 2024-04-12 10:18:21,399] Trial 75 finished with value: 0.9532361308677098 and parameters: {'classifier': 'SVC', 'svc_c': 236.29310208730777}. Best is trial 36 with value: 0.9735064011379801.\n",
            "C:\\Users\\chldy\\AppData\\Local\\Temp\\ipykernel_14372\\3750847957.py:16: FutureWarning:\n",
            "\n",
            "suggest_loguniform has been deprecated in v3.0.0. This feature will be removed in v6.0.0. See https://github.com/optuna/optuna/releases/tag/v3.0.0. Use suggest_float(..., log=True) instead.\n",
            "\n",
            "[I 2024-04-12 10:18:21,413] Trial 76 finished with value: 0.9735064011379801 and parameters: {'classifier': 'SVC', 'svc_c': 4.649250311993863}. Best is trial 36 with value: 0.9735064011379801.\n",
            "C:\\Users\\chldy\\AppData\\Local\\Temp\\ipykernel_14372\\3750847957.py:16: FutureWarning:\n",
            "\n",
            "suggest_loguniform has been deprecated in v3.0.0. This feature will be removed in v6.0.0. See https://github.com/optuna/optuna/releases/tag/v3.0.0. Use suggest_float(..., log=True) instead.\n",
            "\n",
            "[I 2024-04-12 10:18:21,431] Trial 77 finished with value: 0.4822190611664296 and parameters: {'classifier': 'SVC', 'svc_c': 1.4681344297126805e-09}. Best is trial 36 with value: 0.9735064011379801.\n",
            "C:\\Users\\chldy\\AppData\\Local\\Temp\\ipykernel_14372\\3750847957.py:16: FutureWarning:\n",
            "\n",
            "suggest_loguniform has been deprecated in v3.0.0. This feature will be removed in v6.0.0. See https://github.com/optuna/optuna/releases/tag/v3.0.0. Use suggest_float(..., log=True) instead.\n",
            "\n",
            "[I 2024-04-12 10:18:21,444] Trial 78 finished with value: 0.9735064011379801 and parameters: {'classifier': 'SVC', 'svc_c': 8.181006998098125}. Best is trial 36 with value: 0.9735064011379801.\n",
            "C:\\Users\\chldy\\AppData\\Local\\Temp\\ipykernel_14372\\3750847957.py:16: FutureWarning:\n",
            "\n",
            "suggest_loguniform has been deprecated in v3.0.0. This feature will be removed in v6.0.0. See https://github.com/optuna/optuna/releases/tag/v3.0.0. Use suggest_float(..., log=True) instead.\n",
            "\n",
            "[I 2024-04-12 10:18:21,458] Trial 79 finished with value: 0.9331436699857752 and parameters: {'classifier': 'SVC', 'svc_c': 1951.8153756179877}. Best is trial 36 with value: 0.9735064011379801.\n",
            "C:\\Users\\chldy\\AppData\\Local\\Temp\\ipykernel_14372\\3750847957.py:16: FutureWarning:\n",
            "\n",
            "suggest_loguniform has been deprecated in v3.0.0. This feature will be removed in v6.0.0. See https://github.com/optuna/optuna/releases/tag/v3.0.0. Use suggest_float(..., log=True) instead.\n",
            "\n",
            "[I 2024-04-12 10:18:21,475] Trial 80 finished with value: 0.9331436699857752 and parameters: {'classifier': 'SVC', 'svc_c': 6447798818.402383}. Best is trial 36 with value: 0.9735064011379801.\n",
            "C:\\Users\\chldy\\AppData\\Local\\Temp\\ipykernel_14372\\3750847957.py:16: FutureWarning:\n",
            "\n",
            "suggest_loguniform has been deprecated in v3.0.0. This feature will be removed in v6.0.0. See https://github.com/optuna/optuna/releases/tag/v3.0.0. Use suggest_float(..., log=True) instead.\n",
            "\n",
            "[I 2024-04-12 10:18:21,490] Trial 81 finished with value: 0.9669274537695591 and parameters: {'classifier': 'SVC', 'svc_c': 10.610894047158435}. Best is trial 36 with value: 0.9735064011379801.\n",
            "C:\\Users\\chldy\\AppData\\Local\\Temp\\ipykernel_14372\\3750847957.py:16: FutureWarning:\n",
            "\n",
            "suggest_loguniform has been deprecated in v3.0.0. This feature will be removed in v6.0.0. See https://github.com/optuna/optuna/releases/tag/v3.0.0. Use suggest_float(..., log=True) instead.\n",
            "\n",
            "[I 2024-04-12 10:18:21,503] Trial 82 finished with value: 0.9598150782361308 and parameters: {'classifier': 'SVC', 'svc_c': 98.23278776261802}. Best is trial 36 with value: 0.9735064011379801.\n",
            "C:\\Users\\chldy\\AppData\\Local\\Temp\\ipykernel_14372\\3750847957.py:16: FutureWarning:\n",
            "\n",
            "suggest_loguniform has been deprecated in v3.0.0. This feature will be removed in v6.0.0. See https://github.com/optuna/optuna/releases/tag/v3.0.0. Use suggest_float(..., log=True) instead.\n",
            "\n",
            "[I 2024-04-12 10:18:21,522] Trial 83 finished with value: 0.9400782361308677 and parameters: {'classifier': 'SVC', 'svc_c': 0.06841674351329742}. Best is trial 36 with value: 0.9735064011379801.\n",
            "C:\\Users\\chldy\\AppData\\Local\\Temp\\ipykernel_14372\\3750847957.py:16: FutureWarning:\n",
            "\n",
            "suggest_loguniform has been deprecated in v3.0.0. This feature will be removed in v6.0.0. See https://github.com/optuna/optuna/releases/tag/v3.0.0. Use suggest_float(..., log=True) instead.\n",
            "\n",
            "[I 2024-04-12 10:18:21,535] Trial 84 finished with value: 0.9735064011379801 and parameters: {'classifier': 'SVC', 'svc_c': 6.835757812619805}. Best is trial 36 with value: 0.9735064011379801.\n",
            "C:\\Users\\chldy\\AppData\\Local\\Temp\\ipykernel_14372\\3750847957.py:16: FutureWarning:\n",
            "\n",
            "suggest_loguniform has been deprecated in v3.0.0. This feature will be removed in v6.0.0. See https://github.com/optuna/optuna/releases/tag/v3.0.0. Use suggest_float(..., log=True) instead.\n",
            "\n",
            "[I 2024-04-12 10:18:21,550] Trial 85 finished with value: 0.9731507823613088 and parameters: {'classifier': 'SVC', 'svc_c': 0.5051872640862365}. Best is trial 36 with value: 0.9735064011379801.\n",
            "C:\\Users\\chldy\\AppData\\Local\\Temp\\ipykernel_14372\\3750847957.py:16: FutureWarning:\n",
            "\n",
            "suggest_loguniform has been deprecated in v3.0.0. This feature will be removed in v6.0.0. See https://github.com/optuna/optuna/releases/tag/v3.0.0. Use suggest_float(..., log=True) instead.\n",
            "\n",
            "[I 2024-04-12 10:18:21,565] Trial 86 finished with value: 0.9532361308677098 and parameters: {'classifier': 'SVC', 'svc_c': 70.69730545457692}. Best is trial 36 with value: 0.9735064011379801.\n",
            "C:\\Users\\chldy\\AppData\\Local\\Temp\\ipykernel_14372\\3750847957.py:16: FutureWarning:\n",
            "\n",
            "suggest_loguniform has been deprecated in v3.0.0. This feature will be removed in v6.0.0. See https://github.com/optuna/optuna/releases/tag/v3.0.0. Use suggest_float(..., log=True) instead.\n",
            "\n",
            "[I 2024-04-12 10:18:21,579] Trial 87 finished with value: 0.9667496443812233 and parameters: {'classifier': 'SVC', 'svc_c': 6.470278978153991}. Best is trial 36 with value: 0.9735064011379801.\n",
            "C:\\Users\\chldy\\AppData\\Local\\Temp\\ipykernel_14372\\3750847957.py:16: FutureWarning:\n",
            "\n",
            "suggest_loguniform has been deprecated in v3.0.0. This feature will be removed in v6.0.0. See https://github.com/optuna/optuna/releases/tag/v3.0.0. Use suggest_float(..., log=True) instead.\n",
            "\n",
            "[I 2024-04-12 10:18:21,592] Trial 88 finished with value: 0.9466571834992887 and parameters: {'classifier': 'SVC', 'svc_c': 513.1678476322509}. Best is trial 36 with value: 0.9735064011379801.\n",
            "C:\\Users\\chldy\\AppData\\Local\\Temp\\ipykernel_14372\\3750847957.py:16: FutureWarning:\n",
            "\n",
            "suggest_loguniform has been deprecated in v3.0.0. This feature will be removed in v6.0.0. See https://github.com/optuna/optuna/releases/tag/v3.0.0. Use suggest_float(..., log=True) instead.\n",
            "\n",
            "[I 2024-04-12 10:18:21,606] Trial 89 finished with value: 0.9601706970128023 and parameters: {'classifier': 'SVC', 'svc_c': 17.465933159650703}. Best is trial 36 with value: 0.9735064011379801.\n",
            "C:\\Users\\chldy\\AppData\\Local\\Temp\\ipykernel_14372\\3750847957.py:16: FutureWarning:\n",
            "\n",
            "suggest_loguniform has been deprecated in v3.0.0. This feature will be removed in v6.0.0. See https://github.com/optuna/optuna/releases/tag/v3.0.0. Use suggest_float(..., log=True) instead.\n",
            "\n",
            "[I 2024-04-12 10:18:21,618] Trial 90 finished with value: 0.9733285917496444 and parameters: {'classifier': 'SVC', 'svc_c': 1.601806437632269}. Best is trial 36 with value: 0.9735064011379801.\n",
            "C:\\Users\\chldy\\AppData\\Local\\Temp\\ipykernel_14372\\3750847957.py:16: FutureWarning:\n",
            "\n",
            "suggest_loguniform has been deprecated in v3.0.0. This feature will be removed in v6.0.0. See https://github.com/optuna/optuna/releases/tag/v3.0.0. Use suggest_float(..., log=True) instead.\n",
            "\n",
            "[I 2024-04-12 10:18:21,632] Trial 91 finished with value: 0.9733285917496444 and parameters: {'classifier': 'SVC', 'svc_c': 4.296177506123214}. Best is trial 36 with value: 0.9735064011379801.\n",
            "C:\\Users\\chldy\\AppData\\Local\\Temp\\ipykernel_14372\\3750847957.py:16: FutureWarning:\n",
            "\n",
            "suggest_loguniform has been deprecated in v3.0.0. This feature will be removed in v6.0.0. See https://github.com/optuna/optuna/releases/tag/v3.0.0. Use suggest_float(..., log=True) instead.\n",
            "\n",
            "[I 2024-04-12 10:18:21,650] Trial 92 finished with value: 0.9466571834992887 and parameters: {'classifier': 'SVC', 'svc_c': 0.0626534325671544}. Best is trial 36 with value: 0.9735064011379801.\n",
            "C:\\Users\\chldy\\AppData\\Local\\Temp\\ipykernel_14372\\3750847957.py:16: FutureWarning:\n",
            "\n",
            "suggest_loguniform has been deprecated in v3.0.0. This feature will be removed in v6.0.0. See https://github.com/optuna/optuna/releases/tag/v3.0.0. Use suggest_float(..., log=True) instead.\n",
            "\n",
            "[I 2024-04-12 10:18:21,663] Trial 93 finished with value: 0.9731507823613088 and parameters: {'classifier': 'SVC', 'svc_c': 0.4375305321554464}. Best is trial 36 with value: 0.9735064011379801.\n",
            "C:\\Users\\chldy\\AppData\\Local\\Temp\\ipykernel_14372\\3750847957.py:16: FutureWarning:\n",
            "\n",
            "suggest_loguniform has been deprecated in v3.0.0. This feature will be removed in v6.0.0. See https://github.com/optuna/optuna/releases/tag/v3.0.0. Use suggest_float(..., log=True) instead.\n",
            "\n",
            "[I 2024-04-12 10:18:21,679] Trial 94 finished with value: 0.9532361308677098 and parameters: {'classifier': 'SVC', 'svc_c': 89.2283650007767}. Best is trial 36 with value: 0.9735064011379801.\n",
            "C:\\Users\\chldy\\AppData\\Local\\Temp\\ipykernel_14372\\3750847957.py:16: FutureWarning:\n",
            "\n",
            "suggest_loguniform has been deprecated in v3.0.0. This feature will be removed in v6.0.0. See https://github.com/optuna/optuna/releases/tag/v3.0.0. Use suggest_float(..., log=True) instead.\n",
            "\n",
            "[I 2024-04-12 10:18:21,695] Trial 95 finished with value: 0.9601706970128023 and parameters: {'classifier': 'SVC', 'svc_c': 16.049630848320064}. Best is trial 36 with value: 0.9735064011379801.\n",
            "C:\\Users\\chldy\\AppData\\Local\\Temp\\ipykernel_14372\\3750847957.py:16: FutureWarning:\n",
            "\n",
            "suggest_loguniform has been deprecated in v3.0.0. This feature will be removed in v6.0.0. See https://github.com/optuna/optuna/releases/tag/v3.0.0. Use suggest_float(..., log=True) instead.\n",
            "\n",
            "[I 2024-04-12 10:18:21,746] Trial 96 finished with value: 0.4822190611664296 and parameters: {'classifier': 'SVC', 'svc_c': 0.007062170826670107}. Best is trial 36 with value: 0.9735064011379801.\n",
            "C:\\Users\\chldy\\AppData\\Local\\Temp\\ipykernel_14372\\3750847957.py:16: FutureWarning:\n",
            "\n",
            "suggest_loguniform has been deprecated in v3.0.0. This feature will be removed in v6.0.0. See https://github.com/optuna/optuna/releases/tag/v3.0.0. Use suggest_float(..., log=True) instead.\n",
            "\n",
            "[I 2024-04-12 10:18:21,761] Trial 97 finished with value: 0.9665718349928876 and parameters: {'classifier': 'SVC', 'svc_c': 1.0914349123918248}. Best is trial 36 with value: 0.9735064011379801.\n",
            "C:\\Users\\chldy\\AppData\\Local\\Temp\\ipykernel_14372\\3750847957.py:16: FutureWarning:\n",
            "\n",
            "suggest_loguniform has been deprecated in v3.0.0. This feature will be removed in v6.0.0. See https://github.com/optuna/optuna/releases/tag/v3.0.0. Use suggest_float(..., log=True) instead.\n",
            "\n",
            "[I 2024-04-12 10:18:21,776] Trial 98 finished with value: 0.9599928876244666 and parameters: {'classifier': 'SVC', 'svc_c': 0.19562642102628028}. Best is trial 36 with value: 0.9735064011379801.\n",
            "C:\\Users\\chldy\\AppData\\Local\\Temp\\ipykernel_14372\\3750847957.py:16: FutureWarning:\n",
            "\n",
            "suggest_loguniform has been deprecated in v3.0.0. This feature will be removed in v6.0.0. See https://github.com/optuna/optuna/releases/tag/v3.0.0. Use suggest_float(..., log=True) instead.\n",
            "\n",
            "[I 2024-04-12 10:18:21,793] Trial 99 finished with value: 0.4822190611664296 and parameters: {'classifier': 'SVC', 'svc_c': 0.0010988525604999381}. Best is trial 36 with value: 0.9735064011379801.\n",
            "C:\\Users\\chldy\\AppData\\Local\\Temp\\ipykernel_14372\\3750847957.py:16: FutureWarning:\n",
            "\n",
            "suggest_loguniform has been deprecated in v3.0.0. This feature will be removed in v6.0.0. See https://github.com/optuna/optuna/releases/tag/v3.0.0. Use suggest_float(..., log=True) instead.\n",
            "\n",
            "[I 2024-04-12 10:18:21,813] Trial 100 finished with value: 0.9733285917496444 and parameters: {'classifier': 'SVC', 'svc_c': 3.796290466772623}. Best is trial 36 with value: 0.9735064011379801.\n",
            "C:\\Users\\chldy\\AppData\\Local\\Temp\\ipykernel_14372\\3750847957.py:16: FutureWarning:\n",
            "\n",
            "suggest_loguniform has been deprecated in v3.0.0. This feature will be removed in v6.0.0. See https://github.com/optuna/optuna/releases/tag/v3.0.0. Use suggest_float(..., log=True) instead.\n",
            "\n",
            "[I 2024-04-12 10:18:21,828] Trial 101 finished with value: 0.9667496443812233 and parameters: {'classifier': 'SVC', 'svc_c': 41.356234836758965}. Best is trial 36 with value: 0.9735064011379801.\n",
            "C:\\Users\\chldy\\AppData\\Local\\Temp\\ipykernel_14372\\3750847957.py:16: FutureWarning:\n",
            "\n",
            "suggest_loguniform has been deprecated in v3.0.0. This feature will be removed in v6.0.0. See https://github.com/optuna/optuna/releases/tag/v3.0.0. Use suggest_float(..., log=True) instead.\n",
            "\n",
            "[I 2024-04-12 10:18:21,843] Trial 102 finished with value: 0.9733285917496444 and parameters: {'classifier': 'SVC', 'svc_c': 2.033118068797385}. Best is trial 36 with value: 0.9735064011379801.\n",
            "C:\\Users\\chldy\\AppData\\Local\\Temp\\ipykernel_14372\\3750847957.py:16: FutureWarning:\n",
            "\n",
            "suggest_loguniform has been deprecated in v3.0.0. This feature will be removed in v6.0.0. See https://github.com/optuna/optuna/releases/tag/v3.0.0. Use suggest_float(..., log=True) instead.\n",
            "\n",
            "[I 2024-04-12 10:18:21,858] Trial 103 finished with value: 0.9665718349928876 and parameters: {'classifier': 'SVC', 'svc_c': 217.50441907536674}. Best is trial 36 with value: 0.9735064011379801.\n",
            "C:\\Users\\chldy\\AppData\\Local\\Temp\\ipykernel_14372\\3750847957.py:16: FutureWarning:\n",
            "\n",
            "suggest_loguniform has been deprecated in v3.0.0. This feature will be removed in v6.0.0. See https://github.com/optuna/optuna/releases/tag/v3.0.0. Use suggest_float(..., log=True) instead.\n",
            "\n",
            "[I 2024-04-12 10:18:21,872] Trial 104 finished with value: 0.8934921763869133 and parameters: {'classifier': 'SVC', 'svc_c': 0.039693636354149714}. Best is trial 36 with value: 0.9735064011379801.\n",
            "C:\\Users\\chldy\\AppData\\Local\\Temp\\ipykernel_14372\\3750847957.py:16: FutureWarning:\n",
            "\n",
            "suggest_loguniform has been deprecated in v3.0.0. This feature will be removed in v6.0.0. See https://github.com/optuna/optuna/releases/tag/v3.0.0. Use suggest_float(..., log=True) instead.\n",
            "\n",
            "[I 2024-04-12 10:18:21,884] Trial 105 finished with value: 0.9669274537695591 and parameters: {'classifier': 'SVC', 'svc_c': 12.015294606437392}. Best is trial 36 with value: 0.9735064011379801.\n",
            "C:\\Users\\chldy\\AppData\\Local\\Temp\\ipykernel_14372\\3750847957.py:16: FutureWarning:\n",
            "\n",
            "suggest_loguniform has been deprecated in v3.0.0. This feature will be removed in v6.0.0. See https://github.com/optuna/optuna/releases/tag/v3.0.0. Use suggest_float(..., log=True) instead.\n",
            "\n",
            "[I 2024-04-12 10:18:21,899] Trial 106 finished with value: 0.9731507823613088 and parameters: {'classifier': 'SVC', 'svc_c': 0.39688842347699516}. Best is trial 36 with value: 0.9735064011379801.\n",
            "C:\\Users\\chldy\\AppData\\Local\\Temp\\ipykernel_14372\\3750847957.py:16: FutureWarning:\n",
            "\n",
            "suggest_loguniform has been deprecated in v3.0.0. This feature will be removed in v6.0.0. See https://github.com/optuna/optuna/releases/tag/v3.0.0. Use suggest_float(..., log=True) instead.\n",
            "\n",
            "[I 2024-04-12 10:18:21,913] Trial 107 finished with value: 0.9733285917496444 and parameters: {'classifier': 'SVC', 'svc_c': 3.279255744058402}. Best is trial 36 with value: 0.9735064011379801.\n",
            "C:\\Users\\chldy\\AppData\\Local\\Temp\\ipykernel_14372\\3750847957.py:16: FutureWarning:\n",
            "\n",
            "suggest_loguniform has been deprecated in v3.0.0. This feature will be removed in v6.0.0. See https://github.com/optuna/optuna/releases/tag/v3.0.0. Use suggest_float(..., log=True) instead.\n",
            "\n",
            "[I 2024-04-12 10:18:21,929] Trial 108 finished with value: 0.9466571834992887 and parameters: {'classifier': 'SVC', 'svc_c': 894.6991168217953}. Best is trial 36 with value: 0.9735064011379801.\n",
            "C:\\Users\\chldy\\AppData\\Local\\Temp\\ipykernel_14372\\3750847957.py:16: FutureWarning:\n",
            "\n",
            "suggest_loguniform has been deprecated in v3.0.0. This feature will be removed in v6.0.0. See https://github.com/optuna/optuna/releases/tag/v3.0.0. Use suggest_float(..., log=True) instead.\n",
            "\n",
            "[I 2024-04-12 10:18:21,944] Trial 109 finished with value: 0.9601706970128023 and parameters: {'classifier': 'SVC', 'svc_c': 19.502622397547928}. Best is trial 36 with value: 0.9735064011379801.\n",
            "C:\\Users\\chldy\\AppData\\Local\\Temp\\ipykernel_14372\\3750847957.py:16: FutureWarning:\n",
            "\n",
            "suggest_loguniform has been deprecated in v3.0.0. This feature will be removed in v6.0.0. See https://github.com/optuna/optuna/releases/tag/v3.0.0. Use suggest_float(..., log=True) instead.\n",
            "\n",
            "[I 2024-04-12 10:18:21,961] Trial 110 finished with value: 0.9331436699857752 and parameters: {'classifier': 'SVC', 'svc_c': 7864.252942531664}. Best is trial 36 with value: 0.9735064011379801.\n",
            "C:\\Users\\chldy\\AppData\\Local\\Temp\\ipykernel_14372\\3750847957.py:16: FutureWarning:\n",
            "\n",
            "suggest_loguniform has been deprecated in v3.0.0. This feature will be removed in v6.0.0. See https://github.com/optuna/optuna/releases/tag/v3.0.0. Use suggest_float(..., log=True) instead.\n",
            "\n",
            "[I 2024-04-12 10:18:21,976] Trial 111 finished with value: 0.9665718349928876 and parameters: {'classifier': 'SVC', 'svc_c': 1.0896167869987272}. Best is trial 36 with value: 0.9735064011379801.\n",
            "C:\\Users\\chldy\\AppData\\Local\\Temp\\ipykernel_14372\\3750847957.py:16: FutureWarning:\n",
            "\n",
            "suggest_loguniform has been deprecated in v3.0.0. This feature will be removed in v6.0.0. See https://github.com/optuna/optuna/releases/tag/v3.0.0. Use suggest_float(..., log=True) instead.\n",
            "\n",
            "[I 2024-04-12 10:18:21,989] Trial 112 finished with value: 0.9735064011379801 and parameters: {'classifier': 'SVC', 'svc_c': 5.898651977852281}. Best is trial 36 with value: 0.9735064011379801.\n",
            "C:\\Users\\chldy\\AppData\\Local\\Temp\\ipykernel_14372\\3750847957.py:16: FutureWarning:\n",
            "\n",
            "suggest_loguniform has been deprecated in v3.0.0. This feature will be removed in v6.0.0. See https://github.com/optuna/optuna/releases/tag/v3.0.0. Use suggest_float(..., log=True) instead.\n",
            "\n",
            "[I 2024-04-12 10:18:22,002] Trial 113 finished with value: 0.9532361308677098 and parameters: {'classifier': 'SVC', 'svc_c': 79.82117774113004}. Best is trial 36 with value: 0.9735064011379801.\n",
            "C:\\Users\\chldy\\AppData\\Local\\Temp\\ipykernel_14372\\3750847957.py:16: FutureWarning:\n",
            "\n",
            "suggest_loguniform has been deprecated in v3.0.0. This feature will be removed in v6.0.0. See https://github.com/optuna/optuna/releases/tag/v3.0.0. Use suggest_float(..., log=True) instead.\n",
            "\n",
            "[I 2024-04-12 10:18:22,017] Trial 114 finished with value: 0.9735064011379801 and parameters: {'classifier': 'SVC', 'svc_c': 6.881454625082437}. Best is trial 36 with value: 0.9735064011379801.\n",
            "C:\\Users\\chldy\\AppData\\Local\\Temp\\ipykernel_14372\\3750847957.py:16: FutureWarning:\n",
            "\n",
            "suggest_loguniform has been deprecated in v3.0.0. This feature will be removed in v6.0.0. See https://github.com/optuna/optuna/releases/tag/v3.0.0. Use suggest_float(..., log=True) instead.\n",
            "\n",
            "[I 2024-04-12 10:18:22,032] Trial 115 finished with value: 0.9735064011379801 and parameters: {'classifier': 'SVC', 'svc_c': 7.787384379032548}. Best is trial 36 with value: 0.9735064011379801.\n",
            "C:\\Users\\chldy\\AppData\\Local\\Temp\\ipykernel_14372\\3750847957.py:16: FutureWarning:\n",
            "\n",
            "suggest_loguniform has been deprecated in v3.0.0. This feature will be removed in v6.0.0. See https://github.com/optuna/optuna/releases/tag/v3.0.0. Use suggest_float(..., log=True) instead.\n",
            "\n",
            "[I 2024-04-12 10:18:22,046] Trial 116 finished with value: 0.9735064011379801 and parameters: {'classifier': 'SVC', 'svc_c': 8.258851130049623}. Best is trial 36 with value: 0.9735064011379801.\n",
            "C:\\Users\\chldy\\AppData\\Local\\Temp\\ipykernel_14372\\3750847957.py:16: FutureWarning:\n",
            "\n",
            "suggest_loguniform has been deprecated in v3.0.0. This feature will be removed in v6.0.0. See https://github.com/optuna/optuna/releases/tag/v3.0.0. Use suggest_float(..., log=True) instead.\n",
            "\n",
            "[I 2024-04-12 10:18:22,061] Trial 117 finished with value: 0.9735064011379801 and parameters: {'classifier': 'SVC', 'svc_c': 8.2585623289569}. Best is trial 36 with value: 0.9735064011379801.\n",
            "C:\\Users\\chldy\\AppData\\Local\\Temp\\ipykernel_14372\\3750847957.py:16: FutureWarning:\n",
            "\n",
            "suggest_loguniform has been deprecated in v3.0.0. This feature will be removed in v6.0.0. See https://github.com/optuna/optuna/releases/tag/v3.0.0. Use suggest_float(..., log=True) instead.\n",
            "\n",
            "[I 2024-04-12 10:18:22,076] Trial 118 finished with value: 0.9667496443812233 and parameters: {'classifier': 'SVC', 'svc_c': 34.555371608889736}. Best is trial 36 with value: 0.9735064011379801.\n",
            "C:\\Users\\chldy\\AppData\\Local\\Temp\\ipykernel_14372\\3750847957.py:16: FutureWarning:\n",
            "\n",
            "suggest_loguniform has been deprecated in v3.0.0. This feature will be removed in v6.0.0. See https://github.com/optuna/optuna/releases/tag/v3.0.0. Use suggest_float(..., log=True) instead.\n",
            "\n",
            "[I 2024-04-12 10:18:22,092] Trial 119 finished with value: 0.9731507823613087 and parameters: {'classifier': 'SVC', 'svc_c': 196.87219931092483}. Best is trial 36 with value: 0.9735064011379801.\n",
            "C:\\Users\\chldy\\AppData\\Local\\Temp\\ipykernel_14372\\3750847957.py:16: FutureWarning:\n",
            "\n",
            "suggest_loguniform has been deprecated in v3.0.0. This feature will be removed in v6.0.0. See https://github.com/optuna/optuna/releases/tag/v3.0.0. Use suggest_float(..., log=True) instead.\n",
            "\n",
            "[I 2024-04-12 10:18:22,107] Trial 120 finished with value: 0.9599928876244666 and parameters: {'classifier': 'SVC', 'svc_c': 0.18375475565287777}. Best is trial 36 with value: 0.9735064011379801.\n",
            "C:\\Users\\chldy\\AppData\\Local\\Temp\\ipykernel_14372\\3750847957.py:16: FutureWarning:\n",
            "\n",
            "suggest_loguniform has been deprecated in v3.0.0. This feature will be removed in v6.0.0. See https://github.com/optuna/optuna/releases/tag/v3.0.0. Use suggest_float(..., log=True) instead.\n",
            "\n",
            "[I 2024-04-12 10:18:22,120] Trial 121 finished with value: 0.9669274537695591 and parameters: {'classifier': 'SVC', 'svc_c': 12.761713795242965}. Best is trial 36 with value: 0.9735064011379801.\n",
            "C:\\Users\\chldy\\AppData\\Local\\Temp\\ipykernel_14372\\3750847957.py:16: FutureWarning:\n",
            "\n",
            "suggest_loguniform has been deprecated in v3.0.0. This feature will be removed in v6.0.0. See https://github.com/optuna/optuna/releases/tag/v3.0.0. Use suggest_float(..., log=True) instead.\n",
            "\n",
            "[I 2024-04-12 10:18:22,134] Trial 122 finished with value: 0.9667496443812233 and parameters: {'classifier': 'SVC', 'svc_c': 6.649183940643337}. Best is trial 36 with value: 0.9735064011379801.\n",
            "C:\\Users\\chldy\\AppData\\Local\\Temp\\ipykernel_14372\\3750847957.py:16: FutureWarning:\n",
            "\n",
            "suggest_loguniform has been deprecated in v3.0.0. This feature will be removed in v6.0.0. See https://github.com/optuna/optuna/releases/tag/v3.0.0. Use suggest_float(..., log=True) instead.\n",
            "\n",
            "[I 2024-04-12 10:18:22,148] Trial 123 finished with value: 0.9731507823613088 and parameters: {'classifier': 'SVC', 'svc_c': 0.6408172323977916}. Best is trial 36 with value: 0.9735064011379801.\n",
            "C:\\Users\\chldy\\AppData\\Local\\Temp\\ipykernel_14372\\3750847957.py:16: FutureWarning:\n",
            "\n",
            "suggest_loguniform has been deprecated in v3.0.0. This feature will be removed in v6.0.0. See https://github.com/optuna/optuna/releases/tag/v3.0.0. Use suggest_float(..., log=True) instead.\n",
            "\n",
            "[I 2024-04-12 10:18:22,165] Trial 124 finished with value: 0.9667496443812233 and parameters: {'classifier': 'SVC', 'svc_c': 39.025023135078875}. Best is trial 36 with value: 0.9735064011379801.\n",
            "C:\\Users\\chldy\\AppData\\Local\\Temp\\ipykernel_14372\\3750847957.py:16: FutureWarning:\n",
            "\n",
            "suggest_loguniform has been deprecated in v3.0.0. This feature will be removed in v6.0.0. See https://github.com/optuna/optuna/releases/tag/v3.0.0. Use suggest_float(..., log=True) instead.\n",
            "\n",
            "[I 2024-04-12 10:18:22,179] Trial 125 finished with value: 0.9733285917496444 and parameters: {'classifier': 'SVC', 'svc_c': 2.551818788644052}. Best is trial 36 with value: 0.9735064011379801.\n",
            "C:\\Users\\chldy\\AppData\\Local\\Temp\\ipykernel_14372\\3750847957.py:16: FutureWarning:\n",
            "\n",
            "suggest_loguniform has been deprecated in v3.0.0. This feature will be removed in v6.0.0. See https://github.com/optuna/optuna/releases/tag/v3.0.0. Use suggest_float(..., log=True) instead.\n",
            "\n",
            "[I 2024-04-12 10:18:22,195] Trial 126 finished with value: 0.9735064011379801 and parameters: {'classifier': 'SVC', 'svc_c': 6.688933775709835}. Best is trial 36 with value: 0.9735064011379801.\n",
            "C:\\Users\\chldy\\AppData\\Local\\Temp\\ipykernel_14372\\3750847957.py:16: FutureWarning:\n",
            "\n",
            "suggest_loguniform has been deprecated in v3.0.0. This feature will be removed in v6.0.0. See https://github.com/optuna/optuna/releases/tag/v3.0.0. Use suggest_float(..., log=True) instead.\n",
            "\n",
            "[I 2024-04-12 10:18:22,210] Trial 127 finished with value: 0.9665718349928876 and parameters: {'classifier': 'SVC', 'svc_c': 131.68388423301735}. Best is trial 36 with value: 0.9735064011379801.\n",
            "C:\\Users\\chldy\\AppData\\Local\\Temp\\ipykernel_14372\\3750847957.py:16: FutureWarning:\n",
            "\n",
            "suggest_loguniform has been deprecated in v3.0.0. This feature will be removed in v6.0.0. See https://github.com/optuna/optuna/releases/tag/v3.0.0. Use suggest_float(..., log=True) instead.\n",
            "\n",
            "[I 2024-04-12 10:18:22,227] Trial 128 finished with value: 0.9466571834992887 and parameters: {'classifier': 'SVC', 'svc_c': 501.0158857640057}. Best is trial 36 with value: 0.9735064011379801.\n",
            "C:\\Users\\chldy\\AppData\\Local\\Temp\\ipykernel_14372\\3750847957.py:16: FutureWarning:\n",
            "\n",
            "suggest_loguniform has been deprecated in v3.0.0. This feature will be removed in v6.0.0. See https://github.com/optuna/optuna/releases/tag/v3.0.0. Use suggest_float(..., log=True) instead.\n",
            "\n",
            "[I 2024-04-12 10:18:22,240] Trial 129 finished with value: 0.9665718349928876 and parameters: {'classifier': 'SVC', 'svc_c': 1.0911668898542128}. Best is trial 36 with value: 0.9735064011379801.\n",
            "C:\\Users\\chldy\\AppData\\Local\\Temp\\ipykernel_14372\\3750847957.py:16: FutureWarning:\n",
            "\n",
            "suggest_loguniform has been deprecated in v3.0.0. This feature will be removed in v6.0.0. See https://github.com/optuna/optuna/releases/tag/v3.0.0. Use suggest_float(..., log=True) instead.\n",
            "\n",
            "[I 2024-04-12 10:18:22,256] Trial 130 finished with value: 0.9466571834992887 and parameters: {'classifier': 'SVC', 'svc_c': 0.1005905306748417}. Best is trial 36 with value: 0.9735064011379801.\n",
            "C:\\Users\\chldy\\AppData\\Local\\Temp\\ipykernel_14372\\3750847957.py:16: FutureWarning:\n",
            "\n",
            "suggest_loguniform has been deprecated in v3.0.0. This feature will be removed in v6.0.0. See https://github.com/optuna/optuna/releases/tag/v3.0.0. Use suggest_float(..., log=True) instead.\n",
            "\n",
            "[I 2024-04-12 10:18:22,276] Trial 131 finished with value: 0.9735064011379801 and parameters: {'classifier': 'SVC', 'svc_c': 8.486597373089497}. Best is trial 36 with value: 0.9735064011379801.\n",
            "C:\\Users\\chldy\\AppData\\Local\\Temp\\ipykernel_14372\\3750847957.py:16: FutureWarning:\n",
            "\n",
            "suggest_loguniform has been deprecated in v3.0.0. This feature will be removed in v6.0.0. See https://github.com/optuna/optuna/releases/tag/v3.0.0. Use suggest_float(..., log=True) instead.\n",
            "\n",
            "[I 2024-04-12 10:18:22,291] Trial 132 finished with value: 0.9735064011379801 and parameters: {'classifier': 'SVC', 'svc_c': 5.8269856243861495}. Best is trial 36 with value: 0.9735064011379801.\n",
            "C:\\Users\\chldy\\AppData\\Local\\Temp\\ipykernel_14372\\3750847957.py:16: FutureWarning:\n",
            "\n",
            "suggest_loguniform has been deprecated in v3.0.0. This feature will be removed in v6.0.0. See https://github.com/optuna/optuna/releases/tag/v3.0.0. Use suggest_float(..., log=True) instead.\n",
            "\n",
            "[I 2024-04-12 10:18:22,307] Trial 133 finished with value: 0.9601706970128023 and parameters: {'classifier': 'SVC', 'svc_c': 30.47651802842141}. Best is trial 36 with value: 0.9735064011379801.\n",
            "C:\\Users\\chldy\\AppData\\Local\\Temp\\ipykernel_14372\\3750847957.py:16: FutureWarning:\n",
            "\n",
            "suggest_loguniform has been deprecated in v3.0.0. This feature will be removed in v6.0.0. See https://github.com/optuna/optuna/releases/tag/v3.0.0. Use suggest_float(..., log=True) instead.\n",
            "\n",
            "[I 2024-04-12 10:18:22,327] Trial 134 finished with value: 0.9733285917496444 and parameters: {'classifier': 'SVC', 'svc_c': 2.5491113968158485}. Best is trial 36 with value: 0.9735064011379801.\n",
            "C:\\Users\\chldy\\AppData\\Local\\Temp\\ipykernel_14372\\3750847957.py:16: FutureWarning:\n",
            "\n",
            "suggest_loguniform has been deprecated in v3.0.0. This feature will be removed in v6.0.0. See https://github.com/optuna/optuna/releases/tag/v3.0.0. Use suggest_float(..., log=True) instead.\n",
            "\n",
            "[I 2024-04-12 10:18:22,351] Trial 135 finished with value: 0.9669274537695591 and parameters: {'classifier': 'SVC', 'svc_c': 13.357852040362635}. Best is trial 36 with value: 0.9735064011379801.\n",
            "C:\\Users\\chldy\\AppData\\Local\\Temp\\ipykernel_14372\\3750847957.py:16: FutureWarning:\n",
            "\n",
            "suggest_loguniform has been deprecated in v3.0.0. This feature will be removed in v6.0.0. See https://github.com/optuna/optuna/releases/tag/v3.0.0. Use suggest_float(..., log=True) instead.\n",
            "\n",
            "[I 2024-04-12 10:18:22,368] Trial 136 finished with value: 0.9733285917496444 and parameters: {'classifier': 'SVC', 'svc_c': 65.3678491001792}. Best is trial 36 with value: 0.9735064011379801.\n",
            "C:\\Users\\chldy\\AppData\\Local\\Temp\\ipykernel_14372\\3750847957.py:21: FutureWarning:\n",
            "\n",
            "suggest_loguniform has been deprecated in v3.0.0. This feature will be removed in v6.0.0. See https://github.com/optuna/optuna/releases/tag/v3.0.0. Use suggest_float(..., log=True) instead.\n",
            "\n",
            "[I 2024-04-12 10:18:22,411] Trial 137 finished with value: 0.9532361308677098 and parameters: {'classifier': 'RandomForest', 'rf_max_depth': 27.30400886566673}. Best is trial 36 with value: 0.9735064011379801.\n",
            "C:\\Users\\chldy\\AppData\\Local\\Temp\\ipykernel_14372\\3750847957.py:16: FutureWarning:\n",
            "\n",
            "suggest_loguniform has been deprecated in v3.0.0. This feature will be removed in v6.0.0. See https://github.com/optuna/optuna/releases/tag/v3.0.0. Use suggest_float(..., log=True) instead.\n",
            "\n",
            "[I 2024-04-12 10:18:22,425] Trial 138 finished with value: 0.9731507823613088 and parameters: {'classifier': 'SVC', 'svc_c': 0.45662817344085566}. Best is trial 36 with value: 0.9735064011379801.\n",
            "C:\\Users\\chldy\\AppData\\Local\\Temp\\ipykernel_14372\\3750847957.py:16: FutureWarning:\n",
            "\n",
            "suggest_loguniform has been deprecated in v3.0.0. This feature will be removed in v6.0.0. See https://github.com/optuna/optuna/releases/tag/v3.0.0. Use suggest_float(..., log=True) instead.\n",
            "\n",
            "[I 2024-04-12 10:18:22,438] Trial 139 finished with value: 0.9667496443812233 and parameters: {'classifier': 'SVC', 'svc_c': 6.459721168846887}. Best is trial 36 with value: 0.9735064011379801.\n",
            "C:\\Users\\chldy\\AppData\\Local\\Temp\\ipykernel_14372\\3750847957.py:16: FutureWarning:\n",
            "\n",
            "suggest_loguniform has been deprecated in v3.0.0. This feature will be removed in v6.0.0. See https://github.com/optuna/optuna/releases/tag/v3.0.0. Use suggest_float(..., log=True) instead.\n",
            "\n",
            "[I 2024-04-12 10:18:22,451] Trial 140 finished with value: 0.9665718349928876 and parameters: {'classifier': 'SVC', 'svc_c': 1.1187067634396244}. Best is trial 36 with value: 0.9735064011379801.\n",
            "C:\\Users\\chldy\\AppData\\Local\\Temp\\ipykernel_14372\\3750847957.py:16: FutureWarning:\n",
            "\n",
            "suggest_loguniform has been deprecated in v3.0.0. This feature will be removed in v6.0.0. See https://github.com/optuna/optuna/releases/tag/v3.0.0. Use suggest_float(..., log=True) instead.\n",
            "\n",
            "[I 2024-04-12 10:18:22,464] Trial 141 finished with value: 0.9735064011379801 and parameters: {'classifier': 'SVC', 'svc_c': 9.259972186895459}. Best is trial 36 with value: 0.9735064011379801.\n",
            "C:\\Users\\chldy\\AppData\\Local\\Temp\\ipykernel_14372\\3750847957.py:16: FutureWarning:\n",
            "\n",
            "suggest_loguniform has been deprecated in v3.0.0. This feature will be removed in v6.0.0. See https://github.com/optuna/optuna/releases/tag/v3.0.0. Use suggest_float(..., log=True) instead.\n",
            "\n",
            "[I 2024-04-12 10:18:22,479] Trial 142 finished with value: 0.9733285917496444 and parameters: {'classifier': 'SVC', 'svc_c': 4.115632262541153}. Best is trial 36 with value: 0.9735064011379801.\n",
            "C:\\Users\\chldy\\AppData\\Local\\Temp\\ipykernel_14372\\3750847957.py:16: FutureWarning:\n",
            "\n",
            "suggest_loguniform has been deprecated in v3.0.0. This feature will be removed in v6.0.0. See https://github.com/optuna/optuna/releases/tag/v3.0.0. Use suggest_float(..., log=True) instead.\n",
            "\n",
            "[I 2024-04-12 10:18:22,493] Trial 143 finished with value: 0.9601706970128023 and parameters: {'classifier': 'SVC', 'svc_c': 16.690901540680812}. Best is trial 36 with value: 0.9735064011379801.\n",
            "C:\\Users\\chldy\\AppData\\Local\\Temp\\ipykernel_14372\\3750847957.py:16: FutureWarning:\n",
            "\n",
            "suggest_loguniform has been deprecated in v3.0.0. This feature will be removed in v6.0.0. See https://github.com/optuna/optuna/releases/tag/v3.0.0. Use suggest_float(..., log=True) instead.\n",
            "\n",
            "[I 2024-04-12 10:18:22,509] Trial 144 finished with value: 0.9667496443812233 and parameters: {'classifier': 'SVC', 'svc_c': 44.59110537689412}. Best is trial 36 with value: 0.9735064011379801.\n",
            "C:\\Users\\chldy\\AppData\\Local\\Temp\\ipykernel_14372\\3750847957.py:16: FutureWarning:\n",
            "\n",
            "suggest_loguniform has been deprecated in v3.0.0. This feature will be removed in v6.0.0. See https://github.com/optuna/optuna/releases/tag/v3.0.0. Use suggest_float(..., log=True) instead.\n",
            "\n",
            "[I 2024-04-12 10:18:22,523] Trial 145 finished with value: 0.9733285917496444 and parameters: {'classifier': 'SVC', 'svc_c': 2.2221140850053427}. Best is trial 36 with value: 0.9735064011379801.\n",
            "C:\\Users\\chldy\\AppData\\Local\\Temp\\ipykernel_14372\\3750847957.py:16: FutureWarning:\n",
            "\n",
            "suggest_loguniform has been deprecated in v3.0.0. This feature will be removed in v6.0.0. See https://github.com/optuna/optuna/releases/tag/v3.0.0. Use suggest_float(..., log=True) instead.\n",
            "\n",
            "[I 2024-04-12 10:18:22,537] Trial 146 finished with value: 0.9731507823613087 and parameters: {'classifier': 'SVC', 'svc_c': 198.69823944250177}. Best is trial 36 with value: 0.9735064011379801.\n",
            "C:\\Users\\chldy\\AppData\\Local\\Temp\\ipykernel_14372\\3750847957.py:16: FutureWarning:\n",
            "\n",
            "suggest_loguniform has been deprecated in v3.0.0. This feature will be removed in v6.0.0. See https://github.com/optuna/optuna/releases/tag/v3.0.0. Use suggest_float(..., log=True) instead.\n",
            "\n",
            "[I 2024-04-12 10:18:22,552] Trial 147 finished with value: 0.9599928876244666 and parameters: {'classifier': 'SVC', 'svc_c': 0.23685650573872186}. Best is trial 36 with value: 0.9735064011379801.\n",
            "C:\\Users\\chldy\\AppData\\Local\\Temp\\ipykernel_14372\\3750847957.py:16: FutureWarning:\n",
            "\n",
            "suggest_loguniform has been deprecated in v3.0.0. This feature will be removed in v6.0.0. See https://github.com/optuna/optuna/releases/tag/v3.0.0. Use suggest_float(..., log=True) instead.\n",
            "\n",
            "[I 2024-04-12 10:18:22,567] Trial 148 finished with value: 0.9735064011379801 and parameters: {'classifier': 'SVC', 'svc_c': 7.677251524437327}. Best is trial 36 with value: 0.9735064011379801.\n",
            "C:\\Users\\chldy\\AppData\\Local\\Temp\\ipykernel_14372\\3750847957.py:16: FutureWarning:\n",
            "\n",
            "suggest_loguniform has been deprecated in v3.0.0. This feature will be removed in v6.0.0. See https://github.com/optuna/optuna/releases/tag/v3.0.0. Use suggest_float(..., log=True) instead.\n",
            "\n",
            "[I 2024-04-12 10:18:22,581] Trial 149 finished with value: 0.9331436699857752 and parameters: {'classifier': 'SVC', 'svc_c': 2021.5225682514465}. Best is trial 36 with value: 0.9735064011379801.\n",
            "C:\\Users\\chldy\\AppData\\Local\\Temp\\ipykernel_14372\\3750847957.py:16: FutureWarning:\n",
            "\n",
            "suggest_loguniform has been deprecated in v3.0.0. This feature will be removed in v6.0.0. See https://github.com/optuna/optuna/releases/tag/v3.0.0. Use suggest_float(..., log=True) instead.\n",
            "\n",
            "[I 2024-04-12 10:18:22,596] Trial 150 finished with value: 0.9601706970128023 and parameters: {'classifier': 'SVC', 'svc_c': 26.05392799555767}. Best is trial 36 with value: 0.9735064011379801.\n",
            "C:\\Users\\chldy\\AppData\\Local\\Temp\\ipykernel_14372\\3750847957.py:16: FutureWarning:\n",
            "\n",
            "suggest_loguniform has been deprecated in v3.0.0. This feature will be removed in v6.0.0. See https://github.com/optuna/optuna/releases/tag/v3.0.0. Use suggest_float(..., log=True) instead.\n",
            "\n",
            "[I 2024-04-12 10:18:22,611] Trial 151 finished with value: 0.9735064011379801 and parameters: {'classifier': 'SVC', 'svc_c': 6.012481246495652}. Best is trial 36 with value: 0.9735064011379801.\n",
            "C:\\Users\\chldy\\AppData\\Local\\Temp\\ipykernel_14372\\3750847957.py:16: FutureWarning:\n",
            "\n",
            "suggest_loguniform has been deprecated in v3.0.0. This feature will be removed in v6.0.0. See https://github.com/optuna/optuna/releases/tag/v3.0.0. Use suggest_float(..., log=True) instead.\n",
            "\n",
            "[I 2024-04-12 10:18:22,627] Trial 152 finished with value: 0.9731507823613088 and parameters: {'classifier': 'SVC', 'svc_c': 0.6838341130469985}. Best is trial 36 with value: 0.9735064011379801.\n",
            "C:\\Users\\chldy\\AppData\\Local\\Temp\\ipykernel_14372\\3750847957.py:16: FutureWarning:\n",
            "\n",
            "suggest_loguniform has been deprecated in v3.0.0. This feature will be removed in v6.0.0. See https://github.com/optuna/optuna/releases/tag/v3.0.0. Use suggest_float(..., log=True) instead.\n",
            "\n",
            "[I 2024-04-12 10:18:22,641] Trial 153 finished with value: 0.9733285917496444 and parameters: {'classifier': 'SVC', 'svc_c': 2.489422291356015}. Best is trial 36 with value: 0.9735064011379801.\n",
            "C:\\Users\\chldy\\AppData\\Local\\Temp\\ipykernel_14372\\3750847957.py:16: FutureWarning:\n",
            "\n",
            "suggest_loguniform has been deprecated in v3.0.0. This feature will be removed in v6.0.0. See https://github.com/optuna/optuna/releases/tag/v3.0.0. Use suggest_float(..., log=True) instead.\n",
            "\n",
            "[I 2024-04-12 10:18:22,661] Trial 154 finished with value: 0.9735064011379801 and parameters: {'classifier': 'SVC', 'svc_c': 5.744900550254208}. Best is trial 36 with value: 0.9735064011379801.\n",
            "C:\\Users\\chldy\\AppData\\Local\\Temp\\ipykernel_14372\\3750847957.py:16: FutureWarning:\n",
            "\n",
            "suggest_loguniform has been deprecated in v3.0.0. This feature will be removed in v6.0.0. See https://github.com/optuna/optuna/releases/tag/v3.0.0. Use suggest_float(..., log=True) instead.\n",
            "\n",
            "[I 2024-04-12 10:18:22,675] Trial 155 finished with value: 0.9601706970128023 and parameters: {'classifier': 'SVC', 'svc_c': 20.103561827350077}. Best is trial 36 with value: 0.9735064011379801.\n",
            "C:\\Users\\chldy\\AppData\\Local\\Temp\\ipykernel_14372\\3750847957.py:16: FutureWarning:\n",
            "\n",
            "suggest_loguniform has been deprecated in v3.0.0. This feature will be removed in v6.0.0. See https://github.com/optuna/optuna/releases/tag/v3.0.0. Use suggest_float(..., log=True) instead.\n",
            "\n",
            "[I 2024-04-12 10:18:22,688] Trial 156 finished with value: 0.9532361308677098 and parameters: {'classifier': 'SVC', 'svc_c': 92.94547433722919}. Best is trial 36 with value: 0.9735064011379801.\n",
            "C:\\Users\\chldy\\AppData\\Local\\Temp\\ipykernel_14372\\3750847957.py:16: FutureWarning:\n",
            "\n",
            "suggest_loguniform has been deprecated in v3.0.0. This feature will be removed in v6.0.0. See https://github.com/optuna/optuna/releases/tag/v3.0.0. Use suggest_float(..., log=True) instead.\n",
            "\n",
            "[I 2024-04-12 10:18:22,703] Trial 157 finished with value: 0.9733285917496444 and parameters: {'classifier': 'SVC', 'svc_c': 1.9619271687596695}. Best is trial 36 with value: 0.9735064011379801.\n",
            "C:\\Users\\chldy\\AppData\\Local\\Temp\\ipykernel_14372\\3750847957.py:16: FutureWarning:\n",
            "\n",
            "suggest_loguniform has been deprecated in v3.0.0. This feature will be removed in v6.0.0. See https://github.com/optuna/optuna/releases/tag/v3.0.0. Use suggest_float(..., log=True) instead.\n",
            "\n",
            "[I 2024-04-12 10:18:22,717] Trial 158 finished with value: 0.9669274537695591 and parameters: {'classifier': 'SVC', 'svc_c': 10.511524209854162}. Best is trial 36 with value: 0.9735064011379801.\n",
            "C:\\Users\\chldy\\AppData\\Local\\Temp\\ipykernel_14372\\3750847957.py:21: FutureWarning:\n",
            "\n",
            "suggest_loguniform has been deprecated in v3.0.0. This feature will be removed in v6.0.0. See https://github.com/optuna/optuna/releases/tag/v3.0.0. Use suggest_float(..., log=True) instead.\n",
            "\n",
            "[I 2024-04-12 10:18:22,762] Trial 159 finished with value: 0.9466571834992887 and parameters: {'classifier': 'RandomForest', 'rf_max_depth': 2.0904595906791608}. Best is trial 36 with value: 0.9735064011379801.\n",
            "C:\\Users\\chldy\\AppData\\Local\\Temp\\ipykernel_14372\\3750847957.py:16: FutureWarning:\n",
            "\n",
            "suggest_loguniform has been deprecated in v3.0.0. This feature will be removed in v6.0.0. See https://github.com/optuna/optuna/releases/tag/v3.0.0. Use suggest_float(..., log=True) instead.\n",
            "\n",
            "[I 2024-04-12 10:18:22,776] Trial 160 finished with value: 0.9733285917496444 and parameters: {'classifier': 'SVC', 'svc_c': 55.31812776355492}. Best is trial 36 with value: 0.9735064011379801.\n",
            "C:\\Users\\chldy\\AppData\\Local\\Temp\\ipykernel_14372\\3750847957.py:16: FutureWarning:\n",
            "\n",
            "suggest_loguniform has been deprecated in v3.0.0. This feature will be removed in v6.0.0. See https://github.com/optuna/optuna/releases/tag/v3.0.0. Use suggest_float(..., log=True) instead.\n",
            "\n",
            "[I 2024-04-12 10:18:22,792] Trial 161 finished with value: 0.4822190611664296 and parameters: {'classifier': 'SVC', 'svc_c': 9.698504038264975e-09}. Best is trial 36 with value: 0.9735064011379801.\n",
            "C:\\Users\\chldy\\AppData\\Local\\Temp\\ipykernel_14372\\3750847957.py:16: FutureWarning:\n",
            "\n",
            "suggest_loguniform has been deprecated in v3.0.0. This feature will be removed in v6.0.0. See https://github.com/optuna/optuna/releases/tag/v3.0.0. Use suggest_float(..., log=True) instead.\n",
            "\n",
            "[I 2024-04-12 10:18:22,806] Trial 162 finished with value: 0.9735064011379801 and parameters: {'classifier': 'SVC', 'svc_c': 9.020817038672934}. Best is trial 36 with value: 0.9735064011379801.\n",
            "C:\\Users\\chldy\\AppData\\Local\\Temp\\ipykernel_14372\\3750847957.py:16: FutureWarning:\n",
            "\n",
            "suggest_loguniform has been deprecated in v3.0.0. This feature will be removed in v6.0.0. See https://github.com/optuna/optuna/releases/tag/v3.0.0. Use suggest_float(..., log=True) instead.\n",
            "\n",
            "[I 2024-04-12 10:18:22,818] Trial 163 finished with value: 0.9735064011379801 and parameters: {'classifier': 'SVC', 'svc_c': 4.4690787958716625}. Best is trial 36 with value: 0.9735064011379801.\n",
            "C:\\Users\\chldy\\AppData\\Local\\Temp\\ipykernel_14372\\3750847957.py:16: FutureWarning:\n",
            "\n",
            "suggest_loguniform has been deprecated in v3.0.0. This feature will be removed in v6.0.0. See https://github.com/optuna/optuna/releases/tag/v3.0.0. Use suggest_float(..., log=True) instead.\n",
            "\n",
            "[I 2024-04-12 10:18:22,834] Trial 164 finished with value: 0.9731507823613088 and parameters: {'classifier': 'SVC', 'svc_c': 0.9984747514346712}. Best is trial 36 with value: 0.9735064011379801.\n",
            "C:\\Users\\chldy\\AppData\\Local\\Temp\\ipykernel_14372\\3750847957.py:16: FutureWarning:\n",
            "\n",
            "suggest_loguniform has been deprecated in v3.0.0. This feature will be removed in v6.0.0. See https://github.com/optuna/optuna/releases/tag/v3.0.0. Use suggest_float(..., log=True) instead.\n",
            "\n",
            "[I 2024-04-12 10:18:22,850] Trial 165 finished with value: 0.9601706970128023 and parameters: {'classifier': 'SVC', 'svc_c': 15.796235536698877}. Best is trial 36 with value: 0.9735064011379801.\n",
            "C:\\Users\\chldy\\AppData\\Local\\Temp\\ipykernel_14372\\3750847957.py:16: FutureWarning:\n",
            "\n",
            "suggest_loguniform has been deprecated in v3.0.0. This feature will be removed in v6.0.0. See https://github.com/optuna/optuna/releases/tag/v3.0.0. Use suggest_float(..., log=True) instead.\n",
            "\n",
            "[I 2024-04-12 10:18:22,866] Trial 166 finished with value: 0.9731507823613088 and parameters: {'classifier': 'SVC', 'svc_c': 0.48798282690490163}. Best is trial 36 with value: 0.9735064011379801.\n",
            "C:\\Users\\chldy\\AppData\\Local\\Temp\\ipykernel_14372\\3750847957.py:16: FutureWarning:\n",
            "\n",
            "suggest_loguniform has been deprecated in v3.0.0. This feature will be removed in v6.0.0. See https://github.com/optuna/optuna/releases/tag/v3.0.0. Use suggest_float(..., log=True) instead.\n",
            "\n",
            "[I 2024-04-12 10:18:22,900] Trial 167 finished with value: 0.9667496443812233 and parameters: {'classifier': 'SVC', 'svc_c': 33.51765595276798}. Best is trial 36 with value: 0.9735064011379801.\n",
            "C:\\Users\\chldy\\AppData\\Local\\Temp\\ipykernel_14372\\3750847957.py:16: FutureWarning:\n",
            "\n",
            "suggest_loguniform has been deprecated in v3.0.0. This feature will be removed in v6.0.0. See https://github.com/optuna/optuna/releases/tag/v3.0.0. Use suggest_float(..., log=True) instead.\n",
            "\n",
            "[I 2024-04-12 10:18:22,917] Trial 168 finished with value: 0.9733285917496444 and parameters: {'classifier': 'SVC', 'svc_c': 2.3090877115817046}. Best is trial 36 with value: 0.9735064011379801.\n",
            "C:\\Users\\chldy\\AppData\\Local\\Temp\\ipykernel_14372\\3750847957.py:16: FutureWarning:\n",
            "\n",
            "suggest_loguniform has been deprecated in v3.0.0. This feature will be removed in v6.0.0. See https://github.com/optuna/optuna/releases/tag/v3.0.0. Use suggest_float(..., log=True) instead.\n",
            "\n",
            "[I 2024-04-12 10:18:22,930] Trial 169 finished with value: 0.9735064011379801 and parameters: {'classifier': 'SVC', 'svc_c': 7.996514351110944}. Best is trial 36 with value: 0.9735064011379801.\n",
            "C:\\Users\\chldy\\AppData\\Local\\Temp\\ipykernel_14372\\3750847957.py:16: FutureWarning:\n",
            "\n",
            "suggest_loguniform has been deprecated in v3.0.0. This feature will be removed in v6.0.0. See https://github.com/optuna/optuna/releases/tag/v3.0.0. Use suggest_float(..., log=True) instead.\n",
            "\n",
            "[I 2024-04-12 10:18:22,943] Trial 170 finished with value: 0.9532361308677098 and parameters: {'classifier': 'SVC', 'svc_c': 266.227034330202}. Best is trial 36 with value: 0.9735064011379801.\n",
            "C:\\Users\\chldy\\AppData\\Local\\Temp\\ipykernel_14372\\3750847957.py:16: FutureWarning:\n",
            "\n",
            "suggest_loguniform has been deprecated in v3.0.0. This feature will be removed in v6.0.0. See https://github.com/optuna/optuna/releases/tag/v3.0.0. Use suggest_float(..., log=True) instead.\n",
            "\n",
            "[I 2024-04-12 10:18:22,957] Trial 171 finished with value: 0.9735064011379801 and parameters: {'classifier': 'SVC', 'svc_c': 7.404287308164092}. Best is trial 36 with value: 0.9735064011379801.\n",
            "C:\\Users\\chldy\\AppData\\Local\\Temp\\ipykernel_14372\\3750847957.py:16: FutureWarning:\n",
            "\n",
            "suggest_loguniform has been deprecated in v3.0.0. This feature will be removed in v6.0.0. See https://github.com/optuna/optuna/releases/tag/v3.0.0. Use suggest_float(..., log=True) instead.\n",
            "\n",
            "[I 2024-04-12 10:18:22,972] Trial 172 finished with value: 0.9735064011379801 and parameters: {'classifier': 'SVC', 'svc_c': 4.6230178598438885}. Best is trial 36 with value: 0.9735064011379801.\n",
            "C:\\Users\\chldy\\AppData\\Local\\Temp\\ipykernel_14372\\3750847957.py:16: FutureWarning:\n",
            "\n",
            "suggest_loguniform has been deprecated in v3.0.0. This feature will be removed in v6.0.0. See https://github.com/optuna/optuna/releases/tag/v3.0.0. Use suggest_float(..., log=True) instead.\n",
            "\n",
            "[I 2024-04-12 10:18:22,987] Trial 173 finished with value: 0.9601706970128023 and parameters: {'classifier': 'SVC', 'svc_c': 23.715265479890153}. Best is trial 36 with value: 0.9735064011379801.\n",
            "C:\\Users\\chldy\\AppData\\Local\\Temp\\ipykernel_14372\\3750847957.py:16: FutureWarning:\n",
            "\n",
            "suggest_loguniform has been deprecated in v3.0.0. This feature will be removed in v6.0.0. See https://github.com/optuna/optuna/releases/tag/v3.0.0. Use suggest_float(..., log=True) instead.\n",
            "\n",
            "[I 2024-04-12 10:18:23,003] Trial 174 finished with value: 0.9733285917496444 and parameters: {'classifier': 'SVC', 'svc_c': 1.847878643851715}. Best is trial 36 with value: 0.9735064011379801.\n",
            "C:\\Users\\chldy\\AppData\\Local\\Temp\\ipykernel_14372\\3750847957.py:16: FutureWarning:\n",
            "\n",
            "suggest_loguniform has been deprecated in v3.0.0. This feature will be removed in v6.0.0. See https://github.com/optuna/optuna/releases/tag/v3.0.0. Use suggest_float(..., log=True) instead.\n",
            "\n",
            "[I 2024-04-12 10:18:23,022] Trial 175 finished with value: 0.9669274537695591 and parameters: {'classifier': 'SVC', 'svc_c': 10.976958594166986}. Best is trial 36 with value: 0.9735064011379801.\n",
            "C:\\Users\\chldy\\AppData\\Local\\Temp\\ipykernel_14372\\3750847957.py:16: FutureWarning:\n",
            "\n",
            "suggest_loguniform has been deprecated in v3.0.0. This feature will be removed in v6.0.0. See https://github.com/optuna/optuna/releases/tag/v3.0.0. Use suggest_float(..., log=True) instead.\n",
            "\n",
            "[I 2024-04-12 10:18:23,038] Trial 176 finished with value: 0.9598150782361308 and parameters: {'classifier': 'SVC', 'svc_c': 100.44959119439191}. Best is trial 36 with value: 0.9735064011379801.\n",
            "C:\\Users\\chldy\\AppData\\Local\\Temp\\ipykernel_14372\\3750847957.py:16: FutureWarning:\n",
            "\n",
            "suggest_loguniform has been deprecated in v3.0.0. This feature will be removed in v6.0.0. See https://github.com/optuna/optuna/releases/tag/v3.0.0. Use suggest_float(..., log=True) instead.\n",
            "\n",
            "[I 2024-04-12 10:18:23,054] Trial 177 finished with value: 0.9733285917496444 and parameters: {'classifier': 'SVC', 'svc_c': 1.4365078587485767}. Best is trial 36 with value: 0.9735064011379801.\n",
            "C:\\Users\\chldy\\AppData\\Local\\Temp\\ipykernel_14372\\3750847957.py:16: FutureWarning:\n",
            "\n",
            "suggest_loguniform has been deprecated in v3.0.0. This feature will be removed in v6.0.0. See https://github.com/optuna/optuna/releases/tag/v3.0.0. Use suggest_float(..., log=True) instead.\n",
            "\n",
            "[I 2024-04-12 10:18:23,070] Trial 178 finished with value: 0.9731507823613088 and parameters: {'classifier': 'SVC', 'svc_c': 0.29290640400082857}. Best is trial 36 with value: 0.9735064011379801.\n",
            "C:\\Users\\chldy\\AppData\\Local\\Temp\\ipykernel_14372\\3750847957.py:16: FutureWarning:\n",
            "\n",
            "suggest_loguniform has been deprecated in v3.0.0. This feature will be removed in v6.0.0. See https://github.com/optuna/optuna/releases/tag/v3.0.0. Use suggest_float(..., log=True) instead.\n",
            "\n",
            "[I 2024-04-12 10:18:23,086] Trial 179 finished with value: 0.9331436699857752 and parameters: {'classifier': 'SVC', 'svc_c': 5016845.484148865}. Best is trial 36 with value: 0.9735064011379801.\n",
            "C:\\Users\\chldy\\AppData\\Local\\Temp\\ipykernel_14372\\3750847957.py:16: FutureWarning:\n",
            "\n",
            "suggest_loguniform has been deprecated in v3.0.0. This feature will be removed in v6.0.0. See https://github.com/optuna/optuna/releases/tag/v3.0.0. Use suggest_float(..., log=True) instead.\n",
            "\n",
            "[I 2024-04-12 10:18:23,101] Trial 180 finished with value: 0.9667496443812233 and parameters: {'classifier': 'SVC', 'svc_c': 37.402221373126444}. Best is trial 36 with value: 0.9735064011379801.\n",
            "C:\\Users\\chldy\\AppData\\Local\\Temp\\ipykernel_14372\\3750847957.py:16: FutureWarning:\n",
            "\n",
            "suggest_loguniform has been deprecated in v3.0.0. This feature will be removed in v6.0.0. See https://github.com/optuna/optuna/releases/tag/v3.0.0. Use suggest_float(..., log=True) instead.\n",
            "\n",
            "[I 2024-04-12 10:18:23,117] Trial 181 finished with value: 0.9735064011379801 and parameters: {'classifier': 'SVC', 'svc_c': 4.601459035302998}. Best is trial 36 with value: 0.9735064011379801.\n",
            "C:\\Users\\chldy\\AppData\\Local\\Temp\\ipykernel_14372\\3750847957.py:16: FutureWarning:\n",
            "\n",
            "suggest_loguniform has been deprecated in v3.0.0. This feature will be removed in v6.0.0. See https://github.com/optuna/optuna/releases/tag/v3.0.0. Use suggest_float(..., log=True) instead.\n",
            "\n",
            "[I 2024-04-12 10:18:23,133] Trial 182 finished with value: 0.9735064011379801 and parameters: {'classifier': 'SVC', 'svc_c': 6.827964176507687}. Best is trial 36 with value: 0.9735064011379801.\n",
            "C:\\Users\\chldy\\AppData\\Local\\Temp\\ipykernel_14372\\3750847957.py:16: FutureWarning:\n",
            "\n",
            "suggest_loguniform has been deprecated in v3.0.0. This feature will be removed in v6.0.0. See https://github.com/optuna/optuna/releases/tag/v3.0.0. Use suggest_float(..., log=True) instead.\n",
            "\n",
            "[I 2024-04-12 10:18:23,148] Trial 183 finished with value: 0.9669274537695591 and parameters: {'classifier': 'SVC', 'svc_c': 12.863216837560653}. Best is trial 36 with value: 0.9735064011379801.\n",
            "C:\\Users\\chldy\\AppData\\Local\\Temp\\ipykernel_14372\\3750847957.py:16: FutureWarning:\n",
            "\n",
            "suggest_loguniform has been deprecated in v3.0.0. This feature will be removed in v6.0.0. See https://github.com/optuna/optuna/releases/tag/v3.0.0. Use suggest_float(..., log=True) instead.\n",
            "\n",
            "[I 2024-04-12 10:18:23,163] Trial 184 finished with value: 0.9733285917496444 and parameters: {'classifier': 'SVC', 'svc_c': 3.4150280057168385}. Best is trial 36 with value: 0.9735064011379801.\n",
            "C:\\Users\\chldy\\AppData\\Local\\Temp\\ipykernel_14372\\3750847957.py:16: FutureWarning:\n",
            "\n",
            "suggest_loguniform has been deprecated in v3.0.0. This feature will be removed in v6.0.0. See https://github.com/optuna/optuna/releases/tag/v3.0.0. Use suggest_float(..., log=True) instead.\n",
            "\n",
            "[I 2024-04-12 10:18:23,178] Trial 185 finished with value: 0.9665718349928876 and parameters: {'classifier': 'SVC', 'svc_c': 0.8287677590322068}. Best is trial 36 with value: 0.9735064011379801.\n",
            "C:\\Users\\chldy\\AppData\\Local\\Temp\\ipykernel_14372\\3750847957.py:16: FutureWarning:\n",
            "\n",
            "suggest_loguniform has been deprecated in v3.0.0. This feature will be removed in v6.0.0. See https://github.com/optuna/optuna/releases/tag/v3.0.0. Use suggest_float(..., log=True) instead.\n",
            "\n",
            "[I 2024-04-12 10:18:23,198] Trial 186 finished with value: 0.9601706970128023 and parameters: {'classifier': 'SVC', 'svc_c': 23.118379427305786}. Best is trial 36 with value: 0.9735064011379801.\n",
            "C:\\Users\\chldy\\AppData\\Local\\Temp\\ipykernel_14372\\3750847957.py:16: FutureWarning:\n",
            "\n",
            "suggest_loguniform has been deprecated in v3.0.0. This feature will be removed in v6.0.0. See https://github.com/optuna/optuna/releases/tag/v3.0.0. Use suggest_float(..., log=True) instead.\n",
            "\n",
            "[I 2024-04-12 10:18:23,217] Trial 187 finished with value: 0.9733285917496444 and parameters: {'classifier': 'SVC', 'svc_c': 54.638967576523896}. Best is trial 36 with value: 0.9735064011379801.\n",
            "C:\\Users\\chldy\\AppData\\Local\\Temp\\ipykernel_14372\\3750847957.py:21: FutureWarning:\n",
            "\n",
            "suggest_loguniform has been deprecated in v3.0.0. This feature will be removed in v6.0.0. See https://github.com/optuna/optuna/releases/tag/v3.0.0. Use suggest_float(..., log=True) instead.\n",
            "\n",
            "[I 2024-04-12 10:18:23,265] Trial 188 finished with value: 0.9599928876244666 and parameters: {'classifier': 'RandomForest', 'rf_max_depth': 17.810839667887354}. Best is trial 36 with value: 0.9735064011379801.\n",
            "C:\\Users\\chldy\\AppData\\Local\\Temp\\ipykernel_14372\\3750847957.py:16: FutureWarning:\n",
            "\n",
            "suggest_loguniform has been deprecated in v3.0.0. This feature will be removed in v6.0.0. See https://github.com/optuna/optuna/releases/tag/v3.0.0. Use suggest_float(..., log=True) instead.\n",
            "\n",
            "[I 2024-04-12 10:18:23,277] Trial 189 finished with value: 0.9735064011379801 and parameters: {'classifier': 'SVC', 'svc_c': 4.482614339925283}. Best is trial 36 with value: 0.9735064011379801.\n",
            "C:\\Users\\chldy\\AppData\\Local\\Temp\\ipykernel_14372\\3750847957.py:16: FutureWarning:\n",
            "\n",
            "suggest_loguniform has been deprecated in v3.0.0. This feature will be removed in v6.0.0. See https://github.com/optuna/optuna/releases/tag/v3.0.0. Use suggest_float(..., log=True) instead.\n",
            "\n",
            "[I 2024-04-12 10:18:23,291] Trial 190 finished with value: 0.9735064011379801 and parameters: {'classifier': 'SVC', 'svc_c': 10.11077054919643}. Best is trial 36 with value: 0.9735064011379801.\n",
            "C:\\Users\\chldy\\AppData\\Local\\Temp\\ipykernel_14372\\3750847957.py:16: FutureWarning:\n",
            "\n",
            "suggest_loguniform has been deprecated in v3.0.0. This feature will be removed in v6.0.0. See https://github.com/optuna/optuna/releases/tag/v3.0.0. Use suggest_float(..., log=True) instead.\n",
            "\n",
            "[I 2024-04-12 10:18:23,306] Trial 191 finished with value: 0.9735064011379801 and parameters: {'classifier': 'SVC', 'svc_c': 6.00521939918451}. Best is trial 36 with value: 0.9735064011379801.\n",
            "C:\\Users\\chldy\\AppData\\Local\\Temp\\ipykernel_14372\\3750847957.py:16: FutureWarning:\n",
            "\n",
            "suggest_loguniform has been deprecated in v3.0.0. This feature will be removed in v6.0.0. See https://github.com/optuna/optuna/releases/tag/v3.0.0. Use suggest_float(..., log=True) instead.\n",
            "\n",
            "[I 2024-04-12 10:18:23,319] Trial 192 finished with value: 0.9733285917496444 and parameters: {'classifier': 'SVC', 'svc_c': 2.150183245090114}. Best is trial 36 with value: 0.9735064011379801.\n",
            "C:\\Users\\chldy\\AppData\\Local\\Temp\\ipykernel_14372\\3750847957.py:16: FutureWarning:\n",
            "\n",
            "suggest_loguniform has been deprecated in v3.0.0. This feature will be removed in v6.0.0. See https://github.com/optuna/optuna/releases/tag/v3.0.0. Use suggest_float(..., log=True) instead.\n",
            "\n",
            "[I 2024-04-12 10:18:23,334] Trial 193 finished with value: 0.9669274537695591 and parameters: {'classifier': 'SVC', 'svc_c': 15.058554824182009}. Best is trial 36 with value: 0.9735064011379801.\n",
            "C:\\Users\\chldy\\AppData\\Local\\Temp\\ipykernel_14372\\3750847957.py:16: FutureWarning:\n",
            "\n",
            "suggest_loguniform has been deprecated in v3.0.0. This feature will be removed in v6.0.0. See https://github.com/optuna/optuna/releases/tag/v3.0.0. Use suggest_float(..., log=True) instead.\n",
            "\n",
            "[I 2024-04-12 10:18:23,369] Trial 194 finished with value: 0.9731507823613088 and parameters: {'classifier': 'SVC', 'svc_c': 1.0534895038467915}. Best is trial 36 with value: 0.9735064011379801.\n",
            "C:\\Users\\chldy\\AppData\\Local\\Temp\\ipykernel_14372\\3750847957.py:16: FutureWarning:\n",
            "\n",
            "suggest_loguniform has been deprecated in v3.0.0. This feature will be removed in v6.0.0. See https://github.com/optuna/optuna/releases/tag/v3.0.0. Use suggest_float(..., log=True) instead.\n",
            "\n",
            "[I 2024-04-12 10:18:23,386] Trial 195 finished with value: 0.9735064011379801 and parameters: {'classifier': 'SVC', 'svc_c': 4.496549179585143}. Best is trial 36 with value: 0.9735064011379801.\n",
            "C:\\Users\\chldy\\AppData\\Local\\Temp\\ipykernel_14372\\3750847957.py:16: FutureWarning:\n",
            "\n",
            "suggest_loguniform has been deprecated in v3.0.0. This feature will be removed in v6.0.0. See https://github.com/optuna/optuna/releases/tag/v3.0.0. Use suggest_float(..., log=True) instead.\n",
            "\n",
            "[I 2024-04-12 10:18:23,402] Trial 196 finished with value: 0.9665718349928876 and parameters: {'classifier': 'SVC', 'svc_c': 107.98768274370833}. Best is trial 36 with value: 0.9735064011379801.\n",
            "C:\\Users\\chldy\\AppData\\Local\\Temp\\ipykernel_14372\\3750847957.py:16: FutureWarning:\n",
            "\n",
            "suggest_loguniform has been deprecated in v3.0.0. This feature will be removed in v6.0.0. See https://github.com/optuna/optuna/releases/tag/v3.0.0. Use suggest_float(..., log=True) instead.\n",
            "\n",
            "[I 2024-04-12 10:18:23,416] Trial 197 finished with value: 0.9601706970128023 and parameters: {'classifier': 'SVC', 'svc_c': 26.554257058160747}. Best is trial 36 with value: 0.9735064011379801.\n",
            "C:\\Users\\chldy\\AppData\\Local\\Temp\\ipykernel_14372\\3750847957.py:16: FutureWarning:\n",
            "\n",
            "suggest_loguniform has been deprecated in v3.0.0. This feature will be removed in v6.0.0. See https://github.com/optuna/optuna/releases/tag/v3.0.0. Use suggest_float(..., log=True) instead.\n",
            "\n",
            "[I 2024-04-12 10:18:23,429] Trial 198 finished with value: 0.9735064011379801 and parameters: {'classifier': 'SVC', 'svc_c': 8.41348681135991}. Best is trial 36 with value: 0.9735064011379801.\n",
            "C:\\Users\\chldy\\AppData\\Local\\Temp\\ipykernel_14372\\3750847957.py:16: FutureWarning:\n",
            "\n",
            "suggest_loguniform has been deprecated in v3.0.0. This feature will be removed in v6.0.0. See https://github.com/optuna/optuna/releases/tag/v3.0.0. Use suggest_float(..., log=True) instead.\n",
            "\n",
            "[I 2024-04-12 10:18:23,442] Trial 199 finished with value: 0.9731507823613088 and parameters: {'classifier': 'SVC', 'svc_c': 0.6611138591975079}. Best is trial 36 with value: 0.9735064011379801.\n"
          ]
        }
      ],
      "source": [
        "import optuna\n",
        "import sklearn\n",
        "from sklearn.model_selection import cross_val_score\n",
        "from xgboost import XGBClassifier\n",
        "\n",
        "# 1. 최소화/최대화할 목적함수 정의\n",
        "def objective(trial):\n",
        "    iris = sklearn.datasets.load_iris()\n",
        "    x, y = iris.data, iris.target\n",
        "\n",
        "# 2. trial object로 하이퍼파라미터 값 추천\n",
        "# 다양한 분류모델을 설정해서 비교할 수 있다.\n",
        "    classifier_name = trial.suggest_categorical('classifier', ['SVC', 'RandomForest'])\n",
        "    #분류 모델이 SVC일 때\n",
        "    if classifier_name == 'SVC':\n",
        "        svc_c = trial.suggest_loguniform('svc_c', 1e-10, 1e10)\n",
        "        classifier_obj = sklearn.svm.SVC(C=svc_c, gamma='auto')\n",
        "    \n",
        "    #분류모델이 랜덤포레스트일 때\n",
        "    else:\n",
        "        rf_max_depth = int(trial.suggest_loguniform('rf_max_depth', 2, 32))\n",
        "        classifier_obj = sklearn.ensemble.RandomForestClassifier(max_depth=rf_max_depth, n_estimators=10)\n",
        "    \n",
        "    accuracy = cross_val_score(classifier_obj, x, y, cv = 4).mean()\n",
        "    return accuracy\n",
        "\n",
        "# 3. study 오브젝트 생성하고 목적함수 최적화하는 단계\n",
        "# 여기서는 목적함수를 정확도로 설정했기 때문에 최대화를 목표로 하고 있지만, 손실함수의 경우 direction='minimize'로 설정\n",
        "study = optuna.create_study(direction='maximize')\n",
        "# 반복 시행 횟수(trial)는 200번으로\n",
        "study.optimize(objective, n_trials=200)"
      ]
    },
    {
      "cell_type": "code",
      "execution_count": 22,
      "metadata": {
        "id": "8ELZ5u6Bcd-7"
      },
      "outputs": [
        {
          "name": "stdout",
          "output_type": "stream",
          "text": [
            "{'classifier': 'SVC', 'svc_c': 8.250691978620889}\n",
            "0.9735064011379801\n"
          ]
        }
      ],
      "source": [
        "# 시행된 trial 중 최적의 하이퍼파라미터 반환하는 메소드\n",
        "print(study.best_trial.params)\n",
        "\n",
        "# 시행된 trial 중 가장 높은 값 반환하는 메소드\n",
        "optuna_acc = study.best_trial.value\n",
        "print(optuna_acc)"
      ]
    },
    {
      "cell_type": "markdown",
      "metadata": {
        "id": "H2MWEFmgcgfk"
      },
      "source": [
        "## Visualization"
      ]
    },
    {
      "cell_type": "code",
      "execution_count": 23,
      "metadata": {
        "id": "E84NoqGTcd_7"
      },
      "outputs": [
        {
          "data": {
            "application/vnd.plotly.v1+json": {
              "config": {
                "plotlyServerURL": "https://plot.ly"
              },
              "data": [
                {
                  "mode": "markers",
                  "name": "Objective Value",
                  "type": "scatter",
                  "x": [
                    0,
                    1,
                    2,
                    3,
                    4,
                    5,
                    6,
                    7,
                    8,
                    9,
                    10,
                    11,
                    12,
                    13,
                    14,
                    15,
                    16,
                    17,
                    18,
                    19,
                    20,
                    21,
                    22,
                    23,
                    24,
                    25,
                    26,
                    27,
                    28,
                    29,
                    30,
                    31,
                    32,
                    33,
                    34,
                    35,
                    36,
                    37,
                    38,
                    39,
                    40,
                    41,
                    42,
                    43,
                    44,
                    45,
                    46,
                    47,
                    48,
                    49,
                    50,
                    51,
                    52,
                    53,
                    54,
                    55,
                    56,
                    57,
                    58,
                    59,
                    60,
                    61,
                    62,
                    63,
                    64,
                    65,
                    66,
                    67,
                    68,
                    69,
                    70,
                    71,
                    72,
                    73,
                    74,
                    75,
                    76,
                    77,
                    78,
                    79,
                    80,
                    81,
                    82,
                    83,
                    84,
                    85,
                    86,
                    87,
                    88,
                    89,
                    90,
                    91,
                    92,
                    93,
                    94,
                    95,
                    96,
                    97,
                    98,
                    99,
                    100,
                    101,
                    102,
                    103,
                    104,
                    105,
                    106,
                    107,
                    108,
                    109,
                    110,
                    111,
                    112,
                    113,
                    114,
                    115,
                    116,
                    117,
                    118,
                    119,
                    120,
                    121,
                    122,
                    123,
                    124,
                    125,
                    126,
                    127,
                    128,
                    129,
                    130,
                    131,
                    132,
                    133,
                    134,
                    135,
                    136,
                    137,
                    138,
                    139,
                    140,
                    141,
                    142,
                    143,
                    144,
                    145,
                    146,
                    147,
                    148,
                    149,
                    150,
                    151,
                    152,
                    153,
                    154,
                    155,
                    156,
                    157,
                    158,
                    159,
                    160,
                    161,
                    162,
                    163,
                    164,
                    165,
                    166,
                    167,
                    168,
                    169,
                    170,
                    171,
                    172,
                    173,
                    174,
                    175,
                    176,
                    177,
                    178,
                    179,
                    180,
                    181,
                    182,
                    183,
                    184,
                    185,
                    186,
                    187,
                    188,
                    189,
                    190,
                    191,
                    192,
                    193,
                    194,
                    195,
                    196,
                    197,
                    198,
                    199
                  ],
                  "y": [
                    0.4822190611664296,
                    0.4822190611664296,
                    0.9331436699857752,
                    0.9599928876244666,
                    0.4822190611664296,
                    0.9534139402560455,
                    0.9331436699857752,
                    0.9532361308677098,
                    0.9599928876244666,
                    0.9397226173541963,
                    0.9532361308677098,
                    0.9667496443812233,
                    0.9532361308677098,
                    0.9397226173541964,
                    0.9667496443812233,
                    0.9601706970128022,
                    0.9534139402560455,
                    0.946479374110953,
                    0.9599928876244666,
                    0.9667496443812233,
                    0.9667496443812233,
                    0.9532361308677098,
                    0.9532361308677098,
                    0.9532361308677098,
                    0.9599928876244666,
                    0.9399004267425319,
                    0.9667496443812233,
                    0.4822190611664296,
                    0.9532361308677098,
                    0.9466571834992887,
                    0.9599928876244666,
                    0.9397226173541964,
                    0.9667496443812233,
                    0.9599928876244666,
                    0.9331436699857752,
                    0.9532361308677098,
                    0.9735064011379801,
                    0.9735064011379801,
                    0.9733285917496444,
                    0.9735064011379801,
                    0.9733285917496444,
                    0.9667496443812233,
                    0.9733285917496444,
                    0.9731507823613088,
                    0.9665718349928876,
                    0.8799786628733998,
                    0.9466571834992887,
                    0.9599928876244666,
                    0.9532361308677098,
                    0.9331436699857752,
                    0.4822190611664296,
                    0.9733285917496444,
                    0.9735064011379801,
                    0.9601706970128023,
                    0.9599928876244666,
                    0.9601706970128023,
                    0.9331436699857752,
                    0.5743243243243243,
                    0.9466571834992887,
                    0.9665718349928876,
                    0.4822190611664296,
                    0.9733285917496444,
                    0.9599928876244666,
                    0.4822190611664296,
                    0.9667496443812233,
                    0.9733285917496444,
                    0.9331436699857752,
                    0.4822190611664296,
                    0.4822190611664296,
                    0.9331436699857752,
                    0.9735064011379801,
                    0.9667496443812233,
                    0.9731507823613088,
                    0.9601706970128023,
                    0.9665718349928876,
                    0.9532361308677098,
                    0.9735064011379801,
                    0.4822190611664296,
                    0.9735064011379801,
                    0.9331436699857752,
                    0.9331436699857752,
                    0.9669274537695591,
                    0.9598150782361308,
                    0.9400782361308677,
                    0.9735064011379801,
                    0.9731507823613088,
                    0.9532361308677098,
                    0.9667496443812233,
                    0.9466571834992887,
                    0.9601706970128023,
                    0.9733285917496444,
                    0.9733285917496444,
                    0.9466571834992887,
                    0.9731507823613088,
                    0.9532361308677098,
                    0.9601706970128023,
                    0.4822190611664296,
                    0.9665718349928876,
                    0.9599928876244666,
                    0.4822190611664296,
                    0.9733285917496444,
                    0.9667496443812233,
                    0.9733285917496444,
                    0.9665718349928876,
                    0.8934921763869133,
                    0.9669274537695591,
                    0.9731507823613088,
                    0.9733285917496444,
                    0.9466571834992887,
                    0.9601706970128023,
                    0.9331436699857752,
                    0.9665718349928876,
                    0.9735064011379801,
                    0.9532361308677098,
                    0.9735064011379801,
                    0.9735064011379801,
                    0.9735064011379801,
                    0.9735064011379801,
                    0.9667496443812233,
                    0.9731507823613087,
                    0.9599928876244666,
                    0.9669274537695591,
                    0.9667496443812233,
                    0.9731507823613088,
                    0.9667496443812233,
                    0.9733285917496444,
                    0.9735064011379801,
                    0.9665718349928876,
                    0.9466571834992887,
                    0.9665718349928876,
                    0.9466571834992887,
                    0.9735064011379801,
                    0.9735064011379801,
                    0.9601706970128023,
                    0.9733285917496444,
                    0.9669274537695591,
                    0.9733285917496444,
                    0.9532361308677098,
                    0.9731507823613088,
                    0.9667496443812233,
                    0.9665718349928876,
                    0.9735064011379801,
                    0.9733285917496444,
                    0.9601706970128023,
                    0.9667496443812233,
                    0.9733285917496444,
                    0.9731507823613087,
                    0.9599928876244666,
                    0.9735064011379801,
                    0.9331436699857752,
                    0.9601706970128023,
                    0.9735064011379801,
                    0.9731507823613088,
                    0.9733285917496444,
                    0.9735064011379801,
                    0.9601706970128023,
                    0.9532361308677098,
                    0.9733285917496444,
                    0.9669274537695591,
                    0.9466571834992887,
                    0.9733285917496444,
                    0.4822190611664296,
                    0.9735064011379801,
                    0.9735064011379801,
                    0.9731507823613088,
                    0.9601706970128023,
                    0.9731507823613088,
                    0.9667496443812233,
                    0.9733285917496444,
                    0.9735064011379801,
                    0.9532361308677098,
                    0.9735064011379801,
                    0.9735064011379801,
                    0.9601706970128023,
                    0.9733285917496444,
                    0.9669274537695591,
                    0.9598150782361308,
                    0.9733285917496444,
                    0.9731507823613088,
                    0.9331436699857752,
                    0.9667496443812233,
                    0.9735064011379801,
                    0.9735064011379801,
                    0.9669274537695591,
                    0.9733285917496444,
                    0.9665718349928876,
                    0.9601706970128023,
                    0.9733285917496444,
                    0.9599928876244666,
                    0.9735064011379801,
                    0.9735064011379801,
                    0.9735064011379801,
                    0.9733285917496444,
                    0.9669274537695591,
                    0.9731507823613088,
                    0.9735064011379801,
                    0.9665718349928876,
                    0.9601706970128023,
                    0.9735064011379801,
                    0.9731507823613088
                  ]
                },
                {
                  "mode": "lines",
                  "name": "Best Value",
                  "type": "scatter",
                  "x": [
                    0,
                    1,
                    2,
                    3,
                    4,
                    5,
                    6,
                    7,
                    8,
                    9,
                    10,
                    11,
                    12,
                    13,
                    14,
                    15,
                    16,
                    17,
                    18,
                    19,
                    20,
                    21,
                    22,
                    23,
                    24,
                    25,
                    26,
                    27,
                    28,
                    29,
                    30,
                    31,
                    32,
                    33,
                    34,
                    35,
                    36,
                    37,
                    38,
                    39,
                    40,
                    41,
                    42,
                    43,
                    44,
                    45,
                    46,
                    47,
                    48,
                    49,
                    50,
                    51,
                    52,
                    53,
                    54,
                    55,
                    56,
                    57,
                    58,
                    59,
                    60,
                    61,
                    62,
                    63,
                    64,
                    65,
                    66,
                    67,
                    68,
                    69,
                    70,
                    71,
                    72,
                    73,
                    74,
                    75,
                    76,
                    77,
                    78,
                    79,
                    80,
                    81,
                    82,
                    83,
                    84,
                    85,
                    86,
                    87,
                    88,
                    89,
                    90,
                    91,
                    92,
                    93,
                    94,
                    95,
                    96,
                    97,
                    98,
                    99,
                    100,
                    101,
                    102,
                    103,
                    104,
                    105,
                    106,
                    107,
                    108,
                    109,
                    110,
                    111,
                    112,
                    113,
                    114,
                    115,
                    116,
                    117,
                    118,
                    119,
                    120,
                    121,
                    122,
                    123,
                    124,
                    125,
                    126,
                    127,
                    128,
                    129,
                    130,
                    131,
                    132,
                    133,
                    134,
                    135,
                    136,
                    137,
                    138,
                    139,
                    140,
                    141,
                    142,
                    143,
                    144,
                    145,
                    146,
                    147,
                    148,
                    149,
                    150,
                    151,
                    152,
                    153,
                    154,
                    155,
                    156,
                    157,
                    158,
                    159,
                    160,
                    161,
                    162,
                    163,
                    164,
                    165,
                    166,
                    167,
                    168,
                    169,
                    170,
                    171,
                    172,
                    173,
                    174,
                    175,
                    176,
                    177,
                    178,
                    179,
                    180,
                    181,
                    182,
                    183,
                    184,
                    185,
                    186,
                    187,
                    188,
                    189,
                    190,
                    191,
                    192,
                    193,
                    194,
                    195,
                    196,
                    197,
                    198,
                    199
                  ],
                  "y": [
                    0.4822190611664296,
                    0.4822190611664296,
                    0.9331436699857752,
                    0.9599928876244666,
                    0.9599928876244666,
                    0.9599928876244666,
                    0.9599928876244666,
                    0.9599928876244666,
                    0.9599928876244666,
                    0.9599928876244666,
                    0.9599928876244666,
                    0.9667496443812233,
                    0.9667496443812233,
                    0.9667496443812233,
                    0.9667496443812233,
                    0.9667496443812233,
                    0.9667496443812233,
                    0.9667496443812233,
                    0.9667496443812233,
                    0.9667496443812233,
                    0.9667496443812233,
                    0.9667496443812233,
                    0.9667496443812233,
                    0.9667496443812233,
                    0.9667496443812233,
                    0.9667496443812233,
                    0.9667496443812233,
                    0.9667496443812233,
                    0.9667496443812233,
                    0.9667496443812233,
                    0.9667496443812233,
                    0.9667496443812233,
                    0.9667496443812233,
                    0.9667496443812233,
                    0.9667496443812233,
                    0.9667496443812233,
                    0.9735064011379801,
                    0.9735064011379801,
                    0.9735064011379801,
                    0.9735064011379801,
                    0.9735064011379801,
                    0.9735064011379801,
                    0.9735064011379801,
                    0.9735064011379801,
                    0.9735064011379801,
                    0.9735064011379801,
                    0.9735064011379801,
                    0.9735064011379801,
                    0.9735064011379801,
                    0.9735064011379801,
                    0.9735064011379801,
                    0.9735064011379801,
                    0.9735064011379801,
                    0.9735064011379801,
                    0.9735064011379801,
                    0.9735064011379801,
                    0.9735064011379801,
                    0.9735064011379801,
                    0.9735064011379801,
                    0.9735064011379801,
                    0.9735064011379801,
                    0.9735064011379801,
                    0.9735064011379801,
                    0.9735064011379801,
                    0.9735064011379801,
                    0.9735064011379801,
                    0.9735064011379801,
                    0.9735064011379801,
                    0.9735064011379801,
                    0.9735064011379801,
                    0.9735064011379801,
                    0.9735064011379801,
                    0.9735064011379801,
                    0.9735064011379801,
                    0.9735064011379801,
                    0.9735064011379801,
                    0.9735064011379801,
                    0.9735064011379801,
                    0.9735064011379801,
                    0.9735064011379801,
                    0.9735064011379801,
                    0.9735064011379801,
                    0.9735064011379801,
                    0.9735064011379801,
                    0.9735064011379801,
                    0.9735064011379801,
                    0.9735064011379801,
                    0.9735064011379801,
                    0.9735064011379801,
                    0.9735064011379801,
                    0.9735064011379801,
                    0.9735064011379801,
                    0.9735064011379801,
                    0.9735064011379801,
                    0.9735064011379801,
                    0.9735064011379801,
                    0.9735064011379801,
                    0.9735064011379801,
                    0.9735064011379801,
                    0.9735064011379801,
                    0.9735064011379801,
                    0.9735064011379801,
                    0.9735064011379801,
                    0.9735064011379801,
                    0.9735064011379801,
                    0.9735064011379801,
                    0.9735064011379801,
                    0.9735064011379801,
                    0.9735064011379801,
                    0.9735064011379801,
                    0.9735064011379801,
                    0.9735064011379801,
                    0.9735064011379801,
                    0.9735064011379801,
                    0.9735064011379801,
                    0.9735064011379801,
                    0.9735064011379801,
                    0.9735064011379801,
                    0.9735064011379801,
                    0.9735064011379801,
                    0.9735064011379801,
                    0.9735064011379801,
                    0.9735064011379801,
                    0.9735064011379801,
                    0.9735064011379801,
                    0.9735064011379801,
                    0.9735064011379801,
                    0.9735064011379801,
                    0.9735064011379801,
                    0.9735064011379801,
                    0.9735064011379801,
                    0.9735064011379801,
                    0.9735064011379801,
                    0.9735064011379801,
                    0.9735064011379801,
                    0.9735064011379801,
                    0.9735064011379801,
                    0.9735064011379801,
                    0.9735064011379801,
                    0.9735064011379801,
                    0.9735064011379801,
                    0.9735064011379801,
                    0.9735064011379801,
                    0.9735064011379801,
                    0.9735064011379801,
                    0.9735064011379801,
                    0.9735064011379801,
                    0.9735064011379801,
                    0.9735064011379801,
                    0.9735064011379801,
                    0.9735064011379801,
                    0.9735064011379801,
                    0.9735064011379801,
                    0.9735064011379801,
                    0.9735064011379801,
                    0.9735064011379801,
                    0.9735064011379801,
                    0.9735064011379801,
                    0.9735064011379801,
                    0.9735064011379801,
                    0.9735064011379801,
                    0.9735064011379801,
                    0.9735064011379801,
                    0.9735064011379801,
                    0.9735064011379801,
                    0.9735064011379801,
                    0.9735064011379801,
                    0.9735064011379801,
                    0.9735064011379801,
                    0.9735064011379801,
                    0.9735064011379801,
                    0.9735064011379801,
                    0.9735064011379801,
                    0.9735064011379801,
                    0.9735064011379801,
                    0.9735064011379801,
                    0.9735064011379801,
                    0.9735064011379801,
                    0.9735064011379801,
                    0.9735064011379801,
                    0.9735064011379801,
                    0.9735064011379801,
                    0.9735064011379801,
                    0.9735064011379801,
                    0.9735064011379801,
                    0.9735064011379801,
                    0.9735064011379801,
                    0.9735064011379801,
                    0.9735064011379801,
                    0.9735064011379801,
                    0.9735064011379801,
                    0.9735064011379801,
                    0.9735064011379801,
                    0.9735064011379801,
                    0.9735064011379801,
                    0.9735064011379801,
                    0.9735064011379801,
                    0.9735064011379801,
                    0.9735064011379801,
                    0.9735064011379801
                  ]
                },
                {
                  "marker": {
                    "color": "#cccccc"
                  },
                  "mode": "markers",
                  "name": "Infeasible Trial",
                  "showlegend": false,
                  "type": "scatter",
                  "x": [],
                  "y": []
                }
              ],
              "layout": {
                "template": {
                  "data": {
                    "bar": [
                      {
                        "error_x": {
                          "color": "#2a3f5f"
                        },
                        "error_y": {
                          "color": "#2a3f5f"
                        },
                        "marker": {
                          "line": {
                            "color": "#E5ECF6",
                            "width": 0.5
                          },
                          "pattern": {
                            "fillmode": "overlay",
                            "size": 10,
                            "solidity": 0.2
                          }
                        },
                        "type": "bar"
                      }
                    ],
                    "barpolar": [
                      {
                        "marker": {
                          "line": {
                            "color": "#E5ECF6",
                            "width": 0.5
                          },
                          "pattern": {
                            "fillmode": "overlay",
                            "size": 10,
                            "solidity": 0.2
                          }
                        },
                        "type": "barpolar"
                      }
                    ],
                    "carpet": [
                      {
                        "aaxis": {
                          "endlinecolor": "#2a3f5f",
                          "gridcolor": "white",
                          "linecolor": "white",
                          "minorgridcolor": "white",
                          "startlinecolor": "#2a3f5f"
                        },
                        "baxis": {
                          "endlinecolor": "#2a3f5f",
                          "gridcolor": "white",
                          "linecolor": "white",
                          "minorgridcolor": "white",
                          "startlinecolor": "#2a3f5f"
                        },
                        "type": "carpet"
                      }
                    ],
                    "choropleth": [
                      {
                        "colorbar": {
                          "outlinewidth": 0,
                          "ticks": ""
                        },
                        "type": "choropleth"
                      }
                    ],
                    "contour": [
                      {
                        "colorbar": {
                          "outlinewidth": 0,
                          "ticks": ""
                        },
                        "colorscale": [
                          [
                            0,
                            "#0d0887"
                          ],
                          [
                            0.1111111111111111,
                            "#46039f"
                          ],
                          [
                            0.2222222222222222,
                            "#7201a8"
                          ],
                          [
                            0.3333333333333333,
                            "#9c179e"
                          ],
                          [
                            0.4444444444444444,
                            "#bd3786"
                          ],
                          [
                            0.5555555555555556,
                            "#d8576b"
                          ],
                          [
                            0.6666666666666666,
                            "#ed7953"
                          ],
                          [
                            0.7777777777777778,
                            "#fb9f3a"
                          ],
                          [
                            0.8888888888888888,
                            "#fdca26"
                          ],
                          [
                            1,
                            "#f0f921"
                          ]
                        ],
                        "type": "contour"
                      }
                    ],
                    "contourcarpet": [
                      {
                        "colorbar": {
                          "outlinewidth": 0,
                          "ticks": ""
                        },
                        "type": "contourcarpet"
                      }
                    ],
                    "heatmap": [
                      {
                        "colorbar": {
                          "outlinewidth": 0,
                          "ticks": ""
                        },
                        "colorscale": [
                          [
                            0,
                            "#0d0887"
                          ],
                          [
                            0.1111111111111111,
                            "#46039f"
                          ],
                          [
                            0.2222222222222222,
                            "#7201a8"
                          ],
                          [
                            0.3333333333333333,
                            "#9c179e"
                          ],
                          [
                            0.4444444444444444,
                            "#bd3786"
                          ],
                          [
                            0.5555555555555556,
                            "#d8576b"
                          ],
                          [
                            0.6666666666666666,
                            "#ed7953"
                          ],
                          [
                            0.7777777777777778,
                            "#fb9f3a"
                          ],
                          [
                            0.8888888888888888,
                            "#fdca26"
                          ],
                          [
                            1,
                            "#f0f921"
                          ]
                        ],
                        "type": "heatmap"
                      }
                    ],
                    "heatmapgl": [
                      {
                        "colorbar": {
                          "outlinewidth": 0,
                          "ticks": ""
                        },
                        "colorscale": [
                          [
                            0,
                            "#0d0887"
                          ],
                          [
                            0.1111111111111111,
                            "#46039f"
                          ],
                          [
                            0.2222222222222222,
                            "#7201a8"
                          ],
                          [
                            0.3333333333333333,
                            "#9c179e"
                          ],
                          [
                            0.4444444444444444,
                            "#bd3786"
                          ],
                          [
                            0.5555555555555556,
                            "#d8576b"
                          ],
                          [
                            0.6666666666666666,
                            "#ed7953"
                          ],
                          [
                            0.7777777777777778,
                            "#fb9f3a"
                          ],
                          [
                            0.8888888888888888,
                            "#fdca26"
                          ],
                          [
                            1,
                            "#f0f921"
                          ]
                        ],
                        "type": "heatmapgl"
                      }
                    ],
                    "histogram": [
                      {
                        "marker": {
                          "pattern": {
                            "fillmode": "overlay",
                            "size": 10,
                            "solidity": 0.2
                          }
                        },
                        "type": "histogram"
                      }
                    ],
                    "histogram2d": [
                      {
                        "colorbar": {
                          "outlinewidth": 0,
                          "ticks": ""
                        },
                        "colorscale": [
                          [
                            0,
                            "#0d0887"
                          ],
                          [
                            0.1111111111111111,
                            "#46039f"
                          ],
                          [
                            0.2222222222222222,
                            "#7201a8"
                          ],
                          [
                            0.3333333333333333,
                            "#9c179e"
                          ],
                          [
                            0.4444444444444444,
                            "#bd3786"
                          ],
                          [
                            0.5555555555555556,
                            "#d8576b"
                          ],
                          [
                            0.6666666666666666,
                            "#ed7953"
                          ],
                          [
                            0.7777777777777778,
                            "#fb9f3a"
                          ],
                          [
                            0.8888888888888888,
                            "#fdca26"
                          ],
                          [
                            1,
                            "#f0f921"
                          ]
                        ],
                        "type": "histogram2d"
                      }
                    ],
                    "histogram2dcontour": [
                      {
                        "colorbar": {
                          "outlinewidth": 0,
                          "ticks": ""
                        },
                        "colorscale": [
                          [
                            0,
                            "#0d0887"
                          ],
                          [
                            0.1111111111111111,
                            "#46039f"
                          ],
                          [
                            0.2222222222222222,
                            "#7201a8"
                          ],
                          [
                            0.3333333333333333,
                            "#9c179e"
                          ],
                          [
                            0.4444444444444444,
                            "#bd3786"
                          ],
                          [
                            0.5555555555555556,
                            "#d8576b"
                          ],
                          [
                            0.6666666666666666,
                            "#ed7953"
                          ],
                          [
                            0.7777777777777778,
                            "#fb9f3a"
                          ],
                          [
                            0.8888888888888888,
                            "#fdca26"
                          ],
                          [
                            1,
                            "#f0f921"
                          ]
                        ],
                        "type": "histogram2dcontour"
                      }
                    ],
                    "mesh3d": [
                      {
                        "colorbar": {
                          "outlinewidth": 0,
                          "ticks": ""
                        },
                        "type": "mesh3d"
                      }
                    ],
                    "parcoords": [
                      {
                        "line": {
                          "colorbar": {
                            "outlinewidth": 0,
                            "ticks": ""
                          }
                        },
                        "type": "parcoords"
                      }
                    ],
                    "pie": [
                      {
                        "automargin": true,
                        "type": "pie"
                      }
                    ],
                    "scatter": [
                      {
                        "fillpattern": {
                          "fillmode": "overlay",
                          "size": 10,
                          "solidity": 0.2
                        },
                        "type": "scatter"
                      }
                    ],
                    "scatter3d": [
                      {
                        "line": {
                          "colorbar": {
                            "outlinewidth": 0,
                            "ticks": ""
                          }
                        },
                        "marker": {
                          "colorbar": {
                            "outlinewidth": 0,
                            "ticks": ""
                          }
                        },
                        "type": "scatter3d"
                      }
                    ],
                    "scattercarpet": [
                      {
                        "marker": {
                          "colorbar": {
                            "outlinewidth": 0,
                            "ticks": ""
                          }
                        },
                        "type": "scattercarpet"
                      }
                    ],
                    "scattergeo": [
                      {
                        "marker": {
                          "colorbar": {
                            "outlinewidth": 0,
                            "ticks": ""
                          }
                        },
                        "type": "scattergeo"
                      }
                    ],
                    "scattergl": [
                      {
                        "marker": {
                          "colorbar": {
                            "outlinewidth": 0,
                            "ticks": ""
                          }
                        },
                        "type": "scattergl"
                      }
                    ],
                    "scattermapbox": [
                      {
                        "marker": {
                          "colorbar": {
                            "outlinewidth": 0,
                            "ticks": ""
                          }
                        },
                        "type": "scattermapbox"
                      }
                    ],
                    "scatterpolar": [
                      {
                        "marker": {
                          "colorbar": {
                            "outlinewidth": 0,
                            "ticks": ""
                          }
                        },
                        "type": "scatterpolar"
                      }
                    ],
                    "scatterpolargl": [
                      {
                        "marker": {
                          "colorbar": {
                            "outlinewidth": 0,
                            "ticks": ""
                          }
                        },
                        "type": "scatterpolargl"
                      }
                    ],
                    "scatterternary": [
                      {
                        "marker": {
                          "colorbar": {
                            "outlinewidth": 0,
                            "ticks": ""
                          }
                        },
                        "type": "scatterternary"
                      }
                    ],
                    "surface": [
                      {
                        "colorbar": {
                          "outlinewidth": 0,
                          "ticks": ""
                        },
                        "colorscale": [
                          [
                            0,
                            "#0d0887"
                          ],
                          [
                            0.1111111111111111,
                            "#46039f"
                          ],
                          [
                            0.2222222222222222,
                            "#7201a8"
                          ],
                          [
                            0.3333333333333333,
                            "#9c179e"
                          ],
                          [
                            0.4444444444444444,
                            "#bd3786"
                          ],
                          [
                            0.5555555555555556,
                            "#d8576b"
                          ],
                          [
                            0.6666666666666666,
                            "#ed7953"
                          ],
                          [
                            0.7777777777777778,
                            "#fb9f3a"
                          ],
                          [
                            0.8888888888888888,
                            "#fdca26"
                          ],
                          [
                            1,
                            "#f0f921"
                          ]
                        ],
                        "type": "surface"
                      }
                    ],
                    "table": [
                      {
                        "cells": {
                          "fill": {
                            "color": "#EBF0F8"
                          },
                          "line": {
                            "color": "white"
                          }
                        },
                        "header": {
                          "fill": {
                            "color": "#C8D4E3"
                          },
                          "line": {
                            "color": "white"
                          }
                        },
                        "type": "table"
                      }
                    ]
                  },
                  "layout": {
                    "annotationdefaults": {
                      "arrowcolor": "#2a3f5f",
                      "arrowhead": 0,
                      "arrowwidth": 1
                    },
                    "autotypenumbers": "strict",
                    "coloraxis": {
                      "colorbar": {
                        "outlinewidth": 0,
                        "ticks": ""
                      }
                    },
                    "colorscale": {
                      "diverging": [
                        [
                          0,
                          "#8e0152"
                        ],
                        [
                          0.1,
                          "#c51b7d"
                        ],
                        [
                          0.2,
                          "#de77ae"
                        ],
                        [
                          0.3,
                          "#f1b6da"
                        ],
                        [
                          0.4,
                          "#fde0ef"
                        ],
                        [
                          0.5,
                          "#f7f7f7"
                        ],
                        [
                          0.6,
                          "#e6f5d0"
                        ],
                        [
                          0.7,
                          "#b8e186"
                        ],
                        [
                          0.8,
                          "#7fbc41"
                        ],
                        [
                          0.9,
                          "#4d9221"
                        ],
                        [
                          1,
                          "#276419"
                        ]
                      ],
                      "sequential": [
                        [
                          0,
                          "#0d0887"
                        ],
                        [
                          0.1111111111111111,
                          "#46039f"
                        ],
                        [
                          0.2222222222222222,
                          "#7201a8"
                        ],
                        [
                          0.3333333333333333,
                          "#9c179e"
                        ],
                        [
                          0.4444444444444444,
                          "#bd3786"
                        ],
                        [
                          0.5555555555555556,
                          "#d8576b"
                        ],
                        [
                          0.6666666666666666,
                          "#ed7953"
                        ],
                        [
                          0.7777777777777778,
                          "#fb9f3a"
                        ],
                        [
                          0.8888888888888888,
                          "#fdca26"
                        ],
                        [
                          1,
                          "#f0f921"
                        ]
                      ],
                      "sequentialminus": [
                        [
                          0,
                          "#0d0887"
                        ],
                        [
                          0.1111111111111111,
                          "#46039f"
                        ],
                        [
                          0.2222222222222222,
                          "#7201a8"
                        ],
                        [
                          0.3333333333333333,
                          "#9c179e"
                        ],
                        [
                          0.4444444444444444,
                          "#bd3786"
                        ],
                        [
                          0.5555555555555556,
                          "#d8576b"
                        ],
                        [
                          0.6666666666666666,
                          "#ed7953"
                        ],
                        [
                          0.7777777777777778,
                          "#fb9f3a"
                        ],
                        [
                          0.8888888888888888,
                          "#fdca26"
                        ],
                        [
                          1,
                          "#f0f921"
                        ]
                      ]
                    },
                    "colorway": [
                      "#636efa",
                      "#EF553B",
                      "#00cc96",
                      "#ab63fa",
                      "#FFA15A",
                      "#19d3f3",
                      "#FF6692",
                      "#B6E880",
                      "#FF97FF",
                      "#FECB52"
                    ],
                    "font": {
                      "color": "#2a3f5f"
                    },
                    "geo": {
                      "bgcolor": "white",
                      "lakecolor": "white",
                      "landcolor": "#E5ECF6",
                      "showlakes": true,
                      "showland": true,
                      "subunitcolor": "white"
                    },
                    "hoverlabel": {
                      "align": "left"
                    },
                    "hovermode": "closest",
                    "mapbox": {
                      "style": "light"
                    },
                    "paper_bgcolor": "white",
                    "plot_bgcolor": "#E5ECF6",
                    "polar": {
                      "angularaxis": {
                        "gridcolor": "white",
                        "linecolor": "white",
                        "ticks": ""
                      },
                      "bgcolor": "#E5ECF6",
                      "radialaxis": {
                        "gridcolor": "white",
                        "linecolor": "white",
                        "ticks": ""
                      }
                    },
                    "scene": {
                      "xaxis": {
                        "backgroundcolor": "#E5ECF6",
                        "gridcolor": "white",
                        "gridwidth": 2,
                        "linecolor": "white",
                        "showbackground": true,
                        "ticks": "",
                        "zerolinecolor": "white"
                      },
                      "yaxis": {
                        "backgroundcolor": "#E5ECF6",
                        "gridcolor": "white",
                        "gridwidth": 2,
                        "linecolor": "white",
                        "showbackground": true,
                        "ticks": "",
                        "zerolinecolor": "white"
                      },
                      "zaxis": {
                        "backgroundcolor": "#E5ECF6",
                        "gridcolor": "white",
                        "gridwidth": 2,
                        "linecolor": "white",
                        "showbackground": true,
                        "ticks": "",
                        "zerolinecolor": "white"
                      }
                    },
                    "shapedefaults": {
                      "line": {
                        "color": "#2a3f5f"
                      }
                    },
                    "ternary": {
                      "aaxis": {
                        "gridcolor": "white",
                        "linecolor": "white",
                        "ticks": ""
                      },
                      "baxis": {
                        "gridcolor": "white",
                        "linecolor": "white",
                        "ticks": ""
                      },
                      "bgcolor": "#E5ECF6",
                      "caxis": {
                        "gridcolor": "white",
                        "linecolor": "white",
                        "ticks": ""
                      }
                    },
                    "title": {
                      "x": 0.05
                    },
                    "xaxis": {
                      "automargin": true,
                      "gridcolor": "white",
                      "linecolor": "white",
                      "ticks": "",
                      "title": {
                        "standoff": 15
                      },
                      "zerolinecolor": "white",
                      "zerolinewidth": 2
                    },
                    "yaxis": {
                      "automargin": true,
                      "gridcolor": "white",
                      "linecolor": "white",
                      "ticks": "",
                      "title": {
                        "standoff": 15
                      },
                      "zerolinecolor": "white",
                      "zerolinewidth": 2
                    }
                  }
                },
                "title": {
                  "text": "Optimization History Plot"
                },
                "xaxis": {
                  "title": {
                    "text": "Trial"
                  }
                },
                "yaxis": {
                  "title": {
                    "text": "Objective Value"
                  }
                }
              }
            }
          },
          "metadata": {},
          "output_type": "display_data"
        }
      ],
      "source": [
        "optuna.visualization.plot_param_importances(study)\n",
        "\n",
        "optuna.visualization.plot_optimization_history(study)"
      ]
    },
    {
      "cell_type": "markdown",
      "metadata": {
        "id": "ZcXuNtGJ8XVh"
      },
      "source": [
        "# 6.Pycaret\n",
        "\n",
        "- AutoML을 하게 해주는 파이썬 라이브러리\n",
        "- scikit-learning 패키지를 기반으로 하고 있으며 Classification, Regression, Clustering, Anomaly Detection 등 다양한 모델을 지원함.\n",
        "\n",
        "- 공식문서에 설명이 매우 잘 되어 있고, 몇 줄의 코드로 쉽게 구현이 가능하기 때문에 유용하게 사용할 수 있음.\n",
        "\n",
        "- Pycaret을 활용하면 여러 모델의 성능 비교 뿐만 아니라 hyperparameter tunning,  여러 모델을 blending한 모델을 만들 수 있습니다."
      ]
    },
    {
      "cell_type": "code",
      "execution_count": null,
      "metadata": {
        "id": "Yh8ZZa_khlPQ"
      },
      "outputs": [],
      "source": [
        "#Pycaret 설치\n",
        "!pip install pycaret"
      ]
    },
    {
      "cell_type": "code",
      "execution_count": null,
      "metadata": {
        "id": "zpqIkD3ChlRV"
      },
      "outputs": [],
      "source": [
        "#모델 비교시 catboost가 없다면 다음과 같이 설치합니다.\n",
        "!pip install pycaret[full]"
      ]
    },
    {
      "cell_type": "code",
      "execution_count": null,
      "metadata": {
        "id": "J4JAVeY8h9zB"
      },
      "outputs": [],
      "source": [
        "#Data load / pycaret에서 제공하는 'credit'데이터를 사용함.\n",
        "from pycaret.datasets import get_data\n",
        "dataset = get_data('credit')"
      ]
    },
    {
      "cell_type": "code",
      "execution_count": null,
      "metadata": {
        "id": "Ffliqt1PhlTl"
      },
      "outputs": [],
      "source": [
        "#train test 분리\n",
        "train = dataset.sample(frac=0.95, random_state=786)\n",
        "test = dataset.drop(train.index)\n",
        "train.reset_index(inplace=True, drop=True)\n",
        "test.reset_index(inplace=True, drop=True)"
      ]
    },
    {
      "cell_type": "markdown",
      "metadata": {
        "id": "oJkHjdg0h09e"
      },
      "source": [
        "- 데이터 설정.\n",
        "    - Pycaret을 사용하기 전에 Pycaret에 맞게 데이터를 설정해줘야 함.\n",
        "    - set_up() 함수를 사용하며, 기본적으로 data와 target을 입력해줍니다.\n",
        "    - 입력 후 column에 대한 자료형이 출력되며 enter를 치면 data가 설정됩니다."
      ]
    },
    {
      "cell_type": "markdown",
      "metadata": {
        "id": "4xcqgfWVia87"
      },
      "source": [
        "- set_up(): pycaret을 사용하기 위한 data setting\n",
        "\n",
        "- session_id: random_state와 같은 개념으로 같은 결과가 나올 수 있게 seed를 고정합니다.\n",
        "- data: train 데이터를 입력합니다.\n",
        "- target = target 변수 이름을 입력합니다."
      ]
    },
    {
      "cell_type": "code",
      "execution_count": null,
      "metadata": {
        "id": "FcuFHz7phlVx"
      },
      "outputs": [],
      "source": [
        "from pycaret.classification import *\n",
        "\n",
        "exp_clf = setup(data = train, target = 'default', session_id=123)"
      ]
    },
    {
      "cell_type": "markdown",
      "metadata": {
        "id": "96m0o2VhiVuN"
      },
      "source": [
        "**- 모델 비교**\n",
        "\n",
        "\n",
        "    - 여러 모델을 적합하여 성능을 비교하는 단계"
      ]
    },
    {
      "cell_type": "code",
      "execution_count": null,
      "metadata": {
        "id": "0LZKeUmYhlYG"
      },
      "outputs": [],
      "source": [
        "best_model = compare_models()"
      ]
    },
    {
      "cell_type": "markdown",
      "metadata": {
        "id": "RPWsFQxWin27"
      },
      "source": [
        "- compare_models(): 다양한 모델 적합 후 성능 비교\n",
        "    - fold: cross_validation의 fold를 지정 (default = 10)\n",
        "    - sort: 정렬기준 지표 설정\n",
        "    - n_select: 상위 n개의 모델 결과만 출력"
      ]
    },
    {
      "cell_type": "markdown",
      "metadata": {
        "id": "x6B9GiT4itVR"
      },
      "source": [
        "- 모델 적합\n",
        "    - 하나의 모델의 적합 결과는 보는 방법."
      ]
    },
    {
      "cell_type": "code",
      "execution_count": null,
      "metadata": {
        "id": "k4Mxe5rRimuk"
      },
      "outputs": [],
      "source": [
        "rf = create_model('rf')"
      ]
    },
    {
      "cell_type": "markdown",
      "metadata": {
        "id": "_QpYBwdujDvB"
      },
      "source": [
        "- create_model(): 하나의 모델 적합\n",
        "\n",
        "    - fold: cross_validation의 fold 지정 (default = 10)"
      ]
    },
    {
      "cell_type": "markdown",
      "metadata": {
        "id": "j5fNHFFxjJ3Y"
      },
      "source": [
        "**- Tunning**\n",
        "\n",
        "\n",
        "    - tune_model() 함수를 사용해서 모델의 하이퍼파라미터 튜닝을 진행"
      ]
    },
    {
      "cell_type": "code",
      "execution_count": null,
      "metadata": {
        "id": "yrY2kz5iimxI"
      },
      "outputs": [],
      "source": [
        "tuned_rf = tune_model(rf)"
      ]
    },
    {
      "cell_type": "markdown",
      "metadata": {
        "id": "9dRdCMCfjYXd"
      },
      "source": [
        "- tuned_rf를 호출하면 튜닝 결과를 확인할 수 있습니다.\n",
        "\n",
        "- tune_model(model): 모델의 하이퍼파라미터 튜닝\n",
        "\n",
        "- optimize: 평가 metric 지정"
      ]
    },
    {
      "cell_type": "markdown",
      "metadata": {
        "id": "_HCTAPHIjzV7"
      },
      "source": [
        "**Blending**\n",
        "\n",
        "- blend_models() 함수를 사용하면 여러 모델들을 혼합하여 새로운 모델을 생성합니다.\n",
        "모델을 하나씩 생성해서 blend해도 되고 compare_model을 사용하여 생성한 모델을 사용해서 blend할 수 있습니다."
      ]
    },
    {
      "cell_type": "code",
      "execution_count": null,
      "metadata": {
        "id": "brbvUbqUimzR"
      },
      "outputs": [],
      "source": [
        "# 방법 1\n",
        "dt = create_model('dt')\n",
        "rf = create_model('rf')\n",
        "\n",
        "blender_2 = blend_models(estimator_list = [dt, rf])\n",
        "\n",
        "# 방법 2\n",
        "best_model_5 = compare_models(n_select=5)\n",
        "blender_5 = blend_models(best_model_5)"
      ]
    },
    {
      "cell_type": "markdown",
      "metadata": {
        "id": "H1T6A9EBj8M9"
      },
      "source": [
        "- blend_models(models): 여러 모델들을 혼합한 새로운 모델을 생성"
      ]
    },
    {
      "cell_type": "markdown",
      "metadata": {
        "id": "moLhPog0lzUT"
      },
      "source": [
        "**- 예측**\n",
        "\n",
        "- finalize_model() 함수로 모델을 설정하면, cross_validation을 사용하여 적합한 모델을 전체 데이터로 마지막으로 학습을 합니다. 마지막 모델을 설정한 후에 predict_model()을 통해 예측을 합니다."
      ]
    },
    {
      "cell_type": "code",
      "execution_count": null,
      "metadata": {
        "id": "kN8MvE4Lim1f"
      },
      "outputs": [],
      "source": [
        "final_model = finalize_model(blender_5)\n",
        "prediction = predict_model(final_model, data = test)"
      ]
    },
    {
      "cell_type": "markdown",
      "metadata": {
        "id": "fAI7i5nFl_gH"
      },
      "source": [
        "- finalize_model(): 최종 모델로 설정 후 마지막 학습 진행\n",
        "- predict_model(): 예측 결과를 'Label' 변수에 저장"
      ]
    },
    {
      "cell_type": "code",
      "execution_count": null,
      "metadata": {
        "id": "i9e-hfdMW4vt"
      },
      "outputs": [],
      "source": [
        "!pip install numba --upgrade"
      ]
    },
    {
      "cell_type": "code",
      "execution_count": null,
      "metadata": {
        "id": "XrYbAeG3WfEB"
      },
      "outputs": [],
      "source": [
        "from pycaret.classification import *\n",
        "data = setup(diabetes, target = 'Class variable')"
      ]
    },
    {
      "cell_type": "markdown",
      "metadata": {
        "id": "Vbbw1-D_YHdA"
      },
      "source": [
        "4) 모델 비교"
      ]
    },
    {
      "cell_type": "code",
      "execution_count": null,
      "metadata": {
        "id": "bMUSFIatWvU4"
      },
      "outputs": [],
      "source": [
        "compare_models()"
      ]
    },
    {
      "cell_type": "markdown",
      "metadata": {
        "id": "Bt1h-dJcYLxW"
      },
      "source": [
        "5) 모델 생성"
      ]
    },
    {
      "cell_type": "code",
      "execution_count": null,
      "metadata": {
        "id": "KVA_ln-aYJp8"
      },
      "outputs": [],
      "source": [
        "lr = create_model('lr')"
      ]
    },
    {
      "cell_type": "markdown",
      "metadata": {
        "id": "MOG68YiyYOrC"
      },
      "source": [
        "6) 모델 튜닝"
      ]
    },
    {
      "cell_type": "code",
      "execution_count": null,
      "metadata": {
        "id": "Yqu7UtmMYNJa"
      },
      "outputs": [],
      "source": [
        "tuned_lr = tune_model(lr)"
      ]
    },
    {
      "cell_type": "markdown",
      "metadata": {
        "id": "pADYsftgYRUN"
      },
      "source": [
        "7) Bagging"
      ]
    },
    {
      "cell_type": "code",
      "execution_count": null,
      "metadata": {
        "id": "cxon1iJdYQnq"
      },
      "outputs": [],
      "source": [
        "bagged_lr = ensemble_model(lr, method = 'Bagging')"
      ]
    },
    {
      "cell_type": "markdown",
      "metadata": {
        "id": "Pt9IyAj8YVLH"
      },
      "source": [
        "8) Stacking"
      ]
    },
    {
      "cell_type": "code",
      "execution_count": null,
      "metadata": {
        "id": "5Jv2Sl6YYS7A"
      },
      "outputs": [],
      "source": [
        "lda = create_model('lda')\n",
        "rf = create_model('rf')\n",
        "stacker = stack_models(estimator_list = [lda, rf], meta_model = lr)"
      ]
    },
    {
      "cell_type": "markdown",
      "metadata": {
        "id": "CH8XVpoVYX-5"
      },
      "source": [
        "9) Plot"
      ]
    },
    {
      "cell_type": "code",
      "execution_count": null,
      "metadata": {
        "id": "HT4hxnExYXEs"
      },
      "outputs": [],
      "source": [
        "plot_model(lr)"
      ]
    },
    {
      "cell_type": "markdown",
      "metadata": {
        "id": "xYjlaH9SYcMj"
      },
      "source": [
        "10) 모델 저장"
      ]
    },
    {
      "cell_type": "code",
      "execution_count": null,
      "metadata": {
        "id": "CatDYXb7Ybb-"
      },
      "outputs": [],
      "source": [
        "save_model(lr, 'lr_saved')"
      ]
    },
    {
      "cell_type": "markdown",
      "metadata": {
        "id": "wji83abQYfIo"
      },
      "source": [
        "11) Model load"
      ]
    },
    {
      "cell_type": "code",
      "execution_count": null,
      "metadata": {
        "id": "sHT3oSo_YeOF"
      },
      "outputs": [],
      "source": [
        "lr_saved = load_model('lr_saved')"
      ]
    },
    {
      "cell_type": "markdown",
      "metadata": {
        "id": "UkraQBrGqMWq"
      },
      "source": [
        "### 7. auto-sklearn(https://automl.github.io/auto-sklearn/master/index.html)\n",
        "\n",
        "- scikit-learning은 다양한 ML estimator를 제공하고 있음.\n",
        "    - ML 모델을 만들기 위해 scikit-learn을 사용할 때 흔히 고민에 빠지는 포인트가 있습니다.\n",
        "        - 어떤 estimator를 골라야 하나?>\n",
        "        - estimator의 파라미터는 뭘로 세팅을 해야 하나? 값은 어떻게 튜닝을 할까?\n",
        "        - 이런 결정은 다른 사람들은 어떻게 할까?\n",
        "- 소개 글\n",
        "    - auto-sklearn is an automated machine learning toolkit and a drop-in replacement for a scikit-learn estimator.\n",
        "\n",
        "- auto-sklearn의 가장 큰 장점 중 하나는 바로 scikit-learn과의 api 유사성으로 인해 scikit-learn 사용자에게 친숙한 인터페이스를 제공합니다. 이를 통해 classifier, regressor를 구현할 때 별도의 튜닝 포인트 없이 편하게 사용할 수 있습니다."
      ]
    },
    {
      "cell_type": "markdown",
      "metadata": {
        "id": "IEfVkF3dqtN2"
      },
      "source": [
        "- 작동원리\n",
        "\n",
        "<img src='https://github.com/automl/auto-sklearn/raw/master/doc/images/askl_pipeline.png'>\n",
        "\n",
        "\n",
        "- auto-sklearn은 AutoML을 CASH 문제를 푸는 것으로 다루고 있습니다.\n",
        "\n",
        "- CASH는 Combined Algorithm Selection and Hyperparameter optimization 의 약자로 한글로 풀면 알고리즘 선택과 하이퍼파라미터 튜닝을 의미합니다.\n",
        "\n",
        "- 위 그림에서 auto-sklearn에서 추가한 단계는 meta-learning 과 ensemble 입니다\n",
        "\n",
        "    - 1) meta-learning 단계는 Bayesian optimizer를 warm start 해주는 역할을 합니다. \n",
        "\n",
        "    - 이 단계를 통해 Bayesian optimizer를 좀더 효율적으로 돌릴 수 있게 됩니다. \n",
        "\n",
        "    - 2) Bayesian optimizer를 통해 하이퍼파라미터 튜닝을 진행합니다 \n",
        "\n",
        "    - 3) 지금까지 테스트한 모델과 파라미터 조합을 Ensemble하여 최적의 조합을 찾습니다."
      ]
    },
    {
      "cell_type": "code",
      "execution_count": null,
      "metadata": {
        "id": "tCC4SUstrMZZ"
      },
      "outputs": [],
      "source": [
        "!sudo apt-get install build-essential swig\n",
        "!curl https://raw.githubusercontent.com/automl/auto-sklearn/master/requirements.txt | xargs -n 1 -L 1 pip install\n",
        "!pip install auto-sklearn\n",
        "\n",
        "for _ in range(3):\n",
        "    try:\n",
        "        import autosklearn.classification\n",
        "        break\n",
        "    except:\n",
        "        pass\n",
        "else:\n",
        "    raise ImportError(\"failed to import from autosklearn\")"
      ]
    },
    {
      "cell_type": "code",
      "execution_count": null,
      "metadata": {
        "id": "4LA9i5Doqsk4"
      },
      "outputs": [],
      "source": [
        "import sklearn.datasets\n",
        "import sklearn.model_selection\n",
        "\n",
        "# From OpenML: https://www.openml.org/d/31\n",
        "X, y = sklearn.datasets.fetch_openml('credit-g', as_frame=True, return_X_y=True)\n",
        "X_train, X_test, y_train, y_test = sklearn.model_selection.train_test_split(\n",
        "   X, y, random_state=42\n",
        ")"
      ]
    },
    {
      "cell_type": "markdown",
      "metadata": {
        "id": "ujFzuIiVrAOO"
      },
      "source": [
        "- auto-sklearn을 사용하기 전에 scikit-learn에 포함된 SVC를 이용하면 다음과 같이 분류할 수 있습니다."
      ]
    },
    {
      "cell_type": "code",
      "execution_count": null,
      "metadata": {
        "id": "pxu_hl09q9B9"
      },
      "outputs": [],
      "source": [
        "from sklearn.compose import ColumnTransformer\n",
        "from sklearn.metrics import roc_auc_score\n",
        "from sklearn.pipeline import Pipeline\n",
        "\n",
        "from sklearn.preprocessing import OneHotEncoder\n",
        "from sklearn.preprocessing import StandardScaler\n",
        "from sklearn.svm import SVC\n",
        "# Create the estimator using the default parameters from sklearn\n",
        "estimator_svc = SVC(\n",
        "    C=1.0, kernel='rbf', gamma='scale', shrinking=True, tol=1e-3,\n",
        "    cache_size=200, verbose=False, max_iter=-1, random_state=42, probability=True\n",
        ")\n",
        "\n",
        "# build and fit the pipeline\n",
        "encoder = ColumnTransformer(transformers = [\n",
        "    ('cat', OneHotEncoder(handle_unknown='ignore'), X.dtypes == \"category\"),\n",
        "    ('cont', StandardScaler(), X.dtypes != \"category\"),\n",
        "])\n",
        "\n",
        "pipeline_svc = Pipeline([\n",
        "    ('encoder', encoder),\n",
        "    ('svc', estimator_svc),\n",
        "])\n",
        "pipeline_svc.fit(X_train, y_train)\n",
        "\n",
        "# Score the model\n",
        "prediction = pipeline_svc.predict_proba(X_test)\n",
        "performance_svc = roc_auc_score(y_test, prediction[:, 1])\n",
        "print(f\"SVC performance is {performance_svc}\")"
      ]
    },
    {
      "cell_type": "markdown",
      "metadata": {
        "id": "AfIPT21orCEv"
      },
      "source": [
        "- SVC를 사용할 경우 하이퍼파라미터 튜닝을 통해 적절한 파라미터를 찾아가는 과정이 필요합니다.\n",
        "\n",
        "그러면 auto-sklearn을 이용하면 어떨까요?"
      ]
    },
    {
      "cell_type": "code",
      "execution_count": null,
      "metadata": {
        "id": "VTX3IN8-q9EL"
      },
      "outputs": [],
      "source": [
        "import autosklearn.classification\n",
        "import autosklearn.metrics\n",
        "\n",
        "# Create and train an ensemble with AutoML \n",
        "estimator_askl = autosklearn.classification.AutoSklearnClassifier(\n",
        "    time_left_for_this_task=300,\n",
        "    seed=42, \n",
        "    resampling_strategy='cv',\n",
        "    metric=autosklearn.metrics.roc_auc,\n",
        ")\n",
        "# Auto-sklearn ingests the pandas dataframe and detects column types\n",
        "estimator_askl.fit(X_train, y_train, dataset_name='credit-g')\n",
        "\n",
        "# Score the model\n",
        "prediction = estimator_askl.predict_proba(X_test)\n",
        "\n",
        "performance_askl = roc_auc_score(y_test, prediction[:, 1])\n",
        "print(f\"Auto-Sklearn Classifier performance is {performance_askl}\")"
      ]
    },
    {
      "cell_type": "markdown",
      "metadata": {
        "id": "Rrkki5vMrFun"
      },
      "source": [
        "- 별도의 튜닝없이도 괜찮은 성능의 모델을 만들어볼 수 있었습니다. \n",
        "\n",
        "- auto-sklearn을 돌려서 나온 결과를 좀더 자세히 살펴보겠습니다."
      ]
    },
    {
      "cell_type": "code",
      "execution_count": null,
      "metadata": {
        "id": "gLgSrQ-hq9Gb"
      },
      "outputs": [],
      "source": [
        "print(estimator_askl.sprint_statistics())"
      ]
    },
    {
      "cell_type": "code",
      "execution_count": null,
      "metadata": {
        "id": "ryte32Rlq9I2"
      },
      "outputs": [],
      "source": [
        "estimator_askl.leaderboard()"
      ]
    },
    {
      "cell_type": "markdown",
      "metadata": {
        "id": "D5NBo4DcrbwB"
      },
      "source": [
        "- auto-sklearn이 sklearn을 완벽히 대체할 silver bullet 이라 생각하지는 않습니다. \n",
        "\n",
        "- 하지만 auto-sklearn은 scikit-learn 사용자들이 적당한 성능을 빠른 시간에 얻기 위해 고려해볼만한 좋은 후보라고 생각합니다. "
      ]
    },
    {
      "cell_type": "markdown",
      "metadata": {
        "id": "iWnQdVixtXJm"
      },
      "source": [
        "###8. TPOT(https://epistasislab.github.io/tpot/)\n",
        "\n",
        "- Python에서 AutoML을 수행하기위한 오픈 소스 라이브러리\n",
        "\n",
        "- 데이터 변환 및 기계 학습 알고리즘에 인기있는 Scikit-Learn 기계 학습 라이브러리를 사용\n",
        "\n",
        "- 유전 프로그래밍 확률 적 글로벌 검색 절차를 사용\n",
        "\n",
        "- 주어진 데이터 세트에 대한 최고 성능의 모델 파이프 라인을 효율적으로 검색\n",
        "\n",
        "<img src='https://img1.daumcdn.net/thumb/R1280x0/?scode=mtistory2&fname=https%3A%2F%2Fblog.kakaocdn.net%2Fdn%2Fn5XGo%2Fbtq3yKfzKjO%2FY7C6WkOIfdnYqTAv0ckgxk%2Fimg.png'>"
      ]
    },
    {
      "cell_type": "markdown",
      "metadata": {
        "id": "6N9s-PB2u-lk"
      },
      "source": [
        "- TPOT tutorial on the Titanic dataset\n",
        "    - The Titanic machine learning competition on Kaggle is one of the most popular beginner's competitions on the platform. We will use that competition here to demonstrate the implementation of TPOT."
      ]
    },
    {
      "cell_type": "code",
      "execution_count": null,
      "metadata": {
        "id": "U7uDd1hR7uVx"
      },
      "outputs": [],
      "source": [
        "import pandas as pd\n",
        "import numpy as np"
      ]
    },
    {
      "cell_type": "code",
      "execution_count": null,
      "metadata": {
        "id": "iJA8x-9N7YKV"
      },
      "outputs": [],
      "source": [
        "telescope_data=pd.read_csv('https://archive.ics.uci.edu/ml/machine-learning-databases/magic/magic04.data',header=None)"
      ]
    },
    {
      "cell_type": "code",
      "execution_count": null,
      "metadata": {
        "id": "kMN6Qxe_7wPv"
      },
      "outputs": [],
      "source": [
        "telescope_data.head()"
      ]
    },
    {
      "cell_type": "code",
      "execution_count": null,
      "metadata": {
        "id": "UsyS5MVB7wxw"
      },
      "outputs": [],
      "source": [
        "telescope_data.columns = ['fLength', 'fWidth','fSize','fConc','fConcl','fAsym','fM3Long','fM3Trans','fAlpha','fDist','class']"
      ]
    },
    {
      "cell_type": "code",
      "execution_count": null,
      "metadata": {
        "id": "ertytRIp7wz5"
      },
      "outputs": [],
      "source": [
        "telescope_data.head()"
      ]
    },
    {
      "cell_type": "code",
      "execution_count": null,
      "metadata": {
        "id": "HRpODo407w1_"
      },
      "outputs": [],
      "source": [
        "telescope_data.info()"
      ]
    },
    {
      "cell_type": "code",
      "execution_count": null,
      "metadata": {
        "id": "iDSPlL977w4E"
      },
      "outputs": [],
      "source": [
        "telescope_data.describe()"
      ]
    },
    {
      "cell_type": "code",
      "execution_count": null,
      "metadata": {
        "id": "kO0mWaLP70Zn"
      },
      "outputs": [],
      "source": [
        "telescope_data['class'].value_counts()"
      ]
    },
    {
      "cell_type": "code",
      "execution_count": null,
      "metadata": {
        "id": "4B6ae_ZI70b-"
      },
      "outputs": [],
      "source": [
        "telescope_shuffle=telescope_data.iloc[np.random.permutation(len(telescope_data))]\n",
        "tele=telescope_shuffle.reset_index(drop=True)\n",
        "tele.head()"
      ]
    },
    {
      "cell_type": "code",
      "execution_count": null,
      "metadata": {
        "id": "pS_9S3yA70eQ"
      },
      "outputs": [],
      "source": [
        "tele['class']=tele['class'].map({'g':0,'h':1})\n",
        "\n",
        "tele.head()"
      ]
    },
    {
      "cell_type": "code",
      "execution_count": null,
      "metadata": {
        "id": "LbmXmHJe7w6Y"
      },
      "outputs": [],
      "source": [
        "tele_class = tele['class'].values"
      ]
    },
    {
      "cell_type": "code",
      "execution_count": null,
      "metadata": {
        "id": "x7rey5gk8DeL"
      },
      "outputs": [],
      "source": [
        "pd.isnull(tele).any()"
      ]
    },
    {
      "cell_type": "code",
      "execution_count": null,
      "metadata": {
        "id": "4I7KDt_88DgT"
      },
      "outputs": [],
      "source": [
        "tele = tele.fillna(-999)"
      ]
    },
    {
      "cell_type": "code",
      "execution_count": null,
      "metadata": {
        "id": "9N2b3AUi8Dio"
      },
      "outputs": [],
      "source": [
        "from sklearn.model_selection import train_test_split\n",
        "training_indices, validation_indices = training_indices, testing_indices = train_test_split(tele.index,\n",
        "                                                                                            stratify = tele_class,\n",
        "                                                                                            train_size=0.75, test_size=0.25)"
      ]
    },
    {
      "cell_type": "code",
      "execution_count": null,
      "metadata": {
        "id": "_AkwM6478Dkn"
      },
      "outputs": [],
      "source": [
        "from tpot import TPOTClassifier\n",
        "from tpot import TPOTRegressor\n",
        "\n",
        "tpot = TPOTClassifier(generations=5,verbosity=2) \n",
        "\n",
        "tpot.fit(tele.drop('class',axis=1).loc[training_indices].values,\n",
        "         tele.loc[training_indices,'class'].values)"
      ]
    },
    {
      "cell_type": "code",
      "execution_count": null,
      "metadata": {
        "id": "kV3SKp7l8bWq"
      },
      "outputs": [],
      "source": [
        "tpot.score(tele.drop('class',axis=1).loc[validation_indices].values,\n",
        "           tele.loc[validation_indices, 'class'].values)"
      ]
    },
    {
      "cell_type": "code",
      "execution_count": null,
      "metadata": {
        "id": "-OzjvlIC8cvE"
      },
      "outputs": [],
      "source": [
        "tpot.export('tpot_MAGIC_Gamma_Telescope_pipeline.py')"
      ]
    },
    {
      "cell_type": "markdown",
      "metadata": {
        "id": "Wf1hYALW8xxP"
      },
      "source": [
        "### 9. H2O\n",
        "\n",
        "- h2o는 java 기반의 머신러닝/AI 플랫폼인데요.\n",
        "\n",
        "- 드라이버가 필요없이 간단한 설정만으로 인공지능을 학습하고 예측할 수 있는 소프트웨어\n",
        "\n",
        "- 인공지능에 대한 지식이 부족하여도 좋은 모델을 누구나 이용할 수 있는 소프트웨어가 개발되었음.\n"
      ]
    },
    {
      "cell_type": "code",
      "execution_count": null,
      "metadata": {
        "id": "JxtiOWZx848d"
      },
      "outputs": [],
      "source": [
        "!pip install h2o\n",
        "import h2o"
      ]
    },
    {
      "cell_type": "markdown",
      "metadata": {
        "id": "RJ1l0xjS88Nw"
      },
      "source": [
        "- 다음으로, H2O 클러스터를 시작합니다."
      ]
    },
    {
      "cell_type": "markdown",
      "metadata": {
        "id": "Zibmi8AY8-h8"
      },
      "source": [
        "- 이제 타이타닉 데이터셋을 로드하고, H2O 데이터 프레임으로 변환합니다. 그리고 outcome variable을 지정합니다."
      ]
    },
    {
      "cell_type": "code",
      "execution_count": null,
      "metadata": {
        "id": "rtxlMHIO84-f"
      },
      "outputs": [],
      "source": [
        "h2o.init()"
      ]
    },
    {
      "cell_type": "code",
      "execution_count": null,
      "metadata": {
        "id": "zyPp-VeI9Bgm"
      },
      "outputs": [],
      "source": [
        "titanic_df = h2o.import_file(\"https://raw.githubusercontent.com/datasciencedojo/datasets/master/titanic.csv\")\n",
        "titanic_df[\"Survived\"] = titanic_df[\"Survived\"].asfactor()"
      ]
    },
    {
      "cell_type": "code",
      "execution_count": null,
      "metadata": {
        "id": "dffjKcjm9Bit"
      },
      "outputs": [],
      "source": [
        "train, test = titanic_df.split_frame(ratios=[0.8], seed=1)"
      ]
    },
    {
      "cell_type": "markdown",
      "metadata": {
        "id": "iWIWTRuG9Fve"
      },
      "source": [
        "- 이제 H2O AutoML을 실행하여 최상의 모델을 생성함."
      ]
    },
    {
      "cell_type": "code",
      "execution_count": null,
      "metadata": {
        "id": "RJi1ZM4D9Bk5"
      },
      "outputs": [],
      "source": [
        "from h2o.automl import H2OAutoML\n",
        "\n",
        "aml = H2OAutoML(max_runtime_secs=30, seed=1)\n",
        "aml.train(y=\"Survived\", training_frame=train)"
      ]
    },
    {
      "cell_type": "markdown",
      "metadata": {
        "id": "xsaSag8I9kdP"
      },
      "source": [
        "- 모델링이 완료되면, AutoML 리더보드를 확인하여 모델의 성능을 비교할 수 있습니다."
      ]
    },
    {
      "cell_type": "code",
      "execution_count": null,
      "metadata": {
        "id": "6sx9I8Bb9ldc"
      },
      "outputs": [],
      "source": [
        "aml.leaderboard.head()"
      ]
    },
    {
      "cell_type": "markdown",
      "metadata": {
        "id": "fN2HtrMm9mtl"
      },
      "source": [
        "- 가장 성능이 좋은 모델을 선택하고 test 데이터셋에서 모델의 성능을 평가합니다."
      ]
    },
    {
      "cell_type": "code",
      "execution_count": null,
      "metadata": {
        "id": "RHR_5Bif9oqL"
      },
      "outputs": [],
      "source": [
        "best_model = aml.leader\n",
        "predictions = best_model.predict(test)"
      ]
    },
    {
      "cell_type": "markdown",
      "metadata": {
        "id": "Km96J6YZ9uQV"
      },
      "source": [
        "이 밖에 AutoML을 할 수 있는 라이브러리들은 다양하게 존재합니다:\n",
        "\n",
        "- TPOT\n",
        "- FLAML\n",
        "- EvalML\n",
        "- AutoKeras\n",
        "- Auto-ViML\n",
        "- AutoGluon\n",
        "- MLBox"
      ]
    },
    {
      "cell_type": "markdown",
      "metadata": {
        "id": "cjJOfaXb-YY6"
      },
      "source": [
        "[Hyperparam Tuning & AutoML](https://www.kaggle.com/code/sudalairajkumar/hyperparam-tuning-automl)"
      ]
    },
    {
      "cell_type": "markdown",
      "metadata": {
        "id": "LXMue7hEXHpA"
      },
      "source": [
        "참고) \n",
        "\n",
        "### Numba\n",
        " - Python 및 Numpy 코드의 하위 집합을 빠른 기계 코드로 변환하는 오픈소스 Jit 컴파일러.\n",
        "\n",
        " - Just In Time 컴파일러를 사용해 파이썬 코드 내에서 일반 코드 및 Numpy를 아주 빠른 속도로 처리 가능한 기능을 제공."
      ]
    },
    {
      "cell_type": "markdown",
      "metadata": {
        "id": "9kIyoPXvn0if"
      },
      "source": [
        "- 공식문서에 설명\n",
        "    - Numba makes Python code fast.\n",
        "    - Numba is an open source JIT compiler that translates a subset of Python and NumPy code into fast machine code."
      ]
    },
    {
      "cell_type": "markdown",
      "metadata": {
        "id": "d1t_QtqdoIQC"
      },
      "source": [
        "- Numbda 작동원리\n",
        "    - 데커레이팅된 함수에 대한 파이썬 bytecode를 읽고 이를 함수의 입력 인수 유형에 대한 정보와 결합한다,.\n",
        "    - 코드를 분석하고 최적화한 후, LLVM compiler library를 사용하여 함수의 machine code 버전을 만들고, 이를 사용자의 CPU 능력에 맞춤.\n",
        "    - 이 complied된 버전이 앞으로 그 함수를 호출할 때마다 사용된다.\n",
        "\n",
        "- Numbda 모듈이 모든 파이썬 코드를 최적화 해주는 것은 아니다. 일부 파이썬 코드와 Numpy 대해서만 작동하며 다른 모듈을 이용한 코드를 최적화 시켜주지는 못한다. ex)Numbda는 Pandas를 이해하지 못함. 특정 목적에 따라 충분히 활용할 수 있는 가치가 있는 모듈."
      ]
    },
    {
      "cell_type": "code",
      "execution_count": null,
      "metadata": {
        "id": "bfiOI_ASn2v4"
      },
      "outputs": [],
      "source": [
        "from time import perf_counter\n",
        "from numba import jit\n",
        "\n",
        "# 일반적인 loop\n",
        "def pure_sum(n):\n",
        "    result = 0\n",
        "    for i in range(0, n+1):\n",
        "        result += i\n",
        "    return result\n",
        "\n",
        "# Numba 모듈 사용\n",
        "@jit(nopython=True, cache=True)\n",
        "def numba_sum(n):\n",
        "    result = 0\n",
        "    for i in range(0, n+1):\n",
        "        result += i\n",
        "    return result\n",
        "\n",
        "# 시간 재기: 일반\n",
        "start = perf_counter()\n",
        "pure_sum(100000000)\n",
        "print(perf_counter() - start)\n",
        "\n",
        "# 시간 재기에 앞서 먼저 Compile을 해준다.\n",
        "numba_sum(1)\n",
        "\n",
        "# 시간 재기: Numba\n",
        "start = perf_counter()\n",
        "numba_sum(100000000)\n",
        "print(perf_counter() - start)"
      ]
    },
    {
      "cell_type": "markdown",
      "metadata": {
        "id": "hTIBibfDourG"
      },
      "source": [
        "- @jit 데커레이터의 모드\n",
        "    - @jit 데커레이터는 nopython과 object라는 2가지 compilation 모드로 작동한다.\n",
        "    - 위 예제에서 nopython=True를 통해 Numba에게 nopython 모드로 작동하라고 지시한 셈인데, 이 모드는 decorate된 function을 근본적으로 compile하여 Python Interpreter의 개입 없이 전체가 작동하도록 한다.\n",
        "    - 만약 nopython 모드가 잘 작동하지 않을 경우, Numba은 object 모드를 통해 compile 할 수 있다. @jit(nopython=True)가 아닌 @jit이라고만 데커레이팅하면 이 모드가 작동하게 된다.\n",
        "    - 본 모드에서는 Numba은 loop를 식별하여 machine code에서 compile하며 나머지는 Intereter code에서 compile하게 된다. 더 나은 성능을 기대한다면 이 모드가 아닌 nopython 모드를 사용해야 한다. \n",
        "    "
      ]
    }
  ],
  "metadata": {
    "colab": {
      "private_outputs": true,
      "provenance": []
    },
    "kernelspec": {
      "display_name": "torch-gpu",
      "language": "python",
      "name": "torch"
    },
    "language_info": {
      "codemirror_mode": {
        "name": "ipython",
        "version": 3
      },
      "file_extension": ".py",
      "mimetype": "text/x-python",
      "name": "python",
      "nbconvert_exporter": "python",
      "pygments_lexer": "ipython3",
      "version": "3.10.14"
    }
  },
  "nbformat": 4,
  "nbformat_minor": 0
}
