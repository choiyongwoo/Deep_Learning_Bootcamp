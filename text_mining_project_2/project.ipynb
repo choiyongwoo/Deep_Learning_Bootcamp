{
 "cells": [
  {
   "cell_type": "code",
   "execution_count": 1,
   "metadata": {},
   "outputs": [
    {
     "data": {
      "text/plain": [
       "'c:\\\\Users\\\\USER\\\\AppData\\\\Local\\\\Programs\\\\Microsoft VS Code'"
      ]
     },
     "execution_count": 1,
     "metadata": {},
     "output_type": "execute_result"
    }
   ],
   "source": [
    "pwd"
   ]
  },
  {
   "cell_type": "code",
   "execution_count": null,
   "metadata": {},
   "outputs": [],
   "source": [
    "cd "
   ]
  },
  {
   "cell_type": "code",
   "execution_count": 78,
   "metadata": {},
   "outputs": [
    {
     "data": {
      "text/plain": [
       "3"
      ]
     },
     "execution_count": 78,
     "metadata": {},
     "output_type": "execute_result"
    }
   ],
   "source": [
    "import json\n",
    "\n",
    "\n",
    "\n",
    "with open('C:/Users/USER/Downloads/문서요약 텍스트/Validation/신문기사_valid_original/valid_original.json','r') as f:\n",
    "    json_data= json.load(f)\n",
    "\n",
    "len(json_data)"
   ]
  },
  {
   "cell_type": "code",
   "execution_count": 79,
   "metadata": {},
   "outputs": [
    {
     "data": {
      "text/plain": [
       "{'index': 0,\n",
       " 'sentence': '[ 박재원 기자 ] \\'대한민국 5G 홍보대사\\'를 자처한 문재인 대통령은 \"넓고, 체증 없는 \\'통신 고속도로\\'가 5G\"라며 \"대한민국의 대전환이 이제 막 시작됐다\"고 기대감을 높였다.',\n",
       " 'highlight_indices': '80,82'}"
      ]
     },
     "execution_count": 79,
     "metadata": {},
     "output_type": "execute_result"
    }
   ],
   "source": [
    "json_data['documents'][0]['text'][0][0]"
   ]
  },
  {
   "cell_type": "code",
   "execution_count": 80,
   "metadata": {},
   "outputs": [],
   "source": [
    "import re\n",
    "def make_documents(json_data):\n",
    "    documents = []\n",
    "    summary = []\n",
    "    for document in json_data['documents']:\n",
    "        one_document = ''\n",
    "        summary.append(re.sub('[^ㄱ-ㅎㅏ-ㅣ가-힣a-zA-Z0-9 ]','',document['abstractive'][0]))\n",
    "        for sentences in document['text']:\n",
    "            # 비어있는 리스트인지 확인\n",
    "            if sentences:  # sentences 리스트가 비어있지 않다면\n",
    "                if '@' not in sentences[0]['sentence'] and '기자' not in sentences[0]['sentence']:\n",
    "                    one_document += '\\n' + sentences[0]['sentence']\n",
    "        documents.append(re.sub('[^ㄱ-ㅎㅏ-ㅣ가-힣a-zA-Z0-9 ]','', one_document.strip()))  # strip()을 사용하여 맨 앞의 줄바꿈 문자를 제거\n",
    "    return documents, summary"
   ]
  },
  {
   "cell_type": "code",
   "execution_count": 81,
   "metadata": {},
   "outputs": [],
   "source": [
    "documents, summary= make_documents(json_data)\n"
   ]
  },
  {
   "cell_type": "code",
   "execution_count": 82,
   "metadata": {},
   "outputs": [],
   "source": [
    "import pandas as pd\n",
    "\n",
    "docu_summ_df= pd.DataFrame(data=list(zip(documents, summary)), columns=['documents','summary'])"
   ]
  },
  {
   "cell_type": "code",
   "execution_count": 83,
   "metadata": {},
   "outputs": [
    {
     "data": {
      "text/html": [
       "<div>\n",
       "<style scoped>\n",
       "    .dataframe tbody tr th:only-of-type {\n",
       "        vertical-align: middle;\n",
       "    }\n",
       "\n",
       "    .dataframe tbody tr th {\n",
       "        vertical-align: top;\n",
       "    }\n",
       "\n",
       "    .dataframe thead th {\n",
       "        text-align: right;\n",
       "    }\n",
       "</style>\n",
       "<table border=\"1\" class=\"dataframe\">\n",
       "  <thead>\n",
       "    <tr style=\"text-align: right;\">\n",
       "      <th></th>\n",
       "      <th>documents</th>\n",
       "      <th>summary</th>\n",
       "    </tr>\n",
       "  </thead>\n",
       "  <tbody>\n",
       "    <tr>\n",
       "      <th>0</th>\n",
       "      <td>문 대통령은 8일 서울 올림픽공원에서 열린 5G플러스 전략발표에 참석해 5G 시대는...</td>\n",
       "      <td>8일 서울에서 열린 5G플러스 전략발표에 참석한 문재인 대통령은 5G는 대한민국 혁...</td>\n",
       "    </tr>\n",
       "    <tr>\n",
       "      <th>1</th>\n",
       "      <td>당 지도부 퇴진을 놓고 바른미래당 내홍이 격화되고 있다바른미래당이 8일 연 최고위...</td>\n",
       "      <td>8일 바른미래당 최고의원 회의에 하태경 의원 등 5명의 최고의원이 지도부 퇴진을 요...</td>\n",
       "    </tr>\n",
       "    <tr>\n",
       "      <th>2</th>\n",
       "      <td>무대에 마련된 초고화질4K UHD 대형 스크린에서 국악기와 양악기가 함께 연주하는 ...</td>\n",
       "      <td>지난 3일 한국이 세계 첫 5세대 이동통신 서비스를 보편화한 것을 축하하는 코리안 ...</td>\n",
       "    </tr>\n",
       "    <tr>\n",
       "      <th>3</th>\n",
       "      <td>박원순 서울시장사진이 8일 고층 재개발재건축 관련 요구에 작심한 듯 쓴소리를 쏟아...</td>\n",
       "      <td>박원순 서울시장은 8일 서울시청에서 열린 골목길 재생 시민 정책 대화에 참석하여 고...</td>\n",
       "    </tr>\n",
       "    <tr>\n",
       "      <th>4</th>\n",
       "      <td>기업 지배구조 개선 등을 통해 높은 수익률을 올리는 것을 목표로 하는 공모펀드 KB...</td>\n",
       "      <td>주주가치 포커스를 운용하는 KB자산운용이  SK와 알파벳구글 지주회사의 모범적 지배...</td>\n",
       "    </tr>\n",
       "    <tr>\n",
       "      <th>...</th>\n",
       "      <td>...</td>\n",
       "      <td>...</td>\n",
       "    </tr>\n",
       "    <tr>\n",
       "      <th>30117</th>\n",
       "      <td>영주시는 이억만리에서 건너온 계절근로자들의 향수를 달래고 안정된 한국생활 적응을 돕...</td>\n",
       "      <td>영주시는 외국인 근로자들의 향수를 달래고 안정적인 한국생활 적응을 지원하기 위해 베...</td>\n",
       "    </tr>\n",
       "    <tr>\n",
       "      <th>30118</th>\n",
       "      <td>여름 방학을 맞아 전국의 국립과학관에서 달 탐사 50주년과 국제천문연맹IAU 설립 ...</td>\n",
       "      <td>달 탐사 50주년과 국제천문연맹IAU설립 100주년 기념하는 특별전시가 전국의 국립...</td>\n",
       "    </tr>\n",
       "    <tr>\n",
       "      <th>30119</th>\n",
       "      <td>영주문경예천 당원협의회 시국강연 및 당원교육에 참석차 영주를 방문한 황교안오른쪽 자...</td>\n",
       "      <td>황교안 대표는 지난 29일 자유한국당 대표로 경북 영주문경예청 당원협의회 당원교육에...</td>\n",
       "    </tr>\n",
       "    <tr>\n",
       "      <th>30120</th>\n",
       "      <td>경북예천군은 장기적인 국내 경기침체가 지속됨에 따라 사회적경제 기업 육성 등을 통한...</td>\n",
       "      <td>경북예천군은 사회적경제 기업 육성 등을 통한 일자리 창출에 행정동력을 집중한 결과 ...</td>\n",
       "    </tr>\n",
       "    <tr>\n",
       "      <th>30121</th>\n",
       "      <td>3기 신도시 등 수도권 30만 가구 공급 계획이 7월 의왕 청계2 성남 신촌 등 공...</td>\n",
       "      <td>국토교통부에 따르면 의왕 청계2 성남 신총 등 4개 지구가 중앙도시계획위 심의를 통...</td>\n",
       "    </tr>\n",
       "  </tbody>\n",
       "</table>\n",
       "<p>30122 rows × 2 columns</p>\n",
       "</div>"
      ],
      "text/plain": [
       "                                               documents  \\\n",
       "0      문 대통령은 8일 서울 올림픽공원에서 열린 5G플러스 전략발표에 참석해 5G 시대는...   \n",
       "1       당 지도부 퇴진을 놓고 바른미래당 내홍이 격화되고 있다바른미래당이 8일 연 최고위...   \n",
       "2      무대에 마련된 초고화질4K UHD 대형 스크린에서 국악기와 양악기가 함께 연주하는 ...   \n",
       "3       박원순 서울시장사진이 8일 고층 재개발재건축 관련 요구에 작심한 듯 쓴소리를 쏟아...   \n",
       "4      기업 지배구조 개선 등을 통해 높은 수익률을 올리는 것을 목표로 하는 공모펀드 KB...   \n",
       "...                                                  ...   \n",
       "30117  영주시는 이억만리에서 건너온 계절근로자들의 향수를 달래고 안정된 한국생활 적응을 돕...   \n",
       "30118  여름 방학을 맞아 전국의 국립과학관에서 달 탐사 50주년과 국제천문연맹IAU 설립 ...   \n",
       "30119  영주문경예천 당원협의회 시국강연 및 당원교육에 참석차 영주를 방문한 황교안오른쪽 자...   \n",
       "30120  경북예천군은 장기적인 국내 경기침체가 지속됨에 따라 사회적경제 기업 육성 등을 통한...   \n",
       "30121  3기 신도시 등 수도권 30만 가구 공급 계획이 7월 의왕 청계2 성남 신촌 등 공...   \n",
       "\n",
       "                                                 summary  \n",
       "0      8일 서울에서 열린 5G플러스 전략발표에 참석한 문재인 대통령은 5G는 대한민국 혁...  \n",
       "1      8일 바른미래당 최고의원 회의에 하태경 의원 등 5명의 최고의원이 지도부 퇴진을 요...  \n",
       "2      지난 3일 한국이 세계 첫 5세대 이동통신 서비스를 보편화한 것을 축하하는 코리안 ...  \n",
       "3      박원순 서울시장은 8일 서울시청에서 열린 골목길 재생 시민 정책 대화에 참석하여 고...  \n",
       "4      주주가치 포커스를 운용하는 KB자산운용이  SK와 알파벳구글 지주회사의 모범적 지배...  \n",
       "...                                                  ...  \n",
       "30117  영주시는 외국인 근로자들의 향수를 달래고 안정적인 한국생활 적응을 지원하기 위해 베...  \n",
       "30118  달 탐사 50주년과 국제천문연맹IAU설립 100주년 기념하는 특별전시가 전국의 국립...  \n",
       "30119  황교안 대표는 지난 29일 자유한국당 대표로 경북 영주문경예청 당원협의회 당원교육에...  \n",
       "30120  경북예천군은 사회적경제 기업 육성 등을 통한 일자리 창출에 행정동력을 집중한 결과 ...  \n",
       "30121  국토교통부에 따르면 의왕 청계2 성남 신총 등 4개 지구가 중앙도시계획위 심의를 통...  \n",
       "\n",
       "[30122 rows x 2 columns]"
      ]
     },
     "execution_count": 83,
     "metadata": {},
     "output_type": "execute_result"
    }
   ],
   "source": [
    "docu_summ_df\n"
   ]
  },
  {
   "cell_type": "code",
   "execution_count": 84,
   "metadata": {},
   "outputs": [],
   "source": [
    "import os\n",
    "os.chdir('C:/Users/USER/Downloads/KoBART-summarization-main/KoBART-summarization-main')"
   ]
  },
  {
   "cell_type": "code",
   "execution_count": 85,
   "metadata": {},
   "outputs": [
    {
     "data": {
      "text/plain": [
       "'C:/Users/USER/Downloads/KoBART-summarization-main/KoBART-summarization-main/data/test.tsv'"
      ]
     },
     "execution_count": 85,
     "metadata": {},
     "output_type": "execute_result"
    }
   ],
   "source": [
    "import shutil\n",
    "\n",
    "docu_summ_df.to_csv('test.tsv', sep='\\t', encoding=\"utf-8\", index=False)\n",
    "\n",
    "# 원본 파일 경로\n",
    "source_file = 'C:/Users/USER/Downloads/KoBART-summarization-main/KoBART-summarization-main/test.tsv'\n",
    "# 이동할 위치의 폴더 경로\n",
    "destination_folder = 'C:/Users/USER/Downloads/KoBART-summarization-main/KoBART-summarization-main/data/test.tsv'\n",
    "# 파일 이동\n",
    "shutil.copyfile(source_file, destination_folder)"
   ]
  },
  {
   "cell_type": "code",
   "execution_count": null,
   "metadata": {},
   "outputs": [],
   "source": []
  }
 ],
 "metadata": {
  "kernelspec": {
   "display_name": "torch",
   "language": "python",
   "name": "python3"
  },
  "language_info": {
   "codemirror_mode": {
    "name": "ipython",
    "version": 3
   },
   "file_extension": ".py",
   "mimetype": "text/x-python",
   "name": "python",
   "nbconvert_exporter": "python",
   "pygments_lexer": "ipython3",
   "version": "3.10.12"
  }
 },
 "nbformat": 4,
 "nbformat_minor": 2
}
