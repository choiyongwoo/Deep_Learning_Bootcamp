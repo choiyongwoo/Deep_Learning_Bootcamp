{
 "cells": [
  {
   "cell_type": "code",
   "execution_count": 1,
   "metadata": {},
   "outputs": [
    {
     "data": {
      "text/plain": [
       "'c:\\\\Users\\\\USER\\\\AppData\\\\Local\\\\Programs\\\\Microsoft VS Code'"
      ]
     },
     "execution_count": 1,
     "metadata": {},
     "output_type": "execute_result"
    }
   ],
   "source": [
    "pwd"
   ]
  },
  {
   "cell_type": "code",
   "execution_count": 6,
   "metadata": {},
   "outputs": [
    {
     "data": {
      "text/plain": [
       "'c:\\\\Users\\\\chldy\\\\OneDrive\\\\바탕 화면\\\\용용\\\\딥러닝 부트캠프\\\\text_mining_project_2'"
      ]
     },
     "execution_count": 6,
     "metadata": {},
     "output_type": "execute_result"
    }
   ],
   "source": [
    "pwd"
   ]
  },
  {
   "cell_type": "code",
   "execution_count": 108,
   "metadata": {},
   "outputs": [
    {
     "data": {
      "text/plain": [
       "['C:/Users/chldy/Downloads/한국어 대화 요약/Validation\\\\[라벨]한국어대화요약_valid\\\\[라벨]한국어대화요약_valid\\\\개인및관계.json',\n",
       " 'C:/Users/chldy/Downloads/한국어 대화 요약/Validation\\\\[라벨]한국어대화요약_valid\\\\[라벨]한국어대화요약_valid\\\\미용과건강.json',\n",
       " 'C:/Users/chldy/Downloads/한국어 대화 요약/Validation\\\\[라벨]한국어대화요약_valid\\\\[라벨]한국어대화요약_valid\\\\상거래(쇼핑).json',\n",
       " 'C:/Users/chldy/Downloads/한국어 대화 요약/Validation\\\\[라벨]한국어대화요약_valid\\\\[라벨]한국어대화요약_valid\\\\시사교육.json',\n",
       " 'C:/Users/chldy/Downloads/한국어 대화 요약/Validation\\\\[라벨]한국어대화요약_valid\\\\[라벨]한국어대화요약_valid\\\\식음료.json',\n",
       " 'C:/Users/chldy/Downloads/한국어 대화 요약/Validation\\\\[라벨]한국어대화요약_valid\\\\[라벨]한국어대화요약_valid\\\\여가생활.json',\n",
       " 'C:/Users/chldy/Downloads/한국어 대화 요약/Validation\\\\[라벨]한국어대화요약_valid\\\\[라벨]한국어대화요약_valid\\\\일과직업.json',\n",
       " 'C:/Users/chldy/Downloads/한국어 대화 요약/Validation\\\\[라벨]한국어대화요약_valid\\\\[라벨]한국어대화요약_valid\\\\주거와생활.json',\n",
       " 'C:/Users/chldy/Downloads/한국어 대화 요약/Validation\\\\[라벨]한국어대화요약_valid\\\\[라벨]한국어대화요약_valid\\\\행사.json']"
      ]
     },
     "execution_count": 108,
     "metadata": {},
     "output_type": "execute_result"
    }
   ],
   "source": [
    "import glob\n",
    "\n",
    "file_list= glob.glob('C:/Users/chldy/Downloads/한국어 대화 요약/Validation/[[]라벨[]]한국어대화요약_valid/[[]라벨[]]한국어대화요약_valid/*.json')\n",
    "file_list"
   ]
  },
  {
   "cell_type": "code",
   "execution_count": 109,
   "metadata": {},
   "outputs": [],
   "source": [
    "import json\n",
    "import re\n",
    "import pandas as pd\n",
    "\n",
    "def data_load(file):\n",
    "\n",
    "\n",
    "    with open(file,'r') as f:\n",
    "        json_data= json.load(f)\n",
    "\n",
    "\n",
    "    documents = []\n",
    "    summary = []\n",
    "    for document in json_data['data']:\n",
    "        one_document = ''\n",
    "        summary.append(re.sub('[^ㄱ-ㅎㅏ-ㅣ가-힣a-zA-Z0-9 ]','',document['body']['summary']))\n",
    "        for sentence in document['body']['dialogue']:\n",
    "            # 비어있는 리스트인지 확인\n",
    "            if sentence:  # sentences 리스트가 비어있지 않다면\n",
    "                one_document += ' ' + sentence['utterance']\n",
    "        documents.append(re.sub('[^ㄱ-ㅎㅏ-ㅣ가-힣a-zA-Z0-9 ]','', one_document.strip()))  # strip()을 사용하여 맨 앞의 줄바꿈 문자를 제거\n",
    "    docu_summ_df= pd.DataFrame(data=list(zip(documents, summary)), columns=['documents','summary'])\n",
    "    return docu_summ_df\n"
   ]
  },
  {
   "cell_type": "code",
   "execution_count": 110,
   "metadata": {},
   "outputs": [],
   "source": [
    "df_list=[]\n",
    "\n",
    "for file in file_list:\n",
    "    df= data_load(file)\n",
    "    df_list.append(df)"
   ]
  },
  {
   "cell_type": "code",
   "execution_count": 111,
   "metadata": {},
   "outputs": [
    {
     "data": {
      "text/html": [
       "<div>\n",
       "<style scoped>\n",
       "    .dataframe tbody tr th:only-of-type {\n",
       "        vertical-align: middle;\n",
       "    }\n",
       "\n",
       "    .dataframe tbody tr th {\n",
       "        vertical-align: top;\n",
       "    }\n",
       "\n",
       "    .dataframe thead th {\n",
       "        text-align: right;\n",
       "    }\n",
       "</style>\n",
       "<table border=\"1\" class=\"dataframe\">\n",
       "  <thead>\n",
       "    <tr style=\"text-align: right;\">\n",
       "      <th></th>\n",
       "      <th>documents</th>\n",
       "      <th>summary</th>\n",
       "    </tr>\n",
       "  </thead>\n",
       "  <tbody>\n",
       "    <tr>\n",
       "      <th>0</th>\n",
       "      <td>아직 엄마를 못하니까 그러지 엄마해 오 진짜 이모티콘우와 엄마한지 좀 됐는데 그럼그...</td>\n",
       "      <td>기분 좋을 때는 아빠 급하거나 울 때는 엄마라고 한다</td>\n",
       "    </tr>\n",
       "    <tr>\n",
       "      <th>1</th>\n",
       "      <td>오늘 바로 딥갔어 아님 놀았니 집갔앙 쉬었니 잘 아닝 왜 그냥 누워서 멍 때렸어 근...</td>\n",
       "      <td>오늘 바로 집에 갔지만 잘 쉬지는 못했다</td>\n",
       "    </tr>\n",
       "    <tr>\n",
       "      <th>2</th>\n",
       "      <td>ㅋㅋㅋ남동생이랑 이야기해서 싸운거야 여자친구 생겼어 이름ㅋㅋㅋㅋ 프사 보면 생긴고같...</td>\n",
       "      <td>프로필 사진프사을 보니 여자친구가 생긴 것 같고 동생이 싫다고 이야기한다</td>\n",
       "    </tr>\n",
       "    <tr>\n",
       "      <th>3</th>\n",
       "      <td>나 잘생긴 사람 만나고 싶다 어디가야 잘생긴 놈 있나 알려주라 충재씨가 아주 맘에 ...</td>\n",
       "      <td>충재 씨가 요즘 마음에 들어 잘 생긴 남자가 만나고 싶고 까탈스럽게 좋은 사람을 만...</td>\n",
       "    </tr>\n",
       "    <tr>\n",
       "      <th>4</th>\n",
       "      <td>내뒤에어떤할아버지가 계속서서 이상한 소리내 진짜무서워 무슨 장애인인가 틱인가 너무무...</td>\n",
       "      <td>뒤에 있는 할아버지가 이상한 소리를 내서 무섭다고 했다</td>\n",
       "    </tr>\n",
       "    <tr>\n",
       "      <th>...</th>\n",
       "      <td>...</td>\n",
       "      <td>...</td>\n",
       "    </tr>\n",
       "    <tr>\n",
       "      <th>8887</th>\n",
       "      <td>여보는 이름랑 놀아 이름 안놀아주고ㅠ먄날 내옆에 누워있는다니까 여보가 놀아줘야지 이...</td>\n",
       "      <td>루루는 안 놀아주고 맨날 내 옆에 누워 있다</td>\n",
       "    </tr>\n",
       "    <tr>\n",
       "      <th>8888</th>\n",
       "      <td>이름짱 잘지내나 잘 지내고 있다 이제 추석 한달 남았네 ㅎㅎ 구니깐 시스템사진 난 ...</td>\n",
       "      <td>추석이 한 달 남았는데 잘 지내는지 묻고 급성 장염에 걸려 4일 동안 죽도록 아팠다...</td>\n",
       "    </tr>\n",
       "    <tr>\n",
       "      <th>8889</th>\n",
       "      <td>나 미쳐서 곧 케익사러 갈것큨 않이 블루베라ㅣ 쉬폰 없대 못먹었긔 ㅜㅜㅠ 못먹었긔 ...</td>\n",
       "      <td>먹고 싶었던 케이크를 사러 갔는데 블루베리 시폰 케이크가 없어서 못 먹었다고 이야기...</td>\n",
       "    </tr>\n",
       "    <tr>\n",
       "      <th>8890</th>\n",
       "      <td>끈낫니 아녕 지금끝났어요 늦게끈낫네 네 왠 존댓말 도착햇누 네</td>\n",
       "      <td>끝났냐는 말에 지금 끝났다고 하자 늦게 끝났다며 도착했는지 물었다</td>\n",
       "    </tr>\n",
       "    <tr>\n",
       "      <th>8891</th>\n",
       "      <td>이모한테 차 빌릴수있는지 물어봤어 아직 이모티콘 빨리물어봐 아직 빨리물어봐 사붕먹을...</td>\n",
       "      <td>아직은 일할 시간이어서 차를 빌릴 수 있는지 안 물어봤다</td>\n",
       "    </tr>\n",
       "  </tbody>\n",
       "</table>\n",
       "<p>8892 rows × 2 columns</p>\n",
       "</div>"
      ],
      "text/plain": [
       "                                              documents  \\\n",
       "0     아직 엄마를 못하니까 그러지 엄마해 오 진짜 이모티콘우와 엄마한지 좀 됐는데 그럼그...   \n",
       "1     오늘 바로 딥갔어 아님 놀았니 집갔앙 쉬었니 잘 아닝 왜 그냥 누워서 멍 때렸어 근...   \n",
       "2     ㅋㅋㅋ남동생이랑 이야기해서 싸운거야 여자친구 생겼어 이름ㅋㅋㅋㅋ 프사 보면 생긴고같...   \n",
       "3     나 잘생긴 사람 만나고 싶다 어디가야 잘생긴 놈 있나 알려주라 충재씨가 아주 맘에 ...   \n",
       "4     내뒤에어떤할아버지가 계속서서 이상한 소리내 진짜무서워 무슨 장애인인가 틱인가 너무무...   \n",
       "...                                                 ...   \n",
       "8887  여보는 이름랑 놀아 이름 안놀아주고ㅠ먄날 내옆에 누워있는다니까 여보가 놀아줘야지 이...   \n",
       "8888  이름짱 잘지내나 잘 지내고 있다 이제 추석 한달 남았네 ㅎㅎ 구니깐 시스템사진 난 ...   \n",
       "8889  나 미쳐서 곧 케익사러 갈것큨 않이 블루베라ㅣ 쉬폰 없대 못먹었긔 ㅜㅜㅠ 못먹었긔 ...   \n",
       "8890                 끈낫니 아녕 지금끝났어요 늦게끈낫네 네 왠 존댓말 도착햇누 네   \n",
       "8891  이모한테 차 빌릴수있는지 물어봤어 아직 이모티콘 빨리물어봐 아직 빨리물어봐 사붕먹을...   \n",
       "\n",
       "                                                summary  \n",
       "0                         기분 좋을 때는 아빠 급하거나 울 때는 엄마라고 한다  \n",
       "1                                오늘 바로 집에 갔지만 잘 쉬지는 못했다  \n",
       "2              프로필 사진프사을 보니 여자친구가 생긴 것 같고 동생이 싫다고 이야기한다  \n",
       "3     충재 씨가 요즘 마음에 들어 잘 생긴 남자가 만나고 싶고 까탈스럽게 좋은 사람을 만...  \n",
       "4                        뒤에 있는 할아버지가 이상한 소리를 내서 무섭다고 했다  \n",
       "...                                                 ...  \n",
       "8887                           루루는 안 놀아주고 맨날 내 옆에 누워 있다  \n",
       "8888  추석이 한 달 남았는데 잘 지내는지 묻고 급성 장염에 걸려 4일 동안 죽도록 아팠다...  \n",
       "8889  먹고 싶었던 케이크를 사러 갔는데 블루베리 시폰 케이크가 없어서 못 먹었다고 이야기...  \n",
       "8890               끝났냐는 말에 지금 끝났다고 하자 늦게 끝났다며 도착했는지 물었다  \n",
       "8891                    아직은 일할 시간이어서 차를 빌릴 수 있는지 안 물어봤다  \n",
       "\n",
       "[8892 rows x 2 columns]"
      ]
     },
     "execution_count": 111,
     "metadata": {},
     "output_type": "execute_result"
    }
   ],
   "source": [
    "df_list[0]"
   ]
  },
  {
   "cell_type": "code",
   "execution_count": 112,
   "metadata": {},
   "outputs": [],
   "source": [
    "final_df=pd.DataFrame()\n",
    "for df in df_list:\n",
    "    final_df= pd.concat([final_df, df], axis=0)"
   ]
  },
  {
   "cell_type": "code",
   "execution_count": 113,
   "metadata": {},
   "outputs": [
    {
     "data": {
      "text/plain": [
       "documents    0\n",
       "summary      0\n",
       "dtype: int64"
      ]
     },
     "execution_count": 113,
     "metadata": {},
     "output_type": "execute_result"
    }
   ],
   "source": [
    "final_df.isna().sum()"
   ]
  },
  {
   "cell_type": "code",
   "execution_count": 114,
   "metadata": {},
   "outputs": [],
   "source": [
    "import os\n",
    "os.chdir('C:/Users/chldy/OneDrive/바탕 화면/용용/딥러닝 부트캠프/text_mining_project_2/KoBART-summarization-main')"
   ]
  },
  {
   "cell_type": "code",
   "execution_count": 115,
   "metadata": {},
   "outputs": [
    {
     "data": {
      "text/plain": [
       "35004"
      ]
     },
     "execution_count": 115,
     "metadata": {},
     "output_type": "execute_result"
    }
   ],
   "source": [
    "len(final_df)"
   ]
  },
  {
   "cell_type": "code",
   "execution_count": 105,
   "metadata": {},
   "outputs": [
    {
     "data": {
      "text/plain": [
       "'C:\\\\Users\\\\chldy\\\\OneDrive\\\\바탕 화면\\\\용용\\\\딥러닝 부트캠프\\\\text_mining_project_2\\\\KoBART-summarization-main'"
      ]
     },
     "execution_count": 105,
     "metadata": {},
     "output_type": "execute_result"
    }
   ],
   "source": [
    "pwd"
   ]
  },
  {
   "cell_type": "code",
   "execution_count": 116,
   "metadata": {},
   "outputs": [
    {
     "data": {
      "text/plain": [
       "'C:/Users/chldy/OneDrive/바탕 화면/용용/딥러닝 부트캠프/text_mining_project_2/KoBART-summarization-main/data/test.tsv'"
      ]
     },
     "execution_count": 116,
     "metadata": {},
     "output_type": "execute_result"
    }
   ],
   "source": [
    "import shutil\n",
    "\n",
    "final_df.to_csv('test.tsv', sep='\\t', encoding=\"utf-8\", index=False)\n",
    "\n",
    "# 원본 파일 경로\n",
    "source_file = 'C:/Users/chldy/OneDrive/바탕 화면/용용/딥러닝 부트캠프/text_mining_project_2/KoBART-summarization-main/test.tsv'\n",
    "# 이동할 위치의 폴더 경로\n",
    "destination_folder = 'C:/Users/chldy/OneDrive/바탕 화면/용용/딥러닝 부트캠프/text_mining_project_2/KoBART-summarization-main/data/test.tsv'\n",
    "# 파일 이동\n",
    "shutil.copyfile(source_file, destination_folder)"
   ]
  },
  {
   "cell_type": "code",
   "execution_count": null,
   "metadata": {},
   "outputs": [],
   "source": []
  }
 ],
 "metadata": {
  "kernelspec": {
   "display_name": "torch",
   "language": "python",
   "name": "python3"
  },
  "language_info": {
   "codemirror_mode": {
    "name": "ipython",
    "version": 3
   },
   "file_extension": ".py",
   "mimetype": "text/x-python",
   "name": "python",
   "nbconvert_exporter": "python",
   "pygments_lexer": "ipython3",
   "version": "3.8.19"
  }
 },
 "nbformat": 4,
 "nbformat_minor": 2
}
